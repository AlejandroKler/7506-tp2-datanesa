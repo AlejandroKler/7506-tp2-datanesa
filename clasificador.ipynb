{
 "cells": [
  {
   "cell_type": "markdown",
   "metadata": {},
   "source": [
    "# Clasificador installs"
   ]
  },
  {
   "cell_type": "code",
   "execution_count": null,
   "metadata": {},
   "outputs": [],
   "source": [
    "features_list = features_list_class_inst\n",
    "df_full = get_df_to_train(windows, features, label_clas_inst, features_list)\n",
    "\n",
    "df_full = balance(df_full, \"label_inst\", 1, 1)\n",
    "\n",
    "X_train, X_test, y_train, y_test = get_train_test_split(df_full, \"label_inst\")\n",
    "\n",
    "model_class_inst = xgb.XGBClassifier()\n",
    "train_model_class = model_class_inst.fit(X_train, y_train)\n",
    "pred_model_class = train_model_class.predict(X_test)\n",
    "print(\"Accuracy for model installs: %.2f\" % (accuracy_score(y_test, pred_model_class) * 100))\n",
    "print(\"Using features: \"+str(features_list))"
   ]
  },
  {
   "cell_type": "code",
   "execution_count": null,
   "metadata": {},
   "outputs": [],
   "source": [
    "pd.Series(pred_model_class).value_counts()"
   ]
  },
  {
   "cell_type": "markdown",
   "metadata": {},
   "source": [
    "# Clasificador auctions"
   ]
  },
  {
   "cell_type": "code",
   "execution_count": null,
   "metadata": {},
   "outputs": [],
   "source": [
    "df_full = get_df_to_train(windows, features, label_clas_auc, features_list_class_auc)\n",
    "\n",
    "df_full = balance(df_full, \"label_auc\", 1, 1)\n",
    "\n",
    "X_train, X_test, y_train, y_test = get_train_test_split(df_full, \"label_auc\")\n",
    "\n",
    "model_class_auc = xgb.XGBClassifier()\n",
    "train_model_class = model_class_auc.fit(X_train, y_train)\n",
    "pred_model_class = train_model_class.predict(X_test)\n",
    "print(\"Accuracy for model auctions: %.2f\" % (accuracy_score(y_test, pred_model_class) * 100))\n",
    "print(\"Using features: \"+str(features_list_class_auc))"
   ]
  }
 ],
 "metadata": {
  "kernelspec": {
   "display_name": "Python 3",
   "language": "python",
   "name": "python3"
  },
  "language_info": {
   "codemirror_mode": {
    "name": "ipython",
    "version": 3
   },
   "file_extension": ".py",
   "mimetype": "text/x-python",
   "name": "python",
   "nbconvert_exporter": "python",
   "pygments_lexer": "ipython3",
   "version": "3.7.1"
  }
 },
 "nbformat": 4,
 "nbformat_minor": 2
}
