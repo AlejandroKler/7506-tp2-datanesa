{
 "cells": [
  {
   "cell_type": "code",
   "execution_count": 5,
   "metadata": {},
   "outputs": [],
   "source": [
    "import pandas as pd\n",
    "import numpy as np\n",
    "pd.set_option('mode.chained_assignment', None)"
   ]
  },
  {
   "cell_type": "markdown",
   "metadata": {},
   "source": [
    "###  Carga de datos"
   ]
  },
  {
   "cell_type": "code",
   "execution_count": 1,
   "metadata": {},
   "outputs": [],
   "source": [
    "auctions_18_20 = auctions_19_21 = auctions_20_22 = auctions_21_23 = auctions_24_26 = None\n",
    "installs_18_20 = installs_19_21 = installs_20_22 = installs_21_23 = installs_24_26 = None\n",
    "events_18_20 = events_19_21 = events_20_22 = events_21_23 = events_24_26 = None\n",
    "clicks_18_20 = clicks_19_21 = clicks_20_22 = clicks_21_23 = clicks_24_26 = None"
   ]
  },
  {
   "cell_type": "code",
   "execution_count": 3,
   "metadata": {},
   "outputs": [],
   "source": [
    "auctions_18_20 = pd.read_csv('windows/18_20/auctions.csv', parse_dates = ['date'], infer_datetime_format = True, low_memory=False)\n",
    "auctions_19_21 = pd.read_csv('windows/19_21/auctions.csv', parse_dates = ['date'], infer_datetime_format = True, low_memory=False)\n",
    "auctions_20_22 = pd.read_csv('windows/20_22/auctions.csv', parse_dates = ['date'], infer_datetime_format = True, low_memory=False)\n",
    "auctions_21_23 = pd.read_csv('windows/21_23/auctions.csv', parse_dates = ['date'], infer_datetime_format = True, low_memory=False)\n",
    "auctions_24_26 = pd.read_csv('windows/24_26/auctions.csv', parse_dates = ['date'], infer_datetime_format = True, low_memory=False)"
   ]
  },
  {
   "cell_type": "code",
   "execution_count": null,
   "metadata": {},
   "outputs": [],
   "source": [
    "installs_18_20 = pd.read_csv('windows/18_20/installs.csv', parse_dates = ['created'], infer_datetime_format = True, low_memory=False)\n",
    "installs_19_21 = pd.read_csv('windows/19_21/installs.csv', parse_dates = ['created'], infer_datetime_format = True, low_memory=False)\n",
    "installs_20_22 = pd.read_csv('windows/20_22/installs.csv', parse_dates = ['created'], infer_datetime_format = True, low_memory=False)\n",
    "installs_21_23 = pd.read_csv('windows/21_23/installs.csv', parse_dates = ['created'], infer_datetime_format = True, low_memory=False)\n",
    "installs_24_26 = pd.read_csv('windows/24_26/installs.csv', parse_dates = ['created'], infer_datetime_format = True, low_memory=False)"
   ]
  },
  {
   "cell_type": "code",
   "execution_count": null,
   "metadata": {},
   "outputs": [],
   "source": [
    "clicks_18_20 = pd.read_csv('windows/18_20/clicks.csv', parse_dates = ['created'], infer_datetime_format = True, low_memory=False)\n",
    "clicks_19_21 = pd.read_csv('windows/19_21/clicks.csv', parse_dates = ['created'], infer_datetime_format = True, low_memory=False)\n",
    "clicks_20_22 = pd.read_csv('windows/20_22/clicks.csv', parse_dates = ['created'], infer_datetime_format = True, low_memory=False)\n",
    "clicks_21_23 = pd.read_csv('windows/21_23/clicks.csv', parse_dates = ['created'], infer_datetime_format = True, low_memory=False)\n",
    "clicks_24_26 = pd.read_csv('windows/24_26/clicks.csv', parse_dates = ['created'], infer_datetime_format = True, low_memory=False)"
   ]
  },
  {
   "cell_type": "code",
   "execution_count": null,
   "metadata": {},
   "outputs": [],
   "source": [
    "events_18_20 = pd.read_csv('windows/18_20/events.csv', parse_dates = ['date'], infer_datetime_format = True, low_memory=False)\n",
    "events_19_21 = pd.read_csv('windows/19_21/events.csv', parse_dates = ['date'], infer_datetime_format = True, low_memory=False)\n",
    "events_20_22 = pd.read_csv('windows/20_22/events.csv', parse_dates = ['date'], infer_datetime_format = True, low_memory=False)\n",
    "events_21_23 = pd.read_csv('windows/21_23/events.csv', parse_dates = ['date'], infer_datetime_format = True, low_memory=False)\n",
    "events_24_26 = pd.read_csv('windows/24_26/events.csv', parse_dates = ['date'], infer_datetime_format = True, low_memory=False)"
   ]
  },
  {
   "cell_type": "code",
   "execution_count": 11,
   "metadata": {},
   "outputs": [],
   "source": [
    "df_features_18_20 = pd.read_csv('windows/18_20/features.csv', low_memory=False)\n",
    "df_features_18_20.set_index('ref_hash', inplace=True)"
   ]
  },
  {
   "cell_type": "code",
   "execution_count": 6,
   "metadata": {},
   "outputs": [],
   "source": [
    "df_features_19_21 = pd.read_csv('windows/19_21/features.csv', low_memory=False)\n",
    "df_features_19_21.set_index('ref_hash', inplace=True)"
   ]
  },
  {
   "cell_type": "code",
   "execution_count": 7,
   "metadata": {},
   "outputs": [],
   "source": [
    "df_features_20_22 = pd.read_csv('windows/20_22/features.csv', low_memory=False)\n",
    "df_features_20_22.set_index('ref_hash', inplace=True)"
   ]
  },
  {
   "cell_type": "code",
   "execution_count": 8,
   "metadata": {},
   "outputs": [],
   "source": [
    "df_features_21_23 = pd.read_csv('windows/21_23/features.csv', low_memory=False)\n",
    "df_features_21_23.set_index('ref_hash', inplace=True)"
   ]
  },
  {
   "cell_type": "code",
   "execution_count": 9,
   "metadata": {},
   "outputs": [],
   "source": [
    "df_features_24_26 = pd.read_csv('windows/24_26/features.csv', low_memory=False)\n",
    "df_features_24_26.set_index('ref_hash', inplace=True)"
   ]
  },
  {
   "cell_type": "markdown",
   "metadata": {},
   "source": [
    "### Partición de los datos por ventanas"
   ]
  },
  {
   "cell_type": "code",
   "execution_count": 14,
   "metadata": {},
   "outputs": [],
   "source": [
    "windows = [\n",
    "    {\n",
    "        \"auctions\": auctions_18_20,\n",
    "        \"installs\": installs_18_20,\n",
    "        \"clicks\": clicks_18_20,\n",
    "        \"events\": events_18_20,\n",
    "        \"features\": df_features_18_20,\n",
    "        \"name\": \"18_20\"\n",
    "    },\n",
    "    {\n",
    "        \"auctions\": auctions_19_21,\n",
    "        \"installs\": installs_19_21,\n",
    "        \"clicks\": clicks_19_21,\n",
    "        \"events\": events_19_21,\n",
    "        \"features\": df_features_19_21,        \n",
    "        \"name\": \"19_21\"\n",
    "    },\n",
    "    {\n",
    "        \"auctions\": auctions_20_22,\n",
    "        \"installs\": installs_20_22,\n",
    "        \"clicks\": clicks_20_22,\n",
    "        \"events\": events_20_22,\n",
    "        \"features\": df_features_20_22,        \n",
    "        \"name\": \"20_22\"\n",
    "    },\n",
    "    {\n",
    "        \"auctions\": auctions_21_23,\n",
    "        \"installs\": installs_21_23,\n",
    "        \"clicks\": clicks_21_23,\n",
    "        \"events\": events_21_23,\n",
    "        \"features\": df_features_21_23,        \n",
    "        \"name\": \"21_23\"\n",
    "    },\n",
    "    {\n",
    "        \"auctions\": auctions_24_26,\n",
    "        \"installs\": installs_24_26,\n",
    "        \"clicks\": clicks_24_26,\n",
    "        \"events\": events_24_26,\n",
    "        \"features\": df_features_24_26,\n",
    "        \"name\": \"24_26\"\n",
    "    }\n",
    "]"
   ]
  },
  {
   "cell_type": "markdown",
   "metadata": {},
   "source": [
    "### Funcion para agregar features"
   ]
  },
  {
   "cell_type": "code",
   "execution_count": 22,
   "metadata": {},
   "outputs": [],
   "source": [
    "def add_feature(df_features, df_to_join, feature_name, fill = 0):\n",
    "    if feature_name in df_features.columns.tolist():\n",
    "        return df_features\n",
    "    df_features = df_features.merge(df_to_join[[feature_name]], how = 'left', left_index = True, right_index = True).\\\n",
    "    fillna(fill)\n",
    "    return df_features"
   ]
  },
  {
   "cell_type": "code",
   "execution_count": 23,
   "metadata": {},
   "outputs": [],
   "source": [
    "def add_features_to_windows(windows, feature_function, feature_name):\n",
    "    for window in windows:\n",
    "        auctions = window[\"auctions\"]\n",
    "        installs = window[\"installs\"]\n",
    "        events = window[\"events\"]\n",
    "        clicks = window[\"clicks\"]\n",
    "        \n",
    "        df_to_join = feature_function(auctions, installs, events, clicks)\n",
    "        window[\"features\"] = add_feature(window[\"features\"], df_to_join, feature_name)\n",
    "        \n",
    "    save_changes(windows)\n",
    "    return windows"
   ]
  },
  {
   "cell_type": "code",
   "execution_count": 24,
   "metadata": {},
   "outputs": [],
   "source": [
    "def save_changes(windows):\n",
    "    for window in windows:\n",
    "        feature = window[\"features\"]\n",
    "        name = window[\"name\"]\n",
    "        feature.to_csv(\"windows/{}/features.csv\".format(name), index = True)"
   ]
  },
  {
   "cell_type": "markdown",
   "metadata": {},
   "source": [
    " # Sección para añadir features"
   ]
  },
  {
   "cell_type": "markdown",
   "metadata": {},
   "source": [
    "> *¡Atención! Antes de usar la función add_feature, setear como indice el id de los dispositivos en el df que contiene el feature que se desea agregar*"
   ]
  },
  {
   "cell_type": "markdown",
   "metadata": {},
   "source": [
    "> ### Feature 1: ***cantidad de veces que el usuario aparece en una subasta***"
   ]
  },
  {
   "cell_type": "code",
   "execution_count": 59,
   "metadata": {},
   "outputs": [],
   "source": [
    "def calculate_appearances_auctions(auctions, installs, events, clicks):\n",
    "    auctions['appearances_in_auctions'] = 1\n",
    "    auc_feature = auctions.groupby('ref_hash').agg({'appearances_in_auctions' : 'count'})\n",
    "    return auc_feature"
   ]
  },
  {
   "cell_type": "code",
   "execution_count": 60,
   "metadata": {},
   "outputs": [],
   "source": [
    "windows = add_features_to_windows(windows, calculate_appearances_auctions, 'appearances_in_auctions')"
   ]
  },
  {
   "cell_type": "markdown",
   "metadata": {},
   "source": [
    "> ### Feature 2: ***¿apareció en una subasta el último día?***"
   ]
  },
  {
   "cell_type": "code",
   "execution_count": 61,
   "metadata": {},
   "outputs": [],
   "source": [
    "def user_appeared_last_day(auctions, installs, events, clicks):\n",
    "    ultimo = auctions[\"date\"].max().day\n",
    "    auc_feature2 = auctions.loc[auctions[\"date\"].dt.day == ultimo]\n",
    "    auc_feature2['user_appeared_last_day'] = 1\n",
    "    auc_feature2 = auc_feature2.groupby('ref_hash').agg({'user_appeared_last_day' : 'first'})\n",
    "    return auc_feature2"
   ]
  },
  {
   "cell_type": "code",
   "execution_count": 62,
   "metadata": {},
   "outputs": [],
   "source": [
    "windows = add_features_to_windows(windows, user_appeared_last_day, \"user_appeared_last_day\")"
   ]
  },
  {
   "cell_type": "markdown",
   "metadata": {},
   "source": [
    "> ### Feature 3: ***en promedio, ¿ cuánto tardo el usuario en reaparecer en una subasta?***"
   ]
  },
  {
   "cell_type": "code",
   "execution_count": 66,
   "metadata": {},
   "outputs": [],
   "source": [
    "def calculate_time_to_reappear(auctions, installs, events, clicks):\n",
    "    df_sorted = auctions.sort_values([\"ref_hash\", \"date\"], ascending = True)\n",
    "    df_sorted['time_to_reappear'] = np.\\\n",
    "    where(df_sorted['ref_hash'] == \\\n",
    "          df_sorted['ref_hash'].shift(), df_sorted['date'] - df_sorted['date'].shift(1), np.nan)\n",
    "    df_sorted['time_to_reappear'] = df_sorted['time_to_reappear'].dt.total_seconds()\n",
    "    df_sorted['time_to_reappear'] = df_sorted['time_to_reappear'].fillna(259200) #to check\n",
    "    df_sorted = df_sorted.groupby('ref_hash').agg({'time_to_reappear': 'mean'})\n",
    "    return df_sorted"
   ]
  },
  {
   "cell_type": "code",
   "execution_count": 67,
   "metadata": {},
   "outputs": [],
   "source": [
    "windows = add_features_to_windows(windows, calculate_time_to_reappear, \"time_to_reappear\")"
   ]
  },
  {
   "cell_type": "markdown",
   "metadata": {},
   "source": [
    "> ### Feature 4: ***Día de la semana, día del mes, hora del día, segundo de la hora, minuto de la hora***"
   ]
  },
  {
   "cell_type": "code",
   "execution_count": null,
   "metadata": {},
   "outputs": [],
   "source": [
    "auc_feature4 = auctions_18_20.copy()\n",
    "\n",
    "# Día de la semana\n",
    "auc_feature4[\"dayofweek\"] = auc_feature4.date.dt.dayofweek\n",
    "\n",
    "# Día del mes\n",
    "auc_feature4[\"day\"] = auc_feature4.date.dt.day\n",
    "\n",
    "# Hora del día\n",
    "auc_feature4[\"hour\"] = auc_feature4.date.dt.hour\n",
    "\n",
    "# Segundo de la hora\n",
    "auc_feature4[\"second\"] = auc_feature4.date.dt.second\n",
    "\n",
    "# Minuto de la hora\n",
    "auc_feature4[\"minute\"] = auc_feature4.date.dt.minute\n",
    "\n",
    "\n",
    "auc_18_20_features = add_feature(auc_18_20_features, auc_feature4, \"dayofweek\")\n",
    "auc_18_20_features = add_feature(auc_18_20_features, auc_feature4, \"day\")\n",
    "auc_18_20_features = add_feature(auc_18_20_features, auc_feature4, \"second\")\n",
    "auc_18_20_features = add_feature(auc_18_20_features, auc_feature4, \"minute\")"
   ]
  },
  {
   "cell_type": "markdown",
   "metadata": {},
   "source": [
    "> ### Feature 5: ***Separación del día en 4 partes***"
   ]
  },
  {
   "cell_type": "code",
   "execution_count": null,
   "metadata": {},
   "outputs": [],
   "source": [
    "def divide_time_day(df):\n",
    "    df.loc[(0 <= df[\"hour\"]) & (df[\"hour\"] < 6), 'timeofday'] = 0\n",
    "    df.loc[(6 <= df[\"hour\"]) & (df[\"hour\"] < 13), 'timeofday'] = 1\n",
    "    df.loc[(13 <= df[\"hour\"]) & (df[\"hour\"] < 19), 'timeofday'] = 2\n",
    "    df.loc[(19 <= df[\"hour\"]) & (df[\"hour\"] < 24), 'timeofday'] = 3\n",
    "    df[\"timeofday\"] = df[\"timeofday\"].astype(int)\n",
    "    return df\n",
    "\n",
    "auc_feature5 = auctions_18_20.copy()\n",
    "auc_feature5[\"hour\"] = auc_feature5.date.dt.hour\n",
    "auc_feature5 = divide_time_day(auc_feature5)\n",
    "auc_18_20_features = add_feature(auc_18_20_features, auc_feature5, \"timeofday\")"
   ]
  },
  {
   "cell_type": "markdown",
   "metadata": {},
   "source": [
    "> ### Feature 6: ***Días feriados en Uruguay***"
   ]
  },
  {
   "cell_type": "code",
   "execution_count": null,
   "metadata": {},
   "outputs": [],
   "source": [
    "# En Uruguay hubo 3 días feriados en el rango de fecha que nos dieron\n",
    "# El 18 y 19 de Abril fueron Jueves y Viernes Santo\n",
    "# El 22 fue el día de Desembarco de los 33 orientales\n",
    "\n",
    "def holidays_days(df):\n",
    "    df.loc[(22 == df[\"day\"]) | (19 == df[\"day\"]) | (18 == df[\"day\"]), 'holidaysday'] = 1\n",
    "    return df\n",
    "\n",
    "\n",
    "auc_feature6 = auctions_18_20.copy()\n",
    "auc_feature6[\"day\"] = auc_feature5.date.dt.day\n",
    "auc_feature6 = holidays_days(auc_feature6)\n",
    "auc_feature6 = auc_feature6.fillna(0)"
   ]
  },
  {
   "cell_type": "markdown",
   "metadata": {},
   "source": [
    "> ### Feature 7: ***Días lluviosos en Uruguay***"
   ]
  },
  {
   "cell_type": "code",
   "execution_count": null,
   "metadata": {},
   "outputs": [],
   "source": [
    "# Días que llovieron del 18 al 26: El 26 fue el único día que llovió\n",
    "def raining_days(df):\n",
    "    df.loc[26 == df[\"day\"], 'rainingdays'] = 1\n",
    "    return df\n",
    "\n",
    "auc_feature7 = auctions_18_20.copy()\n",
    "auc_feature7[\"day\"] = auc_feature7.date.dt.day\n",
    "auc_feature7 = raining_days(auc_feature7)\n",
    "auc_feature7 = auc_feature7.fillna(0)\n"
   ]
  },
  {
   "cell_type": "markdown",
   "metadata": {},
   "source": [
    "> ### Feature 8: ***cantidad de clicks realizados por el usuario***"
   ]
  },
  {
   "cell_type": "code",
   "execution_count": null,
   "metadata": {},
   "outputs": [],
   "source": [
    "clicks_18_20['amount_of_clicks'] = 1\n",
    "inst_feature1 = clicks_18_20.groupby('ref_hash').agg({'amount_of_clicks': 'count'})\n",
    "inst_18_20_features = add_feature(inst_18_20_features, inst_feature1, \"amount_of_clicks\")"
   ]
  },
  {
   "cell_type": "code",
   "execution_count": null,
   "metadata": {},
   "outputs": [],
   "source": [
    "def cant_clicks(auctions, installs, events, clicks):\n",
    "    clicks[\"amount_of_clicks\"] = 1\n",
    "    clicks_feature = clicks.groupby('ref_hash').agg({'amount_of_clicks': 'count'})\n",
    "    return clicks_feature"
   ]
  },
  {
   "cell_type": "code",
   "execution_count": null,
   "metadata": {},
   "outputs": [],
   "source": [
    "agregar_features(windows, cant_clicks, 'amount_of_clicks')"
   ]
  },
  {
   "cell_type": "markdown",
   "metadata": {},
   "source": [
    "> ### Feature 9: ***¿realizó una instalación?***"
   ]
  },
  {
   "cell_type": "code",
   "execution_count": null,
   "metadata": {},
   "outputs": [],
   "source": [
    "installs_18_20['has_installed'] = 1\n",
    "inst_feature2 = installs_18_20.groupby('ref_hash').agg({'has_installed': 'first'})\n",
    "inst_18_20_features = add_feature(inst_18_20_features, inst_feature2, \"has_installed\")"
   ]
  },
  {
   "cell_type": "markdown",
   "metadata": {},
   "source": [
    "> ### Feature 10: ***¿realizó un click el último día?***"
   ]
  },
  {
   "cell_type": "code",
   "execution_count": null,
   "metadata": {},
   "outputs": [],
   "source": [
    "inst_feature3 = clicks_18_20.loc[clicks_18_20[\"created\"].dt.day == 20]\n",
    "inst_feature3['user_clicked_last_day'] = 1\n",
    "inst_feature3 = inst_feature3.groupby('ref_hash').agg({'user_clicked_last_day' : 'first'})\n",
    "inst_18_20_features = add_feature(inst_18_20_features, inst_feature3, \"user_clicked_last_day\")"
   ]
  },
  {
   "cell_type": "markdown",
   "metadata": {},
   "source": [
    "> ### Feature 11: ***¿realizó una instalación el último día?***"
   ]
  },
  {
   "cell_type": "code",
   "execution_count": null,
   "metadata": {},
   "outputs": [],
   "source": [
    "inst_feature4 = installs_18_20.loc[installs_18_20[\"created\"].dt.day == 20]\n",
    "inst_feature4['user_installed_last_day'] = 1\n",
    "inst_feature4 = inst_feature4.groupby('ref_hash').agg({'user_installed_last_day' : 'first'})\n",
    "inst_18_20_features = add_feature(inst_18_20_features, inst_feature4, \"user_installed_last_day\")"
   ]
  },
  {
   "cell_type": "markdown",
   "metadata": {},
   "source": [
    "> ### Feature 12: ***cantidad de instalaciones realizadas***"
   ]
  },
  {
   "cell_type": "code",
   "execution_count": null,
   "metadata": {},
   "outputs": [],
   "source": [
    "installs_18_20['amount_of_installs'] = 1\n",
    "inst_feature5 = installs_18_20.groupby('ref_hash').agg({'amount_of_installs': 'count'})\n",
    "inst_18_20_features = add_feature(inst_18_20_features, inst_feature5, \"amount_of_installs\")"
   ]
  },
  {
   "cell_type": "markdown",
   "metadata": {},
   "source": [
    "> ### Feature 13: ***Mínimo de clicks en un día***"
   ]
  },
  {
   "cell_type": "code",
   "execution_count": null,
   "metadata": {},
   "outputs": [],
   "source": [
    "clicks_18_20[\"day\"] = clicks_18_20.created.dt.day\n",
    "clicks_feature5 = clicks_18_20.groupby([\"ref_hash\", \"day\"]).agg({\"cantidad\":\"sum\"})\n",
    "clicks_feature5 = pd.DataFrame(clicks_feature5.reset_index().groupby('ref_hash')['cantidad'].max()).reset_index()\n",
    "clicks_feature5 = clicks_feature5.rename(columns={\"cantidad\":\"cant_max_day\"})\n",
    "clicks_18_20_features = add_feature(clicks_18_20_features, clicks_feature5, \"cant_max_day\")\n"
   ]
  },
  {
   "cell_type": "markdown",
   "metadata": {},
   "source": [
    "> ### Feature 14: ***Máximo de clicks en un día***"
   ]
  },
  {
   "cell_type": "code",
   "execution_count": null,
   "metadata": {},
   "outputs": [],
   "source": [
    "clicks_feature6 = clicks_18_20.groupby([\"ref_hash\", \"day\"]).agg({\"cantidad\":\"sum\"})\n",
    "clicks_feature6 = pd.DataFrame(clicks_feature5.reset_index().groupby('ref_hash')['cantidad'].min()).reset_index()\n",
    "clicks_feature6 = clicks_feature5.rename(columns={\"cantidad\":\"cant_min_day\"})"
   ]
  },
  {
   "cell_type": "markdown",
   "metadata": {},
   "source": [
    "> ### Feature 15: ***Promedio de tiempo entre clicks***"
   ]
  },
  {
   "cell_type": "code",
   "execution_count": null,
   "metadata": {},
   "outputs": [],
   "source": [
    "def calculate_time_to_reappear(df, feature_date_name, feature_id_name, function_type):\n",
    "    df_sorted = df.sort_values([feature_id_name, feature_date_name], ascending = True)\n",
    "    df_sorted['time_to_reappear'] = np.\\\n",
    "    where(df_sorted[feature_id_name] == \\\n",
    "          df_sorted[feature_id_name].shift(), df_sorted[feature_date_name] - df_sorted[feature_date_name].shift(1), np.nan)\n",
    "    df_sorted['time_to_reappear'] = df_sorted['time_to_reappear'].dt.total_seconds()\n",
    "    df_sorted['time_to_reappear'] = df_sorted['time_to_reappear'].fillna(259200) #to check\n",
    "    df_sorted = df_sorted.groupby(feature_id_name).agg({'time_to_reappear': function_type})\n",
    "    return df_sorted\n",
    "\n",
    "clicks_feature7 = calculate_time_to_reappear(clicks_18_20, \"created\", \"ref_hash\", \"mean\")\n",
    "clicks_18_20_features = add_feature(clicks_18_20_features, clicks_feature5, \"time_to_reappear\")"
   ]
  },
  {
   "cell_type": "markdown",
   "metadata": {},
   "source": [
    "> ### Feature 16: ***Tiempo máximo entre clicks***"
   ]
  },
  {
   "cell_type": "code",
   "execution_count": null,
   "metadata": {},
   "outputs": [],
   "source": [
    "clicks_feature8 = calculate_time_to_reappear(clicks_18_20, \"created\", \"ref_hash\", \"mean\")"
   ]
  },
  {
   "cell_type": "markdown",
   "metadata": {},
   "source": [
    "> ### Feature 17: ***Tiempo mínimo entre clicks***"
   ]
  }
 ],
 "metadata": {
  "kernelspec": {
   "display_name": "Python 3",
   "language": "python",
   "name": "python3"
  },
  "language_info": {
   "codemirror_mode": {
    "name": "ipython",
    "version": 3
   },
   "file_extension": ".py",
   "mimetype": "text/x-python",
   "name": "python",
   "nbconvert_exporter": "python",
   "pygments_lexer": "ipython3",
   "version": "3.7.1"
  }
 },
 "nbformat": 4,
 "nbformat_minor": 2
}
