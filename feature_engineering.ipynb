{
 "cells": [
  {
   "cell_type": "code",
   "execution_count": 1,
   "metadata": {},
   "outputs": [],
   "source": [
    "import pandas as pd\n",
    "import numpy as np\n",
    "pd.set_option('mode.chained_assignment', None)"
   ]
  },
  {
   "cell_type": "markdown",
   "metadata": {},
   "source": [
    "###  Carga de datos"
   ]
  },
  {
   "cell_type": "code",
   "execution_count": 3,
   "metadata": {},
   "outputs": [],
   "source": [
    "auctions_18_20 = pd.read_csv('windows/18_20/auctions.csv', parse_dates = ['date'], infer_datetime_format = True, low_memory=False)\n",
    "auctions_19_21 = pd.read_csv('windows/19_21/auctions.csv', parse_dates = ['date'], infer_datetime_format = True, low_memory=False)\n",
    "auctions_20_22 = pd.read_csv('windows/20_22/auctions.csv', parse_dates = ['date'], infer_datetime_format = True, low_memory=False)\n",
    "auctions_21_23 = pd.read_csv('windows/21_23/auctions.csv', parse_dates = ['date'], infer_datetime_format = True, low_memory=False)"
   ]
  },
  {
   "cell_type": "code",
   "execution_count": 153,
   "metadata": {},
   "outputs": [],
   "source": [
    "installs_18_20 = pd.read_csv('windows/18_20/installs.csv', parse_dates = ['created'], infer_datetime_format = True, low_memory=False)\n",
    "installs_19_21 = pd.read_csv('windows/19_21/installs.csv', parse_dates = ['created'], infer_datetime_format = True, low_memory=False)\n",
    "installs_20_22 = pd.read_csv('windows/20_22/installs.csv', parse_dates = ['created'], infer_datetime_format = True, low_memory=False)\n",
    "installs_21_23 = pd.read_csv('windows/21_23/installs.csv', parse_dates = ['created'], infer_datetime_format = True, low_memory=False)"
   ]
  },
  {
   "cell_type": "code",
   "execution_count": 4,
   "metadata": {},
   "outputs": [],
   "source": [
    "clicks_18_20 = pd.read_csv('windows/18_20/clicks.csv', parse_dates = ['created'], infer_datetime_format = True, low_memory=False)\n",
    "clicks_19_21 = pd.read_csv('windows/19_21/clicks.csv', parse_dates = ['created'], infer_datetime_format = True, low_memory=False)\n",
    "clicks_20_22 = pd.read_csv('windows/20_22/clicks.csv', parse_dates = ['created'], infer_datetime_format = True, low_memory=False)\n",
    "clicks_21_23 = pd.read_csv('windows/21_23/clicks.csv', parse_dates = ['created'], infer_datetime_format = True, low_memory=False)\n"
   ]
  },
  {
   "cell_type": "code",
<<<<<<< HEAD
   "execution_count": 5,
=======
   "execution_count": 10,
>>>>>>> 1ef7adc5c08177051a9f537c5e10de3dce36484d
   "metadata": {},
   "outputs": [],
   "source": [
    "events_18_20 = pd.read_csv('windows/18_20/events.csv', parse_dates = ['date'], infer_datetime_format = True, low_memory=False)\n",
    "events_19_21 = pd.read_csv('windows/19_21/events.csv', parse_dates = ['date'], infer_datetime_format = True, low_memory=False)\n",
    "events_20_22 = pd.read_csv('windows/20_22/events.csv', parse_dates = ['date'], infer_datetime_format = True, low_memory=False)\n",
    "events_21_23 = pd.read_csv('windows/21_23/events.csv', parse_dates = ['date'], infer_datetime_format = True, low_memory=False)"
   ]
  },
  {
   "cell_type": "code",
   "execution_count": 6,
   "metadata": {},
   "outputs": [],
   "source": [
    "df_features_18_20 = pd.read_csv('windows/18_20/features.csv', low_memory=False)\n",
    "df_features_18_20.set_index('ref_hash', inplace=True)"
   ]
  },
  {
   "cell_type": "code",
<<<<<<< HEAD
   "execution_count": 7,
=======
   "execution_count": 56,
>>>>>>> 1ef7adc5c08177051a9f537c5e10de3dce36484d
   "metadata": {},
   "outputs": [],
   "source": [
    "df_features_19_21 = pd.read_csv('windows/19_21/features.csv', low_memory=False)\n",
    "df_features_19_21.set_index('ref_hash', inplace=True)"
   ]
  },
  {
   "cell_type": "code",
<<<<<<< HEAD
   "execution_count": 8,
=======
   "execution_count": 57,
>>>>>>> 1ef7adc5c08177051a9f537c5e10de3dce36484d
   "metadata": {},
   "outputs": [],
   "source": [
    "df_features_20_22 = pd.read_csv('windows/20_22/features.csv', low_memory=False)\n",
    "df_features_20_22.set_index('ref_hash', inplace=True)"
   ]
  },
  {
   "cell_type": "code",
<<<<<<< HEAD
   "execution_count": 9,
=======
   "execution_count": 58,
>>>>>>> 1ef7adc5c08177051a9f537c5e10de3dce36484d
   "metadata": {},
   "outputs": [
    {
     "ename": "NameError",
     "evalue": "name 'events' is not defined",
     "output_type": "error",
     "traceback": [
      "\u001b[0;31m---------------------------------------------------------------------------\u001b[0m",
      "\u001b[0;31mNameError\u001b[0m                                 Traceback (most recent call last)",
      "\u001b[0;32m<ipython-input-58-4b0ec00f24c5>\u001b[0m in \u001b[0;36m<module>\u001b[0;34m\u001b[0m\n\u001b[0;32m----> 1\u001b[0;31m \u001b[0mevents_18_20\u001b[0m \u001b[0;34m=\u001b[0m  \u001b[0mcreate_window\u001b[0m\u001b[0;34m(\u001b[0m\u001b[0mevents\u001b[0m\u001b[0;34m,\u001b[0m \u001b[0;34m\"2019-04-18\"\u001b[0m\u001b[0;34m,\u001b[0m \u001b[0;34m\"2019-04-21\"\u001b[0m\u001b[0;34m,\u001b[0m \u001b[0;34m\"date\"\u001b[0m\u001b[0;34m)\u001b[0m\u001b[0;34m\u001b[0m\u001b[0;34m\u001b[0m\u001b[0m\n\u001b[0m\u001b[1;32m      2\u001b[0m \u001b[0mevents_19_21\u001b[0m \u001b[0;34m=\u001b[0m  \u001b[0mcreate_window\u001b[0m\u001b[0;34m(\u001b[0m\u001b[0mevents\u001b[0m\u001b[0;34m,\u001b[0m \u001b[0;34m\"2019-04-19\"\u001b[0m\u001b[0;34m,\u001b[0m \u001b[0;34m\"2019-04-22\"\u001b[0m\u001b[0;34m,\u001b[0m \u001b[0;34m\"date\"\u001b[0m\u001b[0;34m)\u001b[0m\u001b[0;34m\u001b[0m\u001b[0;34m\u001b[0m\u001b[0m\n\u001b[1;32m      3\u001b[0m \u001b[0mevents_20_22\u001b[0m \u001b[0;34m=\u001b[0m  \u001b[0mcreate_window\u001b[0m\u001b[0;34m(\u001b[0m\u001b[0mevents\u001b[0m\u001b[0;34m,\u001b[0m \u001b[0;34m\"2019-04-20\"\u001b[0m\u001b[0;34m,\u001b[0m \u001b[0;34m\"2019-04-23\"\u001b[0m\u001b[0;34m,\u001b[0m \u001b[0;34m\"date\"\u001b[0m\u001b[0;34m)\u001b[0m\u001b[0;34m\u001b[0m\u001b[0;34m\u001b[0m\u001b[0m\n\u001b[1;32m      4\u001b[0m \u001b[0mevents_21_23\u001b[0m \u001b[0;34m=\u001b[0m  \u001b[0mcreate_window\u001b[0m\u001b[0;34m(\u001b[0m\u001b[0mevents\u001b[0m\u001b[0;34m,\u001b[0m \u001b[0;34m\"2019-04-21\"\u001b[0m\u001b[0;34m,\u001b[0m \u001b[0;34m\"2019-04-24\"\u001b[0m\u001b[0;34m,\u001b[0m \u001b[0;34m\"date\"\u001b[0m\u001b[0;34m)\u001b[0m\u001b[0;34m\u001b[0m\u001b[0;34m\u001b[0m\u001b[0m\n\u001b[1;32m      5\u001b[0m \u001b[0mevents_22_24\u001b[0m \u001b[0;34m=\u001b[0m  \u001b[0mcreate_window\u001b[0m\u001b[0;34m(\u001b[0m\u001b[0mevents\u001b[0m\u001b[0;34m,\u001b[0m \u001b[0;34m\"2019-04-22\"\u001b[0m\u001b[0;34m,\u001b[0m \u001b[0;34m\"2019-04-25\"\u001b[0m\u001b[0;34m,\u001b[0m \u001b[0;34m\"date\"\u001b[0m\u001b[0;34m)\u001b[0m\u001b[0;34m\u001b[0m\u001b[0;34m\u001b[0m\u001b[0m\n",
      "\u001b[0;31mNameError\u001b[0m: name 'events' is not defined"
     ]
    }
   ],
   "source": [
    "df_features_21_23 = pd.read_csv('windows/21_23/features.csv', low_memory=False)\n",
    "df_features_21_23.set_index('ref_hash', inplace=True)"
   ]
  },
  {
<<<<<<< HEAD
   "cell_type": "markdown",
   "metadata": {},
=======
   "cell_type": "code",
   "execution_count": 154,
   "metadata": {},
   "outputs": [
    {
     "ename": "TypeError",
     "evalue": "Cannot compare tz-naive and tz-aware datetime-like objects",
     "output_type": "error",
     "traceback": [
      "\u001b[0;31m---------------------------------------------------------------------------\u001b[0m",
      "\u001b[0;31mTypeError\u001b[0m                                 Traceback (most recent call last)",
      "\u001b[0;32m<ipython-input-154-e81bce7bbd9b>\u001b[0m in \u001b[0;36m<module>\u001b[0;34m\u001b[0m\n\u001b[0;32m----> 1\u001b[0;31m \u001b[0mclicks_18_20\u001b[0m \u001b[0;34m=\u001b[0m  \u001b[0mcreate_window\u001b[0m\u001b[0;34m(\u001b[0m\u001b[0mclicks\u001b[0m\u001b[0;34m,\u001b[0m \u001b[0;34m\"2019-04-18\"\u001b[0m\u001b[0;34m,\u001b[0m \u001b[0;34m\"2019-04-21\"\u001b[0m\u001b[0;34m,\u001b[0m \u001b[0;34m\"created\"\u001b[0m\u001b[0;34m)\u001b[0m\u001b[0;34m\u001b[0m\u001b[0;34m\u001b[0m\u001b[0m\n\u001b[0m\u001b[1;32m      2\u001b[0m \u001b[0mclicks_19_21\u001b[0m \u001b[0;34m=\u001b[0m  \u001b[0mcreate_window\u001b[0m\u001b[0;34m(\u001b[0m\u001b[0mclicks\u001b[0m\u001b[0;34m,\u001b[0m \u001b[0;34m\"2019-04-19\"\u001b[0m\u001b[0;34m,\u001b[0m \u001b[0;34m\"2019-04-22\"\u001b[0m\u001b[0;34m,\u001b[0m \u001b[0;34m\"created\"\u001b[0m\u001b[0;34m)\u001b[0m\u001b[0;34m\u001b[0m\u001b[0;34m\u001b[0m\u001b[0m\n\u001b[1;32m      3\u001b[0m \u001b[0mclicks_20_22\u001b[0m \u001b[0;34m=\u001b[0m  \u001b[0mcreate_window\u001b[0m\u001b[0;34m(\u001b[0m\u001b[0mclicks\u001b[0m\u001b[0;34m,\u001b[0m \u001b[0;34m\"2019-04-20\"\u001b[0m\u001b[0;34m,\u001b[0m \u001b[0;34m\"2019-04-23\"\u001b[0m\u001b[0;34m,\u001b[0m \u001b[0;34m\"created\"\u001b[0m\u001b[0;34m)\u001b[0m\u001b[0;34m\u001b[0m\u001b[0;34m\u001b[0m\u001b[0m\n\u001b[1;32m      4\u001b[0m \u001b[0mclicks_21_23\u001b[0m \u001b[0;34m=\u001b[0m  \u001b[0mcreate_window\u001b[0m\u001b[0;34m(\u001b[0m\u001b[0mclicks\u001b[0m\u001b[0;34m,\u001b[0m \u001b[0;34m\"2019-04-21\"\u001b[0m\u001b[0;34m,\u001b[0m \u001b[0;34m\"2019-04-24\"\u001b[0m\u001b[0;34m,\u001b[0m \u001b[0;34m\"created\"\u001b[0m\u001b[0;34m)\u001b[0m\u001b[0;34m\u001b[0m\u001b[0;34m\u001b[0m\u001b[0m\n\u001b[1;32m      5\u001b[0m \u001b[0mclicks_22_24\u001b[0m \u001b[0;34m=\u001b[0m  \u001b[0mcreate_window\u001b[0m\u001b[0;34m(\u001b[0m\u001b[0mclicks\u001b[0m\u001b[0;34m,\u001b[0m \u001b[0;34m\"2019-04-22\"\u001b[0m\u001b[0;34m,\u001b[0m \u001b[0;34m\"2019-04-25\"\u001b[0m\u001b[0;34m,\u001b[0m \u001b[0;34m\"created\"\u001b[0m\u001b[0;34m)\u001b[0m\u001b[0;34m\u001b[0m\u001b[0;34m\u001b[0m\u001b[0m\n",
      "\u001b[0;32m<ipython-input-56-e6e6d2586907>\u001b[0m in \u001b[0;36mcreate_window\u001b[0;34m(df, initial_date, final_date, date_feature_name)\u001b[0m\n\u001b[1;32m      3\u001b[0m     \u001b[0minitial\u001b[0m \u001b[0;34m=\u001b[0m \u001b[0mpd\u001b[0m\u001b[0;34m.\u001b[0m\u001b[0mto_datetime\u001b[0m\u001b[0;34m(\u001b[0m\u001b[0minitial_date\u001b[0m\u001b[0;34m)\u001b[0m\u001b[0;34m\u001b[0m\u001b[0;34m\u001b[0m\u001b[0m\n\u001b[1;32m      4\u001b[0m     \u001b[0mfinal\u001b[0m \u001b[0;34m=\u001b[0m \u001b[0mpd\u001b[0m\u001b[0;34m.\u001b[0m\u001b[0mto_datetime\u001b[0m\u001b[0;34m(\u001b[0m\u001b[0mfinal_date\u001b[0m\u001b[0;34m)\u001b[0m\u001b[0;34m\u001b[0m\u001b[0;34m\u001b[0m\u001b[0m\n\u001b[0;32m----> 5\u001b[0;31m     return df.loc[ (df[date_feature_name] >= initial) \\\n\u001b[0m\u001b[1;32m      6\u001b[0m                   & (df[date_feature_name] < final) ]\n",
      "\u001b[0;32m/Library/Frameworks/Python.framework/Versions/3.7/lib/python3.7/site-packages/pandas/core/ops.py\u001b[0m in \u001b[0;36mwrapper\u001b[0;34m(self, other, axis)\u001b[0m\n\u001b[1;32m   1714\u001b[0m \u001b[0;34m\u001b[0m\u001b[0m\n\u001b[1;32m   1715\u001b[0m             res_values = dispatch_to_index_op(op, self, other,\n\u001b[0;32m-> 1716\u001b[0;31m                                               pd.DatetimeIndex)\n\u001b[0m\u001b[1;32m   1717\u001b[0m \u001b[0;34m\u001b[0m\u001b[0m\n\u001b[1;32m   1718\u001b[0m             return self._constructor(res_values, index=self.index,\n",
      "\u001b[0;32m/Library/Frameworks/Python.framework/Versions/3.7/lib/python3.7/site-packages/pandas/core/ops.py\u001b[0m in \u001b[0;36mdispatch_to_index_op\u001b[0;34m(op, left, right, index_class)\u001b[0m\n\u001b[1;32m   1189\u001b[0m         \u001b[0mleft_idx\u001b[0m \u001b[0;34m=\u001b[0m \u001b[0mleft_idx\u001b[0m\u001b[0;34m.\u001b[0m\u001b[0m_shallow_copy\u001b[0m\u001b[0;34m(\u001b[0m\u001b[0mfreq\u001b[0m\u001b[0;34m=\u001b[0m\u001b[0;32mNone\u001b[0m\u001b[0;34m)\u001b[0m\u001b[0;34m\u001b[0m\u001b[0;34m\u001b[0m\u001b[0m\n\u001b[1;32m   1190\u001b[0m     \u001b[0;32mtry\u001b[0m\u001b[0;34m:\u001b[0m\u001b[0;34m\u001b[0m\u001b[0;34m\u001b[0m\u001b[0m\n\u001b[0;32m-> 1191\u001b[0;31m         \u001b[0mresult\u001b[0m \u001b[0;34m=\u001b[0m \u001b[0mop\u001b[0m\u001b[0;34m(\u001b[0m\u001b[0mleft_idx\u001b[0m\u001b[0;34m,\u001b[0m \u001b[0mright\u001b[0m\u001b[0;34m)\u001b[0m\u001b[0;34m\u001b[0m\u001b[0;34m\u001b[0m\u001b[0m\n\u001b[0m\u001b[1;32m   1192\u001b[0m     \u001b[0;32mexcept\u001b[0m \u001b[0mNullFrequencyError\u001b[0m\u001b[0;34m:\u001b[0m\u001b[0;34m\u001b[0m\u001b[0;34m\u001b[0m\u001b[0m\n\u001b[1;32m   1193\u001b[0m         \u001b[0;31m# DatetimeIndex and TimedeltaIndex with freq == None raise ValueError\u001b[0m\u001b[0;34m\u001b[0m\u001b[0;34m\u001b[0m\u001b[0;34m\u001b[0m\u001b[0m\n",
      "\u001b[0;32m/Library/Frameworks/Python.framework/Versions/3.7/lib/python3.7/site-packages/pandas/core/indexes/datetimelike.py\u001b[0m in \u001b[0;36mwrapper\u001b[0;34m(self, other)\u001b[0m\n\u001b[1;32m    115\u001b[0m                 \u001b[0mother\u001b[0m \u001b[0;34m=\u001b[0m \u001b[0mother\u001b[0m\u001b[0;34m.\u001b[0m\u001b[0m_values\u001b[0m\u001b[0;34m\u001b[0m\u001b[0;34m\u001b[0m\u001b[0m\n\u001b[1;32m    116\u001b[0m \u001b[0;34m\u001b[0m\u001b[0m\n\u001b[0;32m--> 117\u001b[0;31m             \u001b[0mresult\u001b[0m \u001b[0;34m=\u001b[0m \u001b[0mop\u001b[0m\u001b[0;34m(\u001b[0m\u001b[0mself\u001b[0m\u001b[0;34m.\u001b[0m\u001b[0m_data\u001b[0m\u001b[0;34m,\u001b[0m \u001b[0mmaybe_unwrap_index\u001b[0m\u001b[0;34m(\u001b[0m\u001b[0mother\u001b[0m\u001b[0;34m)\u001b[0m\u001b[0;34m)\u001b[0m\u001b[0;34m\u001b[0m\u001b[0;34m\u001b[0m\u001b[0m\n\u001b[0m\u001b[1;32m    118\u001b[0m             \u001b[0;32mreturn\u001b[0m \u001b[0mresult\u001b[0m\u001b[0;34m\u001b[0m\u001b[0;34m\u001b[0m\u001b[0m\n\u001b[1;32m    119\u001b[0m \u001b[0;34m\u001b[0m\u001b[0m\n",
      "\u001b[0;32m/Library/Frameworks/Python.framework/Versions/3.7/lib/python3.7/site-packages/pandas/core/arrays/datetimes.py\u001b[0m in \u001b[0;36mwrapper\u001b[0;34m(self, other)\u001b[0m\n\u001b[1;32m    140\u001b[0m             \u001b[0;32mif\u001b[0m \u001b[0misinstance\u001b[0m\u001b[0;34m(\u001b[0m\u001b[0mother\u001b[0m\u001b[0;34m,\u001b[0m \u001b[0;34m(\u001b[0m\u001b[0mdatetime\u001b[0m\u001b[0;34m,\u001b[0m \u001b[0mnp\u001b[0m\u001b[0;34m.\u001b[0m\u001b[0mdatetime64\u001b[0m\u001b[0;34m)\u001b[0m\u001b[0;34m)\u001b[0m\u001b[0;34m:\u001b[0m\u001b[0;34m\u001b[0m\u001b[0;34m\u001b[0m\u001b[0m\n\u001b[1;32m    141\u001b[0m                 \u001b[0;31m# GH#18435 strings get a pass from tzawareness compat\u001b[0m\u001b[0;34m\u001b[0m\u001b[0;34m\u001b[0m\u001b[0;34m\u001b[0m\u001b[0m\n\u001b[0;32m--> 142\u001b[0;31m                 \u001b[0mself\u001b[0m\u001b[0;34m.\u001b[0m\u001b[0m_assert_tzawareness_compat\u001b[0m\u001b[0;34m(\u001b[0m\u001b[0mother\u001b[0m\u001b[0;34m)\u001b[0m\u001b[0;34m\u001b[0m\u001b[0;34m\u001b[0m\u001b[0m\n\u001b[0m\u001b[1;32m    143\u001b[0m \u001b[0;34m\u001b[0m\u001b[0m\n\u001b[1;32m    144\u001b[0m             \u001b[0;32mtry\u001b[0m\u001b[0;34m:\u001b[0m\u001b[0;34m\u001b[0m\u001b[0;34m\u001b[0m\u001b[0m\n",
      "\u001b[0;32m/Library/Frameworks/Python.framework/Versions/3.7/lib/python3.7/site-packages/pandas/core/arrays/datetimes.py\u001b[0m in \u001b[0;36m_assert_tzawareness_compat\u001b[0;34m(self, other)\u001b[0m\n\u001b[1;32m    698\u001b[0m                                 'datetime-like objects.')\n\u001b[1;32m    699\u001b[0m         \u001b[0;32melif\u001b[0m \u001b[0mother_tz\u001b[0m \u001b[0;32mis\u001b[0m \u001b[0;32mNone\u001b[0m\u001b[0;34m:\u001b[0m\u001b[0;34m\u001b[0m\u001b[0;34m\u001b[0m\u001b[0m\n\u001b[0;32m--> 700\u001b[0;31m             raise TypeError('Cannot compare tz-naive and tz-aware '\n\u001b[0m\u001b[1;32m    701\u001b[0m                             'datetime-like objects')\n\u001b[1;32m    702\u001b[0m \u001b[0;34m\u001b[0m\u001b[0m\n",
      "\u001b[0;31mTypeError\u001b[0m: Cannot compare tz-naive and tz-aware datetime-like objects"
     ]
    }
   ],
>>>>>>> 1ef7adc5c08177051a9f537c5e10de3dce36484d
   "source": [
    "### Partición de los datos por ventanas"
   ]
  },
  {
   "cell_type": "code",
<<<<<<< HEAD
   "execution_count": 29,
=======
   "execution_count": 60,
>>>>>>> 1ef7adc5c08177051a9f537c5e10de3dce36484d
   "metadata": {},
   "outputs": [],
   "source": [
    "ventanas = [\n",
    "    {\n",
    "        \"auctions\": auctions_18_20,\n",
    "        \"installs\": installs_18_20,\n",
    "        \"clicks\": clicks_18_20,\n",
    "        \"events\": events_18_20,\n",
    "        \"features\": df_features_18_20,\n",
    "        \"name\": \"18_20\"\n",
    "    },\n",
    "    {\n",
    "        \"auctions\": auctions_19_21,\n",
    "        \"installs\": installs_19_21,\n",
    "        \"clicks\": clicks_19_21,\n",
    "        \"events\": events_19_21,\n",
    "        \"features\": df_features_19_21,        \n",
    "        \"name\": \"19_21\"\n",
    "    },\n",
    "    {\n",
    "        \"auctions\": auctions_20_22,\n",
    "        \"installs\": installs_20_22,\n",
    "        \"clicks\": clicks_20_22,\n",
    "        \"events\": events_20_22,\n",
    "        \"features\": df_features_20_22,        \n",
    "        \"name\": \"20_22\"\n",
    "    },\n",
    "    {\n",
    "        \"auctions\": auctions_21_23,\n",
    "        \"installs\": installs_21_23,\n",
    "        \"clicks\": clicks_21_23,\n",
    "        \"events\": events_21_23,\n",
    "        \"features\": df_features_21_23,        \n",
    "        \"name\": \"21_23\"\n",
    "    }\n",
    "]"
   ]
  },
  {
   "cell_type": "markdown",
   "metadata": {},
   "source": [
    "### Funcion para agregar features"
   ]
  },
  {
   "cell_type": "code",
<<<<<<< HEAD
   "execution_count": 30,
=======
   "execution_count": 61,
>>>>>>> 1ef7adc5c08177051a9f537c5e10de3dce36484d
   "metadata": {},
   "outputs": [],
   "source": [
    "def add_feature(df_features, df_to_join, feature_name, fill = 0):\n",
    "    df_features = df_features.merge(df_to_join[[feature_name]], how = 'left', left_index = True, right_index = True).\\\n",
    "    fillna(fill)\n",
    "    return df_features"
   ]
  },
  {
   "cell_type": "code",
<<<<<<< HEAD
   "execution_count": 31,
   "metadata": {},
   "outputs": [],
=======
   "execution_count": 62,
   "metadata": {},
   "outputs": [
    {
     "data": {
      "text/html": [
       "<div>\n",
       "<style scoped>\n",
       "    .dataframe tbody tr th:only-of-type {\n",
       "        vertical-align: middle;\n",
       "    }\n",
       "\n",
       "    .dataframe tbody tr th {\n",
       "        vertical-align: top;\n",
       "    }\n",
       "\n",
       "    .dataframe thead th {\n",
       "        text-align: right;\n",
       "    }\n",
       "</style>\n",
       "<table border=\"1\" class=\"dataframe\">\n",
       "  <thead>\n",
       "    <tr style=\"text-align: right;\">\n",
       "      <th></th>\n",
       "    </tr>\n",
       "    <tr>\n",
       "      <th>ref_hash</th>\n",
       "    </tr>\n",
       "  </thead>\n",
       "  <tbody>\n",
       "    <tr>\n",
       "      <th>5230323462636548010</th>\n",
       "    </tr>\n",
       "    <tr>\n",
       "      <th>5097163995161606833</th>\n",
       "    </tr>\n",
       "    <tr>\n",
       "      <th>6328027616411983332</th>\n",
       "    </tr>\n",
       "  </tbody>\n",
       "</table>\n",
       "</div>"
      ],
      "text/plain": [
       "Empty DataFrame\n",
       "Columns: []\n",
       "Index: [5230323462636548010, 5097163995161606833, 6328027616411983332]"
      ]
     },
     "execution_count": 62,
     "metadata": {},
     "output_type": "execute_result"
    }
   ],
>>>>>>> 1ef7adc5c08177051a9f537c5e10de3dce36484d
   "source": [
    "def agregar_features(ventanas, feature_function, feature_name):\n",
    "    for ventana in ventanas:\n",
    "        auctions = ventana[\"auctions\"]\n",
    "        installs = ventana[\"installs\"]\n",
    "        events = ventana[\"events\"]\n",
    "        clicks = ventana[\"clicks\"]\n",
    "        feature = ventana[\"features\"]\n",
    "        \n",
    "        df_to_join = feature_function(auctions, installs, events, clicks)\n",
    "        ventana[\"features\"] = add_feature(feature, df_to_join, feature_name)\n",
    "    save_changes(ventanas)\n",
    "    return ventanas\n",
    "        "
   ]
  },
  {
   "cell_type": "code",
   "execution_count": 37,
   "metadata": {},
   "outputs": [],
   "source": [
    "def save_changes(ventanas):\n",
    "    for ventana in ventanas:\n",
    "        feature = ventana[\"features\"]\n",
    "        name = ventana[\"name\"]\n",
    "        feature.to_csv(\"windows/{}/features.csv\".format(name), index = True)"
   ]
  },
  {
   "cell_type": "markdown",
   "metadata": {},
   "source": [
    "## Features"
   ]
  },
  {
   "cell_type": "code",
<<<<<<< HEAD
   "execution_count": null,
=======
   "execution_count": 63,
>>>>>>> 1ef7adc5c08177051a9f537c5e10de3dce36484d
   "metadata": {},
   "outputs": [],
   "source": []
  },
  {
   "cell_type": "code",
<<<<<<< HEAD
   "execution_count": null,
=======
   "execution_count": 64,
>>>>>>> 1ef7adc5c08177051a9f537c5e10de3dce36484d
   "metadata": {},
   "outputs": [],
   "source": []
  },
  {
   "cell_type": "code",
   "execution_count": 33,
   "metadata": {},
   "outputs": [],
   "source": [
    "def user_appeared_last_day(auctions, installs, events, clicks):\n",
    "    ultimo = auctions[\"date\"].max().day\n",
    "    auc_feature2 = auctions.loc[auctions[\"date\"].dt.day == ultimo]\n",
    "    auc_feature2['user_appeared_last_day'] = 1\n",
    "    auc_feature2 = auc_feature2.groupby('ref_hash').agg({'user_appeared_last_day' : 'first'})\n",
    "    return auc_feature2"
   ]
  },
  {
   "cell_type": "code",
<<<<<<< HEAD
   "execution_count": 34,
=======
   "execution_count": 65,
>>>>>>> 1ef7adc5c08177051a9f537c5e10de3dce36484d
   "metadata": {},
   "outputs": [],
   "source": [
    "ventantas = agregar_features(ventanas, user_appeared_last_day, \"user_appeared_last_day\")"
   ]
  },
  {
   "cell_type": "code",
   "execution_count": 38,
   "metadata": {},
   "outputs": [],
   "source": []
  },
  {
   "cell_type": "code",
   "execution_count": 8,
   "metadata": {},
   "outputs": [],
   "source": []
  },
  {
   "cell_type": "code",
   "execution_count": 9,
   "metadata": {},
   "outputs": [],
   "source": []
  },
  {
   "cell_type": "code",
   "execution_count": null,
   "metadata": {
    "scrolled": true
   },
   "outputs": [],
   "source": []
  },
  {
   "cell_type": "markdown",
   "metadata": {},
   "source": [
    "> # Sección para añadir features"
   ]
  },
  {
<<<<<<< HEAD
   "cell_type": "markdown",
   "metadata": {},
=======
   "cell_type": "code",
   "execution_count": 66,
   "metadata": {},
   "outputs": [
    {
     "data": {
      "text/html": [
       "<div>\n",
       "<style scoped>\n",
       "    .dataframe tbody tr th:only-of-type {\n",
       "        vertical-align: middle;\n",
       "    }\n",
       "\n",
       "    .dataframe tbody tr th {\n",
       "        vertical-align: top;\n",
       "    }\n",
       "\n",
       "    .dataframe thead th {\n",
       "        text-align: right;\n",
       "    }\n",
       "</style>\n",
       "<table border=\"1\" class=\"dataframe\">\n",
       "  <thead>\n",
       "    <tr style=\"text-align: right;\">\n",
       "      <th></th>\n",
       "    </tr>\n",
       "    <tr>\n",
       "      <th>ref_hash</th>\n",
       "    </tr>\n",
       "  </thead>\n",
       "  <tbody>\n",
       "    <tr>\n",
       "      <th>1109595589636746168</th>\n",
       "    </tr>\n",
       "  </tbody>\n",
       "</table>\n",
       "</div>"
      ],
      "text/plain": [
       "Empty DataFrame\n",
       "Columns: []\n",
       "Index: [1109595589636746168]"
      ]
     },
     "execution_count": 66,
     "metadata": {},
     "output_type": "execute_result"
    }
   ],
>>>>>>> 1ef7adc5c08177051a9f537c5e10de3dce36484d
   "source": [
    "> *¡Atención! Antes de usar la función add_feature, setear como indice el id de los dispositivos en el df que contiene el feature que se desea agregar*"
   ]
  },
  {
   "cell_type": "markdown",
   "metadata": {},
   "source": [
    "> ### ***Feature 1: cantidad de veces que el usuario aparece en una subasta***"
   ]
  },
  {
   "cell_type": "code",
   "execution_count": 67,
   "metadata": {},
   "outputs": [],
   "source": [
    "auctions_18_20['appearances_in_auctions'] = 1\n",
    "auc_feature1 = auctions_18_20.groupby('device_id').agg({'appearances_in_auctions': 'count'})\n",
    "auc_18_20_features = add_feature(auc_18_20_features, auc_feature1, \"appearances_in_auctions\")"
   ]
  },
  {
   "cell_type": "code",
   "execution_count": 68,
   "metadata": {},
   "outputs": [
    {
     "data": {
      "text/html": [
       "<div>\n",
       "<style scoped>\n",
       "    .dataframe tbody tr th:only-of-type {\n",
       "        vertical-align: middle;\n",
       "    }\n",
       "\n",
       "    .dataframe tbody tr th {\n",
       "        vertical-align: top;\n",
       "    }\n",
       "\n",
       "    .dataframe thead th {\n",
       "        text-align: right;\n",
       "    }\n",
       "</style>\n",
       "<table border=\"1\" class=\"dataframe\">\n",
       "  <thead>\n",
       "    <tr style=\"text-align: right;\">\n",
       "      <th></th>\n",
       "      <th>appearances_in_auctions</th>\n",
       "    </tr>\n",
       "    <tr>\n",
       "      <th>ref_hash</th>\n",
       "      <th></th>\n",
       "    </tr>\n",
       "  </thead>\n",
       "  <tbody>\n",
       "    <tr>\n",
       "      <th>1109595589636746168</th>\n",
       "      <td>128</td>\n",
       "    </tr>\n",
       "  </tbody>\n",
       "</table>\n",
       "</div>"
      ],
      "text/plain": [
       "                     appearances_in_auctions\n",
       "ref_hash                                    \n",
       "1109595589636746168                      128"
      ]
     },
     "execution_count": 68,
     "metadata": {},
     "output_type": "execute_result"
    }
   ],
   "source": [
    "auc_18_20_features.head(1)"
   ]
  },
  {
   "cell_type": "markdown",
   "metadata": {},
   "source": [
    "> ### ***Feature 2: ¿apareció en una subasta el último día?***"
   ]
  },
  {
   "cell_type": "code",
   "execution_count": 69,
   "metadata": {},
   "outputs": [],
   "source": [
    "auc_feature2 = auctions_18_20.loc[auctions_18_20[\"date\"].dt.day == 20]\n",
    "auc_feature2['user_appeared_last_day'] = 1\n",
    "auc_feature2 = auc_feature2.groupby('device_id').agg({'user_appeared_last_day' : 'first'})\n",
    "auc_18_20_features = add_feature(auc_18_20_features, auc_feature2, \"user_appeared_last_day\")"
   ]
  },
  {
   "cell_type": "markdown",
   "metadata": {},
   "source": [
    "> ### ***Feature 3: en promedio, ¿ cuánto tardo el usuario en reaparecer en una subasta?***"
   ]
  },
  {
   "cell_type": "code",
   "execution_count": 70,
   "metadata": {},
   "outputs": [],
   "source": [
    "def calculate_time_to_reappear(df, feature_date_name, feature_id_name):\n",
    "    df_sorted = df.sort_values([feature_id_name, feature_date_name], ascending = True)\n",
    "    df_sorted['time_to_reappear'] = np.\\\n",
    "    where(df_sorted[feature_id_name] == \\\n",
    "          df_sorted[feature_id_name].shift(), df_sorted[feature_date_name] - df_sorted[feature_date_name].shift(1), np.nan)\n",
    "    df_sorted['time_to_reappear'] = df_sorted['time_to_reappear'].dt.total_seconds()\n",
    "    df_sorted['time_to_reappear'] = df_sorted['time_to_reappear'].fillna(259200) #to check\n",
    "    df_sorted = df_sorted.groupby(feature_id_name).agg({'time_to_reappear': 'mean'})\n",
    "    return df_sorted"
   ]
  },
  {
   "cell_type": "code",
   "execution_count": 71,
   "metadata": {},
   "outputs": [],
   "source": [
    "auc_feature3 = calculate_time_to_reappear(auctions_18_20, \"date\", \"device_id\")\n",
    "\n",
    "\n",
    "auc_18_20_features = add_feature(auc_18_20_features, auc_feature3, \"time_to_reappear\")"
   ]
  },
  {
   "cell_type": "markdown",
   "metadata": {},
   "source": [
<<<<<<< HEAD
    "> ### Feature 4: Día de la semana, día del mes, hora del día, segundo de la hora, minuto de la hora"
=======
    "> ### ***Feature 4: Día de la semana, día del mes, hora del día, segundo de la hora, minuto de la hora***"
   ]
  },
  {
   "cell_type": "code",
   "execution_count": 75,
   "metadata": {},
   "outputs": [],
   "source": [
    "auc_feature4 = auctions_18_20.copy()\n",
    "\n",
    "# Día de la semana\n",
    "auc_feature4[\"dayofweek\"] = auc_feature4.date.dt.dayofweek\n",
    "\n",
    "# Día del mes\n",
    "auc_feature4[\"day\"] = auc_feature4.date.dt.day\n",
    "\n",
    "# Hora del día\n",
    "auc_feature4[\"hour\"] = auc_feature4.date.dt.hour\n",
    "\n",
    "# Segundo de la hora\n",
    "auc_feature4[\"second\"] = auc_feature4.date.dt.second\n",
    "\n",
    "# Minuto de la hora\n",
    "auc_feature4[\"minute\"] = auc_feature4.date.dt.minute"
   ]
  },
  {
   "cell_type": "code",
   "execution_count": 82,
   "metadata": {},
   "outputs": [],
   "source": [
    "auc_18_20_features = add_feature(auc_18_20_features, auc_feature4, \"dayofweek\")\n",
    "auc_18_20_features = add_feature(auc_18_20_features, auc_feature4, \"day\")\n",
    "auc_18_20_features = add_feature(auc_18_20_features, auc_feature4, \"second\")\n",
    "auc_18_20_features = add_feature(auc_18_20_features, auc_feature4, \"minute\")"
   ]
  },
  {
   "cell_type": "markdown",
   "metadata": {},
   "source": [
    "> ### ***Feature 5: Separación del día en 4 partes***"
   ]
  },
  {
   "cell_type": "code",
   "execution_count": 98,
   "metadata": {},
   "outputs": [],
   "source": [
    "def divide_time_day(df):\n",
    "    df.loc[(0 <= df[\"hour\"]) & (df[\"hour\"] < 6), 'timeofday'] = 0\n",
    "    df.loc[(6 <= df[\"hour\"]) & (df[\"hour\"] < 13), 'timeofday'] = 1\n",
    "    df.loc[(13 <= df[\"hour\"]) & (df[\"hour\"] < 19), 'timeofday'] = 2\n",
    "    df.loc[(19 <= df[\"hour\"]) & (df[\"hour\"] < 24), 'timeofday'] = 3\n",
    "    df[\"timeofday\"] = df[\"timeofday\"].astype(int)\n",
    "    return df"
   ]
  },
  {
   "cell_type": "code",
   "execution_count": 99,
   "metadata": {},
   "outputs": [],
   "source": [
    "auc_feature5 = auctions_18_20.copy()\n",
    "auc_feature5[\"hour\"] = auc_feature5.date.dt.hour\n",
    "auc_feature5 = divide_time_day(auc_feature5)"
   ]
  },
  {
   "cell_type": "code",
   "execution_count": 101,
   "metadata": {},
   "outputs": [],
   "source": [
    "auc_18_20_features = add_feature(auc_18_20_features, auc_feature5, \"timeofday\")"
   ]
  },
  {
   "cell_type": "markdown",
   "metadata": {},
   "source": [
    "> ### ***Feature 6: Días feriados en Uruguay***"
   ]
  },
  {
   "cell_type": "code",
   "execution_count": 134,
   "metadata": {},
   "outputs": [],
   "source": [
    "# En Uruguay hubo 3 días feriados en el rango de fecha que nos dieron\n",
    "# El 18 y 19 de Abril fueron Jueves y Viernes Santo\n",
    "# El 22 fue el día de Desembarco de los 33 orientales\n",
    "\n",
    "def holidays_days(df):\n",
    "    df.loc[(22 == df[\"day\"]) | (19 == df[\"day\"]) | (18 == df[\"day\"]), 'holidaysday'] = 1\n",
    "    return df"
   ]
  },
  {
   "cell_type": "code",
   "execution_count": 136,
   "metadata": {},
   "outputs": [],
   "source": [
    "auc_feature6 = auctions_18_20.copy()\n",
    "auc_feature6[\"day\"] = auc_feature5.date.dt.day\n",
    "auc_feature6 = holidays_days(auc_feature6)\n",
    "auc_feature6 = auc_feature6.fillna(0)"
   ]
  },
  {
   "cell_type": "code",
   "execution_count": 137,
   "metadata": {},
   "outputs": [],
   "source": [
    "auc_18_20_features = add_feature(auc_18_20_features, auc_feature6, \"holidaysday\")"
   ]
  },
  {
   "cell_type": "markdown",
   "metadata": {},
   "source": [
    "> ### ***Feature 7: Días lluviosos en Uruguay***"
   ]
  },
  {
   "cell_type": "code",
   "execution_count": 138,
   "metadata": {},
   "outputs": [],
   "source": [
    "# Días que llovieron del 18 al 26: El 26 fue el único día que llovió\n",
    "def raining_days(df):\n",
    "    df.loc[26 == df[\"day\"], 'rainingdays'] = 1\n",
    "    return df"
   ]
  },
  {
   "cell_type": "code",
   "execution_count": 142,
   "metadata": {},
   "outputs": [],
   "source": [
    "auc_feature7 = auctions_18_20.copy()\n",
    "auc_feature7[\"day\"] = auc_feature7.date.dt.day\n",
    "auc_feature7 = raining_days(auc_feature7)\n",
    "auc_feature7 = auc_feature7.fillna(0)"
   ]
  },
  {
   "cell_type": "code",
   "execution_count": 144,
   "metadata": {},
   "outputs": [],
   "source": [
    "auc_18_20_features = add_feature(auc_18_20_features, auc_feature7, \"rainingdays\")"
   ]
  },
  {
   "cell_type": "markdown",
   "metadata": {},
   "source": [
    "> ### Save changes"
>>>>>>> 1ef7adc5c08177051a9f537c5e10de3dce36484d
   ]
  },
  {
   "cell_type": "code",
   "execution_count": null,
   "metadata": {},
   "outputs": [],
   "source": [
    "auc_feature4 = auctions_18_20.copy()\n",
    "\n",
    "# Día de la semana\n",
    "auc_feature4[\"dayofweek\"] = auc_feature4.date.dt.dayofweek\n",
    "\n",
    "# Día del mes\n",
    "auc_feature4[\"day\"] = auc_feature4.date.dt.day\n",
    "\n",
    "# Hora del día\n",
    "auc_feature4[\"hour\"] = auc_feature4.date.dt.hour\n",
    "\n",
    "# Segundo de la hora\n",
    "auc_feature4[\"second\"] = auc_feature4.date.dt.second\n",
    "\n",
    "# Minuto de la hora\n",
    "auc_feature4[\"minute\"] = auc_feature4.date.dt.minute\n",
    "\n",
    "\n",
    "auc_18_20_features = add_feature(auc_18_20_features, auc_feature4, \"dayofweek\")\n",
    "auc_18_20_features = add_feature(auc_18_20_features, auc_feature4, \"day\")\n",
    "auc_18_20_features = add_feature(auc_18_20_features, auc_feature4, \"second\")\n",
    "auc_18_20_features = add_feature(auc_18_20_features, auc_feature4, \"minute\")"
   ]
  },
  {
   "cell_type": "markdown",
   "metadata": {},
   "source": [
    "> ### Feature 5: Separación del día en 4 partes"
   ]
  },
  {
   "cell_type": "code",
   "execution_count": null,
   "metadata": {},
   "outputs": [],
   "source": [
    "def divide_time_day(df):\n",
    "    df.loc[(0 <= df[\"hour\"]) & (df[\"hour\"] < 6), 'timeofday'] = 0\n",
    "    df.loc[(6 <= df[\"hour\"]) & (df[\"hour\"] < 13), 'timeofday'] = 1\n",
    "    df.loc[(13 <= df[\"hour\"]) & (df[\"hour\"] < 19), 'timeofday'] = 2\n",
    "    df.loc[(19 <= df[\"hour\"]) & (df[\"hour\"] < 24), 'timeofday'] = 3\n",
    "    df[\"timeofday\"] = df[\"timeofday\"].astype(int)\n",
    "    return df\n",
    "\n",
    "auc_feature5 = auctions_18_20.copy()\n",
    "auc_feature5[\"hour\"] = auc_feature5.date.dt.hour\n",
    "auc_feature5 = divide_time_day(auc_feature5)\n",
    "auc_18_20_features = add_feature(auc_18_20_features, auc_feature5, \"timeofday\")\n"
   ]
  },
  {
   "cell_type": "markdown",
   "metadata": {},
   "source": [
    "> ### Feature 6: Días feriados en Uruguay"
   ]
  },
  {
   "cell_type": "code",
   "execution_count": null,
   "metadata": {},
   "outputs": [],
   "source": [
    "# En Uruguay hubo 3 días feriados en el rango de fecha que nos dieron\n",
    "# El 18 y 19 de Abril fueron Jueves y Viernes Santo\n",
    "# El 22 fue el día de Desembarco de los 33 orientales\n",
    "\n",
    "def holidays_days(df):\n",
    "    df.loc[(22 == df[\"day\"]) | (19 == df[\"day\"]) | (18 == df[\"day\"]), 'holidaysday'] = 1\n",
    "    return df\n",
    "\n",
    "\n",
    "auc_feature6 = auctions_18_20.copy()\n",
    "auc_feature6[\"day\"] = auc_feature5.date.dt.day\n",
    "auc_feature6 = holidays_days(auc_feature6)\n",
    "auc_feature6 = auc_feature6.fillna(0)"
   ]
  },
  {
   "cell_type": "markdown",
   "metadata": {},
   "source": [
    "> ### Feature 7: Días lluviosos en Uruguay"
   ]
  },
  {
   "cell_type": "code",
   "execution_count": null,
   "metadata": {},
   "outputs": [],
   "source": [
    "# Días que llovieron del 18 al 26: El 26 fue el único día que llovió\n",
    "def raining_days(df):\n",
    "    df.loc[26 == df[\"day\"], 'rainingdays'] = 1\n",
    "    return df\n",
    "\n",
    "auc_feature7 = auctions_18_20.copy()\n",
    "auc_feature7[\"day\"] = auc_feature7.date.dt.day\n",
    "auc_feature7 = raining_days(auc_feature7)\n",
    "auc_feature7 = auc_feature7.fillna(0)\n"
   ]
  },
  {
   "cell_type": "markdown",
   "metadata": {},
   "source": [
    "> ### ***Feature 1: cantidad de clicks realizados por el usuario***"
   ]
  },
  {
   "cell_type": "code",
   "execution_count": null,
   "metadata": {},
   "outputs": [],
   "source": [
    "clicks_18_20['amount_of_clicks'] = 1\n",
    "inst_feature1 = clicks_18_20.groupby('ref_hash').agg({'amount_of_clicks': 'count'})\n",
    "inst_18_20_features = add_feature(inst_18_20_features, inst_feature1, \"amount_of_clicks\")"
   ]
  },
  {
   "cell_type": "markdown",
   "metadata": {},
   "source": [
    "> ### ***Feature 2: ¿realizó una instalación?***"
   ]
  },
  {
   "cell_type": "code",
   "execution_count": null,
   "metadata": {},
   "outputs": [],
   "source": [
    "installs_18_20['has_installed'] = 1\n",
    "inst_feature2 = installs_18_20.groupby('ref_hash').agg({'has_installed': 'first'})\n",
    "inst_18_20_features = add_feature(inst_18_20_features, inst_feature2, \"has_installed\")"
   ]
  },
  {
   "cell_type": "markdown",
   "metadata": {},
   "source": [
    "> ### ***Feature 3: ¿realizó un click el último día?***"
   ]
  },
  {
   "cell_type": "code",
   "execution_count": null,
   "metadata": {},
   "outputs": [],
   "source": [
    "inst_feature3 = clicks_18_20.loc[clicks_18_20[\"created\"].dt.day == 20]\n",
    "inst_feature3['user_clicked_last_day'] = 1\n",
    "inst_feature3 = inst_feature3.groupby('ref_hash').agg({'user_clicked_last_day' : 'first'})\n",
    "inst_18_20_features = add_feature(inst_18_20_features, inst_feature3, \"user_clicked_last_day\")"
   ]
  },
  {
   "cell_type": "markdown",
   "metadata": {},
   "source": [
    "> ### ***Feature 4: ¿realizó una instalación el último día?***"
   ]
  },
  {
   "cell_type": "code",
   "execution_count": null,
   "metadata": {},
   "outputs": [],
   "source": [
    "inst_feature4 = installs_18_20.loc[installs_18_20[\"created\"].dt.day == 20]\n",
    "inst_feature4['user_installed_last_day'] = 1\n",
    "inst_feature4 = inst_feature4.groupby('ref_hash').agg({'user_installed_last_day' : 'first'})\n",
    "inst_18_20_features = add_feature(inst_18_20_features, inst_feature4, \"user_installed_last_day\")"
   ]
  },
  {
   "cell_type": "markdown",
   "metadata": {},
   "source": [
    "> ### ***Feature 5: cantidad de instalaciones realizadas***"
   ]
  },
  {
   "cell_type": "code",
   "execution_count": null,
   "metadata": {},
   "outputs": [],
   "source": [
    "installs_18_20['amount_of_installs'] = 1\n",
    "inst_feature5 = installs_18_20.groupby('ref_hash').agg({'amount_of_installs': 'count'})\n",
    "inst_18_20_features = add_feature(inst_18_20_features, inst_feature5, \"amount_of_installs\")"
   ]
  },
  {
   "cell_type": "markdown",
   "metadata": {},
   "source": [
    "> ### ***Feature 6: Mínimo de clicks en un día***"
<<<<<<< HEAD
=======
   ]
  },
  {
   "cell_type": "code",
   "execution_count": null,
   "metadata": {},
   "outputs": [],
   "source": [
    "clicks_18_20[\"day\"] = clicks_18_20.created.dt.day\n",
    "clicks_feature5 = clicks_18_20.groupby([\"ref_hash\", \"day\"]).agg({\"cantidad\":\"sum\"})\n",
    "clicks_feature5 = pd.DataFrame(clicks_feature5.reset_index().groupby('ref_hash')['cantidad'].max()).reset_index()\n",
    "clicks_feature5 = clicks_feature5.rename(columns={\"cantidad\":\"cant_max_day\"})"
   ]
  },
  {
   "cell_type": "code",
   "execution_count": null,
   "metadata": {},
   "outputs": [],
   "source": [
    "clicks_18_20_features = add_feature(clicks_18_20_features, clicks_feature5, \"cant_max_day\")"
   ]
  },
  {
   "cell_type": "markdown",
   "metadata": {},
   "source": [
    "> ### ***Feature 6: Máximo de clicks en un día***"
   ]
  },
  {
   "cell_type": "code",
   "execution_count": 156,
   "metadata": {},
   "outputs": [
    {
     "ename": "NameError",
     "evalue": "name 'clicks_18_20' is not defined",
     "output_type": "error",
     "traceback": [
      "\u001b[0;31m---------------------------------------------------------------------------\u001b[0m",
      "\u001b[0;31mNameError\u001b[0m                                 Traceback (most recent call last)",
      "\u001b[0;32m<ipython-input-156-5dcbf5d524b3>\u001b[0m in \u001b[0;36m<module>\u001b[0;34m\u001b[0m\n\u001b[0;32m----> 1\u001b[0;31m \u001b[0mclicks_feature6\u001b[0m \u001b[0;34m=\u001b[0m \u001b[0mclicks_18_20\u001b[0m\u001b[0;34m.\u001b[0m\u001b[0mgroupby\u001b[0m\u001b[0;34m(\u001b[0m\u001b[0;34m[\u001b[0m\u001b[0;34m\"ref_hash\"\u001b[0m\u001b[0;34m,\u001b[0m \u001b[0;34m\"day\"\u001b[0m\u001b[0;34m]\u001b[0m\u001b[0;34m)\u001b[0m\u001b[0;34m.\u001b[0m\u001b[0magg\u001b[0m\u001b[0;34m(\u001b[0m\u001b[0;34m{\u001b[0m\u001b[0;34m\"cantidad\"\u001b[0m\u001b[0;34m:\u001b[0m\u001b[0;34m\"sum\"\u001b[0m\u001b[0;34m}\u001b[0m\u001b[0;34m)\u001b[0m\u001b[0;34m\u001b[0m\u001b[0;34m\u001b[0m\u001b[0m\n\u001b[0m\u001b[1;32m      2\u001b[0m \u001b[0mclicks_feature6\u001b[0m \u001b[0;34m=\u001b[0m \u001b[0mpd\u001b[0m\u001b[0;34m.\u001b[0m\u001b[0mDataFrame\u001b[0m\u001b[0;34m(\u001b[0m\u001b[0mclicks_feature5\u001b[0m\u001b[0;34m.\u001b[0m\u001b[0mreset_index\u001b[0m\u001b[0;34m(\u001b[0m\u001b[0;34m)\u001b[0m\u001b[0;34m.\u001b[0m\u001b[0mgroupby\u001b[0m\u001b[0;34m(\u001b[0m\u001b[0;34m'ref_hash'\u001b[0m\u001b[0;34m)\u001b[0m\u001b[0;34m[\u001b[0m\u001b[0;34m'cantidad'\u001b[0m\u001b[0;34m]\u001b[0m\u001b[0;34m.\u001b[0m\u001b[0mmin\u001b[0m\u001b[0;34m(\u001b[0m\u001b[0;34m)\u001b[0m\u001b[0;34m)\u001b[0m\u001b[0;34m.\u001b[0m\u001b[0mreset_index\u001b[0m\u001b[0;34m(\u001b[0m\u001b[0;34m)\u001b[0m\u001b[0;34m\u001b[0m\u001b[0;34m\u001b[0m\u001b[0m\n\u001b[1;32m      3\u001b[0m \u001b[0mclicks_feature6\u001b[0m \u001b[0;34m=\u001b[0m \u001b[0mclicks_feature5\u001b[0m\u001b[0;34m.\u001b[0m\u001b[0mrename\u001b[0m\u001b[0;34m(\u001b[0m\u001b[0mcolumns\u001b[0m\u001b[0;34m=\u001b[0m\u001b[0;34m{\u001b[0m\u001b[0;34m\"cantidad\"\u001b[0m\u001b[0;34m:\u001b[0m\u001b[0;34m\"cant_min_day\"\u001b[0m\u001b[0;34m}\u001b[0m\u001b[0;34m)\u001b[0m\u001b[0;34m\u001b[0m\u001b[0;34m\u001b[0m\u001b[0m\n",
      "\u001b[0;31mNameError\u001b[0m: name 'clicks_18_20' is not defined"
     ]
    }
   ],
   "source": [
    "clicks_feature6 = clicks_18_20.groupby([\"ref_hash\", \"day\"]).agg({\"cantidad\":\"sum\"})\n",
    "clicks_feature6 = pd.DataFrame(clicks_feature5.reset_index().groupby('ref_hash')['cantidad'].min()).reset_index()\n",
    "clicks_feature6 = clicks_feature5.rename(columns={\"cantidad\":\"cant_min_day\"})"
   ]
  },
  {
   "cell_type": "code",
   "execution_count": 157,
   "metadata": {},
   "outputs": [
    {
     "ename": "NameError",
     "evalue": "name 'clicks_18_20_features' is not defined",
     "output_type": "error",
     "traceback": [
      "\u001b[0;31m---------------------------------------------------------------------------\u001b[0m",
      "\u001b[0;31mNameError\u001b[0m                                 Traceback (most recent call last)",
      "\u001b[0;32m<ipython-input-157-94b0149792ca>\u001b[0m in \u001b[0;36m<module>\u001b[0;34m\u001b[0m\n\u001b[0;32m----> 1\u001b[0;31m \u001b[0mclicks_18_20_features\u001b[0m \u001b[0;34m=\u001b[0m \u001b[0madd_feature\u001b[0m\u001b[0;34m(\u001b[0m\u001b[0mclicks_18_20_features\u001b[0m\u001b[0;34m,\u001b[0m \u001b[0mclicks_feature5\u001b[0m\u001b[0;34m,\u001b[0m \u001b[0;34m\"cant_min_day\"\u001b[0m\u001b[0;34m)\u001b[0m\u001b[0;34m\u001b[0m\u001b[0;34m\u001b[0m\u001b[0m\n\u001b[0m",
      "\u001b[0;31mNameError\u001b[0m: name 'clicks_18_20_features' is not defined"
     ]
    }
   ],
   "source": [
    "clicks_18_20_features = add_feature(clicks_18_20_features, clicks_feature5, \"cant_min_day\")"
   ]
  },
  {
   "cell_type": "markdown",
   "metadata": {},
   "source": [
    "> ### ***Feature 7: Promedio de tiempo entre clicks***"
   ]
  },
  {
   "cell_type": "code",
   "execution_count": 158,
   "metadata": {},
   "outputs": [],
   "source": [
    "def calculate_time_to_reappear(df, feature_date_name, feature_id_name, function_type):\n",
    "    df_sorted = df.sort_values([feature_id_name, feature_date_name], ascending = True)\n",
    "    df_sorted['time_to_reappear'] = np.\\\n",
    "    where(df_sorted[feature_id_name] == \\\n",
    "          df_sorted[feature_id_name].shift(), df_sorted[feature_date_name] - df_sorted[feature_date_name].shift(1), np.nan)\n",
    "    df_sorted['time_to_reappear'] = df_sorted['time_to_reappear'].dt.total_seconds()\n",
    "    df_sorted['time_to_reappear'] = df_sorted['time_to_reappear'].fillna(259200) #to check\n",
    "    df_sorted = df_sorted.groupby(feature_id_name).agg({'time_to_reappear': function_type})\n",
    "    return df_sorted"
   ]
  },
  {
   "cell_type": "code",
   "execution_count": null,
   "metadata": {},
   "outputs": [],
   "source": [
    "clicks_feature7 = calculate_time_to_reappear(clicks_18_20, \"created\", \"ref_hash\", \"mean\")\n",
    "clicks_18_20_features = add_feature(clicks_18_20_features, clicks_feature5, \"time_to_reappear\")"
   ]
  },
  {
   "cell_type": "markdown",
   "metadata": {},
   "source": [
    "> ### ***Feature 8: Tiempo máximo entre clicks***"
   ]
  },
  {
   "cell_type": "code",
   "execution_count": null,
   "metadata": {},
   "outputs": [],
   "source": [
    "clicks_feature8 = calculate_time_to_reappear(clicks_18_20, \"created\", \"ref_hash\", \"mean\")"
   ]
  },
  {
   "cell_type": "markdown",
   "metadata": {},
   "source": [
    "> ### ***Feature 9: Tiempo mínimo entre clicks***"
   ]
  },
  {
   "cell_type": "code",
   "execution_count": null,
   "metadata": {},
   "outputs": [],
   "source": [
    "clicks_feature9 = calculate_time_to_reappear(clicks_18_20, \"created\", \"ref_hash\", \"mean\")"
   ]
  },
  {
   "cell_type": "markdown",
   "metadata": {},
   "source": [
    "> ### Save changes"
>>>>>>> 1ef7adc5c08177051a9f537c5e10de3dce36484d
   ]
  },
  {
   "cell_type": "code",
   "execution_count": null,
   "metadata": {},
   "outputs": [],
   "source": [
    "clicks_18_20[\"day\"] = clicks_18_20.created.dt.day\n",
    "clicks_feature5 = clicks_18_20.groupby([\"ref_hash\", \"day\"]).agg({\"cantidad\":\"sum\"})\n",
    "clicks_feature5 = pd.DataFrame(clicks_feature5.reset_index().groupby('ref_hash')['cantidad'].max()).reset_index()\n",
    "clicks_feature5 = clicks_feature5.rename(columns={\"cantidad\":\"cant_max_day\"})\n",
    "clicks_18_20_features = add_feature(clicks_18_20_features, clicks_feature5, \"cant_max_day\")\n"
   ]
  },
  {
   "cell_type": "markdown",
   "metadata": {},
   "source": [
    "> ### Feature 6: Máximo de clicks en un día"
   ]
  },
  {
   "cell_type": "code",
   "execution_count": null,
   "metadata": {},
   "outputs": [],
   "source": [
    "clicks_feature6 = clicks_18_20.groupby([\"ref_hash\", \"day\"]).agg({\"cantidad\":\"sum\"})\n",
    "clicks_feature6 = pd.DataFrame(clicks_feature5.reset_index().groupby('ref_hash')['cantidad'].min()).reset_index()\n",
    "clicks_feature6 = clicks_feature5.rename(columns={\"cantidad\":\"cant_min_day\"})"
   ]
  },
  {
   "cell_type": "markdown",
   "metadata": {},
   "source": [
    "> ### Feature 7: Promedio de tiempo entre clicks"
   ]
  },
  {
   "cell_type": "code",
   "execution_count": null,
   "metadata": {},
   "outputs": [],
   "source": [
    "def calculate_time_to_reappear(df, feature_date_name, feature_id_name, function_type):\n",
    "    df_sorted = df.sort_values([feature_id_name, feature_date_name], ascending = True)\n",
    "    df_sorted['time_to_reappear'] = np.\\\n",
    "    where(df_sorted[feature_id_name] == \\\n",
    "          df_sorted[feature_id_name].shift(), df_sorted[feature_date_name] - df_sorted[feature_date_name].shift(1), np.nan)\n",
    "    df_sorted['time_to_reappear'] = df_sorted['time_to_reappear'].dt.total_seconds()\n",
    "    df_sorted['time_to_reappear'] = df_sorted['time_to_reappear'].fillna(259200) #to check\n",
    "    df_sorted = df_sorted.groupby(feature_id_name).agg({'time_to_reappear': function_type})\n",
    "    return df_sorted\n",
    "\n",
    "clicks_feature7 = calculate_time_to_reappear(clicks_18_20, \"created\", \"ref_hash\", \"mean\")\n",
    "clicks_18_20_features = add_feature(clicks_18_20_features, clicks_feature5, \"time_to_reappear\")"
   ]
  },
  {
   "cell_type": "markdown",
   "metadata": {},
   "source": [
    "> ### Feature 8: Tiempo máximo entre clicks"
   ]
  },
  {
   "cell_type": "code",
   "execution_count": 39,
   "metadata": {},
   "outputs": [
    {
     "ename": "NameError",
     "evalue": "name 'calculate_time_to_reappear' is not defined",
     "output_type": "error",
     "traceback": [
      "\u001b[0;31m------------------------------------------------------------------\u001b[0m",
      "\u001b[0;31mNameError\u001b[0m                        Traceback (most recent call last)",
      "\u001b[0;32m<ipython-input-39-7d591ca6f7b5>\u001b[0m in \u001b[0;36m<module>\u001b[0;34m\u001b[0m\n\u001b[0;32m----> 1\u001b[0;31m \u001b[0mclicks_feature8\u001b[0m \u001b[0;34m=\u001b[0m \u001b[0mcalculate_time_to_reappear\u001b[0m\u001b[0;34m(\u001b[0m\u001b[0mclicks_18_20\u001b[0m\u001b[0;34m,\u001b[0m \u001b[0;34m\"created\"\u001b[0m\u001b[0;34m,\u001b[0m \u001b[0;34m\"ref_hash\"\u001b[0m\u001b[0;34m,\u001b[0m \u001b[0;34m\"mean\"\u001b[0m\u001b[0;34m)\u001b[0m\u001b[0;34m\u001b[0m\u001b[0;34m\u001b[0m\u001b[0m\n\u001b[0m",
      "\u001b[0;31mNameError\u001b[0m: name 'calculate_time_to_reappear' is not defined"
     ]
    }
   ],
   "source": [
    "clicks_feature8 = calculate_time_to_reappear(clicks_18_20, \"created\", \"ref_hash\", \"mean\")"
   ]
  },
  {
   "cell_type": "markdown",
   "metadata": {},
   "source": [
    "> ### Feature 9: Tiempo mínimo entre clicks"
   ]
  },
  {
   "cell_type": "code",
   "execution_count": null,
   "metadata": {},
   "outputs": [],
   "source": [
    "clicks_feature9 = calculate_time_to_reappear(clicks_18_20, \"created\", \"ref_hash\", \"mean\")"
   ]
  },
  {
   "cell_type": "code",
   "execution_count": null,
   "metadata": {},
   "outputs": [],
   "source": []
  },
  {
   "cell_type": "code",
   "execution_count": null,
   "metadata": {},
   "outputs": [],
   "source": []
  }
 ],
 "metadata": {
  "kernelspec": {
   "display_name": "Python 3",
   "language": "python",
   "name": "python3"
  },
  "language_info": {
   "codemirror_mode": {
    "name": "ipython",
    "version": 3
   },
   "file_extension": ".py",
   "mimetype": "text/x-python",
   "name": "python",
   "nbconvert_exporter": "python",
   "pygments_lexer": "ipython3",
   "version": "3.7.2"
  }
 },
 "nbformat": 4,
 "nbformat_minor": 2
}
