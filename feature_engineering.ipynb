{
 "cells": [
  {
   "cell_type": "code",
   "execution_count": 1,
   "metadata": {},
   "outputs": [],
   "source": [
    "import pandas as pd\n",
    "import numpy as np"
   ]
  },
  {
   "cell_type": "markdown",
   "metadata": {},
   "source": [
    "#  Carga de datos"
   ]
  },
  {
   "cell_type": "code",
   "execution_count": 2,
   "metadata": {},
   "outputs": [],
   "source": [
    "auctions = pd.read_csv(\"auctions.csv\", dtype={\"ref_type_id\": np.uint8, \"source_id\": np.uint8})\n",
    "auctions[\"date\"] =  pd.to_datetime(auctions[\"date\"], errors = \"coerce\")"
   ]
  },
  {
   "cell_type": "code",
   "execution_count": null,
   "metadata": {},
   "outputs": [],
   "source": [
    "clicks_dtypes = {'advertiser': np.int8, 'action_id': np.float16, 'source_id': np.int8, 'country_code': 'category',\n",
    "                 'latitude': np.float16, 'longitude': np.float16, 'carrier_id': np.float16, 'brand': np.float16,\n",
    "                 'touchX': np.float16, 'touchY': np.float16}\n",
    "clicks = pd.read_csv('clicks.csv', dtypes = clicks_dtypes, low_memory=False)\n",
    "clicks[\"created\"] =  pd.to_datetime(clicks[\"created\"], errors = \"coerce\")"
   ]
  },
  {
   "cell_type": "code",
   "execution_count": null,
   "metadata": {},
   "outputs": [],
   "source": [
    "events = pd.read_csv('events.csv', low_memory=False)\n",
    "events[\"date\"] =  pd.to_datetime(events[\"date\"], errors = \"coerce\")"
   ]
  },
  {
   "cell_type": "code",
   "execution_count": 2,
   "metadata": {},
   "outputs": [],
   "source": [
    "installs = pd.read_csv('installs.csv', low_memory = False)\n",
    "installs[\"created\"] =  pd.to_datetime(installs[\"created\"], errors = \"coerce\") "
   ]
  },
  {
   "cell_type": "markdown",
   "metadata": {},
   "source": [
    "# Partición de los datos por ventanas"
   ]
  },
  {
   "cell_type": "code",
   "execution_count": 5,
   "metadata": {},
   "outputs": [],
   "source": [
    "#la fecha final debe ser las 00hs del día siguiente a la fecha final de la ventana\n",
    "def create_window(df, initial_date, final_date, date_feature_name):\n",
    "    initial = pd.to_datetime(initial_date)\n",
    "    final = pd.to_datetime(final_date)\n",
    "    return df.loc[ (df[date_feature_name] >= initial) \\\n",
    "                  & (df[date_feature_name] < final) ]"
   ]
  },
  {
   "cell_type": "code",
   "execution_count": 6,
   "metadata": {},
   "outputs": [],
   "source": [
    "auctions_18_20 =  create_window(auctions, \"2019-04-18\", \"2019-04-21\", \"date\")\n",
    "auctions_19_21 =  create_window(auctions, \"2019-04-19\", \"2019-04-22\", \"date\")\n",
    "auctions_20_22 =  create_window(auctions, \"2019-04-20\", \"2019-04-23\", \"date\")\n",
    "auctions_21_23 =  create_window(auctions, \"2019-04-21\", \"2019-04-24\", \"date\")\n",
    "auctions_22_24 =  create_window(auctions, \"2019-04-22\", \"2019-04-25\", \"date\")"
   ]
  },
  {
   "cell_type": "code",
   "execution_count": null,
   "metadata": {},
   "outputs": [],
   "source": [
    "events_18_20 =  create_window(events, \"2019-04-18\", \"2019-04-21\", \"date\")\n",
    "events_19_21 =  create_window(events, \"2019-04-19\", \"2019-04-22\", \"date\")\n",
    "events_20_22 =  create_window(events, \"2019-04-20\", \"2019-04-23\", \"date\")\n",
    "events_21_23 =  create_window(events, \"2019-04-21\", \"2019-04-24\", \"date\")\n",
    "events_22_24 =  create_window(events, \"2019-04-22\", \"2019-04-25\", \"date\")"
   ]
  },
  {
   "cell_type": "code",
   "execution_count": null,
   "metadata": {},
   "outputs": [],
   "source": [
    "clicks_18_20 =  create_window(clicks, \"2019-04-18\", \"2019-04-21\", \"created\")\n",
    "clicks_19_21 =  create_window(clicks, \"2019-04-19\", \"2019-04-22\", \"created\")\n",
    "clicks_20_22 =  create_window(clicks, \"2019-04-20\", \"2019-04-23\", \"created\")\n",
    "clicks_21_23 =  create_window(clicks, \"2019-04-21\", \"2019-04-24\", \"created\")\n",
    "clicks_22_24 =  create_window(clicks, \"2019-04-22\", \"2019-04-25\", \"created\")"
   ]
  },
  {
   "cell_type": "code",
   "execution_count": 6,
   "metadata": {},
   "outputs": [],
   "source": [
    "installs_18_20 =  create_window(installs, \"2019-04-18\", \"2019-04-21\", \"created\")\n",
    "installs_19_21 =  create_window(installs, \"2019-04-19\", \"2019-04-22\", \"created\")\n",
    "installs_20_22 =  create_window(installs, \"2019-04-20\", \"2019-04-23\", \"created\")\n",
    "installs_21_23 =  create_window(installs, \"2019-04-21\", \"2019-04-24\", \"created\")\n",
    "installs_22_24 =  create_window(installs, \"2019-04-22\", \"2019-04-25\", \"created\")"
   ]
  },
  {
   "cell_type": "markdown",
   "metadata": {},
   "source": [
    "# Inicialización de df de features"
   ]
  },
  {
   "cell_type": "code",
   "execution_count": 8,
   "metadata": {},
   "outputs": [],
   "source": [
    "#le pasamos a esta funcion el dataframe de la ventana a la cual deseemos agregarle features posteriormente\n",
    "def initialize_trainning_df(df, index_name):\n",
    "    trainning_df = pd.DataFrame(df[index_name].unique())\n",
    "    trainning_df.columns = ['ref_hash']\n",
    "    trainning_df = trainning_df.set_index('ref_hash')\n",
    "    return trainning_df"
   ]
  },
  {
   "cell_type": "code",
   "execution_count": 9,
   "metadata": {},
   "outputs": [
    {
     "data": {
      "text/html": [
       "<div>\n",
       "<style scoped>\n",
       "    .dataframe tbody tr th:only-of-type {\n",
       "        vertical-align: middle;\n",
       "    }\n",
       "\n",
       "    .dataframe tbody tr th {\n",
       "        vertical-align: top;\n",
       "    }\n",
       "\n",
       "    .dataframe thead th {\n",
       "        text-align: right;\n",
       "    }\n",
       "</style>\n",
       "<table border=\"1\" class=\"dataframe\">\n",
       "  <thead>\n",
       "    <tr style=\"text-align: right;\">\n",
       "      <th></th>\n",
       "    </tr>\n",
       "    <tr>\n",
       "      <th>ref_hash</th>\n",
       "    </tr>\n",
       "  </thead>\n",
       "  <tbody>\n",
       "    <tr>\n",
       "      <th>5230323462636548010</th>\n",
       "    </tr>\n",
       "    <tr>\n",
       "      <th>5097163995161606833</th>\n",
       "    </tr>\n",
       "    <tr>\n",
       "      <th>6328027616411983332</th>\n",
       "    </tr>\n",
       "    <tr>\n",
       "      <th>7522785771858684314</th>\n",
       "    </tr>\n",
       "    <tr>\n",
       "      <th>7882044913917355073</th>\n",
       "    </tr>\n",
       "  </tbody>\n",
       "</table>\n",
       "</div>"
      ],
      "text/plain": [
       "Empty DataFrame\n",
       "Columns: []\n",
       "Index: [5230323462636548010, 5097163995161606833, 6328027616411983332, 7522785771858684314, 7882044913917355073]"
      ]
     },
     "execution_count": 9,
     "metadata": {},
     "output_type": "execute_result"
    }
   ],
   "source": [
    "example = initialize_trainning_df(installs_18_20, \"ref_hash\")\n",
    "example.head()"
   ]
  },
  {
   "cell_type": "markdown",
   "metadata": {},
   "source": [
    "# Sección para añadir features"
   ]
  },
  {
   "cell_type": "code",
   "execution_count": 20,
   "metadata": {},
   "outputs": [],
   "source": [
    "def charge_df(csv_name, dict_dtypes = None):\n",
    "    return pd.read_csv(csv_name, dict_dtypes)"
   ]
  },
  {
   "cell_type": "code",
   "execution_count": 14,
   "metadata": {},
   "outputs": [],
   "source": [
    "def add_feature(df_features, df_to_join, index_df_features, index_df_to_join, feature_name, fill):\n",
    "    df_features = df_features.merge(df_to_join[[index_df_to_join, feature_name]].set_index(index_df_to_join), how = 'left',\\\n",
    "                                    left_on = index_df_features, right_on = index_df_to_join).fillna(fill)\n",
    "    return df_features"
   ]
  },
  {
   "cell_type": "markdown",
   "metadata": {},
   "source": [
    "Para no tener que volver a computar las operaciones, una vez agregados los features podemos guardar el estado final del df de features"
   ]
  },
  {
   "cell_type": "code",
   "execution_count": 13,
   "metadata": {},
   "outputs": [],
   "source": [
    "def save_changes(df, file_name):\n",
    "    df.to_csv(file_name, index = True)"
   ]
  },
  {
   "cell_type": "markdown",
   "metadata": {},
   "source": [
    "## Auctions"
   ]
  },
  {
   "cell_type": "code",
   "execution_count": null,
   "metadata": {},
   "outputs": [],
   "source": []
  },
  {
   "cell_type": "markdown",
   "metadata": {},
   "source": [
    "Feature 1 -> Tiempo promedio que tarda en aparecer el usuario en una subasta"
   ]
  },
  {
   "cell_type": "code",
   "execution_count": null,
   "metadata": {},
   "outputs": [],
   "source": []
  },
  {
   "cell_type": "markdown",
   "metadata": {},
   "source": [
    "Feature 2 -> Cantidad de clicks realizados"
   ]
  },
  {
   "cell_type": "code",
   "execution_count": null,
   "metadata": {},
   "outputs": [],
   "source": []
  },
  {
   "cell_type": "markdown",
   "metadata": {},
   "source": [
    "## Installs"
   ]
  },
  {
   "cell_type": "markdown",
   "metadata": {},
   "source": [
    "Feature 1"
   ]
  }
 ],
 "metadata": {
  "kernelspec": {
   "display_name": "Python 3",
   "language": "python",
   "name": "python3"
  },
  "language_info": {
   "codemirror_mode": {
    "name": "ipython",
    "version": 3
   },
   "file_extension": ".py",
   "mimetype": "text/x-python",
   "name": "python",
   "nbconvert_exporter": "python",
   "pygments_lexer": "ipython3",
   "version": "3.7.1"
  }
 },
 "nbformat": 4,
 "nbformat_minor": 2
}
