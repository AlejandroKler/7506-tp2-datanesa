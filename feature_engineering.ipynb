{
 "cells": [
  {
   "cell_type": "code",
   "execution_count": 1,
   "metadata": {},
   "outputs": [],
   "source": [
    "import pandas as pd\n",
    "import numpy as np\n",
    "pd.set_option('mode.chained_assignment', None)\n",
    "features_list = ['appearances_in_auctions', \n",
    "       'user_appeared_last_day', 'time_to_reappear',\n",
    "       'amount_of_clicks', 'has_installed', 'user_clicked_last_day',\n",
    "       'user_installed_last_day', 'amount_of_installs', 'cant_max_day',\n",
    "       'cant_min_day', 'mean_time_to_click', 'max_time_click',\n",
    "       'min_time_click', 'mean_auctions_per_day', 'mean_events_per_day',\n",
    "       'mean_clicks_per_day', 'amount_auctions_in_last_hour',\n",
    "       'amount_auctions_in_last_2_hours', 'amount_auctions_in_last_5_hours',\n",
    "       'amount_auctions_in_last_12_hours', 'amount_auctions_in_last_24_hours',\n",
    "       'amount_events_in_last_hour', 'amount_events_in_last_2_hours',\n",
    "       'amount_auctions_in_first_hour', 'amount_auctions_in_first_3_hours',\n",
    "       'amount_auctions_in_first_5_hours', 'amount_auctions_in_first_12_hours',\n",
    "       'amount_events_in_first_hour', 'amount_events_in_first_5_hours',\n",
    "       'amount_events_in_first_12_hours', 'amount_clicks_in_last_2_hours',\n",
    "       'amount_clicks_in_last_4_hours', 'device_os', 'std_time_to_click',\n",
    "       'std_time_auctions', 'max_time_install', 'min_time_install',\n",
    "       'mean_time_install', 'std_time_install', 'max_time_events',\n",
    "       'min_time_events', 'mean_time_events', 'std_time_events',\n",
    "       'installs_per_events', 'installs_per_clicks', 'events_x_app_210',\n",
    "       'events_x_app_122', 'events_x_app_65', 'events_x_app_121',\n",
    "       'events_x_app_26', 'most_installed_apps_used', 'cant_apps_used',\n",
    "       'cant_events_atributed', 'has_events_atributed',\n",
    "       'has_events_ids_with_installs', 'has_events_ids_without_installs',\n",
    "       'cant_events_0_4', 'cant_events_4_8', 'cant_events_8_12',\n",
    "       'cant_events_12_16', 'cant_events_16_20', 'cant_events_20_24',\n",
    "       'cant_auctions_0_4', 'cant_auctions_4_8', 'cant_auctions_8_12',\n",
    "       'cant_auctions_12_16', 'cant_auctions_16_20', 'cant_auctions_20_24',\n",
    "       'implicit', 'latitude', 'longitude', 'clicked_in_last_5_minutes',\n",
    "       'clicked_with_wifi_in_last_3_hours', 'hour_install', 'hour_events',\n",
    "       'hour_clicks', 'hour_auctions', 'amount_auctions_in_last_half_hour',\n",
    "       'amount_auctions_in_last_15_minutes', 'cant_devices', \"mean_appearances_auctions\",\n",
    "       'mean_appearances_events', \"mean_appearances_clicks\", \"mean_appearances_installs\",\n",
    "       'std_appearances_events', 'std_appearances_auctions', \"time_to_first_appearance_in_auctions\",\n",
    "       \"mean_auctions_last_24hs\", \"mean_auctions_last_48hs\", \"std_auctions_last_24hs\", \n",
    "       \"std_auctions_last_48hs\", \"mean_auctions_last_hour\", \"mean_auctions_last_4hs\", \n",
    "       \"mean_events_last_24hs\", \"mean_events_last_48hs\",  \"std_events_last_24hs\", \"std_events_last_48hs\", \n",
    "                ]"
   ]
  },
  {
   "cell_type": "markdown",
   "metadata": {},
   "source": [
    "###  Carga de datos"
   ]
  },
  {
   "cell_type": "code",
   "execution_count": 2,
   "metadata": {},
   "outputs": [],
   "source": [
    "auctions_18_20 = auctions_19_21 = auctions_20_22 = auctions_21_23 = auctions_24_26 = None\n",
    "installs_18_20 = installs_19_21 = installs_20_22 = installs_21_23 = installs_24_26 = None\n",
    "events_18_20 = events_19_21 = events_20_22 = events_21_23 = events_24_26 = None\n",
    "clicks_18_20 = clicks_19_21 = clicks_20_22 = clicks_21_23 = clicks_24_26 = None"
   ]
  },
  {
   "cell_type": "code",
   "execution_count": 3,
   "metadata": {},
   "outputs": [],
   "source": [
    "auctions_18_20 = pd.read_csv('windows/18_20/auctions.csv', parse_dates = ['date'], infer_datetime_format = True)\n",
    "auctions_19_21 = pd.read_csv('windows/19_21/auctions.csv', parse_dates = ['date'], infer_datetime_format = True)\n",
    "auctions_20_22 = pd.read_csv('windows/20_22/auctions.csv', parse_dates = ['date'], infer_datetime_format = True)\n",
    "auctions_21_23 = pd.read_csv('windows/21_23/auctions.csv', parse_dates = ['date'], infer_datetime_format = True)\n",
    "auctions_24_26 = pd.read_csv('windows/24_26/auctions.csv', parse_dates = ['date'], infer_datetime_format = True)"
   ]
  },
  {
   "cell_type": "code",
   "execution_count": 4,
   "metadata": {},
   "outputs": [],
   "source": [
    "installs_18_20 = pd.read_csv('windows/18_20/installs.csv', parse_dates = ['created'], infer_datetime_format = True)\n",
    "installs_19_21 = pd.read_csv('windows/19_21/installs.csv', parse_dates = ['created'], infer_datetime_format = True)\n",
    "installs_20_22 = pd.read_csv('windows/20_22/installs.csv', parse_dates = ['created'], infer_datetime_format = True)\n",
    "installs_21_23 = pd.read_csv('windows/21_23/installs.csv', parse_dates = ['created'], infer_datetime_format = True)\n",
    "installs_24_26 = pd.read_csv('windows/24_26/installs.csv', parse_dates = ['created'], infer_datetime_format = True)"
   ]
  },
  {
   "cell_type": "code",
   "execution_count": 5,
   "metadata": {},
   "outputs": [],
   "source": [
    "clicks_18_20 = pd.read_csv('windows/18_20/clicks.csv', parse_dates = ['created'], infer_datetime_format = True)\n",
    "clicks_19_21 = pd.read_csv('windows/19_21/clicks.csv', parse_dates = ['created'], infer_datetime_format = True)\n",
    "clicks_20_22 = pd.read_csv('windows/20_22/clicks.csv', parse_dates = ['created'], infer_datetime_format = True)\n",
    "clicks_21_23 = pd.read_csv('windows/21_23/clicks.csv', parse_dates = ['created'], infer_datetime_format = True)\n",
    "clicks_24_26 = pd.read_csv('windows/24_26/clicks.csv', parse_dates = ['created'], infer_datetime_format = True)"
   ]
  },
  {
   "cell_type": "code",
   "execution_count": 6,
   "metadata": {},
   "outputs": [
    {
     "name": "stderr",
     "output_type": "stream",
     "text": [
      "/Library/Frameworks/Python.framework/Versions/3.7/lib/python3.7/site-packages/IPython/core/interactiveshell.py:3020: DtypeWarning: Columns (13,20) have mixed types. Specify dtype option on import or set low_memory=False.\n",
      "  interactivity=interactivity, compiler=compiler, result=result)\n"
     ]
    }
   ],
   "source": [
    "events_18_20 = pd.read_csv('windows/18_20/events.csv', parse_dates = ['date'], infer_datetime_format = True)\n",
    "events_19_21 = pd.read_csv('windows/19_21/events.csv', parse_dates = ['date'], infer_datetime_format = True)\n",
    "events_20_22 = pd.read_csv('windows/20_22/events.csv', parse_dates = ['date'], infer_datetime_format = True)\n",
    "events_21_23 = pd.read_csv('windows/21_23/events.csv', parse_dates = ['date'], infer_datetime_format = True)\n",
    "events_24_26 = pd.read_csv('windows/24_26/events.csv', parse_dates = ['date'], infer_datetime_format = True)"
   ]
  },
  {
   "cell_type": "code",
   "execution_count": 7,
   "metadata": {},
   "outputs": [],
   "source": [
    "df_features_18_20 = pd.read_csv('windows/18_20/features.csv', low_memory=False)\n",
    "df_features_18_20.set_index('ref_hash', inplace=True)"
   ]
  },
  {
   "cell_type": "code",
   "execution_count": 8,
   "metadata": {},
   "outputs": [],
   "source": [
    "df_features_19_21 = pd.read_csv('windows/19_21/features.csv', low_memory=False)\n",
    "df_features_19_21.set_index('ref_hash', inplace=True)"
   ]
  },
  {
   "cell_type": "code",
   "execution_count": 9,
   "metadata": {},
   "outputs": [],
   "source": [
    "df_features_20_22 = pd.read_csv('windows/20_22/features.csv', low_memory=False)\n",
    "df_features_20_22.set_index('ref_hash', inplace=True)"
   ]
  },
  {
   "cell_type": "code",
   "execution_count": 10,
   "metadata": {},
   "outputs": [],
   "source": [
    "df_features_21_23 = pd.read_csv('windows/21_23/features.csv', low_memory=False)\n",
    "df_features_21_23.set_index('ref_hash', inplace=True)"
   ]
  },
  {
   "cell_type": "code",
   "execution_count": 11,
   "metadata": {},
   "outputs": [],
   "source": [
    "df_features_24_26 = pd.read_csv('windows/24_26/features.csv').drop_duplicates()  #check\n",
    "df_features_24_26.set_index('ref_hash', inplace=True)"
   ]
  },
  {
   "cell_type": "markdown",
   "metadata": {},
   "source": [
    "### Partición de los datos por ventanas"
   ]
  },
  {
   "cell_type": "code",
   "execution_count": 12,
   "metadata": {},
   "outputs": [],
   "source": [
    "windows = [\n",
    "    {\n",
    "        \"auctions\": auctions_18_20,\n",
    "        \"installs\": installs_18_20,\n",
    "        \"clicks\": clicks_18_20,\n",
    "        \"events\": events_18_20,\n",
    "        \"features\": df_features_18_20,\n",
    "        \"name\": \"18_20\"\n",
    "    },\n",
    "    {\n",
    "        \"auctions\": auctions_19_21,\n",
    "        \"installs\": installs_19_21,\n",
    "        \"clicks\": clicks_19_21,\n",
    "        \"events\": events_19_21,\n",
    "        \"features\": df_features_19_21,        \n",
    "        \"name\": \"19_21\"\n",
    "    },\n",
    "    {\n",
    "        \"auctions\": auctions_20_22,\n",
    "        \"installs\": installs_20_22,\n",
    "        \"clicks\": clicks_20_22,\n",
    "        \"events\": events_20_22,\n",
    "        \"features\": df_features_20_22,        \n",
    "        \"name\": \"20_22\"\n",
    "    },\n",
    "    {\n",
    "        \"auctions\": auctions_21_23,\n",
    "        \"installs\": installs_21_23,\n",
    "        \"clicks\": clicks_21_23,\n",
    "        \"events\": events_21_23,\n",
    "        \"features\": df_features_21_23,        \n",
    "        \"name\": \"21_23\"\n",
    "    },\n",
    "    {\n",
    "        \"auctions\": auctions_24_26,\n",
    "        \"installs\": installs_24_26,\n",
    "        \"clicks\": clicks_24_26,\n",
    "        \"events\": events_24_26,\n",
    "        \"features\": df_features_24_26,\n",
    "        \"name\": \"24_26\"\n",
    "    }\n",
    "]"
   ]
  },
  {
   "cell_type": "markdown",
   "metadata": {},
   "source": [
    "### Funcion para agregar features"
   ]
  },
  {
   "cell_type": "code",
   "execution_count": 13,
   "metadata": {},
   "outputs": [],
   "source": [
    "def add_feature(df_features, df_to_join, feature_name, fill = True, fill_value = 0):\n",
    "    if feature_name in df_features.columns.tolist():\n",
    "        df_features = df_features.drop(feature_name, axis = 1)\n",
    "    df_features = df_features.merge(df_to_join[[feature_name]], how = 'left', left_index = True, right_index = True)\n",
    "    if fill:\n",
    "        df_features[feature_name] = df_features[feature_name].fillna(fill_value)\n",
    "    return df_features"
   ]
  },
  {
   "cell_type": "code",
   "execution_count": 14,
   "metadata": {},
   "outputs": [],
   "source": [
    "def add_features_to_windows(windows, feature_function, feature_name, fill = True, fill_value = 0):\n",
    "    for window in windows:\n",
    "        auctions = window[\"auctions\"]\n",
    "        installs = window[\"installs\"]\n",
    "        events = window[\"events\"]\n",
    "        clicks = window[\"clicks\"]\n",
    "        \n",
    "        len_feature = len(window[\"features\"])\n",
    "        df_to_join = feature_function(auctions, installs, events, clicks)\n",
    "        if len(df_to_join.index) > len_feature:\n",
    "            raise Exception(\"Index len should be lower or equals than features index. Check for duplicates.\")\n",
    "        window[\"features\"] = add_feature(window[\"features\"], df_to_join, feature_name, fill, fill_value)\n",
    "        \n",
    "    #save_changes(windows)\n",
    "    if feature_name not in features_list:\n",
    "        features_list.append(feature_name)\n",
    "    return windows"
   ]
  },
  {
   "cell_type": "code",
   "execution_count": 15,
   "metadata": {},
   "outputs": [],
   "source": [
    "def save_changes(windows):\n",
    "    for window in windows:\n",
    "        feature = window[\"features\"]\n",
    "        name = window[\"name\"]\n",
    "        feature.to_csv(\"windows/{}/features.csv\".format(name), index = True)"
   ]
  },
  {
   "cell_type": "markdown",
   "metadata": {},
   "source": [
    " # Sección para añadir features"
   ]
  },
  {
   "cell_type": "markdown",
   "metadata": {},
   "source": [
    "> *¡Atención! Antes de usar la función add_feature, setear como indice el id de los dispositivos en el df que contiene el feature que se desea agregar*"
   ]
  },
  {
   "cell_type": "markdown",
   "metadata": {},
   "source": [
    "#### ¿No sabés que feature añadir? Recordá que tenemos toda esta info:"
   ]
  },
  {
   "cell_type": "code",
   "execution_count": 52,
   "metadata": {},
   "outputs": [
    {
     "name": "stdout",
     "output_type": "stream",
     "text": [
      "Auctions:\n",
      "['date', 'ref_type_id', 'source_id', 'ref_hash']\n",
      "\n",
      "Installs:\n",
      "['created', 'application_id', 'ref_type', 'ref_hash', 'click_hash', 'attributed', 'implicit', 'device_countrycode', 'device_brand', 'device_model', 'session_user_agent', 'user_agent', 'event_uuid', 'kind', 'wifi', 'trans_id', 'ip_address', 'device_language']\n",
      "\n",
      "Events:\n",
      "['index', 'date', 'event_id', 'ref_type', 'ref_hash', 'application_id', 'attributed', 'device_countrycode', 'device_os_version', 'device_brand', 'device_model', 'device_city', 'session_user_agent', 'trans_id', 'user_agent', 'event_uuid', 'carrier', 'kind', 'device_os', 'wifi', 'connection_type', 'ip_address', 'device_language']\n",
      "\n",
      "Clicks:\n",
      "['advertiser_id', 'action_id', 'source_id', 'created', 'country_code', 'latitude', 'longitude', 'wifi_connection', 'carrier_id', 'trans_id', 'os_minor', 'agent_device', 'os_major', 'specs_brand', 'brand', 'timeToClick', 'touchX', 'touchY', 'ref_type', 'ref_hash']\n",
      "\n"
     ]
    }
   ],
   "source": [
    "print(\"Auctions:\\n\"+str(auctions_18_20.columns.tolist())+\"\\n\")\n",
    "print(\"Installs:\\n\"+str(installs_18_20.columns.tolist())+\"\\n\")\n",
    "print(\"Events:\\n\"+str(events_18_20.columns.tolist())+\"\\n\")\n",
    "print(\"Clicks:\\n\"+str(clicks_18_20.columns.tolist())+\"\\n\")"
   ]
  },
  {
   "cell_type": "markdown",
   "metadata": {},
   "source": [
    "> ### Feature 1: ***cantidad de veces que el usuario aparece en una subasta***"
   ]
  },
  {
   "cell_type": "code",
   "execution_count": 53,
   "metadata": {},
   "outputs": [],
   "source": [
    "def calculate_appearances_auctions(auctions, installs, events, clicks):\n",
    "    auctions['appearances_in_auctions'] = 1\n",
    "    auc_feature = auctions.groupby('ref_hash').agg({'appearances_in_auctions' : 'count'})\n",
    "    return auc_feature"
   ]
  },
  {
   "cell_type": "code",
   "execution_count": 54,
   "metadata": {},
   "outputs": [],
   "source": [
    "windows = add_features_to_windows(windows, calculate_appearances_auctions, 'appearances_in_auctions')"
   ]
  },
  {
   "cell_type": "markdown",
   "metadata": {},
   "source": [
    "> ### Feature 2: ***¿apareció en una subasta el último día?***"
   ]
  },
  {
   "cell_type": "code",
   "execution_count": 55,
   "metadata": {},
   "outputs": [],
   "source": [
    "def user_appeared_last_day(auctions, installs, events, clicks):\n",
    "    ultimo = auctions[\"date\"].max().day\n",
    "    auc_feature2 = auctions.loc[auctions[\"date\"].dt.day == ultimo]\n",
    "    auc_feature2['user_appeared_last_day'] = 1\n",
    "    auc_feature2 = auc_feature2.groupby('ref_hash').agg({'user_appeared_last_day' : 'first'})\n",
    "    return auc_feature2"
   ]
  },
  {
   "cell_type": "code",
   "execution_count": 56,
   "metadata": {},
   "outputs": [],
   "source": [
    "windows = add_features_to_windows(windows, user_appeared_last_day, \"user_appeared_last_day\")"
   ]
  },
  {
   "cell_type": "markdown",
   "metadata": {},
   "source": [
    "> ### Feature 3: ***en promedio, ¿ cuánto tardo el usuario en reaparecer en una subasta?***"
   ]
  },
  {
   "cell_type": "code",
   "execution_count": 313,
   "metadata": {},
   "outputs": [],
   "source": [
    "def calculate_time_to_reappear_auctions(auctions, installs, events, clicks):\n",
    "    df_sorted = auctions.sort_values([\"ref_hash\", \"date\"], ascending = True)\n",
    "    df_sorted['time_to_reappear'] = np.where(df_sorted['ref_hash'] == df_sorted['ref_hash'].shift(), df_sorted['date'] - df_sorted['date'].shift(1), np.nan)\n",
    "    df_sorted['time_to_reappear'] = df_sorted['time_to_reappear'].dt.total_seconds()\n",
    "    df_sorted = df_sorted.groupby('ref_hash').agg({'time_to_reappear': 'mean'})\n",
    "    return df_sorted"
   ]
  },
  {
   "cell_type": "code",
   "execution_count": 314,
   "metadata": {},
   "outputs": [],
   "source": [
    "windows = add_features_to_windows(windows, calculate_time_to_reappear_auctions, \"time_to_reappear\", fill = False)"
   ]
  },
  {
   "cell_type": "markdown",
   "metadata": {},
   "source": [
    "> ### Feature 4: ***cantidad de clicks realizados por el usuario***"
   ]
  },
  {
   "cell_type": "code",
   "execution_count": 59,
   "metadata": {},
   "outputs": [],
   "source": [
    "def clicks_by_user(auctions, installs, events, clicks):\n",
    "    clicks['amount_of_clicks'] = 1\n",
    "    inst_feature1 = clicks.groupby('ref_hash').agg({'amount_of_clicks': 'count'})\n",
    "    return inst_feature1"
   ]
  },
  {
   "cell_type": "code",
   "execution_count": 60,
   "metadata": {},
   "outputs": [],
   "source": [
    "windows = add_features_to_windows(windows, clicks_by_user, \"amount_of_clicks\")"
   ]
  },
  {
   "cell_type": "markdown",
   "metadata": {},
   "source": [
    "> ### Feature 5: ***¿realizó una instalación?***"
   ]
  },
  {
   "cell_type": "code",
   "execution_count": 61,
   "metadata": {},
   "outputs": [],
   "source": [
    "def user_has_installed(auctions, installs, events, clicks):\n",
    "    installs['has_installed'] = 1\n",
    "    inst_feature2 = installs.groupby('ref_hash').agg({'has_installed': 'first'})\n",
    "    return inst_feature2"
   ]
  },
  {
   "cell_type": "code",
   "execution_count": 62,
   "metadata": {},
   "outputs": [],
   "source": [
    "windows = add_features_to_windows(windows, user_has_installed, \"has_installed\")"
   ]
  },
  {
   "cell_type": "markdown",
   "metadata": {},
   "source": [
    "> ### Feature 6: ***¿realizó un click el último día?***"
   ]
  },
  {
   "cell_type": "code",
   "execution_count": 63,
   "metadata": {},
   "outputs": [],
   "source": [
    "def user_clicks_last_day(auctions, installs, events, clicks):\n",
    "    inst_feature3 = clicks.loc[clicks[\"created\"].dt.day == 20]\n",
    "    inst_feature3['user_clicked_last_day'] = 1\n",
    "    inst_feature3 = inst_feature3.groupby('ref_hash').agg({'user_clicked_last_day' : 'first'})\n",
    "    return inst_feature3"
   ]
  },
  {
   "cell_type": "code",
   "execution_count": 64,
   "metadata": {},
   "outputs": [],
   "source": [
    "windows = add_features_to_windows(windows, user_clicks_last_day, \"user_clicked_last_day\")"
   ]
  },
  {
   "cell_type": "markdown",
   "metadata": {},
   "source": [
    "> ### Feature 7: ***¿realizó una instalación el último día?***"
   ]
  },
  {
   "cell_type": "code",
   "execution_count": 65,
   "metadata": {},
   "outputs": [],
   "source": [
    "def user_installs_last_day(auctions, installs, events, clicks):\n",
    "    inst_feature4 = installs.loc[installs[\"created\"].dt.day == 20]\n",
    "    inst_feature4['user_installed_last_day'] = 1\n",
    "    inst_feature4 = inst_feature4.groupby('ref_hash').agg({'user_installed_last_day' : 'first'})\n",
    "    return inst_feature4"
   ]
  },
  {
   "cell_type": "code",
   "execution_count": 66,
   "metadata": {},
   "outputs": [],
   "source": [
    "windows = add_features_to_windows(windows, user_installs_last_day, \"user_installed_last_day\")"
   ]
  },
  {
   "cell_type": "markdown",
   "metadata": {},
   "source": [
    "> ### Feature 8: ***cantidad de instalaciones realizadas***"
   ]
  },
  {
   "cell_type": "code",
   "execution_count": 67,
   "metadata": {},
   "outputs": [],
   "source": [
    "def users_amount_installs(auctions, installs, events, clicks):\n",
    "    installs['amount_of_installs'] = 1\n",
    "    inst_feature5 = installs.groupby('ref_hash').agg({'amount_of_installs': 'count'})\n",
    "    return inst_feature5"
   ]
  },
  {
   "cell_type": "code",
   "execution_count": 68,
   "metadata": {},
   "outputs": [],
   "source": [
    "windows = add_features_to_windows(windows, users_amount_installs, \"amount_of_installs\")"
   ]
  },
  {
   "cell_type": "markdown",
   "metadata": {},
   "source": [
    "> ### Feature 9: ***Máximo de clicks en un día***"
   ]
  },
  {
   "cell_type": "code",
   "execution_count": 69,
   "metadata": {},
   "outputs": [],
   "source": [
    "def max_clicks_day(auctions, installs, events, clicks):\n",
    "    clicks[\"cantidad\"] = 1\n",
    "    clicks[\"day\"] = clicks.created.dt.day\n",
    "    clicks_feature5 = clicks.groupby([\"ref_hash\", \"day\"]).agg({\"cantidad\":\"sum\"})\n",
    "    clicks_feature5 = pd.DataFrame(clicks_feature5.reset_index().groupby('ref_hash')['cantidad'].max()).reset_index()\n",
    "    clicks_feature5 = clicks_feature5.rename(columns={\"cantidad\":\"cant_max_day\"})\n",
    "    return clicks_feature5.set_index(\"ref_hash\")"
   ]
  },
  {
   "cell_type": "code",
   "execution_count": 70,
   "metadata": {},
   "outputs": [],
   "source": [
    "windows = add_features_to_windows(windows, max_clicks_day, \"cant_max_day\")"
   ]
  },
  {
   "cell_type": "markdown",
   "metadata": {},
   "source": [
    "> ### Feature 10: ***Mínimo de clicks en un día***"
   ]
  },
  {
   "cell_type": "code",
   "execution_count": 71,
   "metadata": {},
   "outputs": [],
   "source": [
    "def min_clicks_day(auctions, installs, events, clicks):\n",
    "    clicks[\"day\"] = clicks.created.dt.day\n",
    "    clicks_feature5 = clicks.groupby([\"ref_hash\", \"day\"]).agg({\"cantidad\":\"sum\"})\n",
    "    clicks_feature5 = pd.DataFrame(clicks_feature5.reset_index().groupby('ref_hash')['cantidad'].min()).reset_index()\n",
    "    clicks_feature5 = clicks_feature5.rename(columns={\"cantidad\":\"cant_min_day\"})\n",
    "    return clicks_feature5.set_index(\"ref_hash\")"
   ]
  },
  {
   "cell_type": "code",
   "execution_count": 72,
   "metadata": {},
   "outputs": [],
   "source": [
    "windows = add_features_to_windows(windows, min_clicks_day, \"cant_min_day\")"
   ]
  },
  {
   "cell_type": "markdown",
   "metadata": {},
   "source": [
    "> ### Feature 11: ***Promedio de tiempo entre clicks***"
   ]
  },
  {
   "cell_type": "code",
   "execution_count": 73,
   "metadata": {},
   "outputs": [],
   "source": [
    "def calculate_time_to_reappear(df, feature_date_name, feature_id_name, function_type):\n",
    "    df_sorted = df.sort_values([feature_id_name, feature_date_name], ascending = True)\n",
    "    df_sorted['time_to_reappear'] = np.\\\n",
    "    where(df_sorted[feature_id_name] == \\\n",
    "          df_sorted[feature_id_name].shift(), df_sorted[feature_date_name] - df_sorted[feature_date_name].shift(1), np.nan)\n",
    "    df_sorted['time_to_reappear'] = df_sorted['time_to_reappear'].dt.total_seconds()\n",
    "    df_sorted = df_sorted.groupby(feature_id_name).agg({'time_to_reappear': function_type})\n",
    "    return df_sorted"
   ]
  },
  {
   "cell_type": "code",
   "execution_count": 74,
   "metadata": {},
   "outputs": [],
   "source": [
    "def mean_time_click(auctions, installs, events, clicks):\n",
    "    clicks_feature = calculate_time_to_reappear(clicks, \"created\", \"ref_hash\", \"mean\")\n",
    "    clicks_feature.rename(columns={\"time_to_reappear\":\"mean_time_to_click\"}, inplace=True)\n",
    "    return clicks_feature"
   ]
  },
  {
   "cell_type": "code",
   "execution_count": 311,
   "metadata": {},
   "outputs": [],
   "source": [
    "windows = add_features_to_windows(windows, mean_time_click, \"mean_time_to_click\", fill = False)"
   ]
  },
  {
   "cell_type": "markdown",
   "metadata": {},
   "source": [
    "> ### Feature 12: ***Tiempo máximo entre clicks***"
   ]
  },
  {
   "cell_type": "code",
   "execution_count": 76,
   "metadata": {},
   "outputs": [],
   "source": [
    "def max_time_click(auctions, installs, events, clicks):\n",
    "    clicks_feature7 = calculate_time_to_reappear(clicks, \"created\", \"ref_hash\", \"max\")\n",
    "    clicks_feature7.rename(columns={\"time_to_reappear\":\"max_time_click\"}, inplace=True)\n",
    "    return clicks_feature7"
   ]
  },
  {
   "cell_type": "code",
   "execution_count": 310,
   "metadata": {},
   "outputs": [],
   "source": [
    "windows = add_features_to_windows(windows, max_time_click, \"max_time_click\", fill = False)"
   ]
  },
  {
   "cell_type": "markdown",
   "metadata": {},
   "source": [
    "> ### Feature 13: ***Tiempo mínimo entre clicks***"
   ]
  },
  {
   "cell_type": "code",
   "execution_count": 78,
   "metadata": {},
   "outputs": [],
   "source": [
    "def min_time_click(auctions, installs, events, clicks):\n",
    "    clicks_feature7 = calculate_time_to_reappear(clicks, \"created\", \"ref_hash\", \"min\")\n",
    "    clicks_feature7.rename(columns={\"time_to_reappear\":\"min_time_click\"}, inplace=True)\n",
    "    return clicks_feature7"
   ]
  },
  {
   "cell_type": "code",
   "execution_count": 309,
   "metadata": {},
   "outputs": [],
   "source": [
    "windows = add_features_to_windows(windows, min_time_click, \"min_time_click\", fill = False)"
   ]
  },
  {
   "cell_type": "markdown",
   "metadata": {},
   "source": [
    "> ### Feature 14: ***Promedio de cantidad de subastas por día***"
   ]
  },
  {
   "cell_type": "code",
   "execution_count": 80,
   "metadata": {},
   "outputs": [],
   "source": [
    "def mean_auctions_per_day(auctions, installs, events, clicks):\n",
    "    auctions['day'] = auctions['date'].dt.day\n",
    "    auctions['mean_auctions_per_day'] = 1\n",
    "    return auctions.groupby(['ref_hash', 'day']).agg({'mean_auctions_per_day': 'count'}).\\\n",
    "    reset_index().groupby('ref_hash').agg({'mean_auctions_per_day': 'mean'})"
   ]
  },
  {
   "cell_type": "code",
   "execution_count": 317,
   "metadata": {},
   "outputs": [],
   "source": [
    "windows = add_features_to_windows(windows, mean_auctions_per_day, \"mean_auctions_per_day\", fill = False)"
   ]
  },
  {
   "cell_type": "markdown",
   "metadata": {},
   "source": [
    "> ### Feature 15: ***Promedio de cantidad de eventos por día***"
   ]
  },
  {
   "cell_type": "code",
   "execution_count": 82,
   "metadata": {},
   "outputs": [],
   "source": [
    "def mean_events_per_day(auctions, installs, events, clicks):\n",
    "    events['day'] = events['date'].dt.day\n",
    "    events['mean_events_per_day'] = 1\n",
    "    return events.groupby(['ref_hash', 'day']).agg({'mean_events_per_day': 'count'}).\\\n",
    "    reset_index().groupby('ref_hash').agg({'mean_events_per_day': 'mean'})"
   ]
  },
  {
   "cell_type": "code",
   "execution_count": 318,
   "metadata": {},
   "outputs": [],
   "source": [
    "windows = add_features_to_windows(windows, mean_events_per_day, \"mean_events_per_day\", fill = False)"
   ]
  },
  {
   "cell_type": "markdown",
   "metadata": {},
   "source": [
    "> ### Feature 16: ***Promedio de cantidad de clicks por día***"
   ]
  },
  {
   "cell_type": "code",
   "execution_count": 84,
   "metadata": {},
   "outputs": [],
   "source": [
    "def mean_clicks_per_day(auctions, installs, events, clicks):\n",
    "    clicks['day'] = clicks['created'].dt.day\n",
    "    clicks['mean_clicks_per_day'] = 1\n",
    "    return clicks.groupby(['ref_hash', 'day']).agg({'mean_clicks_per_day': 'count'}).\\\n",
    "    reset_index().groupby('ref_hash').agg({'mean_clicks_per_day': 'mean'})"
   ]
  },
  {
   "cell_type": "code",
   "execution_count": 319,
   "metadata": {},
   "outputs": [],
   "source": [
    "windows = add_features_to_windows(windows, mean_clicks_per_day, \"mean_clicks_per_day\", fill = False)"
   ]
  },
  {
   "cell_type": "markdown",
   "metadata": {},
   "source": [
    "> ### Feature 17: ***Cantidad de apariciones en subastas en las últimas X horas***"
   ]
  },
  {
   "cell_type": "code",
   "execution_count": 86,
   "metadata": {},
   "outputs": [],
   "source": [
    "def amount_of_appearances_in_last_x_hours(df, hour, feature_date_name, feature_name):\n",
    "    max_day = df[feature_date_name].max()\n",
    "    df['dif'] = (max_day - df[feature_date_name]).dt.total_seconds()\n",
    "    df = df.loc[(df['dif'] <= hour*3600)]\n",
    "    df = df.groupby('ref_hash').agg({feature_date_name: 'count'})\n",
    "    df.rename(columns = {feature_date_name: feature_name}, inplace = True)\n",
    "    return df"
   ]
  },
  {
   "cell_type": "code",
   "execution_count": 87,
   "metadata": {},
   "outputs": [],
   "source": [
    "def amount_auctions_in_last_15_minutes(auctions, installs, events, clicks):\n",
    "    return amount_of_appearances_in_last_x_hours(auctions, 0.25, 'date','amount_auctions_in_last_15_minutes')"
   ]
  },
  {
   "cell_type": "code",
   "execution_count": 88,
   "metadata": {},
   "outputs": [],
   "source": [
    "def amount_auctions_in_last_half_hour(auctions, installs, events, clicks):\n",
    "    return amount_of_appearances_in_last_x_hours(auctions, 0.5, 'date','amount_auctions_in_last_half_hour')"
   ]
  },
  {
   "cell_type": "code",
   "execution_count": 89,
   "metadata": {},
   "outputs": [],
   "source": [
    "def amount_auctions_in_last_hour(auctions, installs, events, clicks):\n",
    "    return amount_of_appearances_in_last_x_hours(auctions, 1, 'date','amount_auctions_in_last_hour')"
   ]
  },
  {
   "cell_type": "code",
   "execution_count": 90,
   "metadata": {},
   "outputs": [],
   "source": [
    "def amount_auctions_in_last_2_hours(auctions, installs, events, clicks):\n",
    "    return amount_of_appearances_in_last_x_hours(auctions, 2, 'date', 'amount_auctions_in_last_2_hours')"
   ]
  },
  {
   "cell_type": "code",
   "execution_count": 91,
   "metadata": {},
   "outputs": [],
   "source": [
    "def amount_auctions_in_last_5_hours(auctions, installs, events, clicks):\n",
    "    return amount_of_appearances_in_last_x_hours(auctions, 5, 'date', 'amount_auctions_in_last_5_hours')"
   ]
  },
  {
   "cell_type": "code",
   "execution_count": 92,
   "metadata": {},
   "outputs": [],
   "source": [
    "def amount_auctions_in_last_12_hours(auctions, installs, events, clicks):\n",
    "    return amount_of_appearances_in_last_x_hours(auctions, 12, 'date', 'amount_auctions_in_last_12_hours')"
   ]
  },
  {
   "cell_type": "code",
   "execution_count": 93,
   "metadata": {},
   "outputs": [],
   "source": [
    "def amount_auctions_in_last_24_hours(auctions, installs, events, clicks):\n",
    "    return amount_of_appearances_in_last_x_hours(auctions, 24, 'date', 'amount_auctions_in_last_24_hours')"
   ]
  },
  {
   "cell_type": "code",
   "execution_count": 94,
   "metadata": {},
   "outputs": [],
   "source": [
    "windows = add_features_to_windows(windows, amount_auctions_in_last_15_minutes, \"amount_auctions_in_last_15_minutes\")\n",
    "windows = add_features_to_windows(windows, amount_auctions_in_last_half_hour, \"amount_auctions_in_last_half_hour\")\n",
    "windows = add_features_to_windows(windows, amount_auctions_in_last_hour, \"amount_auctions_in_last_hour\")\n",
    "windows = add_features_to_windows(windows, amount_auctions_in_last_2_hours, \"amount_auctions_in_last_2_hours\")\n",
    "windows = add_features_to_windows(windows, amount_auctions_in_last_5_hours, \"amount_auctions_in_last_5_hours\")\n",
    "windows = add_features_to_windows(windows, amount_auctions_in_last_12_hours, \"amount_auctions_in_last_12_hours\")\n",
    "windows = add_features_to_windows(windows, amount_auctions_in_last_24_hours, \"amount_auctions_in_last_24_hours\")"
   ]
  },
  {
   "cell_type": "markdown",
   "metadata": {},
   "source": [
    "> ### Feature 22: ***Cantidad de eventos en las últimas X horas***"
   ]
  },
  {
   "cell_type": "code",
   "execution_count": 95,
   "metadata": {},
   "outputs": [],
   "source": [
    "def amount_events_in_last_hour(auctions, installs, events, clicks):\n",
    "    return amount_of_appearances_in_last_x_hours(events, 1, 'date', 'amount_events_in_last_hour')"
   ]
  },
  {
   "cell_type": "code",
   "execution_count": 96,
   "metadata": {},
   "outputs": [],
   "source": [
    "def amount_events_in_last_2_hours(auctions, installs, events, clicks):\n",
    "    return amount_of_appearances_in_last_x_hours(events, 2, 'date', 'amount_events_in_last_2_hours')"
   ]
  },
  {
   "cell_type": "code",
   "execution_count": 97,
   "metadata": {},
   "outputs": [],
   "source": [
    "windows = add_features_to_windows(windows, amount_events_in_last_hour, \"amount_events_in_last_hour\")\n",
    "windows = add_features_to_windows(windows, amount_events_in_last_2_hours, \"amount_events_in_last_2_hours\")"
   ]
  },
  {
   "cell_type": "markdown",
   "metadata": {},
   "source": [
    "> ### Feature 24: ***Cantidad de apariciones en subastas en las primeras X horas del día***"
   ]
  },
  {
   "cell_type": "code",
   "execution_count": 98,
   "metadata": {},
   "outputs": [],
   "source": [
    "def appearances_in_first_x_hours(df, hour, feature_date_name, feature_name):\n",
    "    df = df.loc[df[feature_date_name].dt.hour <= hour]\n",
    "    df = df.groupby('ref_hash').agg({feature_date_name: 'count'})\n",
    "    df.rename(columns = {feature_date_name: feature_name}, inplace = True)\n",
    "    return df"
   ]
  },
  {
   "cell_type": "code",
   "execution_count": 99,
   "metadata": {},
   "outputs": [],
   "source": [
    "def amount_auctions_in_first_hour(auctions, installs, events, clicks):\n",
    "    return appearances_in_first_x_hours(auctions, 1, \"date\",\"amount_auctions_in_first_hour\")"
   ]
  },
  {
   "cell_type": "code",
   "execution_count": 100,
   "metadata": {},
   "outputs": [],
   "source": [
    "def amount_auctions_in_first_3_hours(auctions, installs, events, clicks):\n",
    "    return appearances_in_first_x_hours(auctions, 3, 'date','amount_auctions_in_first_3_hours')"
   ]
  },
  {
   "cell_type": "code",
   "execution_count": 101,
   "metadata": {},
   "outputs": [],
   "source": [
    "def amount_auctions_in_first_5_hours(auctions, installs, events, clicks):\n",
    "    return appearances_in_first_x_hours(auctions, 5, 'date','amount_auctions_in_first_5_hours')"
   ]
  },
  {
   "cell_type": "code",
   "execution_count": 102,
   "metadata": {},
   "outputs": [],
   "source": [
    "def amount_auctions_in_first_12_hours(auctions, installs, events, clicks):\n",
    "    return appearances_in_first_x_hours(auctions, 12, 'date','amount_auctions_in_first_12_hours')"
   ]
  },
  {
   "cell_type": "code",
   "execution_count": 103,
   "metadata": {},
   "outputs": [],
   "source": [
    "windows = add_features_to_windows(windows, amount_auctions_in_first_hour, \"amount_auctions_in_first_hour\")\n",
    "windows = add_features_to_windows(windows, amount_auctions_in_first_3_hours, \"amount_auctions_in_first_3_hours\")\n",
    "windows = add_features_to_windows(windows, amount_auctions_in_first_5_hours, \"amount_auctions_in_first_5_hours\")\n",
    "windows = add_features_to_windows(windows, amount_auctions_in_first_12_hours, \"amount_auctions_in_first_12_hours\")"
   ]
  },
  {
   "cell_type": "markdown",
   "metadata": {},
   "source": [
    "> ### Feature 28: ***Cantidad de eventos realizados las primeras X horas del día***"
   ]
  },
  {
   "cell_type": "code",
   "execution_count": 104,
   "metadata": {},
   "outputs": [],
   "source": [
    "def amount_events_in_first_hour(auctions, installs, events, clicks):\n",
    "    return appearances_in_first_x_hours(events, 1, \"date\", \"amount_events_in_first_hour\")"
   ]
  },
  {
   "cell_type": "code",
   "execution_count": 105,
   "metadata": {},
   "outputs": [],
   "source": [
    "def amount_events_in_first_5_hours(auctions, installs, events, clicks):\n",
    "    return appearances_in_first_x_hours(events, 5, \"date\", \"amount_events_in_first_5_hours\")"
   ]
  },
  {
   "cell_type": "code",
   "execution_count": 106,
   "metadata": {},
   "outputs": [],
   "source": [
    "def amount_events_in_first_12_hours(auctions, installs, events, clicks):\n",
    "    return appearances_in_first_x_hours(events, 12, \"date\", \"amount_events_in_first_12_hours\")"
   ]
  },
  {
   "cell_type": "code",
   "execution_count": 107,
   "metadata": {},
   "outputs": [],
   "source": [
    "windows = add_features_to_windows(windows, amount_events_in_first_hour, \"amount_events_in_first_hour\")\n",
    "windows = add_features_to_windows(windows, amount_events_in_first_5_hours, \"amount_events_in_first_5_hours\")\n",
    "windows = add_features_to_windows(windows, amount_events_in_first_12_hours, \"amount_events_in_first_12_hours\")"
   ]
  },
  {
   "cell_type": "markdown",
   "metadata": {},
   "source": [
    "> ### Feature 31: ***Cantidad de clicks en las últimas X horas***"
   ]
  },
  {
   "cell_type": "code",
   "execution_count": 108,
   "metadata": {},
   "outputs": [],
   "source": [
    "def amount_of_appearances_in_last_x_hours(df, hour, feature_date_name, feature_name):\n",
    "    max_day = df[feature_date_name].max()\n",
    "    df['dif'] = (max_day - df[feature_date_name]).dt.total_seconds()\n",
    "    df = df.loc[(df['dif'] <= hour*3600)]\n",
    "    df = df.groupby('ref_hash').agg({feature_date_name: 'count'})\n",
    "    df.rename(columns = {feature_date_name: feature_name}, inplace = True)\n",
    "    return df"
   ]
  },
  {
   "cell_type": "code",
   "execution_count": 109,
   "metadata": {},
   "outputs": [],
   "source": [
    "def amount_clicks_in_last_2_hours(auctions,installs,events,clicks):\n",
    "    return amount_of_appearances_in_last_x_hours(clicks, 2, \"created\", \"amount_clicks_in_last_2_hours\")"
   ]
  },
  {
   "cell_type": "code",
   "execution_count": 110,
   "metadata": {},
   "outputs": [],
   "source": [
    "def amount_clicks_in_last_4_hours(auctions,installs,events,clicks):\n",
    "    return amount_of_appearances_in_last_x_hours(clicks, 4, \"created\", \"amount_clicks_in_last_4_hours\")"
   ]
  },
  {
   "cell_type": "code",
   "execution_count": 111,
   "metadata": {},
   "outputs": [],
   "source": [
    "windows = add_features_to_windows(windows, amount_clicks_in_last_2_hours, \"amount_clicks_in_last_2_hours\")\n",
    "windows = add_features_to_windows(windows, amount_clicks_in_last_4_hours, \"amount_clicks_in_last_4_hours\")"
   ]
  },
  {
   "cell_type": "markdown",
   "metadata": {},
   "source": [
    "> ### Feature 33: ***Device OS***"
   ]
  },
  {
   "cell_type": "code",
   "execution_count": 112,
   "metadata": {},
   "outputs": [],
   "source": [
    "def device_os(auctions,installs,events,clicks):\n",
    "    df = events.loc[~ pd.isna(events[\"device_os\"])].groupby([\"ref_hash\"]).agg({\"device_os\":\"first\"})\n",
    "    # Este cambio lo hago para que sea más visible el device, puede sacarse y no afecta funcionamiento\n",
    "    df[\"device_os\"] = df[\"device_os\"].transform(lambda x: 1 if str(x) == \"7.531669329342817e+18\" else 2)\n",
    "    return df\n",
    "    "
   ]
  },
  {
   "cell_type": "code",
   "execution_count": 113,
   "metadata": {},
   "outputs": [],
   "source": [
    "windows = add_features_to_windows(windows, device_os, \"device_os\", False)"
   ]
  },
  {
   "cell_type": "markdown",
   "metadata": {},
   "source": [
    "> ### Feature 34: ***Desviación estandar de tiempo de apariciones entre clicks***"
   ]
  },
  {
   "cell_type": "code",
   "execution_count": 114,
   "metadata": {},
   "outputs": [],
   "source": [
    "def std_time_click(auctions, installs, events, clicks):\n",
    "    clicks_feature = calculate_time_to_reappear(clicks, \"created\", \"ref_hash\", \"std\")\n",
    "    clicks_feature.rename(columns={\"time_to_reappear\":\"std_time_to_click\"}, inplace=True)\n",
    "    return clicks_feature"
   ]
  },
  {
   "cell_type": "code",
   "execution_count": 302,
   "metadata": {},
   "outputs": [],
   "source": [
    "windows = add_features_to_windows(windows, std_time_click, \"std_time_to_click\", fill = False)"
   ]
  },
  {
   "cell_type": "markdown",
   "metadata": {},
   "source": [
    "> ### Feature 35: ***Desviación estandar de tiempo entre apariciones en subastas***"
   ]
  },
  {
   "cell_type": "code",
   "execution_count": 116,
   "metadata": {},
   "outputs": [],
   "source": [
    "def std_time_auctions(auctions, installs, events, clicks):\n",
    "    df_feature = calculate_time_to_reappear(auctions, \"date\", \"ref_hash\", \"std\")\n",
    "    df_feature.rename(columns={\"time_to_reappear\":\"std_time_auctions\"}, inplace=True)\n",
    "    return df_feature"
   ]
  },
  {
   "cell_type": "code",
   "execution_count": 301,
   "metadata": {},
   "outputs": [],
   "source": [
    "windows = add_features_to_windows(windows, std_time_auctions, \"std_time_auctions\", fill = False)"
   ]
  },
  {
   "cell_type": "markdown",
   "metadata": {},
   "source": [
    "> ### Feature 36: ***Tiempo máximo entre instalaciones de un usuario***"
   ]
  },
  {
   "cell_type": "code",
   "execution_count": 118,
   "metadata": {},
   "outputs": [],
   "source": [
    "def max_time_install(auctions, installs, events, clicks):\n",
    "    df_feature = calculate_time_to_reappear(installs, \"created\", \"ref_hash\", \"max\")\n",
    "    df_feature.rename(columns={\"time_to_reappear\":\"max_time_install\"}, inplace=True)\n",
    "    return df_feature"
   ]
  },
  {
   "cell_type": "code",
   "execution_count": 299,
   "metadata": {},
   "outputs": [],
   "source": [
    "windows = add_features_to_windows(windows, max_time_install, \"max_time_install\", fill = False)"
   ]
  },
  {
   "cell_type": "markdown",
   "metadata": {},
   "source": [
    "> ### Feature 37: ***Tiempo mínimo entre instalaciones de un usuario***"
   ]
  },
  {
   "cell_type": "code",
   "execution_count": 120,
   "metadata": {},
   "outputs": [],
   "source": [
    "def min_time_install(auctions, installs, events, clicks):\n",
    "    df_feature = calculate_time_to_reappear(installs, \"created\", \"ref_hash\", \"min\")\n",
    "    df_feature.rename(columns={\"time_to_reappear\":\"min_time_install\"}, inplace=True)\n",
    "    return df_feature"
   ]
  },
  {
   "cell_type": "code",
   "execution_count": 300,
   "metadata": {},
   "outputs": [],
   "source": [
    "windows = add_features_to_windows(windows, min_time_install, \"min_time_install\", fill = False)"
   ]
  },
  {
   "cell_type": "markdown",
   "metadata": {},
   "source": [
    "> ### Feature 38: ***Tiempo promedio entre instalaciones***"
   ]
  },
  {
   "cell_type": "code",
   "execution_count": 122,
   "metadata": {},
   "outputs": [],
   "source": [
    "def mean_time_install(auctions, installs, events, clicks):\n",
    "    df_feature = calculate_time_to_reappear(installs, \"created\", \"ref_hash\", \"mean\")\n",
    "    df_feature.rename(columns={\"time_to_reappear\":\"mean_time_install\"}, inplace=True)\n",
    "    return df_feature"
   ]
  },
  {
   "cell_type": "code",
   "execution_count": 298,
   "metadata": {},
   "outputs": [],
   "source": [
    "windows = add_features_to_windows(windows, mean_time_install, \"mean_time_install\", fill = False)"
   ]
  },
  {
   "cell_type": "markdown",
   "metadata": {},
   "source": [
    "> ### Feature 39: ***Desviación estandar del tiempo entre instalaciones***"
   ]
  },
  {
   "cell_type": "code",
   "execution_count": 124,
   "metadata": {},
   "outputs": [],
   "source": [
    "def std_time_install(auctions, installs, events, clicks):\n",
    "    df_feature = calculate_time_to_reappear(installs, \"created\", \"ref_hash\", \"std\")\n",
    "    df_feature.rename(columns={\"time_to_reappear\":\"std_time_install\"}, inplace=True)\n",
    "    return df_feature"
   ]
  },
  {
   "cell_type": "code",
   "execution_count": 297,
   "metadata": {},
   "outputs": [],
   "source": [
    "windows = add_features_to_windows(windows, std_time_install, \"std_time_install\", fill = False)"
   ]
  },
  {
   "cell_type": "markdown",
   "metadata": {},
   "source": [
    "> ### Feature 40: ***Tiempo máximo entre eventos***"
   ]
  },
  {
   "cell_type": "code",
   "execution_count": 126,
   "metadata": {},
   "outputs": [],
   "source": [
    "def max_time_events(auctions, installs, events, clicks):\n",
    "    df_feature = calculate_time_to_reappear(events, \"date\", \"ref_hash\", \"max\")\n",
    "    df_feature.rename(columns={\"time_to_reappear\":\"max_time_events\"}, inplace=True)\n",
    "    return df_feature"
   ]
  },
  {
   "cell_type": "code",
   "execution_count": 296,
   "metadata": {},
   "outputs": [],
   "source": [
    "windows = add_features_to_windows(windows, max_time_events, \"max_time_events\", fill = False)"
   ]
  },
  {
   "cell_type": "markdown",
   "metadata": {},
   "source": [
    "> ### Feature 41: ***Tiempo mínimo entre eventos***"
   ]
  },
  {
   "cell_type": "code",
   "execution_count": 128,
   "metadata": {},
   "outputs": [],
   "source": [
    "def min_time_events(auctions, installs, events, clicks):\n",
    "    df_feature = calculate_time_to_reappear(events, \"date\", \"ref_hash\", \"min\")\n",
    "    df_feature.rename(columns={\"time_to_reappear\":\"min_time_events\"}, inplace=True)\n",
    "    return df_feature"
   ]
  },
  {
   "cell_type": "code",
   "execution_count": 295,
   "metadata": {},
   "outputs": [],
   "source": [
    "windows = add_features_to_windows(windows, min_time_events, \"min_time_events\", fill = False)"
   ]
  },
  {
   "cell_type": "markdown",
   "metadata": {},
   "source": [
    "> ### Feature 42: ***Tiempo promedio entre eventos***"
   ]
  },
  {
   "cell_type": "code",
   "execution_count": 130,
   "metadata": {},
   "outputs": [],
   "source": [
    "def mean_time_events(auctions, installs, events, clicks):\n",
    "    df_feature = calculate_time_to_reappear(events, \"date\", \"ref_hash\", \"mean\")\n",
    "    df_feature.rename(columns={\"time_to_reappear\":\"mean_time_events\"}, inplace=True)\n",
    "    return df_feature"
   ]
  },
  {
   "cell_type": "code",
   "execution_count": 294,
   "metadata": {},
   "outputs": [],
   "source": [
    "windows = add_features_to_windows(windows, mean_time_events, \"mean_time_events\", fill = False)"
   ]
  },
  {
   "cell_type": "markdown",
   "metadata": {},
   "source": [
    "> ### Feature 43: ***Desviación estandar de los tiempos entre eventos***"
   ]
  },
  {
   "cell_type": "code",
   "execution_count": 132,
   "metadata": {},
   "outputs": [],
   "source": [
    "def std_time_events(auctions, installs, events, clicks):\n",
    "    df_feature = calculate_time_to_reappear(events, \"date\", \"ref_hash\", \"std\")\n",
    "    df_feature.rename(columns={\"time_to_reappear\":\"std_time_events\"}, inplace=True)\n",
    "    return df_feature"
   ]
  },
  {
   "cell_type": "code",
   "execution_count": 293,
   "metadata": {},
   "outputs": [],
   "source": [
    "windows = add_features_to_windows(windows, std_time_events, \"std_time_events\", fill = False)"
   ]
  },
  {
   "cell_type": "markdown",
   "metadata": {},
   "source": [
    "> ### Feature 44: ***Cantidad de instalaciones por eventos***"
   ]
  },
  {
   "cell_type": "code",
   "execution_count": 134,
   "metadata": {},
   "outputs": [],
   "source": [
    "def installs_per_event(auctions, installs, events, clicks):\n",
    "    events[\"amount_of_events\"] = 1\n",
    "    installs[\"amount_of_installs\"] = 1\n",
    "    total_installs = installs.groupby(\"ref_hash\").agg({\"amount_of_installs\":\"sum\"})\n",
    "    total_events = events.groupby(\"ref_hash\").agg({\"amount_of_events\":\"sum\"})\n",
    "    df_return = total_installs.merge(total_events, right_index=True, left_index=True, how=\"left\")\n",
    "    df_return[\"installs_per_events\"] = df_return[\"amount_of_installs\"]/df_return[\"amount_of_events\"]\n",
    "    return df_return.fillna(0)"
   ]
  },
  {
   "cell_type": "code",
   "execution_count": 135,
   "metadata": {},
   "outputs": [],
   "source": [
    "windows = add_features_to_windows(windows, installs_per_event, \"installs_per_events\")"
   ]
  },
  {
   "cell_type": "markdown",
   "metadata": {},
   "source": [
    "> ### Feature 45: ***Cantidad de instalaciones por clicks***"
   ]
  },
  {
   "cell_type": "code",
   "execution_count": 136,
   "metadata": {},
   "outputs": [],
   "source": [
    "def installs_per_clicks(auctions, installs, events, clicks):\n",
    "    clicks[\"amount_of_clicks\"] = 1\n",
    "    installs[\"amount_of_installs\"] = 1\n",
    "    total_installs = installs.groupby(\"ref_hash\").agg({\"amount_of_installs\":\"sum\"})\n",
    "    total_clicks = clicks.groupby(\"ref_hash\").agg({\"amount_of_clicks\":\"sum\"})\n",
    "    df_return = total_installs.merge(total_clicks, right_index=True, left_index=True, how=\"left\")\n",
    "    df_return[\"installs_per_clicks\"] = df_return[\"amount_of_installs\"]/df_return[\"amount_of_clicks\"]\n",
    "    return df_return.fillna(0)"
   ]
  },
  {
   "cell_type": "code",
   "execution_count": 137,
   "metadata": {},
   "outputs": [],
   "source": [
    "windows = add_features_to_windows(windows, installs_per_clicks, \"installs_per_clicks\")"
   ]
  },
  {
   "cell_type": "markdown",
   "metadata": {},
   "source": [
    "> ### Feature 46: ***Cantidad de eventos con las principales aplicaciones***"
   ]
  },
  {
   "cell_type": "markdown",
   "metadata": {},
   "source": [
    "Las apps 5 mas usadas fueron las application_id: 210, 122, 65, 121, 26."
   ]
  },
  {
   "cell_type": "code",
   "execution_count": 138,
   "metadata": {},
   "outputs": [],
   "source": [
    "def events_x_app(events, app_name):\n",
    "    df = events.loc[events[\"application_id\"] == app_name, [\"ref_hash\", \"event_id\"]]\n",
    "    df = df.groupby(\"ref_hash\").agg({\"event_id\":\"count\"})\n",
    "    df.rename(columns={\"event_id\":\"events_x_app_\"+str(app_name)}, inplace= True)\n",
    "    return df"
   ]
  },
  {
   "cell_type": "code",
   "execution_count": 139,
   "metadata": {},
   "outputs": [],
   "source": [
    "def events_x_app_210(auctions, installs, events, clicks):\n",
    "    return events_x_app(events, 210)"
   ]
  },
  {
   "cell_type": "code",
   "execution_count": 140,
   "metadata": {},
   "outputs": [],
   "source": [
    "def events_x_app_122(auctions, installs, events, clicks):\n",
    "    return events_x_app(events, 122)"
   ]
  },
  {
   "cell_type": "code",
   "execution_count": 141,
   "metadata": {},
   "outputs": [],
   "source": [
    "def events_x_app_65(auctions, installs, events, clicks):\n",
    "    return events_x_app(events, 65)"
   ]
  },
  {
   "cell_type": "code",
   "execution_count": 142,
   "metadata": {},
   "outputs": [],
   "source": [
    "def events_x_app_121(auctions, installs, events, clicks):\n",
    "    return events_x_app(events, 121)"
   ]
  },
  {
   "cell_type": "code",
   "execution_count": 143,
   "metadata": {},
   "outputs": [],
   "source": [
    "def events_x_app_26(auctions, installs, events, clicks):\n",
    "    return events_x_app(events, 26)"
   ]
  },
  {
   "cell_type": "code",
   "execution_count": 144,
   "metadata": {},
   "outputs": [],
   "source": [
    "windows = add_features_to_windows(windows, events_x_app_210, \"events_x_app_210\")\n",
    "windows = add_features_to_windows(windows, events_x_app_122, \"events_x_app_122\")\n",
    "windows = add_features_to_windows(windows, events_x_app_65, \"events_x_app_65\")\n",
    "windows = add_features_to_windows(windows, events_x_app_121, \"events_x_app_121\")\n",
    "windows = add_features_to_windows(windows, events_x_app_26, \"events_x_app_26\")"
   ]
  },
  {
   "cell_type": "markdown",
   "metadata": {},
   "source": [
    "> ### Feature 51: ***De las X apps mas instaladas, sobre cuantas realizó eventos***"
   ]
  },
  {
   "cell_type": "code",
   "execution_count": 145,
   "metadata": {},
   "outputs": [],
   "source": [
    "def get_number_of_used_apps(df, feature_name):\n",
    "    df = df.groupby(\"ref_hash\").agg({\"application_id\":\"nunique\"})\n",
    "    df.rename(columns={\"application_id\": feature_name}, inplace= True)\n",
    "    return df"
   ]
  },
  {
   "cell_type": "markdown",
   "metadata": {},
   "source": [
    "La idea es que un usuario no va a instalar una app que ya tiene (sobre la que ya realizo eventos)."
   ]
  },
  {
   "cell_type": "code",
   "execution_count": 146,
   "metadata": {},
   "outputs": [],
   "source": [
    "def most_installed_apps_used(auctions, installs, events, clicks):\n",
    "    df_apps = installs.groupby(\"application_id\").agg({\"created\":\"count\"}).nlargest(5, \"created\")\n",
    "    apps_mas_instaladas = list(df_apps.index)\n",
    "    return get_number_of_used_apps(events.loc[ events[\"application_id\"].isin(apps_mas_instaladas) ], \"most_installed_apps_used\")"
   ]
  },
  {
   "cell_type": "code",
   "execution_count": 147,
   "metadata": {},
   "outputs": [],
   "source": [
    "windows = add_features_to_windows(windows, most_installed_apps_used, \"most_installed_apps_used\")"
   ]
  },
  {
   "cell_type": "markdown",
   "metadata": {},
   "source": [
    "> ### Feature 52: ***Cantidad de apps sobre cuales realizó eventos***"
   ]
  },
  {
   "cell_type": "code",
   "execution_count": 148,
   "metadata": {},
   "outputs": [],
   "source": [
    "def cant_apps_used(auctions, installs, events, clicks):\n",
    "    return get_number_of_used_apps(events, \"cant_apps_used\")"
   ]
  },
  {
   "cell_type": "code",
   "execution_count": 149,
   "metadata": {},
   "outputs": [],
   "source": [
    "windows = add_features_to_windows(windows, cant_apps_used, \"cant_apps_used\")"
   ]
  },
  {
   "cell_type": "markdown",
   "metadata": {},
   "source": [
    "> ### Feature 53: ***Cantidad eventos eventos atribuidos***"
   ]
  },
  {
   "cell_type": "code",
   "execution_count": 150,
   "metadata": {},
   "outputs": [],
   "source": [
    "def cant_events_atributed(auctions, installs, events, clicks):\n",
    "    df = events.loc[events[\"attributed\"] == 1].groupby(\"ref_hash\").agg({\"date\":\"count\"})\n",
    "    df.rename(columns={\"date\": \"cant_events_atributed\"}, inplace= True)\n",
    "    return df"
   ]
  },
  {
   "cell_type": "code",
   "execution_count": 151,
   "metadata": {},
   "outputs": [],
   "source": [
    "# La misma info que el de arriba, pero quizas ayuda a predecir mejor si este feature es binario\n",
    "def has_events_atributed(auctions, installs, events, clicks):\n",
    "    df = events.loc[events[\"attributed\"] == 1].groupby(\"ref_hash\").agg({\"date\":\"count\"})\n",
    "    df[\"date\"] = 1\n",
    "    df.rename(columns={\"date\": \"has_events_atributed\"}, inplace= True)\n",
    "    return df"
   ]
  },
  {
   "cell_type": "code",
   "execution_count": 152,
   "metadata": {},
   "outputs": [],
   "source": [
    "windows = add_features_to_windows(windows, cant_events_atributed, \"cant_events_atributed\")\n",
    "windows = add_features_to_windows(windows, has_events_atributed, \"has_events_atributed\")"
   ]
  },
  {
   "cell_type": "markdown",
   "metadata": {},
   "source": [
    "> ### Feature 55 ***Realizo tipos de eventos que mas instalaciones suelen tener***"
   ]
  },
  {
   "cell_type": "code",
   "execution_count": 153,
   "metadata": {},
   "outputs": [],
   "source": [
    "def has_events_ids_with_installs(auctions, installs, events, clicks):\n",
    "    user_with_installs = installs[\"ref_hash\"].unique()\n",
    "    events_ids_with_installs = events.loc[events[\"ref_hash\"].isin(user_with_installs)].event_id.unique()\n",
    "    df=events.loc[events[\"event_id\"].isin(events_ids_with_installs)].groupby(\"ref_hash\").agg({\"date\":\"first\"})\n",
    "    df[\"date\"] = 1\n",
    "    df.rename(columns={\"date\": \"has_events_ids_with_installs\"}, inplace= True)\n",
    "    return df"
   ]
  },
  {
   "cell_type": "code",
   "execution_count": 154,
   "metadata": {},
   "outputs": [],
   "source": [
    "def has_events_ids_without_installs(auctions, installs, events, clicks):\n",
    "    user_with_installs = installs[\"ref_hash\"].unique()\n",
    "    events_ids_with_installs = events.loc[events[\"ref_hash\"].isin(user_with_installs)].event_id.unique()\n",
    "    events_ids_without_installs = events.loc[~events[\"event_id\"].isin(events_ids_with_installs)].event_id.unique()\n",
    "    df=events.loc[events[\"event_id\"].isin(events_ids_without_installs)].groupby(\"ref_hash\").agg({\"date\":\"first\"})\n",
    "    df[\"date\"] = 1\n",
    "    df.rename(columns={\"date\": \"has_events_ids_without_installs\"}, inplace= True)\n",
    "    return df"
   ]
  },
  {
   "cell_type": "code",
   "execution_count": 155,
   "metadata": {},
   "outputs": [],
   "source": [
    "windows = add_features_to_windows(windows, has_events_ids_with_installs, \"has_events_ids_with_installs\")\n",
    "windows = add_features_to_windows(windows, has_events_ids_without_installs, \"has_events_ids_without_installs\")"
   ]
  },
  {
   "cell_type": "markdown",
   "metadata": {},
   "source": [
    "> ### Feature 58: ***Eventos según momento del día***"
   ]
  },
  {
   "cell_type": "code",
   "execution_count": 156,
   "metadata": {},
   "outputs": [],
   "source": [
    "def cant_by_moment(df, date_name, since_hour, to_hour, feature_name):\n",
    "    df = df.loc[(since_hour <= df[date_name].dt.hour) & (df[date_name].dt.hour < to_hour)]\n",
    "    df = df.groupby('ref_hash').agg({date_name: 'count'})\n",
    "    df.rename(columns = {date_name: feature_name}, inplace = True)\n",
    "    return df"
   ]
  },
  {
   "cell_type": "code",
   "execution_count": 157,
   "metadata": {},
   "outputs": [],
   "source": [
    "def cant_events_0_4(auctions, installs, events, clicks):\n",
    "    return cant_by_moment(events, \"date\", 0, 4, \"cant_events_0_4\")"
   ]
  },
  {
   "cell_type": "code",
   "execution_count": 158,
   "metadata": {},
   "outputs": [],
   "source": [
    "def cant_events_4_8(auctions, installs, events, clicks):\n",
    "    return cant_by_moment(events, \"date\", 4, 8, \"cant_events_4_8\")"
   ]
  },
  {
   "cell_type": "code",
   "execution_count": 159,
   "metadata": {},
   "outputs": [],
   "source": [
    "def cant_events_8_12(auctions, installs, events, clicks):\n",
    "    return cant_by_moment(events, \"date\", 8, 12, \"cant_events_8_12\")"
   ]
  },
  {
   "cell_type": "code",
   "execution_count": 160,
   "metadata": {},
   "outputs": [],
   "source": [
    "def cant_events_12_16(auctions, installs, events, clicks):\n",
    "    return cant_by_moment(events, \"date\", 12, 16, \"cant_events_12_16\")"
   ]
  },
  {
   "cell_type": "code",
   "execution_count": 161,
   "metadata": {},
   "outputs": [],
   "source": [
    "def cant_events_16_20(auctions, installs, events, clicks):\n",
    "    return cant_by_moment(events, \"date\", 16, 20, \"cant_events_16_20\")"
   ]
  },
  {
   "cell_type": "code",
   "execution_count": 162,
   "metadata": {},
   "outputs": [],
   "source": [
    "def cant_events_20_24(auctions, installs, events, clicks):\n",
    "    return cant_by_moment(events, \"date\", 20, 24, \"cant_events_20_24\")"
   ]
  },
  {
   "cell_type": "code",
   "execution_count": 163,
   "metadata": {},
   "outputs": [],
   "source": [
    "windows = add_features_to_windows(windows, cant_events_0_4, \"cant_events_0_4\")\n",
    "windows = add_features_to_windows(windows, cant_events_4_8, \"cant_events_4_8\")\n",
    "windows = add_features_to_windows(windows, cant_events_8_12, \"cant_events_8_12\")\n",
    "windows = add_features_to_windows(windows, cant_events_12_16, \"cant_events_12_16\")\n",
    "windows = add_features_to_windows(windows, cant_events_16_20, \"cant_events_16_20\")\n",
    "windows = add_features_to_windows(windows, cant_events_20_24, \"cant_events_20_24\")"
   ]
  },
  {
   "cell_type": "markdown",
   "metadata": {},
   "source": [
    "> ### Feature 65: ***Subastas según momento del día***"
   ]
  },
  {
   "cell_type": "code",
   "execution_count": 164,
   "metadata": {},
   "outputs": [],
   "source": [
    "def cant_auctions_0_4(auctions, installs, events, clicks):\n",
    "    return cant_by_moment(auctions, \"date\", 0, 4, \"cant_auctions_0_4\")"
   ]
  },
  {
   "cell_type": "code",
   "execution_count": 165,
   "metadata": {},
   "outputs": [],
   "source": [
    "def cant_auctions_4_8(auctions, installs, events, clicks):\n",
    "    return cant_by_moment(auctions, \"date\", 4, 8, \"cant_auctions_4_8\")"
   ]
  },
  {
   "cell_type": "code",
   "execution_count": 166,
   "metadata": {},
   "outputs": [],
   "source": [
    "def cant_auctions_8_12(auctions, installs, events, clicks):\n",
    "    return cant_by_moment(auctions, \"date\", 8, 12, \"cant_auctions_8_12\")"
   ]
  },
  {
   "cell_type": "code",
   "execution_count": 167,
   "metadata": {},
   "outputs": [],
   "source": [
    "def cant_auctions_12_16(auctions, installs, events, clicks):\n",
    "    return cant_by_moment(auctions, \"date\", 12, 16, \"cant_auctions_12_16\")"
   ]
  },
  {
   "cell_type": "code",
   "execution_count": 168,
   "metadata": {},
   "outputs": [],
   "source": [
    "def cant_auctions_16_20(auctions, installs, events, clicks):\n",
    "    return cant_by_moment(auctions, \"date\", 16, 20, \"cant_auctions_16_20\")"
   ]
  },
  {
   "cell_type": "code",
   "execution_count": 169,
   "metadata": {},
   "outputs": [],
   "source": [
    "def cant_auctions_20_24(auctions, installs, events, clicks):\n",
    "    return cant_by_moment(auctions, \"date\", 20, 24, \"cant_auctions_20_24\")"
   ]
  },
  {
   "cell_type": "code",
   "execution_count": 170,
   "metadata": {},
   "outputs": [],
   "source": [
    "windows = add_features_to_windows(windows, cant_auctions_0_4, \"cant_auctions_0_4\")\n",
    "windows = add_features_to_windows(windows, cant_auctions_4_8, \"cant_auctions_4_8\")\n",
    "windows = add_features_to_windows(windows, cant_auctions_8_12, \"cant_auctions_8_12\")\n",
    "windows = add_features_to_windows(windows, cant_auctions_12_16, \"cant_auctions_12_16\")\n",
    "windows = add_features_to_windows(windows, cant_auctions_16_20, \"cant_auctions_16_20\")\n",
    "windows = add_features_to_windows(windows, cant_auctions_20_24, \"cant_auctions_20_24\")"
   ]
  },
  {
   "cell_type": "markdown",
   "metadata": {},
   "source": [
    "> ### Feature 72: ***¿La instalación fue implícita? ¿Cuántas implícitas tuvo?***"
   ]
  },
  {
   "cell_type": "code",
   "execution_count": 171,
   "metadata": {},
   "outputs": [],
   "source": [
    "def implicit_installation(auctions, installs, events, clicks):\n",
    "    df_implicit = installs.groupby(\"ref_hash\").agg({\"implicit\":\"sum\"})\n",
    "    return df_implicit"
   ]
  },
  {
   "cell_type": "code",
   "execution_count": 172,
   "metadata": {},
   "outputs": [],
   "source": [
    "windows = add_features_to_windows(windows, implicit_installation, \"implicit\")"
   ]
  },
  {
   "cell_type": "markdown",
   "metadata": {},
   "source": [
    "> ### Feature 73: ***Latitud del dispositivo donde se realizó la instalación***"
   ]
  },
  {
   "cell_type": "code",
   "execution_count": 173,
   "metadata": {},
   "outputs": [],
   "source": [
    "def latitude_device(auctions, installs, events, clicks):\n",
    "    df_latitude = clicks.groupby(\"ref_hash\").agg({\"latitude\":\"mean\"})\n",
    "    return df_latitude"
   ]
  },
  {
   "cell_type": "code",
   "execution_count": 291,
   "metadata": {},
   "outputs": [],
   "source": [
    "windows = add_features_to_windows(windows, latitude_device, \"latitude\", fill = False)"
   ]
  },
  {
   "cell_type": "markdown",
   "metadata": {},
   "source": [
    "> ### Feature 74: ***Longitud del dispositivo donde se realizó la instalación***"
   ]
  },
  {
   "cell_type": "code",
   "execution_count": 175,
   "metadata": {},
   "outputs": [],
   "source": [
    "def longitude_device(auctions, installs, events, clicks):\n",
    "    df_longitude = clicks.groupby(\"ref_hash\").agg({\"longitude\":\"mean\"})\n",
    "    return df_longitude"
   ]
  },
  {
   "cell_type": "code",
   "execution_count": 292,
   "metadata": {},
   "outputs": [],
   "source": [
    "windows = add_features_to_windows(windows, longitude_device, \"longitude\", fill = False)"
   ]
  },
  {
   "cell_type": "markdown",
   "metadata": {},
   "source": [
    "> ### Feature 75: ***¿Clickeó en los últimos 5 minutos?***"
   ]
  },
  {
   "cell_type": "code",
   "execution_count": 177,
   "metadata": {},
   "outputs": [],
   "source": [
    "def amount_of_appearances_in_last_x_hours(df, hour, feature_date_name, feature_name):\n",
    "    max_day = df[feature_date_name].max()\n",
    "    df['dif'] = (max_day - df[feature_date_name]).dt.total_seconds()\n",
    "    df = df.loc[(df['dif'] <= hour*3600)]\n",
    "    df = df.groupby('ref_hash').agg({feature_date_name: 'count'})\n",
    "    df.rename(columns = {feature_date_name: feature_name}, inplace = True)\n",
    "    return df"
   ]
  },
  {
   "cell_type": "code",
   "execution_count": 178,
   "metadata": {},
   "outputs": [],
   "source": [
    "def clicked_in_last_5_minutes(auctions, installs, events, clicks):\n",
    "    return amount_of_appearances_in_last_x_hours(clicks, 0.08, \"created\", \"clicked_in_last_5_minutes\") "
   ]
  },
  {
   "cell_type": "code",
   "execution_count": 179,
   "metadata": {},
   "outputs": [],
   "source": [
    "windows = add_features_to_windows(windows, clicked_in_last_5_minutes, \"clicked_in_last_5_minutes\")"
   ]
  },
  {
   "cell_type": "markdown",
   "metadata": {},
   "source": [
    "> ### Feature 76: ***¿Cuántas veces clickeo estando conectado a internet en las últimas 3 horas?***"
   ]
  },
  {
   "cell_type": "code",
   "execution_count": 180,
   "metadata": {},
   "outputs": [],
   "source": [
    "def clicked_with_wifi_in_last_3_hours(auctions, installs, events, clicks):\n",
    "    max_hour = clicks['created'].max()\n",
    "    feat = clicks.loc[((clicks['created'] - max_hour).dt.total_seconds() < 10800) & (clicks['wifi_connection'] == True)]\n",
    "    feat['clicked_with_wifi_in_last_3_hours'] = 1\n",
    "    return feat.groupby('ref_hash').agg({'clicked_with_wifi_in_last_3_hours' : 'count'})"
   ]
  },
  {
   "cell_type": "code",
   "execution_count": 181,
   "metadata": {},
   "outputs": [],
   "source": [
    "windows = add_features_to_windows(windows, clicked_with_wifi_in_last_3_hours, \"clicked_with_wifi_in_last_3_hours\")"
   ]
  },
  {
   "cell_type": "markdown",
   "metadata": {},
   "source": [
    "> ### Feature 77: ***Promedio de la hora en la que la persona hace instalaciones***"
   ]
  },
  {
   "cell_type": "code",
   "execution_count": 182,
   "metadata": {},
   "outputs": [],
   "source": [
    "def mean_hour_install(auctions, installs, events, clicks):\n",
    "    installs[\"hour_install\"] = installs.created.dt.hour\n",
    "    df_return = installs.groupby(\"ref_hash\").agg({\"hour_install\":\"mean\"})\n",
    "    return df_return"
   ]
  },
  {
   "cell_type": "code",
   "execution_count": 289,
   "metadata": {},
   "outputs": [],
   "source": [
    "windows = add_features_to_windows(windows, mean_hour_install, \"hour_install\", fill=False)"
   ]
  },
  {
   "cell_type": "markdown",
   "metadata": {},
   "source": [
    "> ### Feature 78: ***Promedio de la hora en la que la persona realiza eventos***"
   ]
  },
  {
   "cell_type": "code",
   "execution_count": 184,
   "metadata": {},
   "outputs": [],
   "source": [
    "def mean_hour_events(auctions, installs, events, clicks):\n",
    "    events[\"hour_events\"] = events.date.dt.hour\n",
    "    df_return = events.groupby(\"ref_hash\").agg({\"hour_events\":\"mean\"})\n",
    "    return df_return"
   ]
  },
  {
   "cell_type": "code",
   "execution_count": 288,
   "metadata": {},
   "outputs": [],
   "source": [
    "windows = add_features_to_windows(windows, mean_hour_events, \"hour_events\", fill=False)"
   ]
  },
  {
   "cell_type": "markdown",
   "metadata": {},
   "source": [
    "> ### Feature 79: ***Promedio de la hora en la que la persona realiza clicks***"
   ]
  },
  {
   "cell_type": "code",
   "execution_count": 186,
   "metadata": {},
   "outputs": [],
   "source": [
    "def mean_hour_clicks(auctions, installs, events, clicks):\n",
    "    clicks[\"hour_clicks\"] = clicks.created.dt.hour\n",
    "    df_return = clicks.groupby(\"ref_hash\").agg({\"hour_clicks\":\"mean\"})\n",
    "    return df_return"
   ]
  },
  {
   "cell_type": "code",
   "execution_count": 287,
   "metadata": {},
   "outputs": [],
   "source": [
    "windows = add_features_to_windows(windows, mean_hour_clicks, \"hour_clicks\", fill=False)"
   ]
  },
  {
   "cell_type": "markdown",
   "metadata": {},
   "source": [
    "> ### Feature 80: ***Promedio de la hora en la que la persona aparece en auctions***"
   ]
  },
  {
   "cell_type": "code",
   "execution_count": 188,
   "metadata": {},
   "outputs": [],
   "source": [
    "def mean_hour_auctions(auctions, installs, events, clicks):\n",
    "    auctions[\"hour_auctions\"] = auctions.date.dt.hour\n",
    "    df_return = auctions.groupby(\"ref_hash\").agg({\"hour_auctions\":\"mean\"})\n",
    "    return df_return"
   ]
  },
  {
   "cell_type": "code",
   "execution_count": 286,
   "metadata": {},
   "outputs": [],
   "source": [
    "windows = add_features_to_windows(windows, mean_hour_auctions, \"hour_auctions\", fill=False)"
   ]
  },
  {
   "cell_type": "markdown",
   "metadata": {},
   "source": [
    "> ### Feature 81: ***Cantidad de dispositivos distintos en subastas***"
   ]
  },
  {
   "cell_type": "code",
   "execution_count": 190,
   "metadata": {},
   "outputs": [],
   "source": [
    "def cant_devices(auctions, installs, events, clicks):\n",
    "    df = events.groupby(\"ref_hash\").agg({\"ref_type\":\"nunique\"})\n",
    "    df.rename(columns={\"ref_type\":\"cant_devices\"}, inplace=True)\n",
    "    return df"
   ]
  },
  {
   "cell_type": "code",
   "execution_count": 285,
   "metadata": {},
   "outputs": [],
   "source": [
    "windows = add_features_to_windows(windows, cant_devices, \"cant_devices\", fill=False)"
   ]
  },
  {
   "cell_type": "markdown",
   "metadata": {},
   "source": [
    "> ### Feature 82: ***Media de aparición en auctions***"
   ]
  },
  {
   "cell_type": "code",
   "execution_count": 192,
   "metadata": {},
   "outputs": [],
   "source": [
    "def calculate_label(df, feature_name, date_feature_name, agg_function = \"mean\"):\n",
    "    date = pd.to_datetime(\"2019-04-\" + str(df[date_feature_name].dt.day.min()))\n",
    "    df[feature_name] =  (df[date_feature_name] - date).dt.total_seconds()\n",
    "    feat = df.groupby('ref_hash').agg({feature_name: agg_function})\n",
    "    return feat"
   ]
  },
  {
   "cell_type": "code",
   "execution_count": 193,
   "metadata": {},
   "outputs": [],
   "source": [
    "def mean_appearances_auctions(auctions, events, installs, clicks):\n",
    "    return calculate_label(auctions, \"mean_appearances_auctions\", \"date\")"
   ]
  },
  {
   "cell_type": "code",
   "execution_count": 284,
   "metadata": {},
   "outputs": [],
   "source": [
    "windows = add_features_to_windows(windows, mean_appearances_auctions, \"mean_appearances_auctions\", fill=False)"
   ]
  },
  {
   "cell_type": "markdown",
   "metadata": {},
   "source": [
    "> ### Feature 83: ***Media de aparición en events***"
   ]
  },
  {
   "cell_type": "code",
   "execution_count": 197,
   "metadata": {},
   "outputs": [],
   "source": [
    "def mean_appearances_events(auctions, events, installs, clicks):\n",
    "    return calculate_label(events, \"mean_appearances_events\", \"created\")"
   ]
  },
  {
   "cell_type": "code",
   "execution_count": 283,
   "metadata": {},
   "outputs": [],
   "source": [
    "windows = add_features_to_windows(windows, mean_appearances_events, \"mean_appearances_events\", fill=False)"
   ]
  },
  {
   "cell_type": "markdown",
   "metadata": {},
   "source": [
    "> ### Feature 84: ***Media de aparición en clicks***"
   ]
  },
  {
   "cell_type": "code",
   "execution_count": 199,
   "metadata": {},
   "outputs": [],
   "source": [
    "def mean_appearances_clicks(auctions, events, installs, clicks):\n",
    "    return calculate_label(clicks, \"mean_appearances_clicks\", \"created\")"
   ]
  },
  {
   "cell_type": "code",
   "execution_count": 282,
   "metadata": {},
   "outputs": [],
   "source": [
    "windows = add_features_to_windows(windows, mean_appearances_clicks, \"mean_appearances_clicks\", fill=False)"
   ]
  },
  {
   "cell_type": "markdown",
   "metadata": {},
   "source": [
    "> ### Feature 85: ***Media de aparición en installs***"
   ]
  },
  {
   "cell_type": "code",
   "execution_count": 201,
   "metadata": {},
   "outputs": [],
   "source": [
    "def mean_appearances_installs(auctions, events, installs, clicks):\n",
    "    return calculate_label(installs, \"mean_appearances_installs\", \"date\")"
   ]
  },
  {
   "cell_type": "code",
   "execution_count": 281,
   "metadata": {},
   "outputs": [],
   "source": [
    "windows = add_features_to_windows(windows, mean_appearances_installs, \"mean_appearances_installs\", fill=False)"
   ]
  },
  {
   "cell_type": "markdown",
   "metadata": {},
   "source": [
    "> ### Feature 86: ***Tiempo promedio de la primer subasta***"
   ]
  },
  {
   "cell_type": "code",
   "execution_count": 203,
   "metadata": {},
   "outputs": [],
   "source": [
    "def mean_of_first_occurrence(df, date_name, feature_name):\n",
    "    df = df[[\"ref_hash\",date_name]]\n",
    "    df[\"day\"] = df[date_name].dt.date\n",
    "    df = df.groupby([\"ref_hash\",\"day\"]).agg({date_name:\"min\"}).reset_index()\n",
    "    df[feature_name] = (df[date_name] - pd.to_datetime(df[\"day\"])).dt.total_seconds()\n",
    "    return df.groupby(\"ref_hash\").agg({feature_name:\"mean\"})"
   ]
  },
  {
   "cell_type": "code",
   "execution_count": 204,
   "metadata": {},
   "outputs": [],
   "source": [
    "def mean_of_first_auction(auctions, installs, events, clicks):\n",
    "    return mean_of_first_occurrence(auctions,\"date\",\"mean_of_first_auction\")"
   ]
  },
  {
   "cell_type": "code",
   "execution_count": 277,
   "metadata": {},
   "outputs": [],
   "source": [
    "windows = add_features_to_windows(windows, mean_of_first_auction, \"mean_of_first_auction\", fill=False)"
   ]
  },
  {
   "cell_type": "markdown",
   "metadata": {},
   "source": [
    "> ### Feature 87: ***Tiempo promedio del primer evento***"
   ]
  },
  {
   "cell_type": "code",
   "execution_count": 206,
   "metadata": {},
   "outputs": [],
   "source": [
    "def mean_of_first_event(auctions, installs, events, clicks):\n",
    "    return mean_of_first_occurrence(events,\"date\",\"mean_of_first_event\")"
   ]
  },
  {
   "cell_type": "code",
   "execution_count": 276,
   "metadata": {},
   "outputs": [],
   "source": [
    "windows = add_features_to_windows(windows, mean_of_first_event, \"mean_of_first_event\", fill=False)"
   ]
  },
  {
   "cell_type": "markdown",
   "metadata": {},
   "source": [
    "> ### Feature 88: ***Tiempo promedio del primer click***"
   ]
  },
  {
   "cell_type": "code",
   "execution_count": 208,
   "metadata": {},
   "outputs": [],
   "source": [
    "def mean_of_first_click(auctions, installs, events, clicks):\n",
    "    return mean_of_first_occurrence(clicks,\"created\",\"mean_of_first_click\")"
   ]
  },
  {
   "cell_type": "code",
   "execution_count": 275,
   "metadata": {},
   "outputs": [],
   "source": [
    "windows = add_features_to_windows(windows, mean_of_first_click, \"mean_of_first_click\", fill=False)"
   ]
  },
  {
   "cell_type": "markdown",
   "metadata": {},
   "source": [
    "> ### Feature 89: ***Std de aparición en auctions***"
   ]
  },
  {
   "cell_type": "code",
   "execution_count": 210,
   "metadata": {},
   "outputs": [],
   "source": [
    "def std_appearances_auctions(auctions, events, installs, clicks):\n",
    "    return calculate_label(auctions, \"std_appearances_auctions\", \"date\", \"std\")"
   ]
  },
  {
   "cell_type": "code",
   "execution_count": 274,
   "metadata": {},
   "outputs": [],
   "source": [
    "windows = add_features_to_windows(windows, std_appearances_auctions, \"std_appearances_auctions\", fill=False)"
   ]
  },
  {
   "cell_type": "markdown",
   "metadata": {},
   "source": [
    "> ### Feature 90: ***Std de aparición en events***"
   ]
  },
  {
   "cell_type": "code",
   "execution_count": 212,
   "metadata": {},
   "outputs": [],
   "source": [
    "def std_appearances_events(auctions, events, installs, clicks):\n",
    "    return calculate_label(events, \"std_appearances_events\", \"created\", \"std\")"
   ]
  },
  {
   "cell_type": "code",
   "execution_count": 273,
   "metadata": {},
   "outputs": [],
   "source": [
    "windows = add_features_to_windows(windows, std_appearances_events, \"std_appearances_events\", fill=False)"
   ]
  },
  {
   "cell_type": "markdown",
   "metadata": {},
   "source": [
    "> ### Feature 91: ***Std de aparición en clicks***"
   ]
  },
  {
   "cell_type": "code",
   "execution_count": 214,
   "metadata": {},
   "outputs": [],
   "source": [
    "def std_appearances_clicks(auctions, events, installs, clicks):\n",
    "    return calculate_label(clicks, \"std_appearances_clicks\", \"created\", \"std\")"
   ]
  },
  {
   "cell_type": "code",
   "execution_count": 272,
   "metadata": {},
   "outputs": [],
   "source": [
    "windows = add_features_to_windows(windows, std_appearances_clicks, \"std_appearances_clicks\", fill=False)"
   ]
  },
  {
   "cell_type": "markdown",
   "metadata": {},
   "source": [
    "> ### Feature 91: ***¿Cuál fue el tiempo (en seg) hasta la primera aparición en una subasta?***"
   ]
  },
  {
   "cell_type": "code",
   "execution_count": 216,
   "metadata": {},
   "outputs": [],
   "source": [
    "def time_to_first_appearance_in_auctions(auctions, events, installs, clicks):\n",
    "    return calculate_label(auctions, \"time_to_first_appearance_in_auctions\", \"date\", \"min\")"
   ]
  },
  {
   "cell_type": "code",
   "execution_count": 271,
   "metadata": {},
   "outputs": [],
   "source": [
    "windows = add_features_to_windows(windows, time_to_first_appearance_in_auctions,\\\n",
    "                                  \"time_to_first_appearance_in_auctions\", fill = False)"
   ]
  },
  {
   "cell_type": "markdown",
   "metadata": {},
   "source": [
    "> ### Feature 92: ***Promedio de tiempo en reapariciones en las últimas 24 horas***"
   ]
  },
  {
   "cell_type": "code",
   "execution_count": 218,
   "metadata": {},
   "outputs": [],
   "source": [
    "def mean_reappear_in_last_x_hours(df, hour, feature_date_name):\n",
    "    max_day = df[feature_date_name].max()\n",
    "    df['dif'] = (max_day - df[feature_date_name]).dt.total_seconds()\n",
    "    df = df.loc[(df['dif'] <= hour*3600)]\n",
    "    return df"
   ]
  },
  {
   "cell_type": "code",
   "execution_count": 219,
   "metadata": {},
   "outputs": [],
   "source": [
    "def calculate_time_to_reappear_auctions(auctions):\n",
    "    df_sorted = auctions.sort_values([\"ref_hash\", \"date\"], ascending = True)\n",
    "    df_sorted['time_to_reappear'] = np.where(df_sorted['ref_hash'] == df_sorted['ref_hash'].shift(), df_sorted['date'] - df_sorted['date'].shift(1), np.nan)\n",
    "    df_sorted['time_to_reappear'] = df_sorted['time_to_reappear'].dt.total_seconds()\n",
    "    df_sorted = df_sorted.groupby('ref_hash').agg({'time_to_reappear': 'mean'})\n",
    "    return df_sorted"
   ]
  },
  {
   "cell_type": "code",
   "execution_count": 267,
   "metadata": {},
   "outputs": [],
   "source": [
    "def mean_reappear_last_24_auctions(auctions, installs, events, clicks):\n",
    "    df_return = mean_reappear_in_last_x_hours(auctions, 24, \"date\")\n",
    "    df_mean = calculate_time_to_reappear_auctions(df_return)\n",
    "    df_mean = df_mean.rename(columns={\"time_to_reappear\":\"mean_auctions_last_24hs\"})\n",
    "    return df_mean"
   ]
  },
  {
   "cell_type": "code",
   "execution_count": 268,
   "metadata": {},
   "outputs": [],
   "source": [
    "windows = add_features_to_windows(windows, mean_reappear_last_24_auctions, \"mean_auctions_last_24hs\", fill=False)"
   ]
  },
  {
   "cell_type": "markdown",
   "metadata": {},
   "source": [
    "> ### Feature 93: ***Promedio de tiempo en reapariciones en las últimas 48 horas***"
   ]
  },
  {
   "cell_type": "code",
   "execution_count": 269,
   "metadata": {},
   "outputs": [],
   "source": [
    "def mean_reappear_last_48_auctions(auctions, installs, events, clicks):\n",
    "    df_return = mean_reappear_in_last_x_hours(auctions, 48, \"date\")\n",
    "    df_mean = calculate_time_to_reappear_auctions(df_return)\n",
    "    df_mean = df_mean.rename(columns={\"time_to_reappear\":\"mean_auctions_last_48hs\"})\n",
    "    return df_mean"
   ]
  },
  {
   "cell_type": "code",
   "execution_count": 270,
   "metadata": {},
   "outputs": [],
   "source": [
    "windows = add_features_to_windows(windows, mean_reappear_last_48_auctions, \"mean_auctions_last_48hs\", fill=False)"
   ]
  },
  {
   "cell_type": "markdown",
   "metadata": {},
   "source": [
    "> ### Feature 94: ***Std en reapariciones de auctions en las últimas 24 horas***"
   ]
  },
  {
   "cell_type": "code",
   "execution_count": 224,
   "metadata": {},
   "outputs": [],
   "source": [
    "def calculate_std_to_reappear_auctions(auctions):\n",
    "    df_sorted = auctions.sort_values([\"ref_hash\", \"date\"], ascending = True)\n",
    "    df_sorted['time_to_reappear'] = np.where(df_sorted['ref_hash'] == df_sorted['ref_hash'].shift(), df_sorted['date'] - df_sorted['date'].shift(1), np.nan)\n",
    "    df_sorted['time_to_reappear'] = df_sorted['time_to_reappear'].dt.total_seconds()\n",
    "    df_sorted = df_sorted.groupby('ref_hash').agg({'time_to_reappear': 'std'})\n",
    "    return df_sorted"
   ]
  },
  {
   "cell_type": "code",
   "execution_count": 225,
   "metadata": {},
   "outputs": [],
   "source": [
    "def std_reappear_last_24_auctions(auctions, installs, events, clicks):\n",
    "    df_return = mean_reappear_in_last_x_hours(auctions, 24, \"date\")\n",
    "    df_mean = calculate_time_to_reappear_auctions(df_return)\n",
    "    df_mean = df_mean.rename(columns={\"time_to_reappear\":\"std_auctions_last_24hs\"})\n",
    "    return df_mean"
   ]
  },
  {
   "cell_type": "code",
   "execution_count": 226,
   "metadata": {},
   "outputs": [],
   "source": [
    "windows = add_features_to_windows(windows, std_reappear_last_24_auctions, \"std_auctions_last_24hs\")"
   ]
  },
  {
   "cell_type": "markdown",
   "metadata": {},
   "source": [
    "> ### Feature 95: ***Std en reapariciones de auctions en las últimas 48 horas***"
   ]
  },
  {
   "cell_type": "code",
   "execution_count": 227,
   "metadata": {},
   "outputs": [],
   "source": [
    "def std_reappear_last_48_auctions(auctions, installs, events, clicks):\n",
    "    df_return = mean_reappear_in_last_x_hours(auctions, 48, \"date\")\n",
    "    df_mean = calculate_time_to_reappear_auctions(df_return)\n",
    "    df_mean = df_mean.rename(columns={\"time_to_reappear\":\"std_auctions_last_48hs\"})\n",
    "    return df_mean"
   ]
  },
  {
   "cell_type": "code",
   "execution_count": 228,
   "metadata": {},
   "outputs": [],
   "source": [
    "windows = add_features_to_windows(windows, std_reappear_last_48_auctions, \"std_auctions_last_48hs\")"
   ]
  },
  {
   "cell_type": "markdown",
   "metadata": {},
   "source": [
    "> ### Feature 96: ***Promedio de tiempo de reaparición en auctions en la última hora***"
   ]
  },
  {
   "cell_type": "code",
   "execution_count": 229,
   "metadata": {},
   "outputs": [],
   "source": [
    "def mean_reappear_last_hour_auctions(auctions, installs, events, clicks):\n",
    "    df_return = mean_reappear_in_last_x_hours(auctions, 1, \"date\")\n",
    "    df_mean = calculate_time_to_reappear_auctions(df_return)\n",
    "    df_mean = df_mean.rename(columns={\"time_to_reappear\":\"mean_auctions_last_hour\"})\n",
    "    return df_mean"
   ]
  },
  {
   "cell_type": "code",
   "execution_count": 264,
   "metadata": {},
   "outputs": [],
   "source": [
    "windows = add_features_to_windows(windows, mean_reappear_last_hour_auctions, \"mean_auctions_last_hour\", fill=False)"
   ]
  },
  {
   "cell_type": "markdown",
   "metadata": {},
   "source": [
    "> ### Feature 97: ***Promedio de tiempo de reaparición en auctions en las últimas 4 hora***"
   ]
  },
  {
   "cell_type": "code",
   "execution_count": 231,
   "metadata": {},
   "outputs": [],
   "source": [
    "def mean_reappear_last_4_auctions(auctions, installs, events, clicks):\n",
    "    df_return = mean_reappear_in_last_x_hours(auctions, 4, \"date\")\n",
    "    df_mean = calculate_time_to_reappear_auctions(df_return)\n",
    "    df_mean = df_mean.rename(columns={\"time_to_reappear\":\"mean_auctions_last_4hs\"})\n",
    "    return df_mean"
   ]
  },
  {
   "cell_type": "code",
   "execution_count": 263,
   "metadata": {},
   "outputs": [],
   "source": [
    "windows = add_features_to_windows(windows, mean_reappear_last_4_auctions, \"mean_auctions_last_4hs\", fill=False)"
   ]
  },
  {
   "cell_type": "markdown",
   "metadata": {},
   "source": [
    "> ### Feature 98: ***Promedio de tiempo de reaparición en events en las últimas 24 horas***"
   ]
  },
  {
   "cell_type": "code",
   "execution_count": 233,
   "metadata": {},
   "outputs": [],
   "source": [
    "def calculate_time_to_reappear_generic(df, date_label, feature_name, function):\n",
    "    df_sorted = df.sort_values([\"ref_hash\", date_label], ascending = True)\n",
    "    df_sorted[feature_name] = np.where(df_sorted['ref_hash'] == df_sorted['ref_hash'].shift(), df_sorted[date_label] - df_sorted[date_label].shift(1), np.nan)\n",
    "    df_sorted[feature_name] = df_sorted[feature_name].dt.total_seconds()\n",
    "    df_sorted = df_sorted.groupby('ref_hash').agg({feature_name: function})\n",
    "    return df_sorted"
   ]
  },
  {
   "cell_type": "code",
   "execution_count": 234,
   "metadata": {},
   "outputs": [],
   "source": [
    "def mean_reappear_last_24_events(auctions, installs, events, clicks):\n",
    "    df_return = mean_reappear_in_last_x_hours(events, 24, \"date\")\n",
    "    df_mean = calculate_time_to_reappear_generic(df_return, \"date\", \"mean_events_last_24hs\", \"mean\")\n",
    "    return df_mean"
   ]
  },
  {
   "cell_type": "code",
   "execution_count": 262,
   "metadata": {},
   "outputs": [],
   "source": [
    "windows = add_features_to_windows(windows, mean_reappear_last_24_events, \"mean_events_last_24hs\", fill=False)"
   ]
  },
  {
   "cell_type": "markdown",
   "metadata": {},
   "source": [
    "> ### Feature 99: ***Promedio de tiempo de reaparición en events en las últimas 48 horas***"
   ]
  },
  {
   "cell_type": "code",
   "execution_count": 236,
   "metadata": {},
   "outputs": [],
   "source": [
    "def mean_reappear_last_48_events(auctions, installs, events, clicks):\n",
    "    df_return = mean_reappear_in_last_x_hours(events, 48, \"date\")\n",
    "    df_mean = calculate_time_to_reappear_generic(df_return, \"date\", \"mean_events_last_48hs\", \"mean\")\n",
    "    return df_mean"
   ]
  },
  {
   "cell_type": "code",
   "execution_count": 237,
   "metadata": {},
   "outputs": [],
   "source": [
    "windows = add_features_to_windows(windows, mean_reappear_last_48_events, \"mean_events_last_48hs\", fill=False)"
   ]
  },
  {
   "cell_type": "markdown",
   "metadata": {},
   "source": [
    "> ### Feature 100: ***Std de tiempo de reaparición en events en las últimas 24 horas***"
   ]
  },
  {
   "cell_type": "code",
   "execution_count": 260,
   "metadata": {},
   "outputs": [],
   "source": [
    "def std_reappear_last_24_events(auctions, installs, events, clicks):\n",
    "    df_return = mean_reappear_in_last_x_hours(events, 24, \"date\")\n",
    "    df_mean = calculate_time_to_reappear_generic(df_return, \"date\", \"std_events_last_24hs\", \"std\")\n",
    "    return df_mean"
   ]
  },
  {
   "cell_type": "code",
   "execution_count": 261,
   "metadata": {},
   "outputs": [],
   "source": [
    "windows = add_features_to_windows(windows, std_reappear_last_24_events, \"std_events_last_24hs\", fill=False)"
   ]
  },
  {
   "cell_type": "markdown",
   "metadata": {},
   "source": [
    "> ### Feature 101: ***Std de tiempo de reaparición en events en las últimas 48 horas***"
   ]
  },
  {
   "cell_type": "code",
   "execution_count": 240,
   "metadata": {},
   "outputs": [],
   "source": [
    "def std_reappear_last_48_events(auctions, installs, events, clicks):\n",
    "    df_return = mean_reappear_in_last_x_hours(events, 48, \"date\")\n",
    "    df_mean = calculate_time_to_reappear_generic(df_return, \"date\", \"std_events_last_48hs\", \"std\")\n",
    "    return df_mean"
   ]
  },
  {
   "cell_type": "code",
   "execution_count": 241,
   "metadata": {},
   "outputs": [],
   "source": [
    "windows = add_features_to_windows(windows, std_reappear_last_48_events, \"std_events_last_48hs\", fill=False)"
   ]
  },
  {
   "cell_type": "markdown",
   "metadata": {},
   "source": [
    "> ### Feature 102: ***Promedio de tiempo de reaparición en events en las últimas 60 horas***"
   ]
  },
  {
   "cell_type": "code",
   "execution_count": 258,
   "metadata": {},
   "outputs": [],
   "source": [
    "def mean_reappear_last_60_auctions(auctions, installs, events, clicks):\n",
    "    df_return = mean_reappear_in_last_x_hours(auctions, 60, \"date\")\n",
    "    df_mean = calculate_time_to_reappear_auctions(df_return)\n",
    "    df_mean = df_mean.rename(columns={\"time_to_reappear\":\"mean_auctions_last_60hs\"})\n",
    "    return df_mean"
   ]
  },
  {
   "cell_type": "code",
   "execution_count": 259,
   "metadata": {},
   "outputs": [],
   "source": [
    "windows = add_features_to_windows(windows, mean_reappear_last_60_auctions, \"mean_auctions_last_60hs\", fill=False)"
   ]
  },
  {
   "cell_type": "markdown",
   "metadata": {},
   "source": [
    "> ### Feature 103: ***Promedio de tiempo de reaparición en events en las últimas 36 horas***"
   ]
  },
  {
   "cell_type": "code",
   "execution_count": 256,
   "metadata": {},
   "outputs": [],
   "source": [
    "def mean_reappear_last_36_auctions(auctions, installs, events, clicks):\n",
    "    df_return = mean_reappear_in_last_x_hours(auctions, 36, \"date\")\n",
    "    df_mean = calculate_time_to_reappear_auctions(df_return)\n",
    "    df_mean = df_mean.rename(columns={\"time_to_reappear\":\"mean_auctions_last_36hs\"})\n",
    "    return df_mean"
   ]
  },
  {
   "cell_type": "code",
   "execution_count": 257,
   "metadata": {},
   "outputs": [],
   "source": [
    "windows = add_features_to_windows(windows, mean_reappear_last_36_auctions, \"mean_auctions_last_36hs\", fill=False)"
   ]
  },
  {
   "cell_type": "markdown",
   "metadata": {},
   "source": [
    "> ### Feature 104: ***Promedio de tiempo de reaparición en installs en las últimas 24 y 48 horas***"
   ]
  },
  {
   "cell_type": "code",
   "execution_count": 252,
   "metadata": {},
   "outputs": [],
   "source": [
    "def mean_reappear_last_24_installs(auctions, installs, events, clicks):\n",
    "    df_return = mean_reappear_in_last_x_hours(installs, 24, \"created\")\n",
    "    df_mean = calculate_time_to_reappear_generic(df_return, \"created\", \"mean_installs_last_24hs\", \"mean\")\n",
    "    return df_mean"
   ]
  },
  {
   "cell_type": "code",
   "execution_count": 253,
   "metadata": {},
   "outputs": [],
   "source": [
    "def mean_reappear_last_48_installs(auctions, installs, events, clicks):\n",
    "    df_return = mean_reappear_in_last_x_hours(installs, 48, \"created\")\n",
    "    df_mean = calculate_time_to_reappear_generic(df_return, \"created\", \"mean_installs_last_48hs\", \"mean\")\n",
    "    return df_mean"
   ]
  },
  {
   "cell_type": "code",
   "execution_count": 254,
   "metadata": {},
   "outputs": [],
   "source": [
    "windows = add_features_to_windows(windows, mean_reappear_last_24_installs, \"mean_installs_last_24hs\", fill=False)\n",
    "windows = add_features_to_windows(windows, mean_reappear_last_48_installs, \"mean_installs_last_48hs\", fill=False)"
   ]
  },
  {
   "cell_type": "code",
   "execution_count": 249,
   "metadata": {},
   "outputs": [],
   "source": [
    "def installs_per_auctions(auctions, installs, events, clicks):\n",
    "    auctions[\"cantidad\"] = 1\n",
    "    installs[\"cantidad\"] = 1\n",
    "    df_auctions = auctions.groupby(\"ref_hash\").agg({\"cantidad\":\"sum\"})\n",
    "    df_installs = installs.groupby(\"ref_hash\").agg({\"cantidad\":\"sum\"})\n",
    "    df_final = df_auctions.merge(df_installs, right_index=True, left_index=True, how=\"left\")\n",
    "    df_final[\"installs_per_auctions\"] = df_final[\"cantidad_x\"]/df_final[\"cantidad_y\"]\n",
    "    return df_final.drop(labels=[\"cantidad_x\", \"cantidad_y\"], axis=1)"
   ]
  },
  {
   "cell_type": "code",
   "execution_count": 250,
   "metadata": {},
   "outputs": [],
   "source": [
    "windows = add_features_to_windows(windows, installs_per_auctions, \"installs_per_auctions\")"
   ]
  },
  {
   "cell_type": "markdown",
   "metadata": {},
   "source": [
    "> ### Feature 105: ***Dia de la semana de auctions e installs***"
   ]
  },
  {
   "cell_type": "code",
   "execution_count": 19,
   "metadata": {},
   "outputs": [],
   "source": [
    "def dayofweek_auctions(auctions, installs, events, clicks):\n",
    "    auctions[\"dayofweek_auctions\"] = auctions.date.dt.dayofweek\n",
    "    return auctions.groupby(\"ref_hash\").agg({\"dayofweek_auctions\":\"mean\"})"
   ]
  },
  {
   "cell_type": "code",
   "execution_count": 33,
   "metadata": {},
   "outputs": [],
   "source": [
    "windows = add_features_to_windows(windows, dayofweek_auctions, \"dayofweek_auctions\", fill = False)"
   ]
  },
  {
   "cell_type": "code",
   "execution_count": 30,
   "metadata": {},
   "outputs": [],
   "source": [
    "def dayofweek_installs(auctions, installs, events, clicks):\n",
    "    installs[\"dayofweek_installs\"] = installs.created.dt.dayofweek\n",
    "    return installs.groupby(\"ref_hash\").agg({\"dayofweek_installs\":\"mean\"})"
   ]
  },
  {
   "cell_type": "code",
   "execution_count": 34,
   "metadata": {},
   "outputs": [],
   "source": [
    "windows = add_features_to_windows(windows, dayofweek_installs, \"dayofweek_installs\", fill = False)"
   ]
  },
  {
   "cell_type": "markdown",
   "metadata": {},
   "source": [
    "> ### Feature 106: ***Cantidad promedio de eventos por subasta***"
   ]
  },
  {
   "cell_type": "code",
   "execution_count": 22,
   "metadata": {},
   "outputs": [],
   "source": [
    "def get_mean_ev(serie):\n",
    "    cant = 0\n",
    "    lista = []\n",
    "    for is_event in serie.tolist():\n",
    "        if is_event:\n",
    "            cant +=1\n",
    "        else:\n",
    "            lista.append(cant_ev)\n",
    "            cant = 0\n",
    "    return np.mean(lista)\n",
    "def get_mean_au(serie):\n",
    "    cant = 0\n",
    "    lista = []\n",
    "    for is_event in serie.tolist():\n",
    "        if not is_event:\n",
    "            cant +=1\n",
    "        else:\n",
    "            lista.append(cant_ev)\n",
    "            cant = 0\n",
    "    return np.mean(lista)"
   ]
  },
  {
   "cell_type": "code",
   "execution_count": 23,
   "metadata": {},
   "outputs": [],
   "source": [
    "def mean_events_between_auctions(auctions, installs, events, clicks):\n",
    "    df_a = auctions[[\"ref_hash\",\"date\"]]\n",
    "    df_a[\"is_event\"] = 0\n",
    "    df_e = events[[\"ref_hash\",\"date\"]]\n",
    "    df_e[\"is_event\"] = 1\n",
    "    df = pd.concat([df_a, df_e])\n",
    "    df = df[[\"ref_hash\",\"is_event\"]].groupby(\"ref_hash\").agg(get_mean_ev)\n",
    "    df.rename(columns={\"is_event\":\"mean_events_between_auctions\"},inplace= True)\n",
    "    return df"
   ]
  },
  {
   "cell_type": "code",
   "execution_count": 24,
   "metadata": {},
   "outputs": [],
   "source": [
    "def mean_auctions_between_events(auctions, installs, events, clicks):\n",
    "    df_a = auctions[[\"ref_hash\",\"date\"]]\n",
    "    df_a[\"is_event\"] = 0\n",
    "    df_e = events[[\"ref_hash\",\"date\"]]\n",
    "    df_e[\"is_event\"] = 1\n",
    "    df = pd.concat([df_a, df_e])\n",
    "    df = df[[\"ref_hash\",\"is_event\"]].groupby(\"ref_hash\").agg(get_mean_au)\n",
    "    df.rename(columns={\"is_event\":\"mean_events_between_auctions\"},inplace= True)\n",
    "    return df"
   ]
  },
  {
   "cell_type": "code",
   "execution_count": null,
   "metadata": {},
   "outputs": [],
   "source": [
    "windows = add_features_to_windows(windows, mean_events_between_auctions, \"mean_events_between_auctions\")"
   ]
  },
  {
   "cell_type": "markdown",
   "metadata": {},
   "source": [
    "## Guardar cambios"
   ]
  },
  {
   "cell_type": "code",
   "execution_count": 38,
   "metadata": {},
   "outputs": [],
   "source": [
    "save_changes(windows)"
   ]
  },
  {
   "cell_type": "markdown",
   "metadata": {},
   "source": [
    "## **Función de verificación de features no agregados hasta el momento**"
   ]
  },
  {
   "cell_type": "code",
   "execution_count": null,
   "metadata": {},
   "outputs": [],
   "source": [
    "def check_missing_features(df_features):\n",
    "    missing_features = []\n",
    "    appended_features = df_features.columns.tolist()\n",
    "    for feature in features_list:\n",
    "        if feature not in appended_features:\n",
    "            missing_features.append(feature)\n",
    "    return missing_features"
   ]
  },
  {
   "cell_type": "code",
   "execution_count": null,
   "metadata": {},
   "outputs": [],
   "source": [
    "check_missing_features(windows[0][\"features\"])"
   ]
  },
  {
   "cell_type": "markdown",
   "metadata": {},
   "source": [
    "## **Función para borrar features**"
   ]
  },
  {
   "cell_type": "code",
   "execution_count": null,
   "metadata": {},
   "outputs": [],
   "source": [
    "def drop_feature(windows, feature_name):\n",
    "    for window in windows:\n",
    "        window[\"features\"].drop(feature_name, axis = 1, inplace = True)\n",
    "    return windows"
   ]
  },
  {
   "cell_type": "markdown",
   "metadata": {},
   "source": [
    "## Ver df features"
   ]
  },
  {
   "cell_type": "code",
   "execution_count": 32,
   "metadata": {},
   "outputs": [
    {
     "data": {
      "text/html": [
       "<div>\n",
       "<style scoped>\n",
       "    .dataframe tbody tr th:only-of-type {\n",
       "        vertical-align: middle;\n",
       "    }\n",
       "\n",
       "    .dataframe tbody tr th {\n",
       "        vertical-align: top;\n",
       "    }\n",
       "\n",
       "    .dataframe thead th {\n",
       "        text-align: right;\n",
       "    }\n",
       "</style>\n",
       "<table border=\"1\" class=\"dataframe\">\n",
       "  <thead>\n",
       "    <tr style=\"text-align: right;\">\n",
       "      <th></th>\n",
       "      <th>appearances_in_auctions</th>\n",
       "      <th>user_appeared_last_day</th>\n",
       "      <th>amount_of_clicks</th>\n",
       "      <th>has_installed</th>\n",
       "      <th>user_clicked_last_day</th>\n",
       "      <th>user_installed_last_day</th>\n",
       "      <th>amount_of_installs</th>\n",
       "      <th>cant_max_day</th>\n",
       "      <th>cant_min_day</th>\n",
       "      <th>amount_auctions_in_last_15_minutes</th>\n",
       "      <th>...</th>\n",
       "      <th>std_time_to_click</th>\n",
       "      <th>min_time_click</th>\n",
       "      <th>max_time_click</th>\n",
       "      <th>mean_time_to_click</th>\n",
       "      <th>time_to_reappear</th>\n",
       "      <th>mean_auctions_per_day</th>\n",
       "      <th>mean_events_per_day</th>\n",
       "      <th>mean_clicks_per_day</th>\n",
       "      <th>dayofweek_auctions</th>\n",
       "      <th>dayofweek_installs</th>\n",
       "    </tr>\n",
       "    <tr>\n",
       "      <th>ref_hash</th>\n",
       "      <th></th>\n",
       "      <th></th>\n",
       "      <th></th>\n",
       "      <th></th>\n",
       "      <th></th>\n",
       "      <th></th>\n",
       "      <th></th>\n",
       "      <th></th>\n",
       "      <th></th>\n",
       "      <th></th>\n",
       "      <th></th>\n",
       "      <th></th>\n",
       "      <th></th>\n",
       "      <th></th>\n",
       "      <th></th>\n",
       "      <th></th>\n",
       "      <th></th>\n",
       "      <th></th>\n",
       "      <th></th>\n",
       "      <th></th>\n",
       "      <th></th>\n",
       "    </tr>\n",
       "  </thead>\n",
       "  <tbody>\n",
       "    <tr>\n",
       "      <th>1109595589636746168</th>\n",
       "      <td>128.0</td>\n",
       "      <td>1.0</td>\n",
       "      <td>0.0</td>\n",
       "      <td>0.0</td>\n",
       "      <td>0.0</td>\n",
       "      <td>0.0</td>\n",
       "      <td>0.0</td>\n",
       "      <td>0.0</td>\n",
       "      <td>0.0</td>\n",
       "      <td>64.0</td>\n",
       "      <td>...</td>\n",
       "      <td>NaN</td>\n",
       "      <td>NaN</td>\n",
       "      <td>NaN</td>\n",
       "      <td>NaN</td>\n",
       "      <td>2040.566247</td>\n",
       "      <td>64.000000</td>\n",
       "      <td>NaN</td>\n",
       "      <td>NaN</td>\n",
       "      <td>4.671875</td>\n",
       "      <td>0.0</td>\n",
       "    </tr>\n",
       "    <tr>\n",
       "      <th>5896614299191635403</th>\n",
       "      <td>46.0</td>\n",
       "      <td>1.0</td>\n",
       "      <td>0.0</td>\n",
       "      <td>1.0</td>\n",
       "      <td>0.0</td>\n",
       "      <td>0.0</td>\n",
       "      <td>1.0</td>\n",
       "      <td>0.0</td>\n",
       "      <td>0.0</td>\n",
       "      <td>19.0</td>\n",
       "      <td>...</td>\n",
       "      <td>NaN</td>\n",
       "      <td>NaN</td>\n",
       "      <td>NaN</td>\n",
       "      <td>NaN</td>\n",
       "      <td>1774.713163</td>\n",
       "      <td>46.000000</td>\n",
       "      <td>NaN</td>\n",
       "      <td>NaN</td>\n",
       "      <td>5.000000</td>\n",
       "      <td>4.0</td>\n",
       "    </tr>\n",
       "    <tr>\n",
       "      <th>4172466725848941608</th>\n",
       "      <td>252.0</td>\n",
       "      <td>1.0</td>\n",
       "      <td>0.0</td>\n",
       "      <td>0.0</td>\n",
       "      <td>0.0</td>\n",
       "      <td>0.0</td>\n",
       "      <td>0.0</td>\n",
       "      <td>0.0</td>\n",
       "      <td>0.0</td>\n",
       "      <td>77.0</td>\n",
       "      <td>...</td>\n",
       "      <td>NaN</td>\n",
       "      <td>NaN</td>\n",
       "      <td>NaN</td>\n",
       "      <td>NaN</td>\n",
       "      <td>939.833766</td>\n",
       "      <td>84.000000</td>\n",
       "      <td>NaN</td>\n",
       "      <td>NaN</td>\n",
       "      <td>4.742063</td>\n",
       "      <td>0.0</td>\n",
       "    </tr>\n",
       "    <tr>\n",
       "      <th>2616279795187318849</th>\n",
       "      <td>191.0</td>\n",
       "      <td>1.0</td>\n",
       "      <td>0.0</td>\n",
       "      <td>0.0</td>\n",
       "      <td>0.0</td>\n",
       "      <td>0.0</td>\n",
       "      <td>0.0</td>\n",
       "      <td>0.0</td>\n",
       "      <td>0.0</td>\n",
       "      <td>15.0</td>\n",
       "      <td>...</td>\n",
       "      <td>NaN</td>\n",
       "      <td>NaN</td>\n",
       "      <td>NaN</td>\n",
       "      <td>NaN</td>\n",
       "      <td>1286.757667</td>\n",
       "      <td>63.666667</td>\n",
       "      <td>2.0</td>\n",
       "      <td>NaN</td>\n",
       "      <td>3.790576</td>\n",
       "      <td>0.0</td>\n",
       "    </tr>\n",
       "    <tr>\n",
       "      <th>8034952072073026056</th>\n",
       "      <td>166.0</td>\n",
       "      <td>1.0</td>\n",
       "      <td>0.0</td>\n",
       "      <td>1.0</td>\n",
       "      <td>0.0</td>\n",
       "      <td>0.0</td>\n",
       "      <td>1.0</td>\n",
       "      <td>0.0</td>\n",
       "      <td>0.0</td>\n",
       "      <td>3.0</td>\n",
       "      <td>...</td>\n",
       "      <td>NaN</td>\n",
       "      <td>NaN</td>\n",
       "      <td>NaN</td>\n",
       "      <td>NaN</td>\n",
       "      <td>1557.077744</td>\n",
       "      <td>55.333333</td>\n",
       "      <td>NaN</td>\n",
       "      <td>NaN</td>\n",
       "      <td>3.987952</td>\n",
       "      <td>4.0</td>\n",
       "    </tr>\n",
       "    <tr>\n",
       "      <th>8018738201130876812</th>\n",
       "      <td>1647.0</td>\n",
       "      <td>1.0</td>\n",
       "      <td>0.0</td>\n",
       "      <td>0.0</td>\n",
       "      <td>0.0</td>\n",
       "      <td>0.0</td>\n",
       "      <td>0.0</td>\n",
       "      <td>0.0</td>\n",
       "      <td>0.0</td>\n",
       "      <td>12.0</td>\n",
       "      <td>...</td>\n",
       "      <td>NaN</td>\n",
       "      <td>NaN</td>\n",
       "      <td>NaN</td>\n",
       "      <td>NaN</td>\n",
       "      <td>157.454569</td>\n",
       "      <td>549.000000</td>\n",
       "      <td>NaN</td>\n",
       "      <td>NaN</td>\n",
       "      <td>4.186400</td>\n",
       "      <td>0.0</td>\n",
       "    </tr>\n",
       "    <tr>\n",
       "      <th>4914962826064649332</th>\n",
       "      <td>58.0</td>\n",
       "      <td>1.0</td>\n",
       "      <td>0.0</td>\n",
       "      <td>0.0</td>\n",
       "      <td>0.0</td>\n",
       "      <td>0.0</td>\n",
       "      <td>0.0</td>\n",
       "      <td>0.0</td>\n",
       "      <td>0.0</td>\n",
       "      <td>54.0</td>\n",
       "      <td>...</td>\n",
       "      <td>NaN</td>\n",
       "      <td>NaN</td>\n",
       "      <td>NaN</td>\n",
       "      <td>NaN</td>\n",
       "      <td>4091.415928</td>\n",
       "      <td>29.000000</td>\n",
       "      <td>2.0</td>\n",
       "      <td>NaN</td>\n",
       "      <td>4.965517</td>\n",
       "      <td>0.0</td>\n",
       "    </tr>\n",
       "    <tr>\n",
       "      <th>3249069566262483358</th>\n",
       "      <td>130.0</td>\n",
       "      <td>1.0</td>\n",
       "      <td>0.0</td>\n",
       "      <td>1.0</td>\n",
       "      <td>0.0</td>\n",
       "      <td>1.0</td>\n",
       "      <td>1.0</td>\n",
       "      <td>0.0</td>\n",
       "      <td>0.0</td>\n",
       "      <td>57.0</td>\n",
       "      <td>...</td>\n",
       "      <td>NaN</td>\n",
       "      <td>NaN</td>\n",
       "      <td>NaN</td>\n",
       "      <td>NaN</td>\n",
       "      <td>18.939091</td>\n",
       "      <td>130.000000</td>\n",
       "      <td>NaN</td>\n",
       "      <td>NaN</td>\n",
       "      <td>5.000000</td>\n",
       "      <td>5.0</td>\n",
       "    </tr>\n",
       "    <tr>\n",
       "      <th>3352762403977995643</th>\n",
       "      <td>277.0</td>\n",
       "      <td>1.0</td>\n",
       "      <td>0.0</td>\n",
       "      <td>0.0</td>\n",
       "      <td>0.0</td>\n",
       "      <td>0.0</td>\n",
       "      <td>0.0</td>\n",
       "      <td>0.0</td>\n",
       "      <td>0.0</td>\n",
       "      <td>18.0</td>\n",
       "      <td>...</td>\n",
       "      <td>NaN</td>\n",
       "      <td>NaN</td>\n",
       "      <td>NaN</td>\n",
       "      <td>NaN</td>\n",
       "      <td>862.762293</td>\n",
       "      <td>92.333333</td>\n",
       "      <td>NaN</td>\n",
       "      <td>NaN</td>\n",
       "      <td>3.534296</td>\n",
       "      <td>0.0</td>\n",
       "    </tr>\n",
       "    <tr>\n",
       "      <th>9003488718010194664</th>\n",
       "      <td>27.0</td>\n",
       "      <td>1.0</td>\n",
       "      <td>0.0</td>\n",
       "      <td>0.0</td>\n",
       "      <td>0.0</td>\n",
       "      <td>0.0</td>\n",
       "      <td>0.0</td>\n",
       "      <td>0.0</td>\n",
       "      <td>0.0</td>\n",
       "      <td>9.0</td>\n",
       "      <td>...</td>\n",
       "      <td>NaN</td>\n",
       "      <td>NaN</td>\n",
       "      <td>NaN</td>\n",
       "      <td>NaN</td>\n",
       "      <td>6362.438392</td>\n",
       "      <td>13.500000</td>\n",
       "      <td>2.0</td>\n",
       "      <td>NaN</td>\n",
       "      <td>4.333333</td>\n",
       "      <td>0.0</td>\n",
       "    </tr>\n",
       "    <tr>\n",
       "      <th>6316156820043206702</th>\n",
       "      <td>104.0</td>\n",
       "      <td>1.0</td>\n",
       "      <td>0.0</td>\n",
       "      <td>0.0</td>\n",
       "      <td>0.0</td>\n",
       "      <td>0.0</td>\n",
       "      <td>0.0</td>\n",
       "      <td>0.0</td>\n",
       "      <td>0.0</td>\n",
       "      <td>9.0</td>\n",
       "      <td>...</td>\n",
       "      <td>NaN</td>\n",
       "      <td>NaN</td>\n",
       "      <td>NaN</td>\n",
       "      <td>NaN</td>\n",
       "      <td>2481.434458</td>\n",
       "      <td>34.666667</td>\n",
       "      <td>NaN</td>\n",
       "      <td>NaN</td>\n",
       "      <td>4.307692</td>\n",
       "      <td>0.0</td>\n",
       "    </tr>\n",
       "    <tr>\n",
       "      <th>428135616921543282</th>\n",
       "      <td>350.0</td>\n",
       "      <td>1.0</td>\n",
       "      <td>0.0</td>\n",
       "      <td>0.0</td>\n",
       "      <td>0.0</td>\n",
       "      <td>0.0</td>\n",
       "      <td>0.0</td>\n",
       "      <td>0.0</td>\n",
       "      <td>0.0</td>\n",
       "      <td>39.0</td>\n",
       "      <td>...</td>\n",
       "      <td>NaN</td>\n",
       "      <td>NaN</td>\n",
       "      <td>NaN</td>\n",
       "      <td>NaN</td>\n",
       "      <td>701.477804</td>\n",
       "      <td>116.666667</td>\n",
       "      <td>NaN</td>\n",
       "      <td>NaN</td>\n",
       "      <td>4.085714</td>\n",
       "      <td>0.0</td>\n",
       "    </tr>\n",
       "    <tr>\n",
       "      <th>7347230414543084172</th>\n",
       "      <td>74.0</td>\n",
       "      <td>1.0</td>\n",
       "      <td>0.0</td>\n",
       "      <td>1.0</td>\n",
       "      <td>0.0</td>\n",
       "      <td>0.0</td>\n",
       "      <td>1.0</td>\n",
       "      <td>0.0</td>\n",
       "      <td>0.0</td>\n",
       "      <td>53.0</td>\n",
       "      <td>...</td>\n",
       "      <td>NaN</td>\n",
       "      <td>NaN</td>\n",
       "      <td>NaN</td>\n",
       "      <td>NaN</td>\n",
       "      <td>1694.032339</td>\n",
       "      <td>37.000000</td>\n",
       "      <td>NaN</td>\n",
       "      <td>NaN</td>\n",
       "      <td>4.756757</td>\n",
       "      <td>4.0</td>\n",
       "    </tr>\n",
       "    <tr>\n",
       "      <th>6298892176437350005</th>\n",
       "      <td>9.0</td>\n",
       "      <td>1.0</td>\n",
       "      <td>0.0</td>\n",
       "      <td>0.0</td>\n",
       "      <td>0.0</td>\n",
       "      <td>0.0</td>\n",
       "      <td>0.0</td>\n",
       "      <td>0.0</td>\n",
       "      <td>0.0</td>\n",
       "      <td>4.0</td>\n",
       "      <td>...</td>\n",
       "      <td>NaN</td>\n",
       "      <td>NaN</td>\n",
       "      <td>NaN</td>\n",
       "      <td>NaN</td>\n",
       "      <td>25007.364785</td>\n",
       "      <td>4.500000</td>\n",
       "      <td>NaN</td>\n",
       "      <td>NaN</td>\n",
       "      <td>3.888889</td>\n",
       "      <td>0.0</td>\n",
       "    </tr>\n",
       "    <tr>\n",
       "      <th>5128189485732854741</th>\n",
       "      <td>4.0</td>\n",
       "      <td>1.0</td>\n",
       "      <td>0.0</td>\n",
       "      <td>0.0</td>\n",
       "      <td>0.0</td>\n",
       "      <td>0.0</td>\n",
       "      <td>0.0</td>\n",
       "      <td>0.0</td>\n",
       "      <td>0.0</td>\n",
       "      <td>2.0</td>\n",
       "      <td>...</td>\n",
       "      <td>NaN</td>\n",
       "      <td>NaN</td>\n",
       "      <td>NaN</td>\n",
       "      <td>NaN</td>\n",
       "      <td>684.480432</td>\n",
       "      <td>4.000000</td>\n",
       "      <td>NaN</td>\n",
       "      <td>NaN</td>\n",
       "      <td>5.000000</td>\n",
       "      <td>0.0</td>\n",
       "    </tr>\n",
       "    <tr>\n",
       "      <th>2124319147927886249</th>\n",
       "      <td>380.0</td>\n",
       "      <td>1.0</td>\n",
       "      <td>0.0</td>\n",
       "      <td>0.0</td>\n",
       "      <td>0.0</td>\n",
       "      <td>0.0</td>\n",
       "      <td>0.0</td>\n",
       "      <td>0.0</td>\n",
       "      <td>0.0</td>\n",
       "      <td>80.0</td>\n",
       "      <td>...</td>\n",
       "      <td>NaN</td>\n",
       "      <td>NaN</td>\n",
       "      <td>NaN</td>\n",
       "      <td>NaN</td>\n",
       "      <td>612.312042</td>\n",
       "      <td>126.666667</td>\n",
       "      <td>NaN</td>\n",
       "      <td>NaN</td>\n",
       "      <td>4.536842</td>\n",
       "      <td>0.0</td>\n",
       "    </tr>\n",
       "    <tr>\n",
       "      <th>1281430993044277142</th>\n",
       "      <td>15.0</td>\n",
       "      <td>1.0</td>\n",
       "      <td>0.0</td>\n",
       "      <td>0.0</td>\n",
       "      <td>0.0</td>\n",
       "      <td>0.0</td>\n",
       "      <td>0.0</td>\n",
       "      <td>0.0</td>\n",
       "      <td>0.0</td>\n",
       "      <td>3.0</td>\n",
       "      <td>...</td>\n",
       "      <td>NaN</td>\n",
       "      <td>NaN</td>\n",
       "      <td>NaN</td>\n",
       "      <td>NaN</td>\n",
       "      <td>6750.290462</td>\n",
       "      <td>7.500000</td>\n",
       "      <td>NaN</td>\n",
       "      <td>NaN</td>\n",
       "      <td>4.200000</td>\n",
       "      <td>0.0</td>\n",
       "    </tr>\n",
       "    <tr>\n",
       "      <th>4571645257746762590</th>\n",
       "      <td>63.0</td>\n",
       "      <td>1.0</td>\n",
       "      <td>0.0</td>\n",
       "      <td>1.0</td>\n",
       "      <td>0.0</td>\n",
       "      <td>0.0</td>\n",
       "      <td>1.0</td>\n",
       "      <td>0.0</td>\n",
       "      <td>0.0</td>\n",
       "      <td>28.0</td>\n",
       "      <td>...</td>\n",
       "      <td>NaN</td>\n",
       "      <td>NaN</td>\n",
       "      <td>NaN</td>\n",
       "      <td>NaN</td>\n",
       "      <td>3858.165172</td>\n",
       "      <td>31.500000</td>\n",
       "      <td>2.0</td>\n",
       "      <td>NaN</td>\n",
       "      <td>4.714286</td>\n",
       "      <td>4.0</td>\n",
       "    </tr>\n",
       "    <tr>\n",
       "      <th>4850988154339783028</th>\n",
       "      <td>50.0</td>\n",
       "      <td>1.0</td>\n",
       "      <td>0.0</td>\n",
       "      <td>0.0</td>\n",
       "      <td>0.0</td>\n",
       "      <td>0.0</td>\n",
       "      <td>0.0</td>\n",
       "      <td>0.0</td>\n",
       "      <td>0.0</td>\n",
       "      <td>11.0</td>\n",
       "      <td>...</td>\n",
       "      <td>NaN</td>\n",
       "      <td>NaN</td>\n",
       "      <td>NaN</td>\n",
       "      <td>NaN</td>\n",
       "      <td>5131.063135</td>\n",
       "      <td>16.666667</td>\n",
       "      <td>10.0</td>\n",
       "      <td>NaN</td>\n",
       "      <td>4.660000</td>\n",
       "      <td>0.0</td>\n",
       "    </tr>\n",
       "    <tr>\n",
       "      <th>5558223844930936175</th>\n",
       "      <td>454.0</td>\n",
       "      <td>1.0</td>\n",
       "      <td>0.0</td>\n",
       "      <td>0.0</td>\n",
       "      <td>0.0</td>\n",
       "      <td>0.0</td>\n",
       "      <td>0.0</td>\n",
       "      <td>0.0</td>\n",
       "      <td>0.0</td>\n",
       "      <td>56.0</td>\n",
       "      <td>...</td>\n",
       "      <td>NaN</td>\n",
       "      <td>NaN</td>\n",
       "      <td>NaN</td>\n",
       "      <td>NaN</td>\n",
       "      <td>443.906465</td>\n",
       "      <td>151.333333</td>\n",
       "      <td>NaN</td>\n",
       "      <td>NaN</td>\n",
       "      <td>4.035242</td>\n",
       "      <td>0.0</td>\n",
       "    </tr>\n",
       "    <tr>\n",
       "      <th>6707090658317158573</th>\n",
       "      <td>517.0</td>\n",
       "      <td>1.0</td>\n",
       "      <td>0.0</td>\n",
       "      <td>0.0</td>\n",
       "      <td>0.0</td>\n",
       "      <td>0.0</td>\n",
       "      <td>0.0</td>\n",
       "      <td>0.0</td>\n",
       "      <td>0.0</td>\n",
       "      <td>36.0</td>\n",
       "      <td>...</td>\n",
       "      <td>NaN</td>\n",
       "      <td>NaN</td>\n",
       "      <td>NaN</td>\n",
       "      <td>NaN</td>\n",
       "      <td>452.922314</td>\n",
       "      <td>172.333333</td>\n",
       "      <td>NaN</td>\n",
       "      <td>NaN</td>\n",
       "      <td>4.003868</td>\n",
       "      <td>0.0</td>\n",
       "    </tr>\n",
       "    <tr>\n",
       "      <th>924843757656579603</th>\n",
       "      <td>306.0</td>\n",
       "      <td>1.0</td>\n",
       "      <td>0.0</td>\n",
       "      <td>0.0</td>\n",
       "      <td>0.0</td>\n",
       "      <td>0.0</td>\n",
       "      <td>0.0</td>\n",
       "      <td>0.0</td>\n",
       "      <td>0.0</td>\n",
       "      <td>33.0</td>\n",
       "      <td>...</td>\n",
       "      <td>NaN</td>\n",
       "      <td>NaN</td>\n",
       "      <td>NaN</td>\n",
       "      <td>NaN</td>\n",
       "      <td>349.964235</td>\n",
       "      <td>153.000000</td>\n",
       "      <td>NaN</td>\n",
       "      <td>NaN</td>\n",
       "      <td>4.745098</td>\n",
       "      <td>0.0</td>\n",
       "    </tr>\n",
       "    <tr>\n",
       "      <th>8856956562722190039</th>\n",
       "      <td>54.0</td>\n",
       "      <td>1.0</td>\n",
       "      <td>0.0</td>\n",
       "      <td>0.0</td>\n",
       "      <td>0.0</td>\n",
       "      <td>0.0</td>\n",
       "      <td>0.0</td>\n",
       "      <td>0.0</td>\n",
       "      <td>0.0</td>\n",
       "      <td>8.0</td>\n",
       "      <td>...</td>\n",
       "      <td>NaN</td>\n",
       "      <td>NaN</td>\n",
       "      <td>NaN</td>\n",
       "      <td>NaN</td>\n",
       "      <td>4758.216298</td>\n",
       "      <td>27.000000</td>\n",
       "      <td>NaN</td>\n",
       "      <td>NaN</td>\n",
       "      <td>3.407407</td>\n",
       "      <td>0.0</td>\n",
       "    </tr>\n",
       "    <tr>\n",
       "      <th>7258770204996603517</th>\n",
       "      <td>511.0</td>\n",
       "      <td>1.0</td>\n",
       "      <td>0.0</td>\n",
       "      <td>0.0</td>\n",
       "      <td>0.0</td>\n",
       "      <td>0.0</td>\n",
       "      <td>0.0</td>\n",
       "      <td>0.0</td>\n",
       "      <td>0.0</td>\n",
       "      <td>170.0</td>\n",
       "      <td>...</td>\n",
       "      <td>NaN</td>\n",
       "      <td>NaN</td>\n",
       "      <td>NaN</td>\n",
       "      <td>NaN</td>\n",
       "      <td>493.000753</td>\n",
       "      <td>255.500000</td>\n",
       "      <td>NaN</td>\n",
       "      <td>NaN</td>\n",
       "      <td>3.966732</td>\n",
       "      <td>0.0</td>\n",
       "    </tr>\n",
       "    <tr>\n",
       "      <th>3410336604334278300</th>\n",
       "      <td>216.0</td>\n",
       "      <td>1.0</td>\n",
       "      <td>0.0</td>\n",
       "      <td>0.0</td>\n",
       "      <td>0.0</td>\n",
       "      <td>0.0</td>\n",
       "      <td>0.0</td>\n",
       "      <td>0.0</td>\n",
       "      <td>0.0</td>\n",
       "      <td>13.0</td>\n",
       "      <td>...</td>\n",
       "      <td>NaN</td>\n",
       "      <td>NaN</td>\n",
       "      <td>NaN</td>\n",
       "      <td>NaN</td>\n",
       "      <td>1094.623930</td>\n",
       "      <td>72.000000</td>\n",
       "      <td>NaN</td>\n",
       "      <td>NaN</td>\n",
       "      <td>4.060185</td>\n",
       "      <td>0.0</td>\n",
       "    </tr>\n",
       "    <tr>\n",
       "      <th>363305050485954583</th>\n",
       "      <td>965.0</td>\n",
       "      <td>1.0</td>\n",
       "      <td>0.0</td>\n",
       "      <td>0.0</td>\n",
       "      <td>0.0</td>\n",
       "      <td>0.0</td>\n",
       "      <td>0.0</td>\n",
       "      <td>0.0</td>\n",
       "      <td>0.0</td>\n",
       "      <td>12.0</td>\n",
       "      <td>...</td>\n",
       "      <td>NaN</td>\n",
       "      <td>NaN</td>\n",
       "      <td>NaN</td>\n",
       "      <td>NaN</td>\n",
       "      <td>170.266413</td>\n",
       "      <td>482.500000</td>\n",
       "      <td>NaN</td>\n",
       "      <td>NaN</td>\n",
       "      <td>4.215544</td>\n",
       "      <td>0.0</td>\n",
       "    </tr>\n",
       "    <tr>\n",
       "      <th>4266990110906792043</th>\n",
       "      <td>15.0</td>\n",
       "      <td>1.0</td>\n",
       "      <td>0.0</td>\n",
       "      <td>1.0</td>\n",
       "      <td>0.0</td>\n",
       "      <td>0.0</td>\n",
       "      <td>1.0</td>\n",
       "      <td>0.0</td>\n",
       "      <td>0.0</td>\n",
       "      <td>12.0</td>\n",
       "      <td>...</td>\n",
       "      <td>NaN</td>\n",
       "      <td>NaN</td>\n",
       "      <td>NaN</td>\n",
       "      <td>NaN</td>\n",
       "      <td>13975.648424</td>\n",
       "      <td>7.500000</td>\n",
       "      <td>5.0</td>\n",
       "      <td>NaN</td>\n",
       "      <td>4.600000</td>\n",
       "      <td>4.0</td>\n",
       "    </tr>\n",
       "    <tr>\n",
       "      <th>4333534296869874213</th>\n",
       "      <td>208.0</td>\n",
       "      <td>1.0</td>\n",
       "      <td>0.0</td>\n",
       "      <td>0.0</td>\n",
       "      <td>0.0</td>\n",
       "      <td>0.0</td>\n",
       "      <td>0.0</td>\n",
       "      <td>0.0</td>\n",
       "      <td>0.0</td>\n",
       "      <td>77.0</td>\n",
       "      <td>...</td>\n",
       "      <td>NaN</td>\n",
       "      <td>NaN</td>\n",
       "      <td>NaN</td>\n",
       "      <td>NaN</td>\n",
       "      <td>1169.633681</td>\n",
       "      <td>69.333333</td>\n",
       "      <td>9.0</td>\n",
       "      <td>NaN</td>\n",
       "      <td>3.745192</td>\n",
       "      <td>0.0</td>\n",
       "    </tr>\n",
       "    <tr>\n",
       "      <th>5050553211120634383</th>\n",
       "      <td>542.0</td>\n",
       "      <td>1.0</td>\n",
       "      <td>0.0</td>\n",
       "      <td>0.0</td>\n",
       "      <td>0.0</td>\n",
       "      <td>0.0</td>\n",
       "      <td>0.0</td>\n",
       "      <td>0.0</td>\n",
       "      <td>0.0</td>\n",
       "      <td>4.0</td>\n",
       "      <td>...</td>\n",
       "      <td>NaN</td>\n",
       "      <td>NaN</td>\n",
       "      <td>NaN</td>\n",
       "      <td>NaN</td>\n",
       "      <td>478.740767</td>\n",
       "      <td>271.000000</td>\n",
       "      <td>NaN</td>\n",
       "      <td>NaN</td>\n",
       "      <td>4.630996</td>\n",
       "      <td>0.0</td>\n",
       "    </tr>\n",
       "    <tr>\n",
       "      <th>6016499480533449829</th>\n",
       "      <td>86.0</td>\n",
       "      <td>1.0</td>\n",
       "      <td>0.0</td>\n",
       "      <td>1.0</td>\n",
       "      <td>0.0</td>\n",
       "      <td>0.0</td>\n",
       "      <td>1.0</td>\n",
       "      <td>0.0</td>\n",
       "      <td>0.0</td>\n",
       "      <td>26.0</td>\n",
       "      <td>...</td>\n",
       "      <td>NaN</td>\n",
       "      <td>NaN</td>\n",
       "      <td>NaN</td>\n",
       "      <td>NaN</td>\n",
       "      <td>969.727610</td>\n",
       "      <td>86.000000</td>\n",
       "      <td>NaN</td>\n",
       "      <td>NaN</td>\n",
       "      <td>5.000000</td>\n",
       "      <td>4.0</td>\n",
       "    </tr>\n",
       "    <tr>\n",
       "      <th>...</th>\n",
       "      <td>...</td>\n",
       "      <td>...</td>\n",
       "      <td>...</td>\n",
       "      <td>...</td>\n",
       "      <td>...</td>\n",
       "      <td>...</td>\n",
       "      <td>...</td>\n",
       "      <td>...</td>\n",
       "      <td>...</td>\n",
       "      <td>...</td>\n",
       "      <td>...</td>\n",
       "      <td>...</td>\n",
       "      <td>...</td>\n",
       "      <td>...</td>\n",
       "      <td>...</td>\n",
       "      <td>...</td>\n",
       "      <td>...</td>\n",
       "      <td>...</td>\n",
       "      <td>...</td>\n",
       "      <td>...</td>\n",
       "      <td>...</td>\n",
       "    </tr>\n",
       "    <tr>\n",
       "      <th>5140651541097825030</th>\n",
       "      <td>0.0</td>\n",
       "      <td>0.0</td>\n",
       "      <td>1.0</td>\n",
       "      <td>0.0</td>\n",
       "      <td>0.0</td>\n",
       "      <td>0.0</td>\n",
       "      <td>0.0</td>\n",
       "      <td>1.0</td>\n",
       "      <td>1.0</td>\n",
       "      <td>0.0</td>\n",
       "      <td>...</td>\n",
       "      <td>NaN</td>\n",
       "      <td>NaN</td>\n",
       "      <td>NaN</td>\n",
       "      <td>NaN</td>\n",
       "      <td>NaN</td>\n",
       "      <td>NaN</td>\n",
       "      <td>NaN</td>\n",
       "      <td>1.0</td>\n",
       "      <td>0.000000</td>\n",
       "      <td>0.0</td>\n",
       "    </tr>\n",
       "    <tr>\n",
       "      <th>3387645232443292351</th>\n",
       "      <td>0.0</td>\n",
       "      <td>0.0</td>\n",
       "      <td>1.0</td>\n",
       "      <td>0.0</td>\n",
       "      <td>0.0</td>\n",
       "      <td>0.0</td>\n",
       "      <td>0.0</td>\n",
       "      <td>1.0</td>\n",
       "      <td>1.0</td>\n",
       "      <td>0.0</td>\n",
       "      <td>...</td>\n",
       "      <td>NaN</td>\n",
       "      <td>NaN</td>\n",
       "      <td>NaN</td>\n",
       "      <td>NaN</td>\n",
       "      <td>NaN</td>\n",
       "      <td>NaN</td>\n",
       "      <td>NaN</td>\n",
       "      <td>1.0</td>\n",
       "      <td>0.000000</td>\n",
       "      <td>0.0</td>\n",
       "    </tr>\n",
       "    <tr>\n",
       "      <th>917611502117048279</th>\n",
       "      <td>0.0</td>\n",
       "      <td>0.0</td>\n",
       "      <td>1.0</td>\n",
       "      <td>0.0</td>\n",
       "      <td>0.0</td>\n",
       "      <td>0.0</td>\n",
       "      <td>0.0</td>\n",
       "      <td>1.0</td>\n",
       "      <td>1.0</td>\n",
       "      <td>0.0</td>\n",
       "      <td>...</td>\n",
       "      <td>NaN</td>\n",
       "      <td>NaN</td>\n",
       "      <td>NaN</td>\n",
       "      <td>NaN</td>\n",
       "      <td>NaN</td>\n",
       "      <td>NaN</td>\n",
       "      <td>NaN</td>\n",
       "      <td>1.0</td>\n",
       "      <td>0.000000</td>\n",
       "      <td>0.0</td>\n",
       "    </tr>\n",
       "    <tr>\n",
       "      <th>8195666413890855624</th>\n",
       "      <td>0.0</td>\n",
       "      <td>0.0</td>\n",
       "      <td>1.0</td>\n",
       "      <td>0.0</td>\n",
       "      <td>0.0</td>\n",
       "      <td>0.0</td>\n",
       "      <td>0.0</td>\n",
       "      <td>1.0</td>\n",
       "      <td>1.0</td>\n",
       "      <td>0.0</td>\n",
       "      <td>...</td>\n",
       "      <td>NaN</td>\n",
       "      <td>NaN</td>\n",
       "      <td>NaN</td>\n",
       "      <td>NaN</td>\n",
       "      <td>NaN</td>\n",
       "      <td>NaN</td>\n",
       "      <td>NaN</td>\n",
       "      <td>1.0</td>\n",
       "      <td>0.000000</td>\n",
       "      <td>0.0</td>\n",
       "    </tr>\n",
       "    <tr>\n",
       "      <th>1021255754387999756</th>\n",
       "      <td>0.0</td>\n",
       "      <td>0.0</td>\n",
       "      <td>2.0</td>\n",
       "      <td>0.0</td>\n",
       "      <td>0.0</td>\n",
       "      <td>0.0</td>\n",
       "      <td>0.0</td>\n",
       "      <td>2.0</td>\n",
       "      <td>2.0</td>\n",
       "      <td>0.0</td>\n",
       "      <td>...</td>\n",
       "      <td>NaN</td>\n",
       "      <td>15.822</td>\n",
       "      <td>15.822</td>\n",
       "      <td>15.822</td>\n",
       "      <td>NaN</td>\n",
       "      <td>NaN</td>\n",
       "      <td>NaN</td>\n",
       "      <td>2.0</td>\n",
       "      <td>0.000000</td>\n",
       "      <td>0.0</td>\n",
       "    </tr>\n",
       "    <tr>\n",
       "      <th>3346025930589681012</th>\n",
       "      <td>0.0</td>\n",
       "      <td>0.0</td>\n",
       "      <td>1.0</td>\n",
       "      <td>0.0</td>\n",
       "      <td>0.0</td>\n",
       "      <td>0.0</td>\n",
       "      <td>0.0</td>\n",
       "      <td>1.0</td>\n",
       "      <td>1.0</td>\n",
       "      <td>0.0</td>\n",
       "      <td>...</td>\n",
       "      <td>NaN</td>\n",
       "      <td>NaN</td>\n",
       "      <td>NaN</td>\n",
       "      <td>NaN</td>\n",
       "      <td>NaN</td>\n",
       "      <td>NaN</td>\n",
       "      <td>NaN</td>\n",
       "      <td>1.0</td>\n",
       "      <td>0.000000</td>\n",
       "      <td>0.0</td>\n",
       "    </tr>\n",
       "    <tr>\n",
       "      <th>2635185139730802295</th>\n",
       "      <td>0.0</td>\n",
       "      <td>0.0</td>\n",
       "      <td>1.0</td>\n",
       "      <td>0.0</td>\n",
       "      <td>0.0</td>\n",
       "      <td>0.0</td>\n",
       "      <td>0.0</td>\n",
       "      <td>1.0</td>\n",
       "      <td>1.0</td>\n",
       "      <td>0.0</td>\n",
       "      <td>...</td>\n",
       "      <td>NaN</td>\n",
       "      <td>NaN</td>\n",
       "      <td>NaN</td>\n",
       "      <td>NaN</td>\n",
       "      <td>NaN</td>\n",
       "      <td>NaN</td>\n",
       "      <td>NaN</td>\n",
       "      <td>1.0</td>\n",
       "      <td>0.000000</td>\n",
       "      <td>0.0</td>\n",
       "    </tr>\n",
       "    <tr>\n",
       "      <th>720417502689621109</th>\n",
       "      <td>0.0</td>\n",
       "      <td>0.0</td>\n",
       "      <td>1.0</td>\n",
       "      <td>0.0</td>\n",
       "      <td>0.0</td>\n",
       "      <td>0.0</td>\n",
       "      <td>0.0</td>\n",
       "      <td>1.0</td>\n",
       "      <td>1.0</td>\n",
       "      <td>0.0</td>\n",
       "      <td>...</td>\n",
       "      <td>NaN</td>\n",
       "      <td>NaN</td>\n",
       "      <td>NaN</td>\n",
       "      <td>NaN</td>\n",
       "      <td>NaN</td>\n",
       "      <td>NaN</td>\n",
       "      <td>NaN</td>\n",
       "      <td>1.0</td>\n",
       "      <td>0.000000</td>\n",
       "      <td>0.0</td>\n",
       "    </tr>\n",
       "    <tr>\n",
       "      <th>6568290990578960286</th>\n",
       "      <td>0.0</td>\n",
       "      <td>0.0</td>\n",
       "      <td>1.0</td>\n",
       "      <td>0.0</td>\n",
       "      <td>0.0</td>\n",
       "      <td>0.0</td>\n",
       "      <td>0.0</td>\n",
       "      <td>1.0</td>\n",
       "      <td>1.0</td>\n",
       "      <td>0.0</td>\n",
       "      <td>...</td>\n",
       "      <td>NaN</td>\n",
       "      <td>NaN</td>\n",
       "      <td>NaN</td>\n",
       "      <td>NaN</td>\n",
       "      <td>NaN</td>\n",
       "      <td>NaN</td>\n",
       "      <td>NaN</td>\n",
       "      <td>1.0</td>\n",
       "      <td>0.000000</td>\n",
       "      <td>0.0</td>\n",
       "    </tr>\n",
       "    <tr>\n",
       "      <th>8587200326180553172</th>\n",
       "      <td>0.0</td>\n",
       "      <td>0.0</td>\n",
       "      <td>1.0</td>\n",
       "      <td>0.0</td>\n",
       "      <td>0.0</td>\n",
       "      <td>0.0</td>\n",
       "      <td>0.0</td>\n",
       "      <td>1.0</td>\n",
       "      <td>1.0</td>\n",
       "      <td>0.0</td>\n",
       "      <td>...</td>\n",
       "      <td>NaN</td>\n",
       "      <td>NaN</td>\n",
       "      <td>NaN</td>\n",
       "      <td>NaN</td>\n",
       "      <td>NaN</td>\n",
       "      <td>NaN</td>\n",
       "      <td>NaN</td>\n",
       "      <td>1.0</td>\n",
       "      <td>0.000000</td>\n",
       "      <td>0.0</td>\n",
       "    </tr>\n",
       "    <tr>\n",
       "      <th>3010974525956493734</th>\n",
       "      <td>0.0</td>\n",
       "      <td>0.0</td>\n",
       "      <td>1.0</td>\n",
       "      <td>0.0</td>\n",
       "      <td>0.0</td>\n",
       "      <td>0.0</td>\n",
       "      <td>0.0</td>\n",
       "      <td>1.0</td>\n",
       "      <td>1.0</td>\n",
       "      <td>0.0</td>\n",
       "      <td>...</td>\n",
       "      <td>NaN</td>\n",
       "      <td>NaN</td>\n",
       "      <td>NaN</td>\n",
       "      <td>NaN</td>\n",
       "      <td>NaN</td>\n",
       "      <td>NaN</td>\n",
       "      <td>NaN</td>\n",
       "      <td>1.0</td>\n",
       "      <td>0.000000</td>\n",
       "      <td>0.0</td>\n",
       "    </tr>\n",
       "    <tr>\n",
       "      <th>6959256202803821448</th>\n",
       "      <td>0.0</td>\n",
       "      <td>0.0</td>\n",
       "      <td>1.0</td>\n",
       "      <td>0.0</td>\n",
       "      <td>0.0</td>\n",
       "      <td>0.0</td>\n",
       "      <td>0.0</td>\n",
       "      <td>1.0</td>\n",
       "      <td>1.0</td>\n",
       "      <td>0.0</td>\n",
       "      <td>...</td>\n",
       "      <td>NaN</td>\n",
       "      <td>NaN</td>\n",
       "      <td>NaN</td>\n",
       "      <td>NaN</td>\n",
       "      <td>NaN</td>\n",
       "      <td>NaN</td>\n",
       "      <td>NaN</td>\n",
       "      <td>1.0</td>\n",
       "      <td>0.000000</td>\n",
       "      <td>0.0</td>\n",
       "    </tr>\n",
       "    <tr>\n",
       "      <th>4886451241740954262</th>\n",
       "      <td>0.0</td>\n",
       "      <td>0.0</td>\n",
       "      <td>1.0</td>\n",
       "      <td>0.0</td>\n",
       "      <td>0.0</td>\n",
       "      <td>0.0</td>\n",
       "      <td>0.0</td>\n",
       "      <td>1.0</td>\n",
       "      <td>1.0</td>\n",
       "      <td>0.0</td>\n",
       "      <td>...</td>\n",
       "      <td>NaN</td>\n",
       "      <td>NaN</td>\n",
       "      <td>NaN</td>\n",
       "      <td>NaN</td>\n",
       "      <td>NaN</td>\n",
       "      <td>NaN</td>\n",
       "      <td>NaN</td>\n",
       "      <td>1.0</td>\n",
       "      <td>0.000000</td>\n",
       "      <td>0.0</td>\n",
       "    </tr>\n",
       "    <tr>\n",
       "      <th>3208072734138113787</th>\n",
       "      <td>0.0</td>\n",
       "      <td>0.0</td>\n",
       "      <td>1.0</td>\n",
       "      <td>0.0</td>\n",
       "      <td>0.0</td>\n",
       "      <td>0.0</td>\n",
       "      <td>0.0</td>\n",
       "      <td>1.0</td>\n",
       "      <td>1.0</td>\n",
       "      <td>0.0</td>\n",
       "      <td>...</td>\n",
       "      <td>NaN</td>\n",
       "      <td>NaN</td>\n",
       "      <td>NaN</td>\n",
       "      <td>NaN</td>\n",
       "      <td>NaN</td>\n",
       "      <td>NaN</td>\n",
       "      <td>NaN</td>\n",
       "      <td>1.0</td>\n",
       "      <td>0.000000</td>\n",
       "      <td>0.0</td>\n",
       "    </tr>\n",
       "    <tr>\n",
       "      <th>8186187626752810740</th>\n",
       "      <td>0.0</td>\n",
       "      <td>0.0</td>\n",
       "      <td>1.0</td>\n",
       "      <td>0.0</td>\n",
       "      <td>1.0</td>\n",
       "      <td>0.0</td>\n",
       "      <td>0.0</td>\n",
       "      <td>1.0</td>\n",
       "      <td>1.0</td>\n",
       "      <td>0.0</td>\n",
       "      <td>...</td>\n",
       "      <td>NaN</td>\n",
       "      <td>NaN</td>\n",
       "      <td>NaN</td>\n",
       "      <td>NaN</td>\n",
       "      <td>NaN</td>\n",
       "      <td>NaN</td>\n",
       "      <td>NaN</td>\n",
       "      <td>1.0</td>\n",
       "      <td>0.000000</td>\n",
       "      <td>0.0</td>\n",
       "    </tr>\n",
       "    <tr>\n",
       "      <th>5349388047238083470</th>\n",
       "      <td>0.0</td>\n",
       "      <td>0.0</td>\n",
       "      <td>1.0</td>\n",
       "      <td>0.0</td>\n",
       "      <td>1.0</td>\n",
       "      <td>0.0</td>\n",
       "      <td>0.0</td>\n",
       "      <td>1.0</td>\n",
       "      <td>1.0</td>\n",
       "      <td>0.0</td>\n",
       "      <td>...</td>\n",
       "      <td>NaN</td>\n",
       "      <td>NaN</td>\n",
       "      <td>NaN</td>\n",
       "      <td>NaN</td>\n",
       "      <td>NaN</td>\n",
       "      <td>NaN</td>\n",
       "      <td>NaN</td>\n",
       "      <td>1.0</td>\n",
       "      <td>0.000000</td>\n",
       "      <td>0.0</td>\n",
       "    </tr>\n",
       "    <tr>\n",
       "      <th>1469041153459804920</th>\n",
       "      <td>0.0</td>\n",
       "      <td>0.0</td>\n",
       "      <td>1.0</td>\n",
       "      <td>0.0</td>\n",
       "      <td>1.0</td>\n",
       "      <td>0.0</td>\n",
       "      <td>0.0</td>\n",
       "      <td>1.0</td>\n",
       "      <td>1.0</td>\n",
       "      <td>0.0</td>\n",
       "      <td>...</td>\n",
       "      <td>NaN</td>\n",
       "      <td>NaN</td>\n",
       "      <td>NaN</td>\n",
       "      <td>NaN</td>\n",
       "      <td>NaN</td>\n",
       "      <td>NaN</td>\n",
       "      <td>NaN</td>\n",
       "      <td>1.0</td>\n",
       "      <td>0.000000</td>\n",
       "      <td>0.0</td>\n",
       "    </tr>\n",
       "    <tr>\n",
       "      <th>6262630787021370932</th>\n",
       "      <td>0.0</td>\n",
       "      <td>0.0</td>\n",
       "      <td>1.0</td>\n",
       "      <td>0.0</td>\n",
       "      <td>1.0</td>\n",
       "      <td>0.0</td>\n",
       "      <td>0.0</td>\n",
       "      <td>1.0</td>\n",
       "      <td>1.0</td>\n",
       "      <td>0.0</td>\n",
       "      <td>...</td>\n",
       "      <td>NaN</td>\n",
       "      <td>NaN</td>\n",
       "      <td>NaN</td>\n",
       "      <td>NaN</td>\n",
       "      <td>NaN</td>\n",
       "      <td>NaN</td>\n",
       "      <td>NaN</td>\n",
       "      <td>1.0</td>\n",
       "      <td>0.000000</td>\n",
       "      <td>0.0</td>\n",
       "    </tr>\n",
       "    <tr>\n",
       "      <th>594422714522326217</th>\n",
       "      <td>0.0</td>\n",
       "      <td>0.0</td>\n",
       "      <td>1.0</td>\n",
       "      <td>0.0</td>\n",
       "      <td>1.0</td>\n",
       "      <td>0.0</td>\n",
       "      <td>0.0</td>\n",
       "      <td>1.0</td>\n",
       "      <td>1.0</td>\n",
       "      <td>0.0</td>\n",
       "      <td>...</td>\n",
       "      <td>NaN</td>\n",
       "      <td>NaN</td>\n",
       "      <td>NaN</td>\n",
       "      <td>NaN</td>\n",
       "      <td>NaN</td>\n",
       "      <td>NaN</td>\n",
       "      <td>NaN</td>\n",
       "      <td>1.0</td>\n",
       "      <td>0.000000</td>\n",
       "      <td>0.0</td>\n",
       "    </tr>\n",
       "    <tr>\n",
       "      <th>5671815735437755776</th>\n",
       "      <td>0.0</td>\n",
       "      <td>0.0</td>\n",
       "      <td>1.0</td>\n",
       "      <td>0.0</td>\n",
       "      <td>0.0</td>\n",
       "      <td>0.0</td>\n",
       "      <td>0.0</td>\n",
       "      <td>1.0</td>\n",
       "      <td>1.0</td>\n",
       "      <td>0.0</td>\n",
       "      <td>...</td>\n",
       "      <td>NaN</td>\n",
       "      <td>NaN</td>\n",
       "      <td>NaN</td>\n",
       "      <td>NaN</td>\n",
       "      <td>NaN</td>\n",
       "      <td>NaN</td>\n",
       "      <td>NaN</td>\n",
       "      <td>1.0</td>\n",
       "      <td>0.000000</td>\n",
       "      <td>0.0</td>\n",
       "    </tr>\n",
       "    <tr>\n",
       "      <th>3387096027653176186</th>\n",
       "      <td>0.0</td>\n",
       "      <td>0.0</td>\n",
       "      <td>1.0</td>\n",
       "      <td>0.0</td>\n",
       "      <td>0.0</td>\n",
       "      <td>0.0</td>\n",
       "      <td>0.0</td>\n",
       "      <td>1.0</td>\n",
       "      <td>1.0</td>\n",
       "      <td>0.0</td>\n",
       "      <td>...</td>\n",
       "      <td>NaN</td>\n",
       "      <td>NaN</td>\n",
       "      <td>NaN</td>\n",
       "      <td>NaN</td>\n",
       "      <td>NaN</td>\n",
       "      <td>NaN</td>\n",
       "      <td>NaN</td>\n",
       "      <td>1.0</td>\n",
       "      <td>0.000000</td>\n",
       "      <td>0.0</td>\n",
       "    </tr>\n",
       "    <tr>\n",
       "      <th>4133638727329008285</th>\n",
       "      <td>0.0</td>\n",
       "      <td>0.0</td>\n",
       "      <td>1.0</td>\n",
       "      <td>0.0</td>\n",
       "      <td>0.0</td>\n",
       "      <td>0.0</td>\n",
       "      <td>0.0</td>\n",
       "      <td>1.0</td>\n",
       "      <td>1.0</td>\n",
       "      <td>0.0</td>\n",
       "      <td>...</td>\n",
       "      <td>NaN</td>\n",
       "      <td>NaN</td>\n",
       "      <td>NaN</td>\n",
       "      <td>NaN</td>\n",
       "      <td>NaN</td>\n",
       "      <td>NaN</td>\n",
       "      <td>NaN</td>\n",
       "      <td>1.0</td>\n",
       "      <td>0.000000</td>\n",
       "      <td>0.0</td>\n",
       "    </tr>\n",
       "    <tr>\n",
       "      <th>4354722066045082751</th>\n",
       "      <td>0.0</td>\n",
       "      <td>0.0</td>\n",
       "      <td>1.0</td>\n",
       "      <td>0.0</td>\n",
       "      <td>0.0</td>\n",
       "      <td>0.0</td>\n",
       "      <td>0.0</td>\n",
       "      <td>1.0</td>\n",
       "      <td>1.0</td>\n",
       "      <td>0.0</td>\n",
       "      <td>...</td>\n",
       "      <td>NaN</td>\n",
       "      <td>NaN</td>\n",
       "      <td>NaN</td>\n",
       "      <td>NaN</td>\n",
       "      <td>NaN</td>\n",
       "      <td>NaN</td>\n",
       "      <td>NaN</td>\n",
       "      <td>1.0</td>\n",
       "      <td>0.000000</td>\n",
       "      <td>0.0</td>\n",
       "    </tr>\n",
       "    <tr>\n",
       "      <th>8268259315303812599</th>\n",
       "      <td>0.0</td>\n",
       "      <td>0.0</td>\n",
       "      <td>1.0</td>\n",
       "      <td>0.0</td>\n",
       "      <td>0.0</td>\n",
       "      <td>0.0</td>\n",
       "      <td>0.0</td>\n",
       "      <td>1.0</td>\n",
       "      <td>1.0</td>\n",
       "      <td>0.0</td>\n",
       "      <td>...</td>\n",
       "      <td>NaN</td>\n",
       "      <td>NaN</td>\n",
       "      <td>NaN</td>\n",
       "      <td>NaN</td>\n",
       "      <td>NaN</td>\n",
       "      <td>NaN</td>\n",
       "      <td>NaN</td>\n",
       "      <td>1.0</td>\n",
       "      <td>0.000000</td>\n",
       "      <td>0.0</td>\n",
       "    </tr>\n",
       "    <tr>\n",
       "      <th>4464850825719320395</th>\n",
       "      <td>0.0</td>\n",
       "      <td>0.0</td>\n",
       "      <td>1.0</td>\n",
       "      <td>0.0</td>\n",
       "      <td>0.0</td>\n",
       "      <td>0.0</td>\n",
       "      <td>0.0</td>\n",
       "      <td>1.0</td>\n",
       "      <td>1.0</td>\n",
       "      <td>0.0</td>\n",
       "      <td>...</td>\n",
       "      <td>NaN</td>\n",
       "      <td>NaN</td>\n",
       "      <td>NaN</td>\n",
       "      <td>NaN</td>\n",
       "      <td>NaN</td>\n",
       "      <td>NaN</td>\n",
       "      <td>NaN</td>\n",
       "      <td>1.0</td>\n",
       "      <td>0.000000</td>\n",
       "      <td>0.0</td>\n",
       "    </tr>\n",
       "    <tr>\n",
       "      <th>6594658365243328029</th>\n",
       "      <td>0.0</td>\n",
       "      <td>0.0</td>\n",
       "      <td>1.0</td>\n",
       "      <td>0.0</td>\n",
       "      <td>0.0</td>\n",
       "      <td>0.0</td>\n",
       "      <td>0.0</td>\n",
       "      <td>1.0</td>\n",
       "      <td>1.0</td>\n",
       "      <td>0.0</td>\n",
       "      <td>...</td>\n",
       "      <td>NaN</td>\n",
       "      <td>NaN</td>\n",
       "      <td>NaN</td>\n",
       "      <td>NaN</td>\n",
       "      <td>NaN</td>\n",
       "      <td>NaN</td>\n",
       "      <td>NaN</td>\n",
       "      <td>1.0</td>\n",
       "      <td>0.000000</td>\n",
       "      <td>0.0</td>\n",
       "    </tr>\n",
       "    <tr>\n",
       "      <th>4593334345171871448</th>\n",
       "      <td>0.0</td>\n",
       "      <td>0.0</td>\n",
       "      <td>1.0</td>\n",
       "      <td>0.0</td>\n",
       "      <td>0.0</td>\n",
       "      <td>0.0</td>\n",
       "      <td>0.0</td>\n",
       "      <td>1.0</td>\n",
       "      <td>1.0</td>\n",
       "      <td>0.0</td>\n",
       "      <td>...</td>\n",
       "      <td>NaN</td>\n",
       "      <td>NaN</td>\n",
       "      <td>NaN</td>\n",
       "      <td>NaN</td>\n",
       "      <td>NaN</td>\n",
       "      <td>NaN</td>\n",
       "      <td>NaN</td>\n",
       "      <td>1.0</td>\n",
       "      <td>0.000000</td>\n",
       "      <td>0.0</td>\n",
       "    </tr>\n",
       "    <tr>\n",
       "      <th>5211895678908712106</th>\n",
       "      <td>0.0</td>\n",
       "      <td>0.0</td>\n",
       "      <td>1.0</td>\n",
       "      <td>0.0</td>\n",
       "      <td>0.0</td>\n",
       "      <td>0.0</td>\n",
       "      <td>0.0</td>\n",
       "      <td>1.0</td>\n",
       "      <td>1.0</td>\n",
       "      <td>0.0</td>\n",
       "      <td>...</td>\n",
       "      <td>NaN</td>\n",
       "      <td>NaN</td>\n",
       "      <td>NaN</td>\n",
       "      <td>NaN</td>\n",
       "      <td>NaN</td>\n",
       "      <td>NaN</td>\n",
       "      <td>NaN</td>\n",
       "      <td>1.0</td>\n",
       "      <td>0.000000</td>\n",
       "      <td>0.0</td>\n",
       "    </tr>\n",
       "    <tr>\n",
       "      <th>3064929268338896801</th>\n",
       "      <td>0.0</td>\n",
       "      <td>0.0</td>\n",
       "      <td>1.0</td>\n",
       "      <td>0.0</td>\n",
       "      <td>0.0</td>\n",
       "      <td>0.0</td>\n",
       "      <td>0.0</td>\n",
       "      <td>1.0</td>\n",
       "      <td>1.0</td>\n",
       "      <td>0.0</td>\n",
       "      <td>...</td>\n",
       "      <td>NaN</td>\n",
       "      <td>NaN</td>\n",
       "      <td>NaN</td>\n",
       "      <td>NaN</td>\n",
       "      <td>NaN</td>\n",
       "      <td>NaN</td>\n",
       "      <td>NaN</td>\n",
       "      <td>1.0</td>\n",
       "      <td>0.000000</td>\n",
       "      <td>0.0</td>\n",
       "    </tr>\n",
       "    <tr>\n",
       "      <th>137512285336779908</th>\n",
       "      <td>0.0</td>\n",
       "      <td>0.0</td>\n",
       "      <td>1.0</td>\n",
       "      <td>0.0</td>\n",
       "      <td>0.0</td>\n",
       "      <td>0.0</td>\n",
       "      <td>0.0</td>\n",
       "      <td>1.0</td>\n",
       "      <td>1.0</td>\n",
       "      <td>0.0</td>\n",
       "      <td>...</td>\n",
       "      <td>NaN</td>\n",
       "      <td>NaN</td>\n",
       "      <td>NaN</td>\n",
       "      <td>NaN</td>\n",
       "      <td>NaN</td>\n",
       "      <td>NaN</td>\n",
       "      <td>NaN</td>\n",
       "      <td>1.0</td>\n",
       "      <td>0.000000</td>\n",
       "      <td>0.0</td>\n",
       "    </tr>\n",
       "  </tbody>\n",
       "</table>\n",
       "<p>426756 rows × 108 columns</p>\n",
       "</div>"
      ],
      "text/plain": [
       "                     appearances_in_auctions  user_appeared_last_day  \\\n",
       "ref_hash                                                               \n",
       "1109595589636746168                    128.0                     1.0   \n",
       "5896614299191635403                     46.0                     1.0   \n",
       "4172466725848941608                    252.0                     1.0   \n",
       "2616279795187318849                    191.0                     1.0   \n",
       "8034952072073026056                    166.0                     1.0   \n",
       "8018738201130876812                   1647.0                     1.0   \n",
       "4914962826064649332                     58.0                     1.0   \n",
       "3249069566262483358                    130.0                     1.0   \n",
       "3352762403977995643                    277.0                     1.0   \n",
       "9003488718010194664                     27.0                     1.0   \n",
       "6316156820043206702                    104.0                     1.0   \n",
       "428135616921543282                     350.0                     1.0   \n",
       "7347230414543084172                     74.0                     1.0   \n",
       "6298892176437350005                      9.0                     1.0   \n",
       "5128189485732854741                      4.0                     1.0   \n",
       "2124319147927886249                    380.0                     1.0   \n",
       "1281430993044277142                     15.0                     1.0   \n",
       "4571645257746762590                     63.0                     1.0   \n",
       "4850988154339783028                     50.0                     1.0   \n",
       "5558223844930936175                    454.0                     1.0   \n",
       "6707090658317158573                    517.0                     1.0   \n",
       "924843757656579603                     306.0                     1.0   \n",
       "8856956562722190039                     54.0                     1.0   \n",
       "7258770204996603517                    511.0                     1.0   \n",
       "3410336604334278300                    216.0                     1.0   \n",
       "363305050485954583                     965.0                     1.0   \n",
       "4266990110906792043                     15.0                     1.0   \n",
       "4333534296869874213                    208.0                     1.0   \n",
       "5050553211120634383                    542.0                     1.0   \n",
       "6016499480533449829                     86.0                     1.0   \n",
       "...                                      ...                     ...   \n",
       "5140651541097825030                      0.0                     0.0   \n",
       "3387645232443292351                      0.0                     0.0   \n",
       "917611502117048279                       0.0                     0.0   \n",
       "8195666413890855624                      0.0                     0.0   \n",
       "1021255754387999756                      0.0                     0.0   \n",
       "3346025930589681012                      0.0                     0.0   \n",
       "2635185139730802295                      0.0                     0.0   \n",
       "720417502689621109                       0.0                     0.0   \n",
       "6568290990578960286                      0.0                     0.0   \n",
       "8587200326180553172                      0.0                     0.0   \n",
       "3010974525956493734                      0.0                     0.0   \n",
       "6959256202803821448                      0.0                     0.0   \n",
       "4886451241740954262                      0.0                     0.0   \n",
       "3208072734138113787                      0.0                     0.0   \n",
       "8186187626752810740                      0.0                     0.0   \n",
       "5349388047238083470                      0.0                     0.0   \n",
       "1469041153459804920                      0.0                     0.0   \n",
       "6262630787021370932                      0.0                     0.0   \n",
       "594422714522326217                       0.0                     0.0   \n",
       "5671815735437755776                      0.0                     0.0   \n",
       "3387096027653176186                      0.0                     0.0   \n",
       "4133638727329008285                      0.0                     0.0   \n",
       "4354722066045082751                      0.0                     0.0   \n",
       "8268259315303812599                      0.0                     0.0   \n",
       "4464850825719320395                      0.0                     0.0   \n",
       "6594658365243328029                      0.0                     0.0   \n",
       "4593334345171871448                      0.0                     0.0   \n",
       "5211895678908712106                      0.0                     0.0   \n",
       "3064929268338896801                      0.0                     0.0   \n",
       "137512285336779908                       0.0                     0.0   \n",
       "\n",
       "                     amount_of_clicks  has_installed  user_clicked_last_day  \\\n",
       "ref_hash                                                                      \n",
       "1109595589636746168               0.0            0.0                    0.0   \n",
       "5896614299191635403               0.0            1.0                    0.0   \n",
       "4172466725848941608               0.0            0.0                    0.0   \n",
       "2616279795187318849               0.0            0.0                    0.0   \n",
       "8034952072073026056               0.0            1.0                    0.0   \n",
       "8018738201130876812               0.0            0.0                    0.0   \n",
       "4914962826064649332               0.0            0.0                    0.0   \n",
       "3249069566262483358               0.0            1.0                    0.0   \n",
       "3352762403977995643               0.0            0.0                    0.0   \n",
       "9003488718010194664               0.0            0.0                    0.0   \n",
       "6316156820043206702               0.0            0.0                    0.0   \n",
       "428135616921543282                0.0            0.0                    0.0   \n",
       "7347230414543084172               0.0            1.0                    0.0   \n",
       "6298892176437350005               0.0            0.0                    0.0   \n",
       "5128189485732854741               0.0            0.0                    0.0   \n",
       "2124319147927886249               0.0            0.0                    0.0   \n",
       "1281430993044277142               0.0            0.0                    0.0   \n",
       "4571645257746762590               0.0            1.0                    0.0   \n",
       "4850988154339783028               0.0            0.0                    0.0   \n",
       "5558223844930936175               0.0            0.0                    0.0   \n",
       "6707090658317158573               0.0            0.0                    0.0   \n",
       "924843757656579603                0.0            0.0                    0.0   \n",
       "8856956562722190039               0.0            0.0                    0.0   \n",
       "7258770204996603517               0.0            0.0                    0.0   \n",
       "3410336604334278300               0.0            0.0                    0.0   \n",
       "363305050485954583                0.0            0.0                    0.0   \n",
       "4266990110906792043               0.0            1.0                    0.0   \n",
       "4333534296869874213               0.0            0.0                    0.0   \n",
       "5050553211120634383               0.0            0.0                    0.0   \n",
       "6016499480533449829               0.0            1.0                    0.0   \n",
       "...                               ...            ...                    ...   \n",
       "5140651541097825030               1.0            0.0                    0.0   \n",
       "3387645232443292351               1.0            0.0                    0.0   \n",
       "917611502117048279                1.0            0.0                    0.0   \n",
       "8195666413890855624               1.0            0.0                    0.0   \n",
       "1021255754387999756               2.0            0.0                    0.0   \n",
       "3346025930589681012               1.0            0.0                    0.0   \n",
       "2635185139730802295               1.0            0.0                    0.0   \n",
       "720417502689621109                1.0            0.0                    0.0   \n",
       "6568290990578960286               1.0            0.0                    0.0   \n",
       "8587200326180553172               1.0            0.0                    0.0   \n",
       "3010974525956493734               1.0            0.0                    0.0   \n",
       "6959256202803821448               1.0            0.0                    0.0   \n",
       "4886451241740954262               1.0            0.0                    0.0   \n",
       "3208072734138113787               1.0            0.0                    0.0   \n",
       "8186187626752810740               1.0            0.0                    1.0   \n",
       "5349388047238083470               1.0            0.0                    1.0   \n",
       "1469041153459804920               1.0            0.0                    1.0   \n",
       "6262630787021370932               1.0            0.0                    1.0   \n",
       "594422714522326217                1.0            0.0                    1.0   \n",
       "5671815735437755776               1.0            0.0                    0.0   \n",
       "3387096027653176186               1.0            0.0                    0.0   \n",
       "4133638727329008285               1.0            0.0                    0.0   \n",
       "4354722066045082751               1.0            0.0                    0.0   \n",
       "8268259315303812599               1.0            0.0                    0.0   \n",
       "4464850825719320395               1.0            0.0                    0.0   \n",
       "6594658365243328029               1.0            0.0                    0.0   \n",
       "4593334345171871448               1.0            0.0                    0.0   \n",
       "5211895678908712106               1.0            0.0                    0.0   \n",
       "3064929268338896801               1.0            0.0                    0.0   \n",
       "137512285336779908                1.0            0.0                    0.0   \n",
       "\n",
       "                     user_installed_last_day  amount_of_installs  \\\n",
       "ref_hash                                                           \n",
       "1109595589636746168                      0.0                 0.0   \n",
       "5896614299191635403                      0.0                 1.0   \n",
       "4172466725848941608                      0.0                 0.0   \n",
       "2616279795187318849                      0.0                 0.0   \n",
       "8034952072073026056                      0.0                 1.0   \n",
       "8018738201130876812                      0.0                 0.0   \n",
       "4914962826064649332                      0.0                 0.0   \n",
       "3249069566262483358                      1.0                 1.0   \n",
       "3352762403977995643                      0.0                 0.0   \n",
       "9003488718010194664                      0.0                 0.0   \n",
       "6316156820043206702                      0.0                 0.0   \n",
       "428135616921543282                       0.0                 0.0   \n",
       "7347230414543084172                      0.0                 1.0   \n",
       "6298892176437350005                      0.0                 0.0   \n",
       "5128189485732854741                      0.0                 0.0   \n",
       "2124319147927886249                      0.0                 0.0   \n",
       "1281430993044277142                      0.0                 0.0   \n",
       "4571645257746762590                      0.0                 1.0   \n",
       "4850988154339783028                      0.0                 0.0   \n",
       "5558223844930936175                      0.0                 0.0   \n",
       "6707090658317158573                      0.0                 0.0   \n",
       "924843757656579603                       0.0                 0.0   \n",
       "8856956562722190039                      0.0                 0.0   \n",
       "7258770204996603517                      0.0                 0.0   \n",
       "3410336604334278300                      0.0                 0.0   \n",
       "363305050485954583                       0.0                 0.0   \n",
       "4266990110906792043                      0.0                 1.0   \n",
       "4333534296869874213                      0.0                 0.0   \n",
       "5050553211120634383                      0.0                 0.0   \n",
       "6016499480533449829                      0.0                 1.0   \n",
       "...                                      ...                 ...   \n",
       "5140651541097825030                      0.0                 0.0   \n",
       "3387645232443292351                      0.0                 0.0   \n",
       "917611502117048279                       0.0                 0.0   \n",
       "8195666413890855624                      0.0                 0.0   \n",
       "1021255754387999756                      0.0                 0.0   \n",
       "3346025930589681012                      0.0                 0.0   \n",
       "2635185139730802295                      0.0                 0.0   \n",
       "720417502689621109                       0.0                 0.0   \n",
       "6568290990578960286                      0.0                 0.0   \n",
       "8587200326180553172                      0.0                 0.0   \n",
       "3010974525956493734                      0.0                 0.0   \n",
       "6959256202803821448                      0.0                 0.0   \n",
       "4886451241740954262                      0.0                 0.0   \n",
       "3208072734138113787                      0.0                 0.0   \n",
       "8186187626752810740                      0.0                 0.0   \n",
       "5349388047238083470                      0.0                 0.0   \n",
       "1469041153459804920                      0.0                 0.0   \n",
       "6262630787021370932                      0.0                 0.0   \n",
       "594422714522326217                       0.0                 0.0   \n",
       "5671815735437755776                      0.0                 0.0   \n",
       "3387096027653176186                      0.0                 0.0   \n",
       "4133638727329008285                      0.0                 0.0   \n",
       "4354722066045082751                      0.0                 0.0   \n",
       "8268259315303812599                      0.0                 0.0   \n",
       "4464850825719320395                      0.0                 0.0   \n",
       "6594658365243328029                      0.0                 0.0   \n",
       "4593334345171871448                      0.0                 0.0   \n",
       "5211895678908712106                      0.0                 0.0   \n",
       "3064929268338896801                      0.0                 0.0   \n",
       "137512285336779908                       0.0                 0.0   \n",
       "\n",
       "                     cant_max_day  cant_min_day  \\\n",
       "ref_hash                                          \n",
       "1109595589636746168           0.0           0.0   \n",
       "5896614299191635403           0.0           0.0   \n",
       "4172466725848941608           0.0           0.0   \n",
       "2616279795187318849           0.0           0.0   \n",
       "8034952072073026056           0.0           0.0   \n",
       "8018738201130876812           0.0           0.0   \n",
       "4914962826064649332           0.0           0.0   \n",
       "3249069566262483358           0.0           0.0   \n",
       "3352762403977995643           0.0           0.0   \n",
       "9003488718010194664           0.0           0.0   \n",
       "6316156820043206702           0.0           0.0   \n",
       "428135616921543282            0.0           0.0   \n",
       "7347230414543084172           0.0           0.0   \n",
       "6298892176437350005           0.0           0.0   \n",
       "5128189485732854741           0.0           0.0   \n",
       "2124319147927886249           0.0           0.0   \n",
       "1281430993044277142           0.0           0.0   \n",
       "4571645257746762590           0.0           0.0   \n",
       "4850988154339783028           0.0           0.0   \n",
       "5558223844930936175           0.0           0.0   \n",
       "6707090658317158573           0.0           0.0   \n",
       "924843757656579603            0.0           0.0   \n",
       "8856956562722190039           0.0           0.0   \n",
       "7258770204996603517           0.0           0.0   \n",
       "3410336604334278300           0.0           0.0   \n",
       "363305050485954583            0.0           0.0   \n",
       "4266990110906792043           0.0           0.0   \n",
       "4333534296869874213           0.0           0.0   \n",
       "5050553211120634383           0.0           0.0   \n",
       "6016499480533449829           0.0           0.0   \n",
       "...                           ...           ...   \n",
       "5140651541097825030           1.0           1.0   \n",
       "3387645232443292351           1.0           1.0   \n",
       "917611502117048279            1.0           1.0   \n",
       "8195666413890855624           1.0           1.0   \n",
       "1021255754387999756           2.0           2.0   \n",
       "3346025930589681012           1.0           1.0   \n",
       "2635185139730802295           1.0           1.0   \n",
       "720417502689621109            1.0           1.0   \n",
       "6568290990578960286           1.0           1.0   \n",
       "8587200326180553172           1.0           1.0   \n",
       "3010974525956493734           1.0           1.0   \n",
       "6959256202803821448           1.0           1.0   \n",
       "4886451241740954262           1.0           1.0   \n",
       "3208072734138113787           1.0           1.0   \n",
       "8186187626752810740           1.0           1.0   \n",
       "5349388047238083470           1.0           1.0   \n",
       "1469041153459804920           1.0           1.0   \n",
       "6262630787021370932           1.0           1.0   \n",
       "594422714522326217            1.0           1.0   \n",
       "5671815735437755776           1.0           1.0   \n",
       "3387096027653176186           1.0           1.0   \n",
       "4133638727329008285           1.0           1.0   \n",
       "4354722066045082751           1.0           1.0   \n",
       "8268259315303812599           1.0           1.0   \n",
       "4464850825719320395           1.0           1.0   \n",
       "6594658365243328029           1.0           1.0   \n",
       "4593334345171871448           1.0           1.0   \n",
       "5211895678908712106           1.0           1.0   \n",
       "3064929268338896801           1.0           1.0   \n",
       "137512285336779908            1.0           1.0   \n",
       "\n",
       "                     amount_auctions_in_last_15_minutes  ...  \\\n",
       "ref_hash                                                 ...   \n",
       "1109595589636746168                                64.0  ...   \n",
       "5896614299191635403                                19.0  ...   \n",
       "4172466725848941608                                77.0  ...   \n",
       "2616279795187318849                                15.0  ...   \n",
       "8034952072073026056                                 3.0  ...   \n",
       "8018738201130876812                                12.0  ...   \n",
       "4914962826064649332                                54.0  ...   \n",
       "3249069566262483358                                57.0  ...   \n",
       "3352762403977995643                                18.0  ...   \n",
       "9003488718010194664                                 9.0  ...   \n",
       "6316156820043206702                                 9.0  ...   \n",
       "428135616921543282                                 39.0  ...   \n",
       "7347230414543084172                                53.0  ...   \n",
       "6298892176437350005                                 4.0  ...   \n",
       "5128189485732854741                                 2.0  ...   \n",
       "2124319147927886249                                80.0  ...   \n",
       "1281430993044277142                                 3.0  ...   \n",
       "4571645257746762590                                28.0  ...   \n",
       "4850988154339783028                                11.0  ...   \n",
       "5558223844930936175                                56.0  ...   \n",
       "6707090658317158573                                36.0  ...   \n",
       "924843757656579603                                 33.0  ...   \n",
       "8856956562722190039                                 8.0  ...   \n",
       "7258770204996603517                               170.0  ...   \n",
       "3410336604334278300                                13.0  ...   \n",
       "363305050485954583                                 12.0  ...   \n",
       "4266990110906792043                                12.0  ...   \n",
       "4333534296869874213                                77.0  ...   \n",
       "5050553211120634383                                 4.0  ...   \n",
       "6016499480533449829                                26.0  ...   \n",
       "...                                                 ...  ...   \n",
       "5140651541097825030                                 0.0  ...   \n",
       "3387645232443292351                                 0.0  ...   \n",
       "917611502117048279                                  0.0  ...   \n",
       "8195666413890855624                                 0.0  ...   \n",
       "1021255754387999756                                 0.0  ...   \n",
       "3346025930589681012                                 0.0  ...   \n",
       "2635185139730802295                                 0.0  ...   \n",
       "720417502689621109                                  0.0  ...   \n",
       "6568290990578960286                                 0.0  ...   \n",
       "8587200326180553172                                 0.0  ...   \n",
       "3010974525956493734                                 0.0  ...   \n",
       "6959256202803821448                                 0.0  ...   \n",
       "4886451241740954262                                 0.0  ...   \n",
       "3208072734138113787                                 0.0  ...   \n",
       "8186187626752810740                                 0.0  ...   \n",
       "5349388047238083470                                 0.0  ...   \n",
       "1469041153459804920                                 0.0  ...   \n",
       "6262630787021370932                                 0.0  ...   \n",
       "594422714522326217                                  0.0  ...   \n",
       "5671815735437755776                                 0.0  ...   \n",
       "3387096027653176186                                 0.0  ...   \n",
       "4133638727329008285                                 0.0  ...   \n",
       "4354722066045082751                                 0.0  ...   \n",
       "8268259315303812599                                 0.0  ...   \n",
       "4464850825719320395                                 0.0  ...   \n",
       "6594658365243328029                                 0.0  ...   \n",
       "4593334345171871448                                 0.0  ...   \n",
       "5211895678908712106                                 0.0  ...   \n",
       "3064929268338896801                                 0.0  ...   \n",
       "137512285336779908                                  0.0  ...   \n",
       "\n",
       "                     std_time_to_click  min_time_click  max_time_click  \\\n",
       "ref_hash                                                                 \n",
       "1109595589636746168                NaN             NaN             NaN   \n",
       "5896614299191635403                NaN             NaN             NaN   \n",
       "4172466725848941608                NaN             NaN             NaN   \n",
       "2616279795187318849                NaN             NaN             NaN   \n",
       "8034952072073026056                NaN             NaN             NaN   \n",
       "8018738201130876812                NaN             NaN             NaN   \n",
       "4914962826064649332                NaN             NaN             NaN   \n",
       "3249069566262483358                NaN             NaN             NaN   \n",
       "3352762403977995643                NaN             NaN             NaN   \n",
       "9003488718010194664                NaN             NaN             NaN   \n",
       "6316156820043206702                NaN             NaN             NaN   \n",
       "428135616921543282                 NaN             NaN             NaN   \n",
       "7347230414543084172                NaN             NaN             NaN   \n",
       "6298892176437350005                NaN             NaN             NaN   \n",
       "5128189485732854741                NaN             NaN             NaN   \n",
       "2124319147927886249                NaN             NaN             NaN   \n",
       "1281430993044277142                NaN             NaN             NaN   \n",
       "4571645257746762590                NaN             NaN             NaN   \n",
       "4850988154339783028                NaN             NaN             NaN   \n",
       "5558223844930936175                NaN             NaN             NaN   \n",
       "6707090658317158573                NaN             NaN             NaN   \n",
       "924843757656579603                 NaN             NaN             NaN   \n",
       "8856956562722190039                NaN             NaN             NaN   \n",
       "7258770204996603517                NaN             NaN             NaN   \n",
       "3410336604334278300                NaN             NaN             NaN   \n",
       "363305050485954583                 NaN             NaN             NaN   \n",
       "4266990110906792043                NaN             NaN             NaN   \n",
       "4333534296869874213                NaN             NaN             NaN   \n",
       "5050553211120634383                NaN             NaN             NaN   \n",
       "6016499480533449829                NaN             NaN             NaN   \n",
       "...                                ...             ...             ...   \n",
       "5140651541097825030                NaN             NaN             NaN   \n",
       "3387645232443292351                NaN             NaN             NaN   \n",
       "917611502117048279                 NaN             NaN             NaN   \n",
       "8195666413890855624                NaN             NaN             NaN   \n",
       "1021255754387999756                NaN          15.822          15.822   \n",
       "3346025930589681012                NaN             NaN             NaN   \n",
       "2635185139730802295                NaN             NaN             NaN   \n",
       "720417502689621109                 NaN             NaN             NaN   \n",
       "6568290990578960286                NaN             NaN             NaN   \n",
       "8587200326180553172                NaN             NaN             NaN   \n",
       "3010974525956493734                NaN             NaN             NaN   \n",
       "6959256202803821448                NaN             NaN             NaN   \n",
       "4886451241740954262                NaN             NaN             NaN   \n",
       "3208072734138113787                NaN             NaN             NaN   \n",
       "8186187626752810740                NaN             NaN             NaN   \n",
       "5349388047238083470                NaN             NaN             NaN   \n",
       "1469041153459804920                NaN             NaN             NaN   \n",
       "6262630787021370932                NaN             NaN             NaN   \n",
       "594422714522326217                 NaN             NaN             NaN   \n",
       "5671815735437755776                NaN             NaN             NaN   \n",
       "3387096027653176186                NaN             NaN             NaN   \n",
       "4133638727329008285                NaN             NaN             NaN   \n",
       "4354722066045082751                NaN             NaN             NaN   \n",
       "8268259315303812599                NaN             NaN             NaN   \n",
       "4464850825719320395                NaN             NaN             NaN   \n",
       "6594658365243328029                NaN             NaN             NaN   \n",
       "4593334345171871448                NaN             NaN             NaN   \n",
       "5211895678908712106                NaN             NaN             NaN   \n",
       "3064929268338896801                NaN             NaN             NaN   \n",
       "137512285336779908                 NaN             NaN             NaN   \n",
       "\n",
       "                     mean_time_to_click  time_to_reappear  \\\n",
       "ref_hash                                                    \n",
       "1109595589636746168                 NaN       2040.566247   \n",
       "5896614299191635403                 NaN       1774.713163   \n",
       "4172466725848941608                 NaN        939.833766   \n",
       "2616279795187318849                 NaN       1286.757667   \n",
       "8034952072073026056                 NaN       1557.077744   \n",
       "8018738201130876812                 NaN        157.454569   \n",
       "4914962826064649332                 NaN       4091.415928   \n",
       "3249069566262483358                 NaN         18.939091   \n",
       "3352762403977995643                 NaN        862.762293   \n",
       "9003488718010194664                 NaN       6362.438392   \n",
       "6316156820043206702                 NaN       2481.434458   \n",
       "428135616921543282                  NaN        701.477804   \n",
       "7347230414543084172                 NaN       1694.032339   \n",
       "6298892176437350005                 NaN      25007.364785   \n",
       "5128189485732854741                 NaN        684.480432   \n",
       "2124319147927886249                 NaN        612.312042   \n",
       "1281430993044277142                 NaN       6750.290462   \n",
       "4571645257746762590                 NaN       3858.165172   \n",
       "4850988154339783028                 NaN       5131.063135   \n",
       "5558223844930936175                 NaN        443.906465   \n",
       "6707090658317158573                 NaN        452.922314   \n",
       "924843757656579603                  NaN        349.964235   \n",
       "8856956562722190039                 NaN       4758.216298   \n",
       "7258770204996603517                 NaN        493.000753   \n",
       "3410336604334278300                 NaN       1094.623930   \n",
       "363305050485954583                  NaN        170.266413   \n",
       "4266990110906792043                 NaN      13975.648424   \n",
       "4333534296869874213                 NaN       1169.633681   \n",
       "5050553211120634383                 NaN        478.740767   \n",
       "6016499480533449829                 NaN        969.727610   \n",
       "...                                 ...               ...   \n",
       "5140651541097825030                 NaN               NaN   \n",
       "3387645232443292351                 NaN               NaN   \n",
       "917611502117048279                  NaN               NaN   \n",
       "8195666413890855624                 NaN               NaN   \n",
       "1021255754387999756              15.822               NaN   \n",
       "3346025930589681012                 NaN               NaN   \n",
       "2635185139730802295                 NaN               NaN   \n",
       "720417502689621109                  NaN               NaN   \n",
       "6568290990578960286                 NaN               NaN   \n",
       "8587200326180553172                 NaN               NaN   \n",
       "3010974525956493734                 NaN               NaN   \n",
       "6959256202803821448                 NaN               NaN   \n",
       "4886451241740954262                 NaN               NaN   \n",
       "3208072734138113787                 NaN               NaN   \n",
       "8186187626752810740                 NaN               NaN   \n",
       "5349388047238083470                 NaN               NaN   \n",
       "1469041153459804920                 NaN               NaN   \n",
       "6262630787021370932                 NaN               NaN   \n",
       "594422714522326217                  NaN               NaN   \n",
       "5671815735437755776                 NaN               NaN   \n",
       "3387096027653176186                 NaN               NaN   \n",
       "4133638727329008285                 NaN               NaN   \n",
       "4354722066045082751                 NaN               NaN   \n",
       "8268259315303812599                 NaN               NaN   \n",
       "4464850825719320395                 NaN               NaN   \n",
       "6594658365243328029                 NaN               NaN   \n",
       "4593334345171871448                 NaN               NaN   \n",
       "5211895678908712106                 NaN               NaN   \n",
       "3064929268338896801                 NaN               NaN   \n",
       "137512285336779908                  NaN               NaN   \n",
       "\n",
       "                     mean_auctions_per_day  mean_events_per_day  \\\n",
       "ref_hash                                                          \n",
       "1109595589636746168              64.000000                  NaN   \n",
       "5896614299191635403              46.000000                  NaN   \n",
       "4172466725848941608              84.000000                  NaN   \n",
       "2616279795187318849              63.666667                  2.0   \n",
       "8034952072073026056              55.333333                  NaN   \n",
       "8018738201130876812             549.000000                  NaN   \n",
       "4914962826064649332              29.000000                  2.0   \n",
       "3249069566262483358             130.000000                  NaN   \n",
       "3352762403977995643              92.333333                  NaN   \n",
       "9003488718010194664              13.500000                  2.0   \n",
       "6316156820043206702              34.666667                  NaN   \n",
       "428135616921543282              116.666667                  NaN   \n",
       "7347230414543084172              37.000000                  NaN   \n",
       "6298892176437350005               4.500000                  NaN   \n",
       "5128189485732854741               4.000000                  NaN   \n",
       "2124319147927886249             126.666667                  NaN   \n",
       "1281430993044277142               7.500000                  NaN   \n",
       "4571645257746762590              31.500000                  2.0   \n",
       "4850988154339783028              16.666667                 10.0   \n",
       "5558223844930936175             151.333333                  NaN   \n",
       "6707090658317158573             172.333333                  NaN   \n",
       "924843757656579603              153.000000                  NaN   \n",
       "8856956562722190039              27.000000                  NaN   \n",
       "7258770204996603517             255.500000                  NaN   \n",
       "3410336604334278300              72.000000                  NaN   \n",
       "363305050485954583              482.500000                  NaN   \n",
       "4266990110906792043               7.500000                  5.0   \n",
       "4333534296869874213              69.333333                  9.0   \n",
       "5050553211120634383             271.000000                  NaN   \n",
       "6016499480533449829              86.000000                  NaN   \n",
       "...                                    ...                  ...   \n",
       "5140651541097825030                    NaN                  NaN   \n",
       "3387645232443292351                    NaN                  NaN   \n",
       "917611502117048279                     NaN                  NaN   \n",
       "8195666413890855624                    NaN                  NaN   \n",
       "1021255754387999756                    NaN                  NaN   \n",
       "3346025930589681012                    NaN                  NaN   \n",
       "2635185139730802295                    NaN                  NaN   \n",
       "720417502689621109                     NaN                  NaN   \n",
       "6568290990578960286                    NaN                  NaN   \n",
       "8587200326180553172                    NaN                  NaN   \n",
       "3010974525956493734                    NaN                  NaN   \n",
       "6959256202803821448                    NaN                  NaN   \n",
       "4886451241740954262                    NaN                  NaN   \n",
       "3208072734138113787                    NaN                  NaN   \n",
       "8186187626752810740                    NaN                  NaN   \n",
       "5349388047238083470                    NaN                  NaN   \n",
       "1469041153459804920                    NaN                  NaN   \n",
       "6262630787021370932                    NaN                  NaN   \n",
       "594422714522326217                     NaN                  NaN   \n",
       "5671815735437755776                    NaN                  NaN   \n",
       "3387096027653176186                    NaN                  NaN   \n",
       "4133638727329008285                    NaN                  NaN   \n",
       "4354722066045082751                    NaN                  NaN   \n",
       "8268259315303812599                    NaN                  NaN   \n",
       "4464850825719320395                    NaN                  NaN   \n",
       "6594658365243328029                    NaN                  NaN   \n",
       "4593334345171871448                    NaN                  NaN   \n",
       "5211895678908712106                    NaN                  NaN   \n",
       "3064929268338896801                    NaN                  NaN   \n",
       "137512285336779908                     NaN                  NaN   \n",
       "\n",
       "                     mean_clicks_per_day  dayofweek_auctions  \\\n",
       "ref_hash                                                       \n",
       "1109595589636746168                  NaN            4.671875   \n",
       "5896614299191635403                  NaN            5.000000   \n",
       "4172466725848941608                  NaN            4.742063   \n",
       "2616279795187318849                  NaN            3.790576   \n",
       "8034952072073026056                  NaN            3.987952   \n",
       "8018738201130876812                  NaN            4.186400   \n",
       "4914962826064649332                  NaN            4.965517   \n",
       "3249069566262483358                  NaN            5.000000   \n",
       "3352762403977995643                  NaN            3.534296   \n",
       "9003488718010194664                  NaN            4.333333   \n",
       "6316156820043206702                  NaN            4.307692   \n",
       "428135616921543282                   NaN            4.085714   \n",
       "7347230414543084172                  NaN            4.756757   \n",
       "6298892176437350005                  NaN            3.888889   \n",
       "5128189485732854741                  NaN            5.000000   \n",
       "2124319147927886249                  NaN            4.536842   \n",
       "1281430993044277142                  NaN            4.200000   \n",
       "4571645257746762590                  NaN            4.714286   \n",
       "4850988154339783028                  NaN            4.660000   \n",
       "5558223844930936175                  NaN            4.035242   \n",
       "6707090658317158573                  NaN            4.003868   \n",
       "924843757656579603                   NaN            4.745098   \n",
       "8856956562722190039                  NaN            3.407407   \n",
       "7258770204996603517                  NaN            3.966732   \n",
       "3410336604334278300                  NaN            4.060185   \n",
       "363305050485954583                   NaN            4.215544   \n",
       "4266990110906792043                  NaN            4.600000   \n",
       "4333534296869874213                  NaN            3.745192   \n",
       "5050553211120634383                  NaN            4.630996   \n",
       "6016499480533449829                  NaN            5.000000   \n",
       "...                                  ...                 ...   \n",
       "5140651541097825030                  1.0            0.000000   \n",
       "3387645232443292351                  1.0            0.000000   \n",
       "917611502117048279                   1.0            0.000000   \n",
       "8195666413890855624                  1.0            0.000000   \n",
       "1021255754387999756                  2.0            0.000000   \n",
       "3346025930589681012                  1.0            0.000000   \n",
       "2635185139730802295                  1.0            0.000000   \n",
       "720417502689621109                   1.0            0.000000   \n",
       "6568290990578960286                  1.0            0.000000   \n",
       "8587200326180553172                  1.0            0.000000   \n",
       "3010974525956493734                  1.0            0.000000   \n",
       "6959256202803821448                  1.0            0.000000   \n",
       "4886451241740954262                  1.0            0.000000   \n",
       "3208072734138113787                  1.0            0.000000   \n",
       "8186187626752810740                  1.0            0.000000   \n",
       "5349388047238083470                  1.0            0.000000   \n",
       "1469041153459804920                  1.0            0.000000   \n",
       "6262630787021370932                  1.0            0.000000   \n",
       "594422714522326217                   1.0            0.000000   \n",
       "5671815735437755776                  1.0            0.000000   \n",
       "3387096027653176186                  1.0            0.000000   \n",
       "4133638727329008285                  1.0            0.000000   \n",
       "4354722066045082751                  1.0            0.000000   \n",
       "8268259315303812599                  1.0            0.000000   \n",
       "4464850825719320395                  1.0            0.000000   \n",
       "6594658365243328029                  1.0            0.000000   \n",
       "4593334345171871448                  1.0            0.000000   \n",
       "5211895678908712106                  1.0            0.000000   \n",
       "3064929268338896801                  1.0            0.000000   \n",
       "137512285336779908                   1.0            0.000000   \n",
       "\n",
       "                     dayofweek_installs  \n",
       "ref_hash                                 \n",
       "1109595589636746168                 0.0  \n",
       "5896614299191635403                 4.0  \n",
       "4172466725848941608                 0.0  \n",
       "2616279795187318849                 0.0  \n",
       "8034952072073026056                 4.0  \n",
       "8018738201130876812                 0.0  \n",
       "4914962826064649332                 0.0  \n",
       "3249069566262483358                 5.0  \n",
       "3352762403977995643                 0.0  \n",
       "9003488718010194664                 0.0  \n",
       "6316156820043206702                 0.0  \n",
       "428135616921543282                  0.0  \n",
       "7347230414543084172                 4.0  \n",
       "6298892176437350005                 0.0  \n",
       "5128189485732854741                 0.0  \n",
       "2124319147927886249                 0.0  \n",
       "1281430993044277142                 0.0  \n",
       "4571645257746762590                 4.0  \n",
       "4850988154339783028                 0.0  \n",
       "5558223844930936175                 0.0  \n",
       "6707090658317158573                 0.0  \n",
       "924843757656579603                  0.0  \n",
       "8856956562722190039                 0.0  \n",
       "7258770204996603517                 0.0  \n",
       "3410336604334278300                 0.0  \n",
       "363305050485954583                  0.0  \n",
       "4266990110906792043                 4.0  \n",
       "4333534296869874213                 0.0  \n",
       "5050553211120634383                 0.0  \n",
       "6016499480533449829                 4.0  \n",
       "...                                 ...  \n",
       "5140651541097825030                 0.0  \n",
       "3387645232443292351                 0.0  \n",
       "917611502117048279                  0.0  \n",
       "8195666413890855624                 0.0  \n",
       "1021255754387999756                 0.0  \n",
       "3346025930589681012                 0.0  \n",
       "2635185139730802295                 0.0  \n",
       "720417502689621109                  0.0  \n",
       "6568290990578960286                 0.0  \n",
       "8587200326180553172                 0.0  \n",
       "3010974525956493734                 0.0  \n",
       "6959256202803821448                 0.0  \n",
       "4886451241740954262                 0.0  \n",
       "3208072734138113787                 0.0  \n",
       "8186187626752810740                 0.0  \n",
       "5349388047238083470                 0.0  \n",
       "1469041153459804920                 0.0  \n",
       "6262630787021370932                 0.0  \n",
       "594422714522326217                  0.0  \n",
       "5671815735437755776                 0.0  \n",
       "3387096027653176186                 0.0  \n",
       "4133638727329008285                 0.0  \n",
       "4354722066045082751                 0.0  \n",
       "8268259315303812599                 0.0  \n",
       "4464850825719320395                 0.0  \n",
       "6594658365243328029                 0.0  \n",
       "4593334345171871448                 0.0  \n",
       "5211895678908712106                 0.0  \n",
       "3064929268338896801                 0.0  \n",
       "137512285336779908                  0.0  \n",
       "\n",
       "[426756 rows x 108 columns]"
      ]
     },
     "execution_count": 32,
     "metadata": {},
     "output_type": "execute_result"
    }
   ],
   "source": [
    "windows[0][\"features\"]"
   ]
  },
  {
   "cell_type": "code",
   "execution_count": null,
   "metadata": {},
   "outputs": [],
   "source": [
    "windows[0][\"features\"].columns"
   ]
  },
  {
   "cell_type": "code",
   "execution_count": null,
   "metadata": {},
   "outputs": [],
   "source": []
  }
 ],
 "metadata": {
  "kernelspec": {
   "display_name": "Python 3",
   "language": "python",
   "name": "python3"
  },
  "language_info": {
   "codemirror_mode": {
    "name": "ipython",
    "version": 3
   },
   "file_extension": ".py",
   "mimetype": "text/x-python",
   "name": "python",
   "nbconvert_exporter": "python",
   "pygments_lexer": "ipython3",
   "version": "3.7.1"
  }
 },
 "nbformat": 4,
 "nbformat_minor": 2
}
