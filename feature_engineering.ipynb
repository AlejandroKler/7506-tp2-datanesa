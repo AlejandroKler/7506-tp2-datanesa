{
 "cells": [
  {
   "cell_type": "code",
   "execution_count": 1,
   "metadata": {},
   "outputs": [],
   "source": [
    "import pandas as pd\n",
    "import numpy as np"
   ]
  },
  {
   "cell_type": "markdown",
   "metadata": {},
   "source": [
    "###  Carga de datos"
   ]
  },
  {
   "cell_type": "code",
   "execution_count": 2,
   "metadata": {},
   "outputs": [],
   "source": [
    "auctions = pd.read_csv(\"auctions.csv\", dtype={\"ref_type_id\": np.uint8, \"source_id\": np.uint8})\n",
    "auctions[\"date\"] =  pd.to_datetime(auctions[\"date\"], errors = \"coerce\")"
   ]
  },
  {
   "cell_type": "code",
   "execution_count": 3,
   "metadata": {},
   "outputs": [],
   "source": [
    "clicks = pd.read_csv('clicks.csv', low_memory=False)\n",
    "clicks[\"created\"] =  pd.to_datetime(clicks[\"created\"], errors = \"coerce\")"
   ]
  },
  {
   "cell_type": "code",
   "execution_count": null,
   "metadata": {},
   "outputs": [],
   "source": [
    "events = pd.read_csv('events.csv', low_memory=False)\n",
    "events[\"date\"] =  pd.to_datetime(events[\"date\"], errors = \"coerce\")"
   ]
  },
  {
   "cell_type": "code",
   "execution_count": 4,
   "metadata": {},
   "outputs": [],
   "source": [
    "installs = pd.read_csv('installs.csv', low_memory = False)\n",
    "installs[\"created\"] =  pd.to_datetime(installs[\"created\"], errors = \"coerce\") "
   ]
  },
  {
   "cell_type": "markdown",
   "metadata": {},
   "source": [
    "### Partición de los datos por ventanas"
   ]
  },
  {
   "cell_type": "code",
   "execution_count": 5,
   "metadata": {},
   "outputs": [],
   "source": [
    "#la fecha final debe ser las 00hs del día siguiente a la fecha final de la ventana\n",
    "def create_window(df, initial_date, final_date, date_feature_name):\n",
    "    initial = pd.to_datetime(initial_date)\n",
    "    final = pd.to_datetime(final_date)\n",
    "    return df.loc[ (df[date_feature_name] >= initial) \\\n",
    "                  & (df[date_feature_name] < final) ]"
   ]
  },
  {
   "cell_type": "code",
   "execution_count": 6,
   "metadata": {},
   "outputs": [],
   "source": [
    "auctions_18_20 =  create_window(auctions, \"2019-04-18\", \"2019-04-21\", \"date\")\n",
    "auctions_19_21 =  create_window(auctions, \"2019-04-19\", \"2019-04-22\", \"date\")\n",
    "auctions_20_22 =  create_window(auctions, \"2019-04-20\", \"2019-04-23\", \"date\")\n",
    "auctions_21_23 =  create_window(auctions, \"2019-04-21\", \"2019-04-24\", \"date\")\n",
    "auctions_22_24 =  create_window(auctions, \"2019-04-22\", \"2019-04-25\", \"date\")"
   ]
  },
  {
   "cell_type": "code",
   "execution_count": null,
   "metadata": {},
   "outputs": [],
   "source": [
    "events_18_20 =  create_window(events, \"2019-04-18\", \"2019-04-21\", \"date\")\n",
    "events_19_21 =  create_window(events, \"2019-04-19\", \"2019-04-22\", \"date\")\n",
    "events_20_22 =  create_window(events, \"2019-04-20\", \"2019-04-23\", \"date\")\n",
    "events_21_23 =  create_window(events, \"2019-04-21\", \"2019-04-24\", \"date\")\n",
    "events_22_24 =  create_window(events, \"2019-04-22\", \"2019-04-25\", \"date\")"
   ]
  },
  {
   "cell_type": "code",
   "execution_count": 7,
   "metadata": {},
   "outputs": [],
   "source": [
    "clicks_18_20 =  create_window(clicks, \"2019-04-18\", \"2019-04-21\", \"created\")\n",
    "clicks_19_21 =  create_window(clicks, \"2019-04-19\", \"2019-04-22\", \"created\")\n",
    "clicks_20_22 =  create_window(clicks, \"2019-04-20\", \"2019-04-23\", \"created\")\n",
    "clicks_21_23 =  create_window(clicks, \"2019-04-21\", \"2019-04-24\", \"created\")\n",
    "clicks_22_24 =  create_window(clicks, \"2019-04-22\", \"2019-04-25\", \"created\")"
   ]
  },
  {
   "cell_type": "code",
   "execution_count": 8,
   "metadata": {},
   "outputs": [],
   "source": [
    "installs_18_20 =  create_window(installs, \"2019-04-18\", \"2019-04-21\", \"created\")\n",
    "installs_19_21 =  create_window(installs, \"2019-04-19\", \"2019-04-22\", \"created\")\n",
    "installs_20_22 =  create_window(installs, \"2019-04-20\", \"2019-04-23\", \"created\")\n",
    "installs_21_23 =  create_window(installs, \"2019-04-21\", \"2019-04-24\", \"created\")\n",
    "installs_22_24 =  create_window(installs, \"2019-04-22\", \"2019-04-25\", \"created\")"
   ]
  },
  {
   "cell_type": "markdown",
   "metadata": {},
   "source": [
    "### Inicialización de df de features"
   ]
  },
  {
   "cell_type": "code",
   "execution_count": 9,
   "metadata": {},
   "outputs": [],
   "source": [
    "#le pasamos a esta funcion el dataframe de la ventana a la cual deseemos agregarle features posteriormente\n",
    "def initialize_trainning_df(df, index_name):\n",
    "    trainning_df = pd.DataFrame(df[index_name].unique())\n",
    "    trainning_df.columns = ['ref_hash']\n",
    "    trainning_df = trainning_df.set_index('ref_hash')\n",
    "    return trainning_df"
   ]
  },
  {
   "cell_type": "code",
   "execution_count": 15,
   "metadata": {},
   "outputs": [
    {
     "data": {
      "text/html": [
       "<div>\n",
       "<style scoped>\n",
       "    .dataframe tbody tr th:only-of-type {\n",
       "        vertical-align: middle;\n",
       "    }\n",
       "\n",
       "    .dataframe tbody tr th {\n",
       "        vertical-align: top;\n",
       "    }\n",
       "\n",
       "    .dataframe thead th {\n",
       "        text-align: right;\n",
       "    }\n",
       "</style>\n",
       "<table border=\"1\" class=\"dataframe\">\n",
       "  <thead>\n",
       "    <tr style=\"text-align: right;\">\n",
       "      <th></th>\n",
       "    </tr>\n",
       "    <tr>\n",
       "      <th>ref_hash</th>\n",
       "    </tr>\n",
       "  </thead>\n",
       "  <tbody>\n",
       "    <tr>\n",
       "      <th>5230323462636548010</th>\n",
       "    </tr>\n",
       "    <tr>\n",
       "      <th>5097163995161606833</th>\n",
       "    </tr>\n",
       "    <tr>\n",
       "      <th>6328027616411983332</th>\n",
       "    </tr>\n",
       "  </tbody>\n",
       "</table>\n",
       "</div>"
      ],
      "text/plain": [
       "Empty DataFrame\n",
       "Columns: []\n",
       "Index: [5230323462636548010, 5097163995161606833, 6328027616411983332]"
      ]
     },
     "execution_count": 15,
     "metadata": {},
     "output_type": "execute_result"
    }
   ],
   "source": [
    "example = initialize_trainning_df(installs_18_20, \"ref_hash\")\n",
    "example.head(3)"
   ]
  },
  {
   "cell_type": "markdown",
   "metadata": {},
   "source": [
    "> # Sección para añadir features"
   ]
  },
  {
   "cell_type": "markdown",
   "metadata": {},
   "source": [
    "> *¡Atención! Antes de usar la función add_feature, setear como indice el id de los dispositivos en el df que contiene el feature que se desea agregar*"
   ]
  },
  {
   "cell_type": "code",
   "execution_count": 10,
   "metadata": {},
   "outputs": [],
   "source": [
    "def charge_df(csv_name, dict_dtypes = None):\n",
    "    return pd.read_csv(csv_name, dict_dtypes)"
   ]
  },
  {
   "cell_type": "code",
   "execution_count": 70,
   "metadata": {},
   "outputs": [],
   "source": [
    "def add_feature(df_features, df_to_join, feature_name, fill = 0):\n",
    "    df_features = df_features.merge(df_to_join[[feature_name]], how = 'left', left_index = True, right_index = True).\\\n",
    "    fillna(fill)\n",
    "    return df_features"
   ]
  },
  {
   "cell_type": "markdown",
   "metadata": {},
   "source": [
    "Para no tener que volver a computar las operaciones, una vez agregados los features podemos guardar el estado final del df de features"
   ]
  },
  {
   "cell_type": "code",
   "execution_count": 12,
   "metadata": {},
   "outputs": [],
   "source": [
    "def save_changes(df, file_name):\n",
    "    df.to_csv(file_name, index = True)"
   ]
  },
  {
   "cell_type": "markdown",
   "metadata": {},
   "source": [
    "# **Auctions**"
   ]
  },
  {
   "cell_type": "code",
   "execution_count": 96,
   "metadata": {},
   "outputs": [
    {
     "data": {
      "text/html": [
       "<div>\n",
       "<style scoped>\n",
       "    .dataframe tbody tr th:only-of-type {\n",
       "        vertical-align: middle;\n",
       "    }\n",
       "\n",
       "    .dataframe tbody tr th {\n",
       "        vertical-align: top;\n",
       "    }\n",
       "\n",
       "    .dataframe thead th {\n",
       "        text-align: right;\n",
       "    }\n",
       "</style>\n",
       "<table border=\"1\" class=\"dataframe\">\n",
       "  <thead>\n",
       "    <tr style=\"text-align: right;\">\n",
       "      <th></th>\n",
       "    </tr>\n",
       "    <tr>\n",
       "      <th>ref_hash</th>\n",
       "    </tr>\n",
       "  </thead>\n",
       "  <tbody>\n",
       "    <tr>\n",
       "      <th>1109595589636746168</th>\n",
       "    </tr>\n",
       "  </tbody>\n",
       "</table>\n",
       "</div>"
      ],
      "text/plain": [
       "Empty DataFrame\n",
       "Columns: []\n",
       "Index: [1109595589636746168]"
      ]
     },
     "execution_count": 96,
     "metadata": {},
     "output_type": "execute_result"
    }
   ],
   "source": [
    "auc_18_20_features = initialize_trainning_df(auctions_18_20, \"device_id\")\n",
    "auc_18_20_features.head(1)"
   ]
  },
  {
   "cell_type": "markdown",
   "metadata": {},
   "source": [
    "> ### ***Feature 1: cantidad de veces que el usuario aparece en una subasta***"
   ]
  },
  {
   "cell_type": "code",
   "execution_count": 97,
   "metadata": {},
   "outputs": [
    {
     "name": "stderr",
     "output_type": "stream",
     "text": [
      "C:\\Users\\leobe\\Anaconda3\\lib\\site-packages\\ipykernel_launcher.py:1: SettingWithCopyWarning: \n",
      "A value is trying to be set on a copy of a slice from a DataFrame.\n",
      "Try using .loc[row_indexer,col_indexer] = value instead\n",
      "\n",
      "See the caveats in the documentation: http://pandas.pydata.org/pandas-docs/stable/indexing.html#indexing-view-versus-copy\n",
      "  \"\"\"Entry point for launching an IPython kernel.\n"
     ]
    }
   ],
   "source": [
    "auctions_18_20['appearances_in_auctions'] = 1\n",
    "auc_feature1 = auctions_18_20.groupby('device_id').agg({'appearances_in_auctions': 'count'})\n",
    "auc_18_20_features = add_feature(auc_18_20_features, auc_feature1, \"appearances_in_auctions\")"
   ]
  },
  {
   "cell_type": "code",
   "execution_count": 99,
   "metadata": {},
   "outputs": [
    {
     "data": {
      "text/html": [
       "<div>\n",
       "<style scoped>\n",
       "    .dataframe tbody tr th:only-of-type {\n",
       "        vertical-align: middle;\n",
       "    }\n",
       "\n",
       "    .dataframe tbody tr th {\n",
       "        vertical-align: top;\n",
       "    }\n",
       "\n",
       "    .dataframe thead th {\n",
       "        text-align: right;\n",
       "    }\n",
       "</style>\n",
       "<table border=\"1\" class=\"dataframe\">\n",
       "  <thead>\n",
       "    <tr style=\"text-align: right;\">\n",
       "      <th></th>\n",
       "      <th>appearances_in_auctions</th>\n",
       "    </tr>\n",
       "    <tr>\n",
       "      <th>ref_hash</th>\n",
       "      <th></th>\n",
       "    </tr>\n",
       "  </thead>\n",
       "  <tbody>\n",
       "    <tr>\n",
       "      <th>1109595589636746168</th>\n",
       "      <td>128</td>\n",
       "    </tr>\n",
       "  </tbody>\n",
       "</table>\n",
       "</div>"
      ],
      "text/plain": [
       "                     appearances_in_auctions\n",
       "ref_hash                                    \n",
       "1109595589636746168                      128"
      ]
     },
     "execution_count": 99,
     "metadata": {},
     "output_type": "execute_result"
    }
   ],
   "source": [
    "auc_18_20_features.head(1)"
   ]
  },
  {
   "cell_type": "markdown",
   "metadata": {},
   "source": [
    "> ### ***Feature 2: ¿apareció en una subasta el último día?***"
   ]
  },
  {
   "cell_type": "code",
   "execution_count": 104,
   "metadata": {},
   "outputs": [
    {
     "name": "stderr",
     "output_type": "stream",
     "text": [
      "C:\\Users\\leobe\\Anaconda3\\lib\\site-packages\\ipykernel_launcher.py:2: SettingWithCopyWarning: \n",
      "A value is trying to be set on a copy of a slice from a DataFrame.\n",
      "Try using .loc[row_indexer,col_indexer] = value instead\n",
      "\n",
      "See the caveats in the documentation: http://pandas.pydata.org/pandas-docs/stable/indexing.html#indexing-view-versus-copy\n",
      "  \n"
     ]
    }
   ],
   "source": [
    "auc_feature2 = auctions_18_20.loc[auctions_18_20[\"date\"].dt.day == 20]\n",
    "auc_feature2['user_appeared_last_day'] = 1\n",
    "auc_feature2 = auc_feature2.groupby('device_id').agg({'user_appeared_last_day' : 'first'})\n",
    "auc_18_20_features = add_feature(auc_18_20_features, auc_feature2, \"user_appeared_last_day\")"
   ]
  },
  {
   "cell_type": "markdown",
   "metadata": {},
   "source": [
    "> ### ***Feature 3: en promedio, ¿ cuánto tardo el usuario en reaparecer en una subasta?***"
   ]
  },
  {
   "cell_type": "code",
   "execution_count": 115,
   "metadata": {},
   "outputs": [],
   "source": [
    "def calculate_time_to_reappear(df, feature_date_name, feature_id_name):\n",
    "    df_sorted = df.sort_values([feature_id_name, feature_date_name], ascending = True)\n",
    "    df_sorted['time_to_reappear'] = np.\\\n",
    "    where(df_sorted[feature_id_name] == \\\n",
    "          df_sorted[feature_id_name].shift(), df_sorted[feature_date_name] - df_sorted[feature_date_name].shift(1), np.nan)\n",
    "    df_sorted['time_to_reappear'] = df_sorted['time_to_reappear'].dt.total_seconds()\n",
    "    df_sorted['time_to_reappear'] = df_sorted['time_to_reappear'].fillna(259200) #to check\n",
    "    df_sorted = df_sorted.groupby(feature_id_name).agg({'time_to_reappear': 'mean'})\n",
    "    return df_sorted"
   ]
  },
  {
   "cell_type": "code",
   "execution_count": 116,
   "metadata": {},
   "outputs": [],
   "source": [
    "auc_feature3 = calculate_time_to_reappear(auctions_18_20, \"date\", \"device_id\")\n",
    "auc_18_20_features = add_feature(auc_18_20_features, auc_feature3, \"time_to_reappear\")"
   ]
  },
  {
   "cell_type": "markdown",
   "metadata": {},
   "source": [
    "> ### Save changes"
   ]
  },
  {
   "cell_type": "code",
   "execution_count": 120,
   "metadata": {},
   "outputs": [],
   "source": [
    "save_changes(auc_18_20_features, \"auc_18_20_features.csv\")"
   ]
  },
  {
   "cell_type": "markdown",
   "metadata": {},
   "source": [
    "# **Installs**"
   ]
  },
  {
   "cell_type": "code",
   "execution_count": 90,
   "metadata": {},
   "outputs": [
    {
     "data": {
      "text/html": [
       "<div>\n",
       "<style scoped>\n",
       "    .dataframe tbody tr th:only-of-type {\n",
       "        vertical-align: middle;\n",
       "    }\n",
       "\n",
       "    .dataframe tbody tr th {\n",
       "        vertical-align: top;\n",
       "    }\n",
       "\n",
       "    .dataframe thead th {\n",
       "        text-align: right;\n",
       "    }\n",
       "</style>\n",
       "<table border=\"1\" class=\"dataframe\">\n",
       "  <thead>\n",
       "    <tr style=\"text-align: right;\">\n",
       "      <th></th>\n",
       "    </tr>\n",
       "    <tr>\n",
       "      <th>ref_hash</th>\n",
       "    </tr>\n",
       "  </thead>\n",
       "  <tbody>\n",
       "    <tr>\n",
       "      <th>5230323462636548010</th>\n",
       "    </tr>\n",
       "  </tbody>\n",
       "</table>\n",
       "</div>"
      ],
      "text/plain": [
       "Empty DataFrame\n",
       "Columns: []\n",
       "Index: [5230323462636548010]"
      ]
     },
     "execution_count": 90,
     "metadata": {},
     "output_type": "execute_result"
    }
   ],
   "source": [
    "inst_18_20_features = initialize_trainning_df(installs_18_20, \"ref_hash\")\n",
    "inst_18_20_features.head(1)"
   ]
  },
  {
   "cell_type": "markdown",
   "metadata": {},
   "source": [
    "> ### ***Feature 1: cantidad de clicks realizados por el usuario***"
   ]
  },
  {
   "cell_type": "code",
   "execution_count": 132,
   "metadata": {},
   "outputs": [
    {
     "name": "stderr",
     "output_type": "stream",
     "text": [
      "C:\\Users\\leobe\\Anaconda3\\lib\\site-packages\\ipykernel_launcher.py:1: SettingWithCopyWarning: \n",
      "A value is trying to be set on a copy of a slice from a DataFrame.\n",
      "Try using .loc[row_indexer,col_indexer] = value instead\n",
      "\n",
      "See the caveats in the documentation: http://pandas.pydata.org/pandas-docs/stable/indexing.html#indexing-view-versus-copy\n",
      "  \"\"\"Entry point for launching an IPython kernel.\n"
     ]
    }
   ],
   "source": [
    "clicks_18_20['amount_of_clicks'] = 1\n",
    "inst_feature1 = clicks_18_20.groupby('ref_hash').agg({'amount_of_clicks': 'count'})\n",
    "inst_18_20_features = add_feature(inst_18_20_features, inst_feature1, \"amount_of_clicks\")"
   ]
  },
  {
   "cell_type": "markdown",
   "metadata": {},
   "source": [
    "> ### ***Feature 2: ¿realizó una instalación?***"
   ]
  },
  {
   "cell_type": "code",
   "execution_count": 122,
   "metadata": {},
   "outputs": [
    {
     "name": "stderr",
     "output_type": "stream",
     "text": [
      "C:\\Users\\leobe\\Anaconda3\\lib\\site-packages\\ipykernel_launcher.py:1: SettingWithCopyWarning: \n",
      "A value is trying to be set on a copy of a slice from a DataFrame.\n",
      "Try using .loc[row_indexer,col_indexer] = value instead\n",
      "\n",
      "See the caveats in the documentation: http://pandas.pydata.org/pandas-docs/stable/indexing.html#indexing-view-versus-copy\n",
      "  \"\"\"Entry point for launching an IPython kernel.\n"
     ]
    }
   ],
   "source": [
    "installs_18_20['has_installed'] = 1\n",
    "inst_feature2 = installs_18_20.groupby('ref_hash').agg({'has_installed': 'first'})\n",
    "inst_18_20_features = add_feature(inst_18_20_features, inst_feature2, \"has_installed\")"
   ]
  },
  {
   "cell_type": "markdown",
   "metadata": {},
   "source": [
    "> ### ***Feature 3: ¿realizó un click el último día?***"
   ]
  },
  {
   "cell_type": "code",
   "execution_count": 128,
   "metadata": {},
   "outputs": [
    {
     "name": "stderr",
     "output_type": "stream",
     "text": [
      "C:\\Users\\leobe\\Anaconda3\\lib\\site-packages\\ipykernel_launcher.py:2: SettingWithCopyWarning: \n",
      "A value is trying to be set on a copy of a slice from a DataFrame.\n",
      "Try using .loc[row_indexer,col_indexer] = value instead\n",
      "\n",
      "See the caveats in the documentation: http://pandas.pydata.org/pandas-docs/stable/indexing.html#indexing-view-versus-copy\n",
      "  \n"
     ]
    }
   ],
   "source": [
    "inst_feature3 = clicks_18_20.loc[clicks_18_20[\"created\"].dt.day == 20]\n",
    "inst_feature3['user_clicked_last_day'] = 1\n",
    "inst_feature3 = inst_feature3.groupby('ref_hash').agg({'user_clicked_last_day' : 'first'})\n",
    "inst_18_20_features = add_feature(inst_18_20_features, inst_feature3, \"user_clicked_last_day\")"
   ]
  },
  {
   "cell_type": "markdown",
   "metadata": {},
   "source": [
    "> ### ***Feature 4: ¿realizó una instalación el último día?***"
   ]
  },
  {
   "cell_type": "code",
   "execution_count": 126,
   "metadata": {},
   "outputs": [
    {
     "name": "stderr",
     "output_type": "stream",
     "text": [
      "C:\\Users\\leobe\\Anaconda3\\lib\\site-packages\\ipykernel_launcher.py:2: SettingWithCopyWarning: \n",
      "A value is trying to be set on a copy of a slice from a DataFrame.\n",
      "Try using .loc[row_indexer,col_indexer] = value instead\n",
      "\n",
      "See the caveats in the documentation: http://pandas.pydata.org/pandas-docs/stable/indexing.html#indexing-view-versus-copy\n",
      "  \n"
     ]
    }
   ],
   "source": [
    "inst_feature4 = installs_18_20.loc[installs_18_20[\"created\"].dt.day == 20]\n",
    "inst_feature4['user_installed_last_day'] = 1\n",
    "inst_feature4 = inst_feature4.groupby('ref_hash').agg({'user_installed_last_day' : 'first'})\n",
    "inst_18_20_features = add_feature(inst_18_20_features, inst_feature4, \"user_installed_last_day\")"
   ]
  },
  {
   "cell_type": "markdown",
   "metadata": {},
   "source": [
    "> ### ***Feature 5: cantidad de instalaciones realizadas***"
   ]
  },
  {
   "cell_type": "code",
   "execution_count": 133,
   "metadata": {},
   "outputs": [
    {
     "name": "stderr",
     "output_type": "stream",
     "text": [
      "C:\\Users\\leobe\\Anaconda3\\lib\\site-packages\\ipykernel_launcher.py:1: SettingWithCopyWarning: \n",
      "A value is trying to be set on a copy of a slice from a DataFrame.\n",
      "Try using .loc[row_indexer,col_indexer] = value instead\n",
      "\n",
      "See the caveats in the documentation: http://pandas.pydata.org/pandas-docs/stable/indexing.html#indexing-view-versus-copy\n",
      "  \"\"\"Entry point for launching an IPython kernel.\n"
     ]
    }
   ],
   "source": [
    "installs_18_20['amount_of_installs'] = 1\n",
    "inst_feature5 = installs_18_20.groupby('ref_hash').agg({'amount_of_installs': 'count'})\n",
    "inst_18_20_features = add_feature(inst_18_20_features, inst_feature5, \"amount_of_installs\")"
   ]
  },
  {
   "cell_type": "markdown",
   "metadata": {},
   "source": [
    "> ### Save changes"
   ]
  },
  {
   "cell_type": "code",
   "execution_count": 137,
   "metadata": {},
   "outputs": [],
   "source": [
    "save_changes(inst_18_20_features, \"inst_18_20_features.csv\")"
   ]
  }
 ],
 "metadata": {
  "kernelspec": {
   "display_name": "Python 3",
   "language": "python",
   "name": "python3"
  },
  "language_info": {
   "codemirror_mode": {
    "name": "ipython",
    "version": 3
   },
   "file_extension": ".py",
   "mimetype": "text/x-python",
   "name": "python",
   "nbconvert_exporter": "python",
   "pygments_lexer": "ipython3",
   "version": "3.7.1"
  }
 },
 "nbformat": 4,
 "nbformat_minor": 2
}
