{
 "cells": [
  {
   "cell_type": "code",
   "execution_count": null,
   "metadata": {},
   "outputs": [],
   "source": [
    "import pandas as pd\n",
    "import numpy as np\n",
    "pd.set_option('mode.chained_assignment', None)\n",
    "features_list = [\n",
    "    'appearances_in_auctions',\n",
    "    'user_appeared_last_day',\n",
    "    'amount_of_clicks',\n",
    "    'has_installed',\n",
    "    'user_clicked_last_day',\n",
    "    'user_installed_last_day',\n",
    "    'amount_of_installs',\n",
    "    'mean_time_to_click',\n",
    "    'amount_auctions_in_last_hour',\n",
    "    'amount_auctions_in_last_2_hours',\n",
    "    'amount_auctions_in_last_5_hours',\n",
    "    'amount_auctions_in_last_12_hours',\n",
    "    'amount_auctions_in_last_24_hours',\n",
    "    'amount_auctions_in_first_hour',\n",
    "    'amount_auctions_in_first_3_hours',\n",
    "    'amount_auctions_in_first_5_hours',\n",
    "    'amount_auctions_in_first_12_hours',\n",
    "    'amount_events_in_first_hour',\n",
    "    'amount_events_in_first_5_hours',\n",
    "    'amount_events_in_first_12_hours',\n",
    "    'amount_clicks_in_last_2_hours',\n",
    "    'amount_clicks_in_last_4_hours',\n",
    "    'device_os',\n",
    "    'time_to_reappear',\n",
    "    'installs_per_clicks',\n",
    "    'events_x_app_210',\n",
    "    'events_x_app_122',\n",
    "    'events_x_app_65',\n",
    "    'events_x_app_121',\n",
    "    'events_x_app_26',\n",
    "    'most_installed_apps_used',\n",
    "    'cant_apps_used',\n",
    "    'std_time_to_click',\n",
    "    'max_time_install',\n",
    "    'min_time_install',\n",
    "    'mean_time_install',\n",
    "    'std_time_install',\n",
    "    'max_time_events',\n",
    "    'mean_time_events',\n",
    "    'std_time_events',\n",
    "    'installs_per_events',\n",
    "    'cant_events_atributed',\n",
    "    'has_events_atributed',\n",
    "    'cant_events_0_4',\n",
    "    'cant_events_4_8',\n",
    "    'cant_events_8_12',\n",
    "    'cant_events_12_16',\n",
    "    'cant_events_16_20',\n",
    "    'cant_events_20_24',\n",
    "    'cant_auctions_0_4',\n",
    "    'cant_auctions_4_8',\n",
    "    'cant_auctions_8_12',\n",
    "    'cant_auctions_12_16',\n",
    "    'cant_auctions_16_20',\n",
    "    'cant_auctions_20_24',\n",
    "    'has_events_ids_with_installs',\n",
    "    'has_events_ids_without_installs',\n",
    "    'clicked_in_last_5_minutes',\n",
    "    'clicked_with_wifi_in_last_3_hours',\n",
    "    'mean_events_per_day',\n",
    "    'amount_events_in_last_hour',\n",
    "    'amount_events_in_last_2_hours',\n",
    "    'mean_auctions_per_day',\n",
    "    'mean_clicks_per_day'\n",
    "]"
   ]
  },
  {
   "cell_type": "markdown",
   "metadata": {},
   "source": [
    "###  Carga de datos"
   ]
  },
  {
   "cell_type": "code",
   "execution_count": null,
   "metadata": {},
   "outputs": [],
   "source": [
    "auctions_18_20 = auctions_19_21 = auctions_20_22 = auctions_21_23 = auctions_24_26 = None\n",
    "installs_18_20 = installs_19_21 = installs_20_22 = installs_21_23 = installs_24_26 = None\n",
    "events_18_20 = events_19_21 = events_20_22 = events_21_23 = events_24_26 = None\n",
    "clicks_18_20 = clicks_19_21 = clicks_20_22 = clicks_21_23 = clicks_24_26 = None"
   ]
  },
  {
   "cell_type": "code",
   "execution_count": null,
   "metadata": {},
   "outputs": [],
   "source": [
    "auctions_18_20 = pd.read_csv('windows/18_20/auctions.csv', parse_dates = ['date'], infer_datetime_format = True)\n",
    "auctions_19_21 = pd.read_csv('windows/19_21/auctions.csv', parse_dates = ['date'], infer_datetime_format = True)\n",
    "auctions_20_22 = pd.read_csv('windows/20_22/auctions.csv', parse_dates = ['date'], infer_datetime_format = True)\n",
    "auctions_21_23 = pd.read_csv('windows/21_23/auctions.csv', parse_dates = ['date'], infer_datetime_format = True)\n",
    "auctions_24_26 = pd.read_csv('windows/24_26/auctions.csv', parse_dates = ['date'], infer_datetime_format = True)"
   ]
  },
  {
   "cell_type": "code",
   "execution_count": null,
   "metadata": {},
   "outputs": [],
   "source": [
    "installs_18_20 = pd.read_csv('windows/18_20/installs.csv', parse_dates = ['created'], infer_datetime_format = True)\n",
    "installs_19_21 = pd.read_csv('windows/19_21/installs.csv', parse_dates = ['created'], infer_datetime_format = True)\n",
    "installs_20_22 = pd.read_csv('windows/20_22/installs.csv', parse_dates = ['created'], infer_datetime_format = True)\n",
    "installs_21_23 = pd.read_csv('windows/21_23/installs.csv', parse_dates = ['created'], infer_datetime_format = True)\n",
    "installs_24_26 = pd.read_csv('windows/24_26/installs.csv', parse_dates = ['created'], infer_datetime_format = True)"
   ]
  },
  {
   "cell_type": "code",
   "execution_count": null,
   "metadata": {},
   "outputs": [],
   "source": [
    "clicks_18_20 = pd.read_csv('windows/18_20/clicks.csv', parse_dates = ['created'], infer_datetime_format = True)\n",
    "clicks_19_21 = pd.read_csv('windows/19_21/clicks.csv', parse_dates = ['created'], infer_datetime_format = True)\n",
    "clicks_20_22 = pd.read_csv('windows/20_22/clicks.csv', parse_dates = ['created'], infer_datetime_format = True)\n",
    "clicks_21_23 = pd.read_csv('windows/21_23/clicks.csv', parse_dates = ['created'], infer_datetime_format = True)\n",
    "clicks_24_26 = pd.read_csv('windows/24_26/clicks.csv', parse_dates = ['created'], infer_datetime_format = True)"
   ]
  },
  {
   "cell_type": "code",
   "execution_count": null,
   "metadata": {},
   "outputs": [],
   "source": [
    "events_18_20 = pd.read_csv('windows/18_20/events.csv', parse_dates = ['date'], infer_datetime_format = True)\n",
    "events_19_21 = pd.read_csv('windows/19_21/events.csv', parse_dates = ['date'], infer_datetime_format = True)\n",
    "events_20_22 = pd.read_csv('windows/20_22/events.csv', parse_dates = ['date'], infer_datetime_format = True)\n",
    "events_21_23 = pd.read_csv('windows/21_23/events.csv', parse_dates = ['date'], infer_datetime_format = True)\n",
    "events_24_26 = pd.read_csv('windows/24_26/events.csv', parse_dates = ['date'], infer_datetime_format = True)"
   ]
  },
  {
   "cell_type": "code",
   "execution_count": null,
   "metadata": {},
   "outputs": [],
   "source": [
    "df_features_18_20 = pd.read_csv('windows/18_20/features.csv', low_memory=False)\n",
    "df_features_18_20.set_index('ref_hash', inplace=True)"
   ]
  },
  {
   "cell_type": "code",
   "execution_count": null,
   "metadata": {},
   "outputs": [],
   "source": [
    "df_features_19_21 = pd.read_csv('windows/19_21/features.csv', low_memory=False)\n",
    "df_features_19_21.set_index('ref_hash', inplace=True)"
   ]
  },
  {
   "cell_type": "code",
   "execution_count": null,
   "metadata": {},
   "outputs": [],
   "source": [
    "df_features_20_22 = pd.read_csv('windows/20_22/features.csv', low_memory=False)\n",
    "df_features_20_22.set_index('ref_hash', inplace=True)"
   ]
  },
  {
   "cell_type": "code",
   "execution_count": null,
   "metadata": {},
   "outputs": [],
   "source": [
    "df_features_21_23 = pd.read_csv('windows/21_23/features.csv', low_memory=False)\n",
    "df_features_21_23.set_index('ref_hash', inplace=True)"
   ]
  },
  {
   "cell_type": "code",
   "execution_count": null,
   "metadata": {},
   "outputs": [],
   "source": [
    "df_features_24_26 = pd.read_csv('windows/24_26/features.csv').drop_duplicates()  #check\n",
    "df_features_24_26.set_index('ref_hash', inplace=True)"
   ]
  },
  {
   "cell_type": "markdown",
   "metadata": {},
   "source": [
    "### Partición de los datos por ventanas"
   ]
  },
  {
   "cell_type": "code",
   "execution_count": null,
   "metadata": {},
   "outputs": [],
   "source": [
    "windows = [\n",
    "    {\n",
    "        \"auctions\": auctions_18_20,\n",
    "        \"installs\": installs_18_20,\n",
    "        \"clicks\": clicks_18_20,\n",
    "        \"events\": events_18_20,\n",
    "        \"features\": df_features_18_20,\n",
    "        \"name\": \"18_20\"\n",
    "    },\n",
    "    {\n",
    "        \"auctions\": auctions_19_21,\n",
    "        \"installs\": installs_19_21,\n",
    "        \"clicks\": clicks_19_21,\n",
    "        \"events\": events_19_21,\n",
    "        \"features\": df_features_19_21,        \n",
    "        \"name\": \"19_21\"\n",
    "    },\n",
    "    {\n",
    "        \"auctions\": auctions_20_22,\n",
    "        \"installs\": installs_20_22,\n",
    "        \"clicks\": clicks_20_22,\n",
    "        \"events\": events_20_22,\n",
    "        \"features\": df_features_20_22,        \n",
    "        \"name\": \"20_22\"\n",
    "    },\n",
    "    {\n",
    "        \"auctions\": auctions_21_23,\n",
    "        \"installs\": installs_21_23,\n",
    "        \"clicks\": clicks_21_23,\n",
    "        \"events\": events_21_23,\n",
    "        \"features\": df_features_21_23,        \n",
    "        \"name\": \"21_23\"\n",
    "    },\n",
    "    {\n",
    "        \"auctions\": auctions_24_26,\n",
    "        \"installs\": installs_24_26,\n",
    "        \"clicks\": clicks_24_26,\n",
    "        \"events\": events_24_26,\n",
    "        \"features\": df_features_24_26,\n",
    "        \"name\": \"24_26\"\n",
    "    }\n",
    "]"
   ]
  },
  {
   "cell_type": "markdown",
   "metadata": {},
   "source": [
    "### Funcion para agregar features"
   ]
  },
  {
   "cell_type": "code",
   "execution_count": null,
   "metadata": {},
   "outputs": [],
   "source": [
    "def add_feature(df_features, df_to_join, feature_name, fill = True, fill_value = 0):\n",
    "    if feature_name in df_features.columns.tolist():\n",
    "        df_features = df_features.drop(feature_name, axis = 1)\n",
    "    df_features = df_features.merge(df_to_join[[feature_name]], how = 'left', left_index = True, right_index = True)\n",
    "    if fill:\n",
    "        df_features = df_features.fillna(fill_value)\n",
    "    return df_features"
   ]
  },
  {
   "cell_type": "code",
   "execution_count": null,
   "metadata": {},
   "outputs": [],
   "source": [
    "def add_features_to_windows(windows, feature_function, feature_name, fill = True, fill_value = 0):\n",
    "    for window in windows:\n",
    "        auctions = window[\"auctions\"]\n",
    "        installs = window[\"installs\"]\n",
    "        events = window[\"events\"]\n",
    "        clicks = window[\"clicks\"]\n",
    "        \n",
    "        len_feature = len(window[\"features\"])\n",
    "        df_to_join = feature_function(auctions, installs, events, clicks)\n",
    "        if len(df_to_join.index) > len_feature:\n",
    "            raise Exception(\"Index len should be lower or equals than features index. Check for duplicates.\")\n",
    "        window[\"features\"] = add_feature(window[\"features\"], df_to_join, feature_name, fill, fill_value)\n",
    "        \n",
    "    #save_changes(windows)\n",
    "    if feature_name not in features_list:\n",
    "        features_list.append(feature_name)\n",
    "    return windows"
   ]
  },
  {
   "cell_type": "code",
   "execution_count": null,
   "metadata": {},
   "outputs": [],
   "source": [
    "def save_changes(windows):\n",
    "    for window in windows:\n",
    "        feature = window[\"features\"]\n",
    "        name = window[\"name\"]\n",
    "        feature.to_csv(\"windows/{}/features.csv\".format(name), index = True)"
   ]
  },
  {
   "cell_type": "markdown",
   "metadata": {},
   "source": [
    " # Sección para añadir features"
   ]
  },
  {
   "cell_type": "markdown",
   "metadata": {},
   "source": [
    "> *¡Atención! Antes de usar la función add_feature, setear como indice el id de los dispositivos en el df que contiene el feature que se desea agregar*"
   ]
  },
  {
   "cell_type": "markdown",
   "metadata": {},
   "source": [
    "#### ¿No sabés que feature añadir? Recordá que tenemos toda esta info:"
   ]
  },
  {
   "cell_type": "code",
   "execution_count": null,
   "metadata": {},
   "outputs": [],
   "source": [
    "print(\"Auctions:\\n\"+str(auctions_18_20.columns.tolist())+\"\\n\")\n",
    "print(\"Installs:\\n\"+str(installs_18_20.columns.tolist())+\"\\n\")\n",
    "print(\"Events:\\n\"+str(events_18_20.columns.tolist())+\"\\n\")\n",
    "print(\"Clicks:\\n\"+str(clicks_18_20.columns.tolist())+\"\\n\")"
   ]
  },
  {
   "cell_type": "markdown",
   "metadata": {},
   "source": [
    "> ### Feature 1: ***cantidad de veces que el usuario aparece en una subasta***"
   ]
  },
  {
   "cell_type": "code",
   "execution_count": null,
   "metadata": {},
   "outputs": [],
   "source": [
    "def calculate_appearances_auctions(auctions, installs, events, clicks):\n",
    "    auctions['appearances_in_auctions'] = 1\n",
    "    auc_feature = auctions.groupby('ref_hash').agg({'appearances_in_auctions' : 'count'})\n",
    "    return auc_feature"
   ]
  },
  {
   "cell_type": "code",
   "execution_count": null,
   "metadata": {},
   "outputs": [],
   "source": [
    "windows = add_features_to_windows(windows, calculate_appearances_auctions, 'appearances_in_auctions')"
   ]
  },
  {
   "cell_type": "markdown",
   "metadata": {},
   "source": [
    "> ### Feature 2: ***¿apareció en una subasta el último día?***"
   ]
  },
  {
   "cell_type": "code",
   "execution_count": null,
   "metadata": {},
   "outputs": [],
   "source": [
    "def user_appeared_last_day(auctions, installs, events, clicks):\n",
    "    ultimo = auctions[\"date\"].max().day\n",
    "    auc_feature2 = auctions.loc[auctions[\"date\"].dt.day == ultimo]\n",
    "    auc_feature2['user_appeared_last_day'] = 1\n",
    "    auc_feature2 = auc_feature2.groupby('ref_hash').agg({'user_appeared_last_day' : 'first'})\n",
    "    return auc_feature2"
   ]
  },
  {
   "cell_type": "code",
   "execution_count": null,
   "metadata": {},
   "outputs": [],
   "source": [
    "windows = add_features_to_windows(windows, user_appeared_last_day, \"user_appeared_last_day\")"
   ]
  },
  {
   "cell_type": "markdown",
   "metadata": {},
   "source": [
    "> ### Feature 3: ***en promedio, ¿ cuánto tardo el usuario en reaparecer en una subasta?***"
   ]
  },
  {
   "cell_type": "code",
   "execution_count": null,
   "metadata": {},
   "outputs": [],
   "source": [
    "def calculate_time_to_reappear_auctions(auctions, installs, events, clicks):\n",
    "    df_sorted = auctions.sort_values([\"ref_hash\", \"date\"], ascending = True)\n",
    "    df_sorted['time_to_reappear'] = np.\\\n",
    "    where(df_sorted['ref_hash'] == \\\n",
    "          df_sorted['ref_hash'].shift(), df_sorted['date'] - df_sorted['date'].shift(1), np.nan)\n",
    "    df_sorted['time_to_reappear'] = df_sorted['time_to_reappear'].dt.total_seconds()\n",
    "    df_sorted = df_sorted.groupby('ref_hash').agg({'time_to_reappear': 'mean'})\n",
    "    return df_sorted"
   ]
  },
  {
   "cell_type": "code",
   "execution_count": null,
   "metadata": {},
   "outputs": [],
   "source": [
    "windows = add_features_to_windows(windows, calculate_time_to_reappear_auctions, \"time_to_reappear\", fill = False)"
   ]
  },
  {
   "cell_type": "markdown",
   "metadata": {},
   "source": [
    "> ### Feature 6: ***Días feriados en Uruguay*** NO_TERMINADO"
   ]
  },
  {
   "cell_type": "code",
   "execution_count": null,
   "metadata": {},
   "outputs": [],
   "source": [
    "# En Uruguay hubo 3 días feriados en el rango de fecha que nos dieron\n",
    "# El 18 y 19 de Abril fueron Jueves y Viernes Santo\n",
    "# El 22 fue el día de Desembarco de los 33 orientales\n",
    "\n",
    "def holidays_days(auctions, installs, events, clicks):\n",
    "    auctions[\"day\"] = auctions.date.dt.day\n",
    "    auctions.loc[(22 == auctions[\"day\"]) | (19 == auctions[\"day\"]) | (18 == auctions[\"day\"]), 'holidaysday'] = 1\n",
    "    auctions.fillna(0)\n",
    "    return auctions.set_index(\"ref_hash\")"
   ]
  },
  {
   "cell_type": "code",
   "execution_count": null,
   "metadata": {},
   "outputs": [],
   "source": [
    "windows = add_features_to_windows(windows, holidays_days, \"holidaysday\")"
   ]
  },
  {
   "cell_type": "markdown",
   "metadata": {},
   "source": [
    "> ### Feature 7: ***Días lluviosos en Uruguay*** NO_TERMINADO"
   ]
  },
  {
   "cell_type": "code",
   "execution_count": null,
   "metadata": {},
   "outputs": [],
   "source": [
    "# Días que llovieron del 18 al 26: El 26 fue el único día que llovió\n",
    "def raining_days(auctions, installs, events, clicks):\n",
    "    auctions.loc[26 == auctions[\"day\"], 'rainingdays'] = 1\n",
    "    auctions.fillna(0)\n",
    "    return auctions.set_index(\"ref_hash\")"
   ]
  },
  {
   "cell_type": "code",
   "execution_count": null,
   "metadata": {},
   "outputs": [],
   "source": [
    "windows = add_features_to_windows(windows, raining_days, \"rainingdays\")"
   ]
  },
  {
   "cell_type": "markdown",
   "metadata": {},
   "source": [
    "> ### Feature 8: ***cantidad de clicks realizados por el usuario***"
   ]
  },
  {
   "cell_type": "code",
   "execution_count": null,
   "metadata": {},
   "outputs": [],
   "source": [
    "def clicks_by_user(auctions, installs, events, clicks):\n",
    "    clicks['amount_of_clicks'] = 1\n",
    "    inst_feature1 = clicks.groupby('ref_hash').agg({'amount_of_clicks': 'count'})\n",
    "    return inst_feature1"
   ]
  },
  {
   "cell_type": "code",
   "execution_count": null,
   "metadata": {},
   "outputs": [],
   "source": [
    "windows = add_features_to_windows(windows, clicks_by_user, \"amount_of_clicks\")"
   ]
  },
  {
   "cell_type": "markdown",
   "metadata": {},
   "source": [
    "> ### Feature 9: ***¿realizó una instalación?***"
   ]
  },
  {
   "cell_type": "code",
   "execution_count": null,
   "metadata": {},
   "outputs": [],
   "source": [
    "def user_has_installed(auctions, installs, events, clicks):\n",
    "    installs['has_installed'] = 1\n",
    "    inst_feature2 = installs.groupby('ref_hash').agg({'has_installed': 'first'})\n",
    "    return inst_feature2"
   ]
  },
  {
   "cell_type": "code",
   "execution_count": null,
   "metadata": {},
   "outputs": [],
   "source": [
    "windows = add_features_to_windows(windows, user_has_installed, \"has_installed\")"
   ]
  },
  {
   "cell_type": "markdown",
   "metadata": {},
   "source": [
    "> ### Feature 10: ***¿realizó un click el último día?***"
   ]
  },
  {
   "cell_type": "code",
   "execution_count": null,
   "metadata": {},
   "outputs": [],
   "source": [
    "def user_clicks_last_day(auctions, installs, events, clicks):\n",
    "    inst_feature3 = clicks.loc[clicks[\"created\"].dt.day == 20]\n",
    "    inst_feature3['user_clicked_last_day'] = 1\n",
    "    inst_feature3 = inst_feature3.groupby('ref_hash').agg({'user_clicked_last_day' : 'first'})\n",
    "    return inst_feature3"
   ]
  },
  {
   "cell_type": "code",
   "execution_count": null,
   "metadata": {},
   "outputs": [],
   "source": [
    "windows = add_features_to_windows(windows, user_clicks_last_day, \"user_clicked_last_day\")"
   ]
  },
  {
   "cell_type": "markdown",
   "metadata": {},
   "source": [
    "> ### Feature 11: ***¿realizó una instalación el último día?***"
   ]
  },
  {
   "cell_type": "code",
   "execution_count": null,
   "metadata": {},
   "outputs": [],
   "source": [
    "def user_installs_last_day(auctions, installs, events, clicks):\n",
    "    inst_feature4 = installs.loc[installs[\"created\"].dt.day == 20]\n",
    "    inst_feature4['user_installed_last_day'] = 1\n",
    "    inst_feature4 = inst_feature4.groupby('ref_hash').agg({'user_installed_last_day' : 'first'})\n",
    "    return inst_feature4"
   ]
  },
  {
   "cell_type": "code",
   "execution_count": null,
   "metadata": {},
   "outputs": [],
   "source": [
    "windows = add_features_to_windows(windows, user_installs_last_day, \"user_installed_last_day\")"
   ]
  },
  {
   "cell_type": "markdown",
   "metadata": {},
   "source": [
    "> ### Feature 12: ***cantidad de instalaciones realizadas***"
   ]
  },
  {
   "cell_type": "code",
   "execution_count": null,
   "metadata": {},
   "outputs": [],
   "source": [
    "def users_amount_installs(auctions, installs, events, clicks):\n",
    "    installs['amount_of_installs'] = 1\n",
    "    inst_feature5 = installs.groupby('ref_hash').agg({'amount_of_installs': 'count'})\n",
    "    return inst_feature5"
   ]
  },
  {
   "cell_type": "code",
   "execution_count": null,
   "metadata": {},
   "outputs": [],
   "source": [
    "windows = add_features_to_windows(windows, users_amount_installs, \"amount_of_installs\")"
   ]
  },
  {
   "cell_type": "markdown",
   "metadata": {},
   "source": [
    "> ### Feature 13: ***Máximo de clicks en un día*** NO_TERMINADO"
   ]
  },
  {
   "cell_type": "code",
   "execution_count": null,
   "metadata": {},
   "outputs": [],
   "source": [
    "def max_clicks_day(auctions, installs, events, clicks):\n",
    "    clicks[\"day\"] = clicks_18_20.created.dt.day\n",
    "    clicks_feature5 = clicks_18_20.groupby([\"ref_hash\", \"day\"]).agg({\"cantidad\":\"sum\"})\n",
    "    clicks_feature5 = pd.DataFrame(clicks_feature5.reset_index().groupby('ref_hash')['cantidad'].max()).reset_index()\n",
    "    clicks_feature5 = clicks_feature5.rename(columns={\"cantidad\":\"cant_max_day\"})\n",
    "    return clicks_feature5.set_index(\"ref_hash\")"
   ]
  },
  {
   "cell_type": "code",
   "execution_count": null,
   "metadata": {},
   "outputs": [],
   "source": [
    "windows = add_features_to_windows(windows, max_clicks_day, \"cant_max_day\")"
   ]
  },
  {
   "cell_type": "markdown",
   "metadata": {},
   "source": [
    "> ### Feature 14: ***Mínimo de clicks en un día*** NO_TERMINADO"
   ]
  },
  {
   "cell_type": "code",
   "execution_count": null,
   "metadata": {},
   "outputs": [],
   "source": [
    "def min_clicks_day(auctions, installs, events, clicks):\n",
    "    clicks[\"day\"] = clicks_18_20.created.dt.day\n",
    "    clicks_feature5 = clicks_18_20.groupby([\"ref_hash\", \"day\"]).agg({\"cantidad\":\"sum\"})\n",
    "    clicks_feature5 = pd.DataFrame(clicks_feature5.reset_index().groupby('ref_hash')['cantidad'].min()).reset_index()\n",
    "    clicks_feature5 = clicks_feature5.rename(columns={\"cantidad\":\"cant_min_day\"})\n",
    "    return clicks_feature5.set_index(\"ref_hash\")"
   ]
  },
  {
   "cell_type": "code",
   "execution_count": null,
   "metadata": {},
   "outputs": [],
   "source": [
    "windows = add_features_to_windows(windows, min_clicks_day, \"cant_min_day\")"
   ]
  },
  {
   "cell_type": "markdown",
   "metadata": {},
   "source": [
    "> ### Feature 15: ***Promedio de tiempo entre clicks***"
   ]
  },
  {
   "cell_type": "code",
   "execution_count": null,
   "metadata": {},
   "outputs": [],
   "source": [
    "def calculate_time_to_reappear(df, feature_date_name, feature_id_name, function_type):\n",
    "    df_sorted = df.sort_values([feature_id_name, feature_date_name], ascending = True)\n",
    "    df_sorted['time_to_reappear'] = np.\\\n",
    "    where(df_sorted[feature_id_name] == \\\n",
    "          df_sorted[feature_id_name].shift(), df_sorted[feature_date_name] - df_sorted[feature_date_name].shift(1), np.nan)\n",
    "    df_sorted['time_to_reappear'] = df_sorted['time_to_reappear'].dt.total_seconds()\n",
    "    df_sorted = df_sorted.groupby(feature_id_name).agg({'time_to_reappear': function_type})\n",
    "    return df_sorted"
   ]
  },
  {
   "cell_type": "code",
   "execution_count": null,
   "metadata": {},
   "outputs": [],
   "source": [
    "def mean_time_click(auctions, installs, events, clicks):\n",
    "    clicks_feature = calculate_time_to_reappear(clicks, \"created\", \"ref_hash\", \"mean\")\n",
    "    clicks_feature.rename(columns={\"time_to_reappear\":\"mean_time_to_click\"}, inplace=True)\n",
    "    return clicks_feature"
   ]
  },
  {
   "cell_type": "code",
   "execution_count": null,
   "metadata": {},
   "outputs": [],
   "source": [
    "windows = add_features_to_windows(windows, mean_time_click, \"mean_time_to_click\", fill = False)"
   ]
  },
  {
   "cell_type": "markdown",
   "metadata": {},
   "source": [
    "> ### Feature 16: ***Tiempo máximo entre clicks***"
   ]
  },
  {
   "cell_type": "code",
   "execution_count": null,
   "metadata": {},
   "outputs": [],
   "source": [
    "def max_time_click(auctions, installs, events, clicks):\n",
    "    clicks_feature7 = calculate_time_to_reappear(clicks, \"created\", \"ref_hash\", \"max\")\n",
    "    clicks_feature7.rename(columns={\"time_to_reappear\":\"max_time_click\"}, inplace=True)\n",
    "    return clicks_feature7"
   ]
  },
  {
   "cell_type": "code",
   "execution_count": null,
   "metadata": {},
   "outputs": [],
   "source": [
    "windows = add_features_to_windows(windows, max_time_click, \"max_time_click\", fill = False)"
   ]
  },
  {
   "cell_type": "markdown",
   "metadata": {},
   "source": [
    "> ### Feature 17: ***Tiempo mínimo entre clicks***"
   ]
  },
  {
   "cell_type": "code",
   "execution_count": null,
   "metadata": {},
   "outputs": [],
   "source": [
    "def min_time_click(auctions, installs, events, clicks):\n",
    "    clicks_feature7 = calculate_time_to_reappear(clicks, \"created\", \"ref_hash\", \"min\")\n",
    "    clicks_feature7.rename(columns={\"time_to_reappear\":\"min_time_click\"}, inplace=True)\n",
    "    return clicks_feature7"
   ]
  },
  {
   "cell_type": "code",
   "execution_count": null,
   "metadata": {},
   "outputs": [],
   "source": [
    "windows = add_features_to_windows(windows, min_time_click, \"min_time_click\", fill = False)"
   ]
  },
  {
   "cell_type": "markdown",
   "metadata": {},
   "source": [
    "> ### Feature 18: ***Promedio de cantidad de subastas por día***"
   ]
  },
  {
   "cell_type": "code",
   "execution_count": null,
   "metadata": {},
   "outputs": [],
   "source": [
    "def mean_auctions_per_day(auctions, installs, events, clicks):\n",
    "    auctions['day'] = auctions['date'].dt.day\n",
    "    auctions['mean_auctions_per_day'] = 1\n",
    "    return auctions.groupby(['ref_hash', 'day']).agg({'mean_auctions_per_day': 'count'}).\\\n",
    "    reset_index().groupby('ref_hash').agg({'mean_auctions_per_day': 'mean'})"
   ]
  },
  {
   "cell_type": "code",
   "execution_count": null,
   "metadata": {},
   "outputs": [],
   "source": [
    "windows = add_features_to_windows(windows, mean_auctions_per_day, \"mean_auctions_per_day\")"
   ]
  },
  {
   "cell_type": "markdown",
   "metadata": {},
   "source": [
    "> ### Feature 19: ***Promedio de cantidad de eventos por día***"
   ]
  },
  {
   "cell_type": "code",
   "execution_count": null,
   "metadata": {},
   "outputs": [],
   "source": [
    "def mean_events_per_day(auctions, installs, events, clicks):\n",
    "    events['day'] = events['date'].dt.day\n",
    "    events['mean_events_per_day'] = 1\n",
    "    return events.groupby(['ref_hash', 'day']).agg({'mean_events_per_day': 'count'}).\\\n",
    "    reset_index().groupby('ref_hash').agg({'mean_events_per_day': 'mean'})"
   ]
  },
  {
   "cell_type": "code",
   "execution_count": null,
   "metadata": {},
   "outputs": [],
   "source": [
    "windows = add_features_to_windows(windows, mean_events_per_day, \"mean_events_per_day\")"
   ]
  },
  {
   "cell_type": "markdown",
   "metadata": {},
   "source": [
    "> ### Feature 20: ***Promedio de cantidad de clicks por día***"
   ]
  },
  {
   "cell_type": "code",
   "execution_count": null,
   "metadata": {},
   "outputs": [],
   "source": [
    "def mean_clicks_per_day(auctions, installs, events, clicks):\n",
    "    clicks['day'] = clicks['created'].dt.day\n",
    "    clicks['mean_clicks_per_day'] = 1\n",
    "    return clicks.groupby(['ref_hash', 'day']).agg({'mean_clicks_per_day': 'count'}).\\\n",
    "    reset_index().groupby('ref_hash').agg({'mean_clicks_per_day': 'mean'})"
   ]
  },
  {
   "cell_type": "code",
   "execution_count": null,
   "metadata": {},
   "outputs": [],
   "source": [
    "windows = add_features_to_windows(windows, mean_clicks_per_day, \"mean_clicks_per_day\")"
   ]
  },
  {
   "cell_type": "markdown",
   "metadata": {},
   "source": [
    "> ### Feature 22: ***Cantidad de apariciones en subastas en las últimas X horas***"
   ]
  },
  {
   "cell_type": "code",
   "execution_count": null,
   "metadata": {},
   "outputs": [],
   "source": [
    "def amount_of_appearances_in_last_x_hours(df, hour, feature_date_name, feature_name):\n",
    "    max_day = df[feature_date_name].max()\n",
    "    df['dif'] = (max_day - df[feature_date_name]).dt.total_seconds()\n",
    "    df = df.loc[(df['dif'] <= hour*3600)]\n",
    "    df = df.groupby('ref_hash').agg({feature_date_name: 'count'})\n",
    "    df.rename(columns = {feature_date_name: feature_name}, inplace = True)\n",
    "    return df"
   ]
  },
  {
   "cell_type": "code",
   "execution_count": null,
   "metadata": {},
   "outputs": [],
   "source": [
    "def amount_auctions_in_last_hour(auctions, installs, events, clicks):\n",
    "    return amount_of_appearances_in_last_x_hours(auctions, 1, 'date','amount_auctions_in_last_hour')"
   ]
  },
  {
   "cell_type": "code",
   "execution_count": null,
   "metadata": {},
   "outputs": [],
   "source": [
    "def amount_auctions_in_last_2_hours(auctions, installs, events, clicks):\n",
    "    return amount_of_appearances_in_last_x_hours(auctions, 2, 'date', 'amount_auctions_in_last_2_hours')"
   ]
  },
  {
   "cell_type": "code",
   "execution_count": null,
   "metadata": {},
   "outputs": [],
   "source": [
    "def amount_auctions_in_last_5_hours(auctions, installs, events, clicks):\n",
    "    return amount_of_appearances_in_last_x_hours(auctions, 5, 'date', 'amount_auctions_in_last_5_hours')"
   ]
  },
  {
   "cell_type": "code",
   "execution_count": null,
   "metadata": {},
   "outputs": [],
   "source": [
    "def amount_auctions_in_last_12_hours(auctions, installs, events, clicks):\n",
    "    return amount_of_appearances_in_last_x_hours(auctions, 12, 'date', 'amount_auctions_in_last_12_hours')"
   ]
  },
  {
   "cell_type": "code",
   "execution_count": null,
   "metadata": {},
   "outputs": [],
   "source": [
    "def amount_auctions_in_last_24_hours(auctions, installs, events, clicks):\n",
    "    return amount_of_appearances_in_last_x_hours(auctions, 24, 'date', 'amount_auctions_in_last_24_hours')"
   ]
  },
  {
   "cell_type": "code",
   "execution_count": null,
   "metadata": {},
   "outputs": [],
   "source": [
    "windows = add_features_to_windows(windows, amount_auctions_in_last_hour, \"amount_auctions_in_last_hour\")\n",
    "windows = add_features_to_windows(windows, amount_auctions_in_last_2_hours, \"amount_auctions_in_last_2_hours\")\n",
    "windows = add_features_to_windows(windows, amount_auctions_in_last_5_hours, \"amount_auctions_in_last_5_hours\")\n",
    "windows = add_features_to_windows(windows, amount_auctions_in_last_12_hours, \"amount_auctions_in_last_12_hours\")\n",
    "windows = add_features_to_windows(windows, amount_auctions_in_last_24_hours, \"amount_auctions_in_last_24_hours\")"
   ]
  },
  {
   "cell_type": "markdown",
   "metadata": {},
   "source": [
    "> ### Feature 25: ***Cantidad de eventos en las últimas X horas***"
   ]
  },
  {
   "cell_type": "code",
   "execution_count": null,
   "metadata": {},
   "outputs": [],
   "source": [
    "def amount_events_in_last_hour(auctions, installs, events, clicks):\n",
    "    return amount_of_appearances_in_last_x_hours(events, 1, 'date', 'amount_events_in_last_hour')"
   ]
  },
  {
   "cell_type": "code",
   "execution_count": null,
   "metadata": {},
   "outputs": [],
   "source": [
    "def amount_events_in_last_2_hours(auctions, installs, events, clicks):\n",
    "    return amount_of_appearances_in_last_x_hours(events, 2, 'date', 'amount_events_in_last_2_hours')"
   ]
  },
  {
   "cell_type": "code",
   "execution_count": null,
   "metadata": {},
   "outputs": [],
   "source": [
    "windows = add_features_to_windows(windows, amount_events_in_last_hour, \"amount_events_in_last_hour\")\n",
    "windows = add_features_to_windows(windows, amount_events_in_last_2_hours, \"amount_events_in_last_2_hours\")"
   ]
  },
  {
   "cell_type": "markdown",
   "metadata": {},
   "source": [
    "> ### Feature 26: ***Cantidad de apariciones en subastas en las primeras X horas del día***"
   ]
  },
  {
   "cell_type": "code",
   "execution_count": null,
   "metadata": {},
   "outputs": [],
   "source": [
    "def appearances_in_first_x_hours(df, hour, feature_date_name, feature_name):\n",
    "    df = df.loc[df[feature_date_name].dt.hour <= hour]\n",
    "    df = df.groupby('ref_hash').agg({feature_date_name: 'count'})\n",
    "    df.rename(columns = {feature_date_name: feature_name}, inplace = True)\n",
    "    return df"
   ]
  },
  {
   "cell_type": "code",
   "execution_count": null,
   "metadata": {},
   "outputs": [],
   "source": [
    "def amount_auctions_in_first_hour(auctions, installs, events, clicks):\n",
    "    return appearances_in_first_x_hours(auctions, 1, \"date\",\"amount_auctions_in_first_hour\")"
   ]
  },
  {
   "cell_type": "code",
   "execution_count": null,
   "metadata": {},
   "outputs": [],
   "source": [
    "def amount_auctions_in_first_3_hours(auctions, installs, events, clicks):\n",
    "    return appearances_in_first_x_hours(auctions, 3, 'date','amount_auctions_in_first_3_hours')"
   ]
  },
  {
   "cell_type": "code",
   "execution_count": null,
   "metadata": {},
   "outputs": [],
   "source": [
    "def amount_auctions_in_first_5_hours(auctions, installs, events, clicks):\n",
    "    return appearances_in_first_x_hours(auctions, 5, 'date','amount_auctions_in_first_5_hours')"
   ]
  },
  {
   "cell_type": "code",
   "execution_count": null,
   "metadata": {},
   "outputs": [],
   "source": [
    "def amount_auctions_in_first_12_hours(auctions, installs, events, clicks):\n",
    "    return appearances_in_first_x_hours(auctions, 12, 'date','amount_auctions_in_first_12_hours')"
   ]
  },
  {
   "cell_type": "code",
   "execution_count": null,
   "metadata": {},
   "outputs": [],
   "source": [
    "windows = add_features_to_windows(windows, amount_auctions_in_first_hour, \"amount_auctions_in_first_hour\")\n",
    "windows = add_features_to_windows(windows, amount_auctions_in_first_3_hours, \"amount_auctions_in_first_3_hours\")\n",
    "windows = add_features_to_windows(windows, amount_auctions_in_first_5_hours, \"amount_auctions_in_first_5_hours\")\n",
    "windows = add_features_to_windows(windows, amount_auctions_in_first_12_hours, \"amount_auctions_in_first_12_hours\")"
   ]
  },
  {
   "cell_type": "markdown",
   "metadata": {},
   "source": [
    "> ### Feature 27: ***Cantidad de eventos realizados las primeras X horas del día***"
   ]
  },
  {
   "cell_type": "code",
   "execution_count": null,
   "metadata": {},
   "outputs": [],
   "source": [
    "def amount_events_in_first_hour(auctions, installs, events, clicks):\n",
    "    return appearances_in_first_x_hours(events, 1, \"date\", \"amount_events_in_first_hour\")"
   ]
  },
  {
   "cell_type": "code",
   "execution_count": null,
   "metadata": {},
   "outputs": [],
   "source": [
    "def amount_events_in_first_5_hours(auctions, installs, events, clicks):\n",
    "    return appearances_in_first_x_hours(events, 5, \"date\", \"amount_events_in_first_5_hours\")"
   ]
  },
  {
   "cell_type": "code",
   "execution_count": null,
   "metadata": {},
   "outputs": [],
   "source": [
    "def amount_events_in_first_12_hours(auctions, installs, events, clicks):\n",
    "    return appearances_in_first_x_hours(events, 12, \"date\", \"amount_events_in_first_12_hours\")"
   ]
  },
  {
   "cell_type": "code",
   "execution_count": null,
   "metadata": {},
   "outputs": [],
   "source": [
    "windows = add_features_to_windows(windows, amount_events_in_first_hour, \"amount_events_in_first_hour\")\n",
    "windows = add_features_to_windows(windows, amount_events_in_first_5_hours, \"amount_events_in_first_5_hours\")\n",
    "windows = add_features_to_windows(windows, amount_events_in_first_12_hours, \"amount_events_in_first_12_hours\")"
   ]
  },
  {
   "cell_type": "markdown",
   "metadata": {},
   "source": [
    "> ### Feature 27: ***Cantidad de clicks en las últimas X horas***"
   ]
  },
  {
   "cell_type": "code",
   "execution_count": null,
   "metadata": {},
   "outputs": [],
   "source": [
    "def amount_of_appearances_in_last_x_hours(df, hour, feature_date_name, feature_name):\n",
    "    max_day = df[feature_date_name].max()\n",
    "    df['dif'] = (max_day - df[feature_date_name]).dt.total_seconds()\n",
    "    df = df.loc[(df['dif'] <= hour*3600)]\n",
    "    df = df.groupby('ref_hash').agg({feature_date_name: 'count'})\n",
    "    df.rename(columns = {feature_date_name: feature_name}, inplace = True)\n",
    "    return df"
   ]
  },
  {
   "cell_type": "code",
   "execution_count": null,
   "metadata": {},
   "outputs": [],
   "source": [
    "def amount_clicks_in_last_2_hours(auctions,installs,events,clicks):\n",
    "    return amount_of_appearances_in_last_x_hours(clicks, 2, \"created\", \"amount_clicks_in_last_2_hours\")"
   ]
  },
  {
   "cell_type": "code",
   "execution_count": null,
   "metadata": {},
   "outputs": [],
   "source": [
    "def amount_clicks_in_last_4_hours(auctions,installs,events,clicks):\n",
    "    return amount_of_appearances_in_last_x_hours(clicks, 4, \"created\", \"amount_clicks_in_last_4_hours\")"
   ]
  },
  {
   "cell_type": "code",
   "execution_count": null,
   "metadata": {},
   "outputs": [],
   "source": [
    "windows = add_features_to_windows(windows, amount_clicks_in_last_2_hours, \"amount_clicks_in_last_2_hours\")\n",
    "windows = add_features_to_windows(windows, amount_clicks_in_last_4_hours, \"amount_clicks_in_last_4_hours\")"
   ]
  },
  {
   "cell_type": "markdown",
   "metadata": {},
   "source": [
    "> ### Feature 28: ***Device OS***"
   ]
  },
  {
   "cell_type": "code",
   "execution_count": null,
   "metadata": {},
   "outputs": [],
   "source": [
    "def device_os(auctions,installs,events,clicks):\n",
    "    df = events.loc[~ pd.isna(events[\"device_os\"])].groupby([\"ref_hash\"]).agg({\"device_os\":\"first\"})\n",
    "    # Este cambio lo hago para que sea más visible el device, puede sacarse y no afecta funcionamiento\n",
    "    df[\"device_os\"] = df[\"device_os\"].transform(lambda x: 1 if str(x) == \"7.531669329342817e+18\" else 2)\n",
    "    return df\n",
    "    "
   ]
  },
  {
   "cell_type": "code",
   "execution_count": null,
   "metadata": {},
   "outputs": [],
   "source": [
    "windows = add_features_to_windows(windows, device_os, \"device_os\", False)"
   ]
  },
  {
   "cell_type": "markdown",
   "metadata": {},
   "source": [
    "> ### Feature 29: ***Desviación estandar de tiempo de apariciones entre clicks***"
   ]
  },
  {
   "cell_type": "code",
   "execution_count": null,
   "metadata": {},
   "outputs": [],
   "source": [
    "def std_time_click(auctions, installs, events, clicks):\n",
    "    clicks_feature = calculate_time_to_reappear(clicks, \"created\", \"ref_hash\", \"std\")\n",
    "    clicks_feature.rename(columns={\"time_to_reappear\":\"std_time_to_click\"}, inplace=True)\n",
    "    return clicks_feature"
   ]
  },
  {
   "cell_type": "code",
   "execution_count": null,
   "metadata": {},
   "outputs": [],
   "source": [
    "windows = add_features_to_windows(windows, std_time_click, \"std_time_to_click\", fill = False)"
   ]
  },
  {
   "cell_type": "markdown",
   "metadata": {},
   "source": [
    "> ### Feature 30: ***Desviación estandar de tiempo entre apariciones en subastas***"
   ]
  },
  {
   "cell_type": "code",
   "execution_count": null,
   "metadata": {},
   "outputs": [],
   "source": [
    "def std_time_auctions(auctions, installs, events, clicks):\n",
    "    df_feature = calculate_time_to_reappear(auctions, \"date\", \"ref_hash\", \"std\")\n",
    "    df_feature.rename(columns={\"time_to_reappear\":\"std_time_auctions\"}, inplace=True)\n",
    "    return df_feature"
   ]
  },
  {
   "cell_type": "code",
   "execution_count": null,
   "metadata": {},
   "outputs": [],
   "source": [
    "windows = add_features_to_windows(windows, std_time_auctions, \"std_time_auctions\", fill = False)"
   ]
  },
  {
   "cell_type": "markdown",
   "metadata": {},
   "source": [
    "> ### Feature 31: ***Tiempo máximo entre instalaciones de un usuario***"
   ]
  },
  {
   "cell_type": "code",
   "execution_count": null,
   "metadata": {},
   "outputs": [],
   "source": [
    "def max_time_install(auctions, installs, events, clicks):\n",
    "    df_feature = calculate_time_to_reappear(installs, \"created\", \"ref_hash\", \"max\")\n",
    "    df_feature.rename(columns={\"time_to_reappear\":\"max_time_install\"}, inplace=True)\n",
    "    return df_feature"
   ]
  },
  {
   "cell_type": "code",
   "execution_count": null,
   "metadata": {},
   "outputs": [],
   "source": [
    "windows = add_features_to_windows(windows, max_time_install, \"max_time_install\", fill = False)"
   ]
  },
  {
   "cell_type": "markdown",
   "metadata": {},
   "source": [
    "> ### Feature 32: ***Tiempo mínimo entre instalaciones de un usuario***"
   ]
  },
  {
   "cell_type": "code",
   "execution_count": null,
   "metadata": {},
   "outputs": [],
   "source": [
    "def min_time_install(auctions, installs, events, clicks):\n",
    "    df_feature = calculate_time_to_reappear(installs, \"created\", \"ref_hash\", \"min\")\n",
    "    df_feature.rename(columns={\"time_to_reappear\":\"min_time_install\"}, inplace=True)\n",
    "    return df_feature"
   ]
  },
  {
   "cell_type": "code",
   "execution_count": null,
   "metadata": {},
   "outputs": [],
   "source": [
    "windows = add_features_to_windows(windows, min_time_install, \"min_time_install\", fill = False)"
   ]
  },
  {
   "cell_type": "markdown",
   "metadata": {},
   "source": [
    "> ### Feature 33: ***Tiempo promedio entre instalaciones***"
   ]
  },
  {
   "cell_type": "code",
   "execution_count": null,
   "metadata": {},
   "outputs": [],
   "source": [
    "def mean_time_install(auctions, installs, events, clicks):\n",
    "    df_feature = calculate_time_to_reappear(installs, \"created\", \"ref_hash\", \"mean\")\n",
    "    df_feature.rename(columns={\"time_to_reappear\":\"mean_time_install\"}, inplace=True)\n",
    "    return df_feature"
   ]
  },
  {
   "cell_type": "code",
   "execution_count": null,
   "metadata": {},
   "outputs": [],
   "source": [
    "windows = add_features_to_windows(windows, mean_time_install, \"mean_time_install\", fill = False)"
   ]
  },
  {
   "cell_type": "markdown",
   "metadata": {},
   "source": [
    "> ### Feature 34: ***Desviación estandar del tiempo entre instalaciones***"
   ]
  },
  {
   "cell_type": "code",
   "execution_count": null,
   "metadata": {},
   "outputs": [],
   "source": [
    "def std_time_install(auctions, installs, events, clicks):\n",
    "    df_feature = calculate_time_to_reappear(installs, \"created\", \"ref_hash\", \"std\")\n",
    "    df_feature.rename(columns={\"time_to_reappear\":\"std_time_install\"}, inplace=True)\n",
    "    return df_feature"
   ]
  },
  {
   "cell_type": "code",
   "execution_count": null,
   "metadata": {},
   "outputs": [],
   "source": [
    "windows = add_features_to_windows(windows, std_time_install, \"std_time_install\", fill = False)"
   ]
  },
  {
   "cell_type": "markdown",
   "metadata": {},
   "source": [
    "> ### Feature 35: ***Tiempo máximo entre eventos***"
   ]
  },
  {
   "cell_type": "code",
   "execution_count": null,
   "metadata": {},
   "outputs": [],
   "source": [
    "def max_time_events(auctions, installs, events, clicks):\n",
    "    df_feature = calculate_time_to_reappear(events, \"date\", \"ref_hash\", \"max\")\n",
    "    df_feature.rename(columns={\"time_to_reappear\":\"max_time_events\"}, inplace=True)\n",
    "    return df_feature"
   ]
  },
  {
   "cell_type": "code",
   "execution_count": null,
   "metadata": {},
   "outputs": [],
   "source": [
    "windows = add_features_to_windows(windows, max_time_events, \"max_time_events\", fill = False)"
   ]
  },
  {
   "cell_type": "markdown",
   "metadata": {},
   "source": [
    "> ### Feature 36: ***Tiempo mínimo entre eventos***"
   ]
  },
  {
   "cell_type": "code",
   "execution_count": null,
   "metadata": {},
   "outputs": [],
   "source": [
    "def min_time_events(auctions, installs, events, clicks):\n",
    "    df_feature = calculate_time_to_reappear(events, \"date\", \"ref_hash\", \"min\")\n",
    "    df_feature.rename(columns={\"time_to_reappear\":\"min_time_events\"}, inplace=True)\n",
    "    return df_feature"
   ]
  },
  {
   "cell_type": "code",
   "execution_count": null,
   "metadata": {},
   "outputs": [],
   "source": [
    "windows = add_features_to_windows(windows, min_time_events, \"min_time_events\", fill = False)"
   ]
  },
  {
   "cell_type": "markdown",
   "metadata": {},
   "source": [
    "> ### Feature 37: ***Tiempo promedio entre eventos***"
   ]
  },
  {
   "cell_type": "code",
   "execution_count": null,
   "metadata": {},
   "outputs": [],
   "source": [
    "def mean_time_events(auctions, installs, events, clicks):\n",
    "    df_feature = calculate_time_to_reappear(events, \"date\", \"ref_hash\", \"mean\")\n",
    "    df_feature.rename(columns={\"time_to_reappear\":\"mean_time_events\"}, inplace=True)\n",
    "    return df_feature"
   ]
  },
  {
   "cell_type": "code",
   "execution_count": null,
   "metadata": {},
   "outputs": [],
   "source": [
    "windows = add_features_to_windows(windows, mean_time_events, \"mean_time_events\", fill = False)"
   ]
  },
  {
   "cell_type": "markdown",
   "metadata": {},
   "source": [
    "> ### Feature 38: ***Desviación estandar de los tiempos entre eventos***"
   ]
  },
  {
   "cell_type": "code",
   "execution_count": null,
   "metadata": {},
   "outputs": [],
   "source": [
    "def std_time_events(auctions, installs, events, clicks):\n",
    "    df_feature = calculate_time_to_reappear(events, \"date\", \"ref_hash\", \"std\")\n",
    "    df_feature.rename(columns={\"time_to_reappear\":\"std_time_events\"}, inplace=True)\n",
    "    return df_feature"
   ]
  },
  {
   "cell_type": "code",
   "execution_count": null,
   "metadata": {},
   "outputs": [],
   "source": [
    "windows = add_features_to_windows(windows, std_time_events, \"std_time_events\", fill = False)"
   ]
  },
  {
   "cell_type": "markdown",
   "metadata": {},
   "source": [
    "> ### Feature 39: ***Cantidad de instalaciones por eventos***"
   ]
  },
  {
   "cell_type": "code",
   "execution_count": null,
   "metadata": {},
   "outputs": [],
   "source": [
    "def installs_per_event(auctions, installs, events, clicks):\n",
    "    events[\"amount_of_events\"] = 1\n",
    "    installs[\"amount_of_installs\"] = 1\n",
    "    total_installs = installs.groupby(\"ref_hash\").agg({\"amount_of_installs\":\"sum\"})\n",
    "    total_events = events.groupby(\"ref_hash\").agg({\"amount_of_events\":\"sum\"})\n",
    "    df_return = total_installs.merge(total_events, right_index=True, left_index=True, how=\"left\")\n",
    "    df_return[\"installs_per_events\"] = df_return[\"amount_of_installs\"]/df_return[\"amount_of_events\"]\n",
    "    return df_return.fillna(0)"
   ]
  },
  {
   "cell_type": "code",
   "execution_count": null,
   "metadata": {},
   "outputs": [],
   "source": [
    "windows = add_features_to_windows(windows, installs_per_event, \"installs_per_events\")"
   ]
  },
  {
   "cell_type": "markdown",
   "metadata": {},
   "source": [
    "> ### Feature 40: ***Cantidad de instalaciones por clicks***"
   ]
  },
  {
   "cell_type": "code",
   "execution_count": null,
   "metadata": {},
   "outputs": [],
   "source": [
    "def installs_per_clicks(auctions, installs, events, clicks):\n",
    "    clicks[\"amount_of_clicks\"] = 1\n",
    "    installs[\"amount_of_installs\"] = 1\n",
    "    total_installs = installs.groupby(\"ref_hash\").agg({\"amount_of_installs\":\"sum\"})\n",
    "    total_clicks = clicks.groupby(\"ref_hash\").agg({\"amount_of_clicks\":\"sum\"})\n",
    "    df_return = total_installs.merge(total_clicks, right_index=True, left_index=True, how=\"left\")\n",
    "    df_return[\"installs_per_clicks\"] = df_return[\"amount_of_installs\"]/df_return[\"amount_of_clicks\"]\n",
    "    return df_return.fillna(0)"
   ]
  },
  {
   "cell_type": "code",
   "execution_count": null,
   "metadata": {},
   "outputs": [],
   "source": [
    "windows = add_features_to_windows(windows, installs_per_clicks, \"installs_per_clicks\")"
   ]
  },
  {
   "cell_type": "markdown",
   "metadata": {},
   "source": [
    "> ### Feature 41: ***Cantidad de eventos con las principales aplicaciones***"
   ]
  },
  {
   "cell_type": "markdown",
   "metadata": {},
   "source": [
    "Las apps 5 mas usadas fueron las application_id: 210, 122, 65, 121, 26."
   ]
  },
  {
   "cell_type": "code",
   "execution_count": null,
   "metadata": {},
   "outputs": [],
   "source": [
    "def events_x_app(events, app_name):\n",
    "    df = events.loc[events[\"application_id\"] == app_name, [\"ref_hash\", \"event_id\"]]\n",
    "    df = df.groupby(\"ref_hash\").agg({\"event_id\":\"count\"})\n",
    "    df.rename(columns={\"event_id\":\"events_x_app_\"+str(app_name)}, inplace= True)\n",
    "    return df"
   ]
  },
  {
   "cell_type": "code",
   "execution_count": null,
   "metadata": {},
   "outputs": [],
   "source": [
    "def events_x_app_210(auctions, installs, events, clicks):\n",
    "    return events_x_app(events, 210)"
   ]
  },
  {
   "cell_type": "code",
   "execution_count": null,
   "metadata": {},
   "outputs": [],
   "source": [
    "def events_x_app_122(auctions, installs, events, clicks):\n",
    "    return events_x_app(events, 122)"
   ]
  },
  {
   "cell_type": "code",
   "execution_count": null,
   "metadata": {},
   "outputs": [],
   "source": [
    "def events_x_app_65(auctions, installs, events, clicks):\n",
    "    return events_x_app(events, 65)"
   ]
  },
  {
   "cell_type": "code",
   "execution_count": null,
   "metadata": {},
   "outputs": [],
   "source": [
    "def events_x_app_121(auctions, installs, events, clicks):\n",
    "    return events_x_app(events, 121)"
   ]
  },
  {
   "cell_type": "code",
   "execution_count": null,
   "metadata": {},
   "outputs": [],
   "source": [
    "def events_x_app_26(auctions, installs, events, clicks):\n",
    "    return events_x_app(events, 26)"
   ]
  },
  {
   "cell_type": "code",
   "execution_count": null,
   "metadata": {},
   "outputs": [],
   "source": [
    "windows = add_features_to_windows(windows, events_x_app_210, \"events_x_app_210\")\n",
    "windows = add_features_to_windows(windows, events_x_app_122, \"events_x_app_122\")\n",
    "windows = add_features_to_windows(windows, events_x_app_65, \"events_x_app_65\")\n",
    "windows = add_features_to_windows(windows, events_x_app_121, \"events_x_app_121\")\n",
    "windows = add_features_to_windows(windows, events_x_app_26, \"events_x_app_26\")"
   ]
  },
  {
   "cell_type": "markdown",
   "metadata": {},
   "source": [
    "> ### Feature 42: ***De las X apps mas instaladas, sobre cuantas realizó eventos***"
   ]
  },
  {
   "cell_type": "code",
   "execution_count": null,
   "metadata": {},
   "outputs": [],
   "source": [
    "def get_number_of_used_apps(df, feature_name):\n",
    "    df = df.groupby(\"ref_hash\").agg({\"application_id\":\"nunique\"})\n",
    "    df.rename(columns={\"application_id\": feature_name}, inplace= True)\n",
    "    return df"
   ]
  },
  {
   "cell_type": "markdown",
   "metadata": {},
   "source": [
    "La idea es que un usuario no va a instalar una app que ya tiene (sobre la que ya realizo eventos)."
   ]
  },
  {
   "cell_type": "code",
   "execution_count": null,
   "metadata": {},
   "outputs": [],
   "source": [
    "def most_installed_apps_used(auctions, installs, events, clicks):\n",
    "    df_apps = installs.groupby(\"application_id\").agg({\"created\":\"count\"}).nlargest(5, \"created\")\n",
    "    apps_mas_instaladas = list(df_apps.index)\n",
    "    return get_number_of_used_apps(events.loc[ events[\"application_id\"].isin(apps_mas_instaladas) ], \"most_installed_apps_used\")"
   ]
  },
  {
   "cell_type": "code",
   "execution_count": null,
   "metadata": {},
   "outputs": [],
   "source": [
    "windows = add_features_to_windows(windows, most_installed_apps_used, \"most_installed_apps_used\")"
   ]
  },
  {
   "cell_type": "markdown",
   "metadata": {},
   "source": [
    "> ### Feature 43: ***Cantidad de apps sobre cuales realizó eventos***"
   ]
  },
  {
   "cell_type": "code",
   "execution_count": null,
   "metadata": {},
   "outputs": [],
   "source": [
    "def cant_apps_used(auctions, installs, events, clicks):\n",
    "    return get_number_of_used_apps(events, \"cant_apps_used\")"
   ]
  },
  {
   "cell_type": "code",
   "execution_count": null,
   "metadata": {},
   "outputs": [],
   "source": [
    "windows = add_features_to_windows(windows, cant_apps_used, \"cant_apps_used\")"
   ]
  },
  {
   "cell_type": "markdown",
   "metadata": {},
   "source": [
    "> ### Feature 44: ***Cantidad eventos eventos atribuidos***"
   ]
  },
  {
   "cell_type": "code",
   "execution_count": null,
   "metadata": {},
   "outputs": [],
   "source": [
    "def cant_events_atributed(auctions, installs, events, clicks):\n",
    "    df = events.loc[events[\"attributed\"] == 1].groupby(\"ref_hash\").agg({\"date\":\"count\"})\n",
    "    df.rename(columns={\"date\": \"cant_events_atributed\"}, inplace= True)\n",
    "    return df"
   ]
  },
  {
   "cell_type": "code",
   "execution_count": null,
   "metadata": {},
   "outputs": [],
   "source": [
    "# La misma info que el de arriba, pero quizas ayuda a predecir mejor si este feature es binario\n",
    "def has_events_atributed(auctions, installs, events, clicks):\n",
    "    df = events.loc[events[\"attributed\"] == 1].groupby(\"ref_hash\").agg({\"date\":\"count\"})\n",
    "    df[\"date\"] = 1\n",
    "    df.rename(columns={\"date\": \"has_events_atributed\"}, inplace= True)\n",
    "    return df"
   ]
  },
  {
   "cell_type": "code",
   "execution_count": null,
   "metadata": {},
   "outputs": [],
   "source": [
    "windows = add_features_to_windows(windows, cant_events_atributed, \"cant_events_atributed\")\n",
    "windows = add_features_to_windows(windows, has_events_atributed, \"has_events_atributed\")"
   ]
  },
  {
   "cell_type": "markdown",
   "metadata": {},
   "source": [
    "> ### Feature 45: ***Realizo tipos de eventos que mas instalaciones suelen tener***"
   ]
  },
  {
   "cell_type": "code",
   "execution_count": null,
   "metadata": {},
   "outputs": [],
   "source": [
    "def has_events_ids_with_installs(auctions, installs, events, clicks):\n",
    "    user_with_installs = installs[\"ref_hash\"].unique()\n",
    "    events_ids_with_installs = events.loc[events[\"ref_hash\"].isin(user_with_installs)].event_id.unique()\n",
    "    df=events.loc[events[\"event_id\"].isin(events_ids_with_installs)].groupby(\"ref_hash\").agg({\"date\":\"first\"})\n",
    "    df[\"date\"] = 1\n",
    "    df.rename(columns={\"date\": \"has_events_ids_with_installs\"}, inplace= True)\n",
    "    return df"
   ]
  },
  {
   "cell_type": "code",
   "execution_count": null,
   "metadata": {},
   "outputs": [],
   "source": [
    "def has_events_ids_without_installs(auctions, installs, events, clicks):\n",
    "    user_with_installs = installs[\"ref_hash\"].unique()\n",
    "    events_ids_with_installs = events.loc[events[\"ref_hash\"].isin(user_with_installs)].event_id.unique()\n",
    "    events_ids_without_installs = events.loc[~events[\"event_id\"].isin(events_ids_with_installs)].event_id.unique()\n",
    "    df=events.loc[events[\"event_id\"].isin(events_ids_without_installs)].groupby(\"ref_hash\").agg({\"date\":\"first\"})\n",
    "    df[\"date\"] = 1\n",
    "    df.rename(columns={\"date\": \"has_events_ids_without_installs\"}, inplace= True)\n",
    "    return df"
   ]
  },
  {
   "cell_type": "code",
   "execution_count": null,
   "metadata": {},
   "outputs": [],
   "source": [
    "windows = add_features_to_windows(windows, has_events_ids_with_installs, \"has_events_ids_with_installs\")\n",
    "windows = add_features_to_windows(windows, has_events_ids_without_installs, \"has_events_ids_without_installs\")"
   ]
  },
  {
   "cell_type": "markdown",
   "metadata": {},
   "source": [
    "> ### Feature 46: ***Eventos según momento del día***"
   ]
  },
  {
   "cell_type": "code",
   "execution_count": null,
   "metadata": {},
   "outputs": [],
   "source": [
    "def cant_by_moment(df, date_name, since_hour, to_hour, feature_name):\n",
    "    df = df.loc[(since_hour <= df[date_name].dt.hour) & (df[date_name].dt.hour < to_hour)]\n",
    "    df = df.groupby('ref_hash').agg({date_name: 'count'})\n",
    "    df.rename(columns = {date_name: feature_name}, inplace = True)\n",
    "    return df"
   ]
  },
  {
   "cell_type": "code",
   "execution_count": null,
   "metadata": {},
   "outputs": [],
   "source": [
    "def cant_events_0_4(auctions, installs, events, clicks):\n",
    "    return cant_by_moment(events, \"date\", 0, 4, \"cant_events_0_4\")"
   ]
  },
  {
   "cell_type": "code",
   "execution_count": null,
   "metadata": {},
   "outputs": [],
   "source": [
    "def cant_events_4_8(auctions, installs, events, clicks):\n",
    "    return cant_by_moment(events, \"date\", 4, 8, \"cant_events_4_8\")"
   ]
  },
  {
   "cell_type": "code",
   "execution_count": null,
   "metadata": {},
   "outputs": [],
   "source": [
    "def cant_events_8_12(auctions, installs, events, clicks):\n",
    "    return cant_by_moment(events, \"date\", 8, 12, \"cant_events_8_12\")"
   ]
  },
  {
   "cell_type": "code",
   "execution_count": null,
   "metadata": {},
   "outputs": [],
   "source": [
    "def cant_events_12_16(auctions, installs, events, clicks):\n",
    "    return cant_by_moment(events, \"date\", 12, 16, \"cant_events_12_16\")"
   ]
  },
  {
   "cell_type": "code",
   "execution_count": null,
   "metadata": {},
   "outputs": [],
   "source": [
    "def cant_events_16_20(auctions, installs, events, clicks):\n",
    "    return cant_by_moment(events, \"date\", 16, 20, \"cant_events_16_20\")"
   ]
  },
  {
   "cell_type": "code",
   "execution_count": null,
   "metadata": {},
   "outputs": [],
   "source": [
    "def cant_events_20_24(auctions, installs, events, clicks):\n",
    "    return cant_by_moment(events, \"date\", 20, 24, \"cant_events_20_24\")"
   ]
  },
  {
   "cell_type": "code",
   "execution_count": null,
   "metadata": {},
   "outputs": [],
   "source": [
    "windows = add_features_to_windows(windows, cant_events_0_4, \"cant_events_0_4\")\n",
    "windows = add_features_to_windows(windows, cant_events_4_8, \"cant_events_4_8\")\n",
    "windows = add_features_to_windows(windows, cant_events_8_12, \"cant_events_8_12\")\n",
    "windows = add_features_to_windows(windows, cant_events_12_16, \"cant_events_12_16\")\n",
    "windows = add_features_to_windows(windows, cant_events_16_20, \"cant_events_16_20\")\n",
    "windows = add_features_to_windows(windows, cant_events_20_24, \"cant_events_20_24\")"
   ]
  },
  {
   "cell_type": "markdown",
   "metadata": {},
   "source": [
    "> ### Feature 47: ***Subastas según momento del día***"
   ]
  },
  {
   "cell_type": "code",
   "execution_count": null,
   "metadata": {},
   "outputs": [],
   "source": [
    "def cant_auctions_0_4(auctions, installs, events, clicks):\n",
    "    return cant_by_moment(auctions, \"date\", 0, 4, \"cant_auctions_0_4\")"
   ]
  },
  {
   "cell_type": "code",
   "execution_count": null,
   "metadata": {},
   "outputs": [],
   "source": [
    "def cant_auctions_4_8(auctions, installs, events, clicks):\n",
    "    return cant_by_moment(auctions, \"date\", 4, 8, \"cant_auctions_4_8\")"
   ]
  },
  {
   "cell_type": "code",
   "execution_count": null,
   "metadata": {},
   "outputs": [],
   "source": [
    "def cant_auctions_8_12(auctions, installs, events, clicks):\n",
    "    return cant_by_moment(auctions, \"date\", 8, 12, \"cant_auctions_8_12\")"
   ]
  },
  {
   "cell_type": "code",
   "execution_count": null,
   "metadata": {},
   "outputs": [],
   "source": [
    "def cant_auctions_12_16(auctions, installs, events, clicks):\n",
    "    return cant_by_moment(auctions, \"date\", 12, 16, \"cant_auctions_12_16\")"
   ]
  },
  {
   "cell_type": "code",
   "execution_count": null,
   "metadata": {},
   "outputs": [],
   "source": [
    "def cant_auctions_16_20(auctions, installs, events, clicks):\n",
    "    return cant_by_moment(auctions, \"date\", 16, 20, \"cant_auctions_16_20\")"
   ]
  },
  {
   "cell_type": "code",
   "execution_count": null,
   "metadata": {},
   "outputs": [],
   "source": [
    "def cant_auctions_20_24(auctions, installs, events, clicks):\n",
    "    return cant_by_moment(auctions, \"date\", 20, 24, \"cant_auctions_20_24\")"
   ]
  },
  {
   "cell_type": "code",
   "execution_count": null,
   "metadata": {},
   "outputs": [],
   "source": [
    "windows = add_features_to_windows(windows, cant_auctions_0_4, \"cant_auctions_0_4\")\n",
    "windows = add_features_to_windows(windows, cant_auctions_4_8, \"cant_auctions_4_8\")\n",
    "windows = add_features_to_windows(windows, cant_auctions_8_12, \"cant_auctions_8_12\")\n",
    "windows = add_features_to_windows(windows, cant_auctions_12_16, \"cant_auctions_12_16\")\n",
    "windows = add_features_to_windows(windows, cant_auctions_16_20, \"cant_auctions_16_20\")\n",
    "windows = add_features_to_windows(windows, cant_auctions_20_24, \"cant_auctions_20_24\")"
   ]
  },
  {
   "cell_type": "markdown",
   "metadata": {},
   "source": [
    "> ### Feature 48: ***¿La instalación fue implícita? ¿Cuántas implícitas tuvo?***"
   ]
  },
  {
   "cell_type": "code",
   "execution_count": null,
   "metadata": {},
   "outputs": [],
   "source": [
    "def implicit_installation(auctions, installs, events, clicks):\n",
    "    df_implicit = installs.groupby(\"ref_hash\").agg({\"implicit\":\"sum\"})\n",
    "    return df_implicit"
   ]
  },
  {
   "cell_type": "code",
   "execution_count": null,
   "metadata": {},
   "outputs": [],
   "source": [
    "windows = add_features_to_windows(windows, implicit_installation, \"implicit\")"
   ]
  },
  {
   "cell_type": "markdown",
   "metadata": {},
   "source": [
    "> ### Feature 49: ***Latitud del dispositivo donde se realizó la instalación***"
   ]
  },
  {
   "cell_type": "code",
   "execution_count": null,
   "metadata": {},
   "outputs": [],
   "source": [
    "def latitude_device(auctions, installs, events, clicks):\n",
    "    df_latitude = clicks.groupby(\"ref_hash\").agg({\"latitude\":\"mean\"})\n",
    "    return df_latitude"
   ]
  },
  {
   "cell_type": "code",
   "execution_count": null,
   "metadata": {},
   "outputs": [],
   "source": [
    "windows = add_features_to_windows(windows, latitude_device, \"latitude\")"
   ]
  },
  {
   "cell_type": "markdown",
   "metadata": {},
   "source": [
    "> ### Feature 50: ***Longitud del dispositivo donde se realizó la instalación***"
   ]
  },
  {
   "cell_type": "code",
   "execution_count": null,
   "metadata": {},
   "outputs": [],
   "source": [
    "def longitude_device(auctions, installs, events, clicks):\n",
    "    df_longitude = clicks.groupby(\"ref_hash\").agg({\"longitude\":\"mean\"})\n",
    "    return df_longitude"
   ]
  },
  {
   "cell_type": "code",
   "execution_count": null,
   "metadata": {},
   "outputs": [],
   "source": [
    "windows = add_features_to_windows(windows, longitude_device, \"longitude\")"
   ]
  },
  {
   "cell_type": "markdown",
   "metadata": {},
   "source": [
    "> ### Feature 51: ***¿Clickeó en los últimos 5 minutos?***"
   ]
  },
  {
   "cell_type": "code",
   "execution_count": null,
   "metadata": {},
   "outputs": [],
   "source": [
    "def amount_of_appearances_in_last_x_hours(df, hour, feature_date_name, feature_name):\n",
    "    max_day = df[feature_date_name].max()\n",
    "    df['dif'] = (max_day - df[feature_date_name]).dt.total_seconds()\n",
    "    df = df.loc[(df['dif'] <= hour*3600)]\n",
    "    df = df.groupby('ref_hash').agg({feature_date_name: 'count'})\n",
    "    df.rename(columns = {feature_date_name: feature_name}, inplace = True)\n",
    "    return df"
   ]
  },
  {
   "cell_type": "code",
   "execution_count": null,
   "metadata": {},
   "outputs": [],
   "source": [
    "def clicked_in_last_5_minutes(auctions, installs, events, clicks):\n",
    "    return amount_of_appearances_in_last_x_hours(clicks, 0.08, \"created\", \"clicked_in_last_5_minutes\") "
   ]
  },
  {
   "cell_type": "code",
   "execution_count": null,
   "metadata": {},
   "outputs": [],
   "source": [
    "windows = add_features_to_windows(windows, clicked_in_last_5_minutes, \"clicked_in_last_5_minutes\")"
   ]
  },
  {
   "cell_type": "markdown",
   "metadata": {},
   "source": [
    "> ### Feature 52: ***¿Cuántas veces clickeo estando conectado a internet en las últimas 3 horas?***"
   ]
  },
  {
   "cell_type": "code",
   "execution_count": null,
   "metadata": {},
   "outputs": [],
   "source": [
    "def clicked_with_wifi_in_last_3_hours(auctions, installs, events, clicks):\n",
    "    max_hour = clicks['created'].max()\n",
    "    feat = clicks.loc[((clicks['created'] - max_hour).dt.total_seconds() < 10800) & (clicks['wifi_connection'] == True)]\n",
    "    feat['clicked_with_wifi_in_last_3_hours'] = 1\n",
    "    return feat.groupby('ref_hash').agg({'clicked_with_wifi_in_last_3_hours' : 'count'})"
   ]
  },
  {
   "cell_type": "code",
   "execution_count": null,
   "metadata": {},
   "outputs": [],
   "source": [
    "windows = add_features_to_windows(windows, clicked_with_wifi_in_last_3_hours, \"clicked_with_wifi_in_last_3_hours\")"
   ]
  },
  {
   "cell_type": "code",
   "execution_count": null,
   "metadata": {},
   "outputs": [],
   "source": [
    "save_changes(windows)"
   ]
  },
  {
   "cell_type": "markdown",
   "metadata": {},
   "source": [
    "## **Función de verificación de features no agregados hasta el momento**"
   ]
  },
  {
   "cell_type": "code",
   "execution_count": null,
   "metadata": {},
   "outputs": [],
   "source": [
    "def check_missing_features(df_features):\n",
    "    missing_features = []\n",
    "    appended_features = df_features.columns.tolist()\n",
    "    for feature in features_list:\n",
    "        if feature not in appended_features:\n",
    "            missing_features.append(feature)\n",
    "    return missing_features"
   ]
  },
  {
   "cell_type": "code",
   "execution_count": null,
   "metadata": {},
   "outputs": [],
   "source": [
    "check_missing_features(windows[0][\"features\"])"
   ]
  },
  {
   "cell_type": "markdown",
   "metadata": {},
   "source": [
    "## **Función para borrar features**"
   ]
  },
  {
   "cell_type": "code",
   "execution_count": null,
   "metadata": {},
   "outputs": [],
   "source": [
    "def drop_feature(windows, feature_name):\n",
    "    for window in windows:\n",
    "        window[\"features\"].drop(feature_name, axis = 1, inplace = True)\n",
    "    return windows"
   ]
  },
  {
   "cell_type": "markdown",
   "metadata": {},
   "source": [
    "## Ver df features"
   ]
  },
  {
   "cell_type": "code",
   "execution_count": null,
   "metadata": {},
   "outputs": [],
   "source": [
    "windows[0][\"features\"].head()"
   ]
  },
  {
   "cell_type": "code",
   "execution_count": null,
   "metadata": {},
   "outputs": [],
   "source": [
    "windows[0][\"features\"].device_os.value_counts()"
   ]
  },
  {
   "cell_type": "code",
   "execution_count": null,
   "metadata": {},
   "outputs": [],
   "source": [
    "windows[0][\"features\"].columns"
   ]
  },
  {
   "cell_type": "code",
   "execution_count": null,
   "metadata": {},
   "outputs": [],
   "source": [
    "save_changes(windows)"
   ]
  }
 ],
 "metadata": {
  "kernelspec": {
   "display_name": "Python 3",
   "language": "python",
   "name": "python3"
  },
  "language_info": {
   "codemirror_mode": {
    "name": "ipython",
    "version": 3
   },
   "file_extension": ".py",
   "mimetype": "text/x-python",
   "name": "python",
   "nbconvert_exporter": "python",
   "pygments_lexer": "ipython3",
   "version": "3.7.1"
  }
 },
 "nbformat": 4,
 "nbformat_minor": 2
}
