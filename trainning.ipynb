{
 "cells": [
  {
   "cell_type": "code",
   "execution_count": 2,
   "metadata": {},
   "outputs": [],
   "source": [
    "import pandas as pd\n",
    "import numpy as np\n",
    "import matplotlib.pyplot as plt\n",
    "import xgboost as xgb\n",
    "from sklearn.model_selection import train_test_split, RandomizedSearchCV\n",
    "from sklearn.metrics import roc_auc_score\n",
    "from sklearn.preprocessing import OneHotEncoder\n",
    "from scipy import stats\n",
    "import seaborn as sns\n",
    "from sklearn.metrics import mean_squared_error\n",
    "\n",
    "resultado_anterior = 0\n",
    "maximo = 0"
   ]
  },
  {
   "cell_type": "markdown",
   "metadata": {},
   "source": [
    "# Carga de datos"
   ]
  },
  {
   "cell_type": "code",
   "execution_count": 2,
   "metadata": {},
   "outputs": [],
   "source": [
    "auctions = pd.read_csv(\"auctions.csv\", dtype={\"ref_type_id\": np.uint8, \"source_id\": np.uint8})\n",
    "auctions[\"date\"] =  pd.to_datetime(auctions[\"date\"], errors = \"coerce\")"
   ]
  },
  {
   "cell_type": "code",
   "execution_count": null,
   "metadata": {},
   "outputs": [],
   "source": [
    "clicks_dtypes = {'advertiser': np.int8, 'action_id': np.float16, 'source_id': np.int8, 'country_code': 'category',\n",
    "                 'latitude': np.float16, 'longitude': np.float16, 'carrier_id': np.float16, 'brand': np.float16,\n",
    "                 'touchX': np.float16, 'touchY': np.float16}\n",
    "clicks = pd.read_csv('clicks.csv', dtypes = clicks_dtypes, low_memory=False)\n",
    "clicks[\"created\"] =  pd.to_datetime(clicks[\"created\"], errors = \"coerce\")"
   ]
  },
  {
   "cell_type": "code",
   "execution_count": null,
   "metadata": {},
   "outputs": [],
   "source": [
    "events = pd.read_csv('events.csv', low_memory=False)\n",
    "events[\"date\"] =  pd.to_datetime(events[\"date\"], errors = \"coerce\")"
   ]
  },
  {
   "cell_type": "code",
   "execution_count": 3,
   "metadata": {},
   "outputs": [],
   "source": [
    "installs = pd.read_csv('installs.csv', low_memory = False)\n",
    "installs[\"created\"] =  pd.to_datetime(installs[\"created\"], errors = \"coerce\") "
   ]
  },
  {
   "cell_type": "markdown",
   "metadata": {},
   "source": [
    "# Obtención de ventanas para entrenar y validar"
   ]
  },
  {
   "cell_type": "code",
   "execution_count": 6,
   "metadata": {},
   "outputs": [],
   "source": [
    "#la fecha final debe ser las 00hs del día siguiente a la fecha final de la ventana\n",
    "def create_window(df, initial_date, final_date, date_feature_name):\n",
    "    initial = pd.to_datetime(initial_date)\n",
    "    final = pd.to_datetime(final_date)\n",
    "    return df.loc[ (df[date_feature_name] >= initial) \\\n",
    "                  & (df[date_feature_name] < final) ]"
   ]
  },
  {
   "cell_type": "code",
   "execution_count": 6,
   "metadata": {},
   "outputs": [],
   "source": [
    "auctions_18_20 =  create_window(auctions, \"2019-04-18\", \"2019-04-21\", \"date\")\n",
    "auctions_19_21 =  create_window(auctions, \"2019-04-19\", \"2019-04-22\", \"date\")\n",
    "auctions_20_22 =  create_window(auctions, \"2019-04-20\", \"2019-04-23\", \"date\")\n",
    "auctions_21_23 =  create_window(auctions, \"2019-04-21\", \"2019-04-24\", \"date\")\n",
    "auctions_22_24 =  create_window(auctions, \"2019-04-22\", \"2019-04-25\", \"date\")"
   ]
  },
  {
   "cell_type": "code",
   "execution_count": null,
   "metadata": {},
   "outputs": [],
   "source": [
    "events_18_20 =  create_window(events, \"2019-04-18\", \"2019-04-21\", \"date\")\n",
    "events_19_21 =  create_window(events, \"2019-04-19\", \"2019-04-22\", \"date\")\n",
    "events_20_22 =  create_window(events, \"2019-04-20\", \"2019-04-23\", \"date\")\n",
    "events_21_23 =  create_window(events, \"2019-04-21\", \"2019-04-24\", \"date\")\n",
    "events_22_24 =  create_window(events, \"2019-04-22\", \"2019-04-25\", \"date\")"
   ]
  },
  {
   "cell_type": "code",
   "execution_count": null,
   "metadata": {},
   "outputs": [],
   "source": [
    "clicks_18_20 =  create_window(clicks, \"2019-04-18\", \"2019-04-21\", \"created\")\n",
    "clicks_19_21 =  create_window(clicks, \"2019-04-19\", \"2019-04-22\", \"created\")\n",
    "clicks_20_22 =  create_window(clicks, \"2019-04-20\", \"2019-04-23\", \"created\")\n",
    "clicks_21_23 =  create_window(clicks, \"2019-04-21\", \"2019-04-24\", \"created\")\n",
    "clicks_22_24 =  create_window(clicks, \"2019-04-22\", \"2019-04-25\", \"created\")"
   ]
  },
  {
   "cell_type": "code",
   "execution_count": 7,
   "metadata": {},
   "outputs": [],
   "source": [
    "installs_18_20 = create_window(installs, \"2019-04-18\", \"2019-04-21\", \"created\")\n",
    "installs_19_21 = create_window(installs, \"2019-04-19\", \"2019-04-22\", \"created\")\n",
    "installs_20_22 = create_window(installs, \"2019-04-20\", \"2019-04-23\", \"created\")\n",
    "installs_21_23 = create_window(installs, \"2019-04-21\", \"2019-04-24\", \"created\")\n",
    "installs_22_24 = create_window(installs, \"2019-04-22\", \"2019-04-25\", \"created\")\n",
    "installs_23_25 = create_window(installs, \"2019-04-23\", \"2019-04-26\", \"created\")\n",
    "installs_24_26 = create_window(installs, \"2019-04-24\", \"2019-04-27\", \"created\")"
   ]
  },
  {
   "cell_type": "markdown",
   "metadata": {},
   "source": [
    "# Obtención de labels"
   ]
  },
  {
   "cell_type": "code",
   "execution_count": 4,
   "metadata": {},
   "outputs": [],
   "source": [
    "def calculate_label(reference_df, df_labels, id_feature_name, reference_date, label_name, date_feature_name):\n",
    "    max_time_window = 259200 #es el tiempo maximo que se da en 3 dias\n",
    "    date = pd.to_datetime(reference_date)\n",
    "    df_result = df_labels.groupby(id_feature_name).agg({date_feature_name : 'min'}).reset_index()\n",
    "    df_result[label_name] = (df_result[date_feature_name] - date).dt.total_seconds()\n",
    "    del df_result[date_feature_name]\n",
    "    merge_df = reference_df[[id_feature_name]].merge(df_result, how = 'left', on = id_feature_name).fillna(max_time_window)\n",
    "    return merge_df"
   ]
  },
  {
   "cell_type": "markdown",
   "metadata": {},
   "source": [
    "Labels de subastas. Segundos hasta que el usuario vuelva a aparecer en una subasta"
   ]
  },
  {
   "cell_type": "code",
   "execution_count": null,
   "metadata": {},
   "outputs": [],
   "source": [
    "labels_auc_18_20 = calculate_label(auctions_18_20, auctions_21_23, \"device_id\", \"2019-04-18\", \"secs_to_appear\", \"date\")\n",
    "labels_auc_19_21 = calculate_label(auctions_19_21, auctions_22_24, \"device_id\", \"2019-04-19\", \"secs_to_appear\", \"date\")\n",
    "labels_auc_20_22 = calculate_label(auctions_20_22, auctions_23_25, \"device_id\", \"2019-04-20\", \"secs_to_appear\", \"date\")\n",
    "labels_auc_21_23 = calculate_label(auctions_21_23, auctions_24_26,\"device_id\", \"2019-04-21\", \"secs_to_appear\", \"date\")\n",
    "#labels_auc_22_24 = calculate_label(auctions_22_24, auctions_25_27,\"device_id\", \"2019-04-22\", \"secs_to_appear\", \"date\")\n",
    "#como mierda hacemos? no tenemos los datos del 27 para calcular el label de la ventana 22-24"
   ]
  },
  {
   "cell_type": "markdown",
   "metadata": {},
   "source": [
    "Labels de installs. Segundos hasta que el usuario vuelva a convertir"
   ]
  },
  {
   "cell_type": "code",
   "execution_count": 11,
   "metadata": {},
   "outputs": [],
   "source": [
    "labels_inst_18_20 = calculate_label(installs_18_20, installs_21_23, \"ref_hash\",  \"2019-04-18\", \"seconds_to_install\", \"created\")\n",
    "labels_inst_19_21 = calculate_label(installs_19_21, installs_22_24, \"ref_hash\",  \"2019-04-19\", \"seconds_to_install\", \"created\")\n",
    "labels_inst_20_22 = calculate_label(installs_20_22, installs_23_25, \"ref_hash\",  \"2019-04-20\", \"seconds_to_install\", \"created\")\n",
    "labels_inst_21_23 = calculate_label(installs_21_23, installs_24_26, \"ref_hash\",  \"2019-04-21\", \"seconds_to_install\", \"created\")\n",
    "#labels_inst_22_24 = calculate_label(installs_22_24, \"ref_hash\",  \"2019-04-22\", \"seconds_to_install\", \"created\")"
   ]
  },
  {
   "cell_type": "code",
   "execution_count": 30,
   "metadata": {},
   "outputs": [
    {
     "data": {
      "text/html": [
       "<div>\n",
       "<style scoped>\n",
       "    .dataframe tbody tr th:only-of-type {\n",
       "        vertical-align: middle;\n",
       "    }\n",
       "\n",
       "    .dataframe tbody tr th {\n",
       "        vertical-align: top;\n",
       "    }\n",
       "\n",
       "    .dataframe thead th {\n",
       "        text-align: right;\n",
       "    }\n",
       "</style>\n",
       "<table border=\"1\" class=\"dataframe\">\n",
       "  <thead>\n",
       "    <tr style=\"text-align: right;\">\n",
       "      <th></th>\n",
       "      <th>ref_hash</th>\n",
       "      <th>seconds_to_install</th>\n",
       "    </tr>\n",
       "  </thead>\n",
       "  <tbody>\n",
       "    <tr>\n",
       "      <th>0</th>\n",
       "      <td>5230323462636548010</td>\n",
       "      <td>259200.0</td>\n",
       "    </tr>\n",
       "    <tr>\n",
       "      <th>1</th>\n",
       "      <td>5097163995161606833</td>\n",
       "      <td>259200.0</td>\n",
       "    </tr>\n",
       "    <tr>\n",
       "      <th>2</th>\n",
       "      <td>6328027616411983332</td>\n",
       "      <td>259200.0</td>\n",
       "    </tr>\n",
       "  </tbody>\n",
       "</table>\n",
       "</div>"
      ],
      "text/plain": [
       "              ref_hash  seconds_to_install\n",
       "0  5230323462636548010            259200.0\n",
       "1  5097163995161606833            259200.0\n",
       "2  6328027616411983332            259200.0"
      ]
     },
     "execution_count": 30,
     "metadata": {},
     "output_type": "execute_result"
    }
   ],
   "source": [
    "labels_inst_18_20.head(3)"
   ]
  },
  {
   "cell_type": "markdown",
   "metadata": {},
   "source": [
    "# Creación de estructura de los dataframes para entrenar"
   ]
  },
  {
   "cell_type": "code",
   "execution_count": 45,
   "metadata": {},
   "outputs": [],
   "source": [
    "#le pasamos a esta funcion el dataframe de la ventana a la cual deseemos agregarle features posteriormente\n",
    "def initialize_trainning_df(df, index_name):\n",
    "    trainning_df = pd.DataFrame(df[index_name].unique())\n",
    "    trainning_df.columns = ['ref_hash']\n",
    "    trainning_df = trainning_df.set_index('ref_hash')\n",
    "    return trainning_df"
   ]
  },
  {
   "cell_type": "code",
   "execution_count": 47,
   "metadata": {},
   "outputs": [
    {
     "data": {
      "text/html": [
       "<div>\n",
       "<style scoped>\n",
       "    .dataframe tbody tr th:only-of-type {\n",
       "        vertical-align: middle;\n",
       "    }\n",
       "\n",
       "    .dataframe tbody tr th {\n",
       "        vertical-align: top;\n",
       "    }\n",
       "\n",
       "    .dataframe thead th {\n",
       "        text-align: right;\n",
       "    }\n",
       "</style>\n",
       "<table border=\"1\" class=\"dataframe\">\n",
       "  <thead>\n",
       "    <tr style=\"text-align: right;\">\n",
       "      <th></th>\n",
       "    </tr>\n",
       "    <tr>\n",
       "      <th>ref_hash</th>\n",
       "    </tr>\n",
       "  </thead>\n",
       "  <tbody>\n",
       "    <tr>\n",
       "      <th>1109595589636746168</th>\n",
       "    </tr>\n",
       "    <tr>\n",
       "      <th>5896614299191635403</th>\n",
       "    </tr>\n",
       "    <tr>\n",
       "      <th>4172466725848941608</th>\n",
       "    </tr>\n",
       "    <tr>\n",
       "      <th>2616279795187318849</th>\n",
       "    </tr>\n",
       "    <tr>\n",
       "      <th>8034952072073026056</th>\n",
       "    </tr>\n",
       "  </tbody>\n",
       "</table>\n",
       "</div>"
      ],
      "text/plain": [
       "Empty DataFrame\n",
       "Columns: []\n",
       "Index: [1109595589636746168, 5896614299191635403, 4172466725848941608, 2616279795187318849, 8034952072073026056]"
      ]
     },
     "execution_count": 47,
     "metadata": {},
     "output_type": "execute_result"
    }
   ],
   "source": [
    "example = initialize_trainning_df(auctions_18_20, \"device_id\")\n",
    "example.head()"
   ]
  },
  {
   "cell_type": "markdown",
   "metadata": {},
   "source": [
    "# Funciones de entrenamiento"
   ]
  },
  {
   "cell_type": "code",
   "execution_count": null,
   "metadata": {},
   "outputs": [],
   "source": [
    "def guardar_submit(params, result):\n",
    "    tiempo = \"time\"\n",
    "    with open(\"historial_submits.txt\",\"a+\") as f:\n",
    "        f.write(\"\\n\"+tiempo+\"|\"+params+\"|\")"
   ]
  },
  {
   "cell_type": "code",
   "execution_count": null,
   "metadata": {},
   "outputs": [],
   "source": [
    "def entrenar_modelo(params):\n",
    "    result = None#entrenar(params)\n",
    "    guardar_submit(params, result)"
   ]
  },
  {
   "cell_type": "code",
   "execution_count": null,
   "metadata": {},
   "outputs": [],
   "source": [
    "def modelfit(model, features, labels, cv_folds=5, early_stopping_rounds=50):\n",
    "    parametros = model.get_xgb_params()\n",
    "    dmatrix = xgb.DMatrix(features.values, label=labels.values)\n",
    "    cvresult = xgb.cv(parametros, dmatrix, num_boost_round=model.get_params()['n_estimators'],\n",
    "                      nfold=cv_folds,metrics='auc', #verbose_eval=True,\n",
    "                      early_stopping_rounds=early_stopping_rounds)\n",
    "    model.set_params(n_estimators=cvresult.shape[0])\n",
    "    model.fit(features, labels,eval_metric='auc')"
   ]
  },
  {
   "cell_type": "code",
   "execution_count": null,
   "metadata": {},
   "outputs": [],
   "source": [
    "def entrenar(df_features, labels):\n",
    "    modelo = xgb.XGBRegressor(\n",
    "        #booster='dart',\n",
    "        learning_rate =0.01,\n",
    "        n_estimators=1000,\n",
    "        max_depth=4,\n",
    "        min_child_weight=8,\n",
    "        gamma=0.22,\n",
    "        subsample=1,\n",
    "        colsample_bytree=1,\n",
    "        objective= 'binary:logistic',\n",
    "        nthread=-1,\n",
    "        scale_pos_weight=18.8,\n",
    "        #sample_type='weighted',\n",
    "        #rate_drop=0.1,\n",
    "        #skip_dropout=0.5,\n",
    "        random_state=272\n",
    "    )\n",
    "    \n",
    "    df_features = df_features.join(labels, how = 'inner')\n",
    "    X, y = df_features.iloc[:,:-1], df_features.iloc[:,-1:]\n",
    "    X_train, X_test, y_train, y_test = train_test_split(X, y, test_size=0.2, random_state=13)\n",
    "    \n",
    "    modelfit(modelo, X_train, y_train, early_stopping_rounds=30)\n",
    "\n",
    "    predsa = modelo.predict(X_test)\n",
    "    resultado = roc_auc_score(y_test, predsa)"
   ]
  },
  {
   "cell_type": "markdown",
   "metadata": {},
   "source": [
    "# Entrenamiento"
   ]
  },
  {
   "cell_type": "markdown",
   "metadata": {},
   "source": [
    "# Submit to Kaggle"
   ]
  },
  {
   "cell_type": "markdown",
   "metadata": {},
   "source": [
    "Las predicciones tendrán seteadas como índice los ref_hash para no perder la referencia"
   ]
  },
  {
   "cell_type": "code",
   "execution_count": 29,
   "metadata": {},
   "outputs": [],
   "source": [
    "def create_submit_df(auctions_predictions, installs_predictions, target):\n",
    "    return resul"
   ]
  }
 ],
 "metadata": {
  "kernelspec": {
   "display_name": "Python 3",
   "language": "python",
   "name": "python3"
  },
  "language_info": {
   "codemirror_mode": {
    "name": "ipython",
    "version": 3
   },
   "file_extension": ".py",
   "mimetype": "text/x-python",
   "name": "python",
   "nbconvert_exporter": "python",
   "pygments_lexer": "ipython3",
   "version": "3.7.1"
  }
 },
 "nbformat": 4,
 "nbformat_minor": 2
}
