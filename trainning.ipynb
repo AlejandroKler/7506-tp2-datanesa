{
 "cells": [
  {
   "cell_type": "code",
   "execution_count": 10,
   "metadata": {},
   "outputs": [],
   "source": [
    "import pandas as pd\n",
    "import numpy as np\n",
    "import matplotlib.pyplot as plt\n",
    "import xgboost as xgb\n",
    "from sklearn.model_selection import train_test_split, RandomizedSearchCV\n",
    "from scipy import stats\n",
    "import seaborn as sns\n",
    "from sklearn.metrics import mean_squared_error\n",
    "from sklearn.ensemble import RandomForestRegressor\n",
    "from xgboost.sklearn import XGBRegressor\n",
    "from sklearn.datasets import make_regression\n",
    "import sklearn\n",
    "from sklearn.model_selection import GridSearchCV\n",
    "np.random.seed(10)\n",
    "#import lightgbm as lgb\n",
    "from sklearn.metrics import mean_squared_error\n",
    "from scipy.stats import randint as sp_randint\n",
    "from scipy.stats import randint as sp_uniform"
   ]
  },
  {
   "cell_type": "markdown",
   "metadata": {},
   "source": [
    "# Carga de los df de features para entrenar y predecir"
   ]
  },
  {
   "cell_type": "code",
   "execution_count": 11,
   "metadata": {},
   "outputs": [],
   "source": [
    "windows = [\"18_20\",\"19_21\",\"20_22\",\"21_23\"]\n",
    "features = {}\n",
    "label_auc = {}\n",
    "label_inst = {}\n",
    "label_clas_auc = {}\n",
    "label_clas_inst = {}\n",
    "\n",
    "for window in windows:\n",
    "    features[window] = pd.read_csv(\"windows/{}/features.csv\".format(window), index_col=\"ref_hash\")\n",
    "    label_auc[window] = pd.read_csv(\"windows/{}/labels_auc.csv\".format(window), index_col=\"ref_hash\")\n",
    "    label_inst[window] = pd.read_csv(\"windows/{}/labels_inst.csv\".format(window), index_col=\"ref_hash\")\n",
    "    label_clas_auc[window] = pd.DataFrame({'ref_hash': label_auc[window].index, 'label_auc': (label_auc[window]['label_auc'] == 259200).astype(int)}).set_index(\"ref_hash\")\n",
    "    label_clas_inst[window] = pd.DataFrame({'ref_hash': label_inst[window].index, 'label_inst': (label_inst[window]['label_inst'] == 259200).astype(int)}).set_index(\"ref_hash\")\n",
    "    \n",
    "features_to_predict = pd.read_csv(\"windows/24_26/features.csv\", index_col=\"ref_hash\") "
   ]
  },
  {
   "cell_type": "markdown",
   "metadata": {},
   "source": [
    "## Selección de features"
   ]
  },
  {
   "cell_type": "code",
   "execution_count": 12,
   "metadata": {},
   "outputs": [],
   "source": [
    "def select_features(df, feature_list):\n",
    "    return df.reindex(columns=feature_list)"
   ]
  },
  {
   "cell_type": "code",
   "execution_count": 32,
   "metadata": {},
   "outputs": [],
   "source": [
    "features_list_class_auc = [\n",
    "    'appearances_in_auctions', \n",
    "    'user_appeared_last_day', \n",
    "    'time_to_reappear',\n",
    "    'amount_of_clicks', \n",
    "    'has_installed', \n",
    "    #'user_clicked_last_day',\n",
    "    'user_installed_last_day', \n",
    "    'amount_of_installs', \n",
    "    #'cant_max_day',\n",
    "    #'cant_min_day', \n",
    "    #'mean_time_to_click', \n",
    "    #'max_time_click',\n",
    "    #'min_time_click', \n",
    "    'mean_auctions_per_day', \n",
    "    'mean_events_per_day',\n",
    "    #'mean_clicks_per_day', \n",
    "    'amount_auctions_in_last_hour',\n",
    "    'amount_auctions_in_last_2_hours', \n",
    "    'amount_auctions_in_last_5_hours',\n",
    "    'amount_auctions_in_last_12_hours', \n",
    "    'amount_auctions_in_last_24_hours',\n",
    "    'amount_events_in_last_hour', \n",
    "    'amount_events_in_last_2_hours',\n",
    "    'amount_auctions_in_first_hour', \n",
    "    'amount_auctions_in_first_3_hours',\n",
    "    'amount_auctions_in_first_5_hours', \n",
    "    'amount_auctions_in_first_12_hours',\n",
    "    'amount_events_in_first_hour', \n",
    "    'amount_events_in_first_5_hours',\n",
    "    'amount_events_in_first_12_hours', \n",
    "    #'amount_clicks_in_last_2_hours',\n",
    "    #'amount_clicks_in_last_4_hours', \n",
    "    'device_os', \n",
    "    #'std_time_to_click',\n",
    "    'std_time_auctions', \n",
    "    #'max_time_install', \n",
    "    #'min_time_install',\n",
    "    #'mean_time_install', \n",
    "    #'std_time_install', \n",
    "    'max_time_events',\n",
    "    'min_time_events', \n",
    "    'mean_time_events', \n",
    "    'std_time_events',\n",
    "    'installs_per_events', \n",
    "    #'installs_per_clicks', \n",
    "    'events_x_app_210',\n",
    "    'events_x_app_122', \n",
    "    'events_x_app_65', \n",
    "    'events_x_app_121',\n",
    "    'events_x_app_26', \n",
    "    'most_installed_apps_used', \n",
    "    'cant_apps_used',\n",
    "    #'cant_events_atributed', \n",
    "    #'has_events_atributed',\n",
    "    'has_events_ids_with_installs', \n",
    "    #'has_events_ids_without_installs',\n",
    "    'cant_events_0_4', \n",
    "    'cant_events_4_8', \n",
    "    'cant_events_8_12',\n",
    "    'cant_events_12_16', \n",
    "    'cant_events_16_20', \n",
    "    'cant_events_20_24',\n",
    "    'cant_auctions_0_4', \n",
    "    'cant_auctions_4_8', \n",
    "    'cant_auctions_8_12',\n",
    "    'cant_auctions_12_16', \n",
    "    'cant_auctions_16_20', \n",
    "    'cant_auctions_20_24',\n",
    "    #'implicit', \n",
    "    #'latitude', \n",
    "    #'longitude', \n",
    "    #'clicked_in_last_5_minutes',\n",
    "    #'clicked_with_wifi_in_last_3_hours', \n",
    "    'hour_install', \n",
    "    'hour_events',\n",
    "    'hour_clicks', \n",
    "    'hour_auctions',\n",
    "    #'amount_auctions_in_last_half_hour',\n",
    "    #'amount_auctions_in_last_15_minutes',\n",
    "    'cant_devices'\n",
    "]"
   ]
  },
  {
   "cell_type": "code",
   "execution_count": 51,
   "metadata": {},
   "outputs": [],
   "source": [
    "features_list_class_inst = [\n",
    "    'appearances_in_auctions', \n",
    "    'user_appeared_last_day', \n",
    "    'time_to_reappear',\n",
    "    #'amount_of_clicks', \n",
    "    'has_installed', \n",
    "    'user_clicked_last_day',\n",
    "    'user_installed_last_day', \n",
    "    'amount_of_installs', \n",
    "    #'cant_max_day',\n",
    "    #'cant_min_day', \n",
    "    #'mean_time_to_click', \n",
    "    #'max_time_click',\n",
    "    'min_time_click', \n",
    "    'mean_auctions_per_day', \n",
    "    'mean_events_per_day',\n",
    "    #'mean_clicks_per_day', \n",
    "    'amount_auctions_in_last_hour',\n",
    "    'amount_auctions_in_last_2_hours', \n",
    "    'amount_auctions_in_last_5_hours',\n",
    "    'amount_auctions_in_last_12_hours', \n",
    "    'amount_auctions_in_last_24_hours',\n",
    "    'amount_events_in_last_hour', \n",
    "    'amount_events_in_last_2_hours',\n",
    "    'amount_auctions_in_first_hour', \n",
    "    'amount_auctions_in_first_3_hours',\n",
    "    'amount_auctions_in_first_5_hours', \n",
    "    'amount_auctions_in_first_12_hours',\n",
    "    'amount_events_in_first_hour', \n",
    "    'amount_events_in_first_5_hours',\n",
    "    'amount_events_in_first_12_hours', \n",
    "    #'amount_clicks_in_last_2_hours',\n",
    "    #'amount_clicks_in_last_4_hours', \n",
    "    'device_os', \n",
    "    #'std_time_to_click',\n",
    "    'std_time_auctions', \n",
    "    'max_time_install', \n",
    "    'min_time_install',\n",
    "    'mean_time_install', \n",
    "    #'std_time_install', \n",
    "    'max_time_events',\n",
    "    'min_time_events', \n",
    "    'mean_time_events', \n",
    "    'std_time_events',\n",
    "    'installs_per_events', \n",
    "    #'installs_per_clicks', \n",
    "    'events_x_app_210',\n",
    "    'events_x_app_122', \n",
    "    'events_x_app_65', \n",
    "    'events_x_app_121',\n",
    "    'events_x_app_26', \n",
    "    'most_installed_apps_used', \n",
    "    'cant_apps_used',\n",
    "    #'cant_events_atributed', \n",
    "    #'has_events_atributed',\n",
    "    'has_events_ids_with_installs', \n",
    "    #'has_events_ids_without_installs',\n",
    "    'cant_events_0_4', \n",
    "    'cant_events_4_8', \n",
    "    'cant_events_8_12',\n",
    "    'cant_events_12_16', \n",
    "    'cant_events_16_20', \n",
    "    'cant_events_20_24',\n",
    "    'cant_auctions_0_4', \n",
    "    'cant_auctions_4_8', \n",
    "    'cant_auctions_8_12',\n",
    "    'cant_auctions_12_16', \n",
    "    'cant_auctions_16_20', \n",
    "    'cant_auctions_20_24',\n",
    "    'implicit', \n",
    "    'latitude', \n",
    "    'longitude', \n",
    "    #'clicked_in_last_5_minutes',\n",
    "    'clicked_with_wifi_in_last_3_hours', \n",
    "    'hour_install', \n",
    "    'hour_events',\n",
    "    'hour_clicks', \n",
    "    'hour_auctions',\n",
    "    'cant_installs_0_4',\n",
    "    'cant_installs_4_8', \n",
    "    'cant_installs_8_12',\n",
    "    'cant_installs_12_16',\n",
    "    'cant_installs_16_20',\n",
    "    'cant_installs_20_24',\n",
    "    #'amount_auctions_in_last_half_hour',\n",
    "    #'amount_auctions_in_last_15_minutes',\n",
    "    'cant_devices', \n",
    "    \"mean_appearances_auctions\",\n",
    "    \"mean_appearances_events\", \"mean_appearances_clicks\", \"mean_appearances_installs\"\n",
    "]"
   ]
  },
  {
   "cell_type": "markdown",
   "metadata": {},
   "source": [
    "## Funciones útiles para el entrenamento y el balanceo"
   ]
  },
  {
   "cell_type": "code",
   "execution_count": 52,
   "metadata": {},
   "outputs": [],
   "source": [
    "def get_df_to_train(windows, features, labels, feature_list):\n",
    "    df_list = []\n",
    "    for window in windows:\n",
    "        df = select_features(features[window], feature_list).join(labels[window], how=\"inner\")\n",
    "        df_list.append(df)\n",
    "    df_full = pd.concat(df_list)\n",
    "    df_full.reset_index(inplace=True, drop=True)\n",
    "    return df_full"
   ]
  },
  {
   "cell_type": "code",
   "execution_count": 53,
   "metadata": {},
   "outputs": [],
   "source": [
    "# factor = 1 100% balanced\n",
    "# factor = 0 not balanced\n",
    "# label_value label que mas aparece y se debe balancear\n",
    "def balance(df_full, label_name, factor, label_value = 1):\n",
    "    cant_values = df_full[label_name].value_counts()[label_value]\n",
    "    cant_no_values = len(df_full[label_name]) - cant_values\n",
    "    a_borrar = int((cant_values-cant_no_values)*factor)\n",
    "    index_to_drop = np.random.choice(df_full.loc[df_full[label_name] == label_value].index,a_borrar, replace=False)\n",
    "    return df_full.drop(index=index_to_drop)"
   ]
  },
  {
   "cell_type": "code",
   "execution_count": 54,
   "metadata": {},
   "outputs": [],
   "source": [
    "def get_train_test_split(df_full, label_name, test_size=0.3):\n",
    "    y = df_full[label_name]\n",
    "    X_data = df_full.drop(label_name, axis=1)\n",
    "    return train_test_split(X_data, y, test_size=test_size, random_state=7)"
   ]
  },
  {
   "cell_type": "markdown",
   "metadata": {},
   "source": [
    "# Importancia de los features"
   ]
  },
  {
   "cell_type": "code",
   "execution_count": 55,
   "metadata": {},
   "outputs": [],
   "source": [
    "from sklearn.datasets import load_boston\n",
    "from sklearn.ensemble import RandomForestRegressor"
   ]
  },
  {
   "cell_type": "markdown",
   "metadata": {},
   "source": [
    "> ### ***Importancia de los features de auctions***"
   ]
  },
  {
   "cell_type": "code",
   "execution_count": 33,
   "metadata": {},
   "outputs": [
    {
     "data": {
      "text/plain": [
       "RandomForestRegressor(bootstrap=True, criterion='mse', max_depth=None,\n",
       "           max_features='auto', max_leaf_nodes=None,\n",
       "           min_impurity_decrease=0.0, min_impurity_split=None,\n",
       "           min_samples_leaf=1, min_samples_split=2,\n",
       "           min_weight_fraction_leaf=0.0, n_estimators=100, n_jobs=None,\n",
       "           oob_score=False, random_state=None, verbose=0, warm_start=False)"
      ]
     },
     "execution_count": 33,
     "metadata": {},
     "output_type": "execute_result"
    }
   ],
   "source": [
    "df_auctions_importance = get_df_to_train(windows, features, label_auc, features_list_class_auc)\n",
    "df_auctions_importance = df_auctions_importance.sample(10000)\n",
    "\n",
    "\n",
    "df_auctions_features = df_auctions_importance.drop('label_auc', axis=1)\n",
    "df_auctions_labels = df_auctions_importance['label_auc']\n",
    "\n",
    "X = df_auctions_features.fillna(0)\n",
    "Y = df_auctions_labels\n",
    "names = X.columns.tolist()\n",
    "rf_auc = RandomForestRegressor(n_estimators=100)\n",
    "rf_auc.fit(X, Y)\n",
    "#print(\"Features sorted by their score:\")\n",
    "#print(sorted(zip(map(lambda x: round(x, 4), rf.feature_importances_), names), reverse=True))"
   ]
  },
  {
   "cell_type": "code",
   "execution_count": 34,
   "metadata": {},
   "outputs": [],
   "source": [
    "feature_importance_auctions = sorted(zip(map(lambda x: round(x, 4), rf_auc.feature_importances_), names))\n",
    "feature_auctions_plot = pd.DataFrame(feature_importance_auctions).set_index(1)"
   ]
  },
  {
   "cell_type": "code",
   "execution_count": 45,
   "metadata": {},
   "outputs": [
    {
     "data": {
      "image/png": "[encoded data removed]",
      "text/plain": [
       "<Figure size 1008x1296 with 1 Axes>"
      ]
     },
     "metadata": {
      "needs_background": "light"
     },
     "output_type": "display_data"
    }
   ],
   "source": [
    "# Ploteo\n",
    "\n",
    "import matplotlib.pyplot as plt\n",
    "\n",
    "plot = feature_auctions_plot.plot(kind=\"barh\", figsize=(14,18))\n",
    "plot.set_title(\"Importance of auctions features\", fontsize=25)\n",
    "plot.set_ylabel(\"Feature\", fontsize=20)\n",
    "plot.set_xlabel(\"Importance\", fontsize=20);\n",
    "plot.legend([\"Importance\"], loc=4)\n",
    "plot.tick_params(labelsize=13, which='major')\n",
    "plt.savefig(\"importance_auctions.png\", bbox_inches=\"tight\")"
   ]
  },
  {
   "cell_type": "markdown",
   "metadata": {},
   "source": [
    "> ### ***Importancia de los features de installs***"
   ]
  },
  {
   "cell_type": "code",
   "execution_count": 56,
   "metadata": {},
   "outputs": [
    {
     "data": {
      "text/plain": [
       "RandomForestRegressor(bootstrap=True, criterion='mse', max_depth=None,\n",
       "           max_features='auto', max_leaf_nodes=None,\n",
       "           min_impurity_decrease=0.0, min_impurity_split=None,\n",
       "           min_samples_leaf=1, min_samples_split=2,\n",
       "           min_weight_fraction_leaf=0.0, n_estimators=100, n_jobs=None,\n",
       "           oob_score=False, random_state=None, verbose=0, warm_start=False)"
      ]
     },
     "execution_count": 56,
     "metadata": {},
     "output_type": "execute_result"
    }
   ],
   "source": [
    "df_installs_importance = get_df_to_train(windows, features, label_inst, features_list_class_inst)\n",
    "df_installs_importance = df_installs_importance.sample(10000)\n",
    "\n",
    "\n",
    "df_installs_features = df_installs_importance.drop('label_inst', axis=1)\n",
    "df_installs_labels = df_installs_importance['label_inst']\n",
    "\n",
    "X = df_installs_features.fillna(0)\n",
    "Y = df_installs_labels\n",
    "names = X.columns.tolist()\n",
    "rf_inst = RandomForestRegressor(n_estimators=100)\n",
    "rf_inst.fit(X, Y)\n",
    "#print(\"Features sorted by their score:\")\n",
    "#print(sorted(zip(map(lambda x: round(x, 4), rf.feature_importances_), names), reverse=True))"
   ]
  },
  {
   "cell_type": "code",
   "execution_count": 57,
   "metadata": {},
   "outputs": [],
   "source": [
    "feature_importance_inst = sorted(zip(map(lambda x: round(x, 4), rf_inst.feature_importances_), names))\n",
    "feature_inst_plot = pd.DataFrame(feature_importance_inst).set_index(1)"
   ]
  },
  {
   "cell_type": "code",
   "execution_count": 58,
   "metadata": {},
   "outputs": [
    {
     "data": {
      "image/png": "[encoded data removed]",
      "text/plain": [
       "<Figure size 1008x1296 with 1 Axes>"
      ]
     },
     "metadata": {
      "needs_background": "light"
     },
     "output_type": "display_data"
    }
   ],
   "source": [
    "# Ploteo\n",
    "\n",
    "import matplotlib.pyplot as plt\n",
    "\n",
    "plot = feature_inst_plot.plot(kind=\"barh\", figsize=(14,18))\n",
    "plot.set_title(\"Importance of installs features\", fontsize=25)\n",
    "plot.set_ylabel(\"Feature\", fontsize=20)\n",
    "plot.set_xlabel(\"Importance\", fontsize=20);\n",
    "plot.legend([\"Importance\"], loc=4)\n",
    "plot.tick_params(labelsize=13, which='major')\n",
    "plt.savefig(\"importance_installs.png\", bbox_inches=\"tight\")"
   ]
  },
  {
   "cell_type": "markdown",
   "metadata": {},
   "source": [
    "# ***Modelos***"
   ]
  },
  {
   "cell_type": "markdown",
   "metadata": {},
   "source": [
    "# **Redes neuronales**"
   ]
  },
  {
   "cell_type": "code",
   "execution_count": 6,
   "metadata": {},
   "outputs": [
    {
     "name": "stderr",
     "output_type": "stream",
     "text": [
      "Using TensorFlow backend.\n"
     ]
    }
   ],
   "source": [
    "from keras.models import Sequential\n",
    "from keras.layers import Dense, Dropout\n",
    "from keras import metrics"
   ]
  },
  {
   "cell_type": "markdown",
   "metadata": {},
   "source": [
    "> ### ***Modelo de redes neuronales de predicción de auctions***"
   ]
  },
  {
   "cell_type": "code",
   "execution_count": 69,
   "metadata": {},
   "outputs": [],
   "source": [
    "df_full_auctions = get_df_to_train(windows, features, label_auc, features_list_class_auc)\n",
    "df_full_auctions = df_full_auctions.fillna(0)\n",
    "\n",
    "# Filtro los tiempos máximos.\n",
    "df_full_auctions = df_full_auctions[df_full_auctions[\"label_auc\"] < 259200]\n",
    "\n",
    "# Separo train y test.\n",
    "X_train_auc, X_test_auc, y_train_auc, y_test_auc = get_train_test_split(df_full_auctions, \"label_auc\")"
   ]
  },
  {
   "cell_type": "code",
   "execution_count": 73,
   "metadata": {},
   "outputs": [],
   "source": [
    "# Creo el modelo\n",
    "model_auc_neural = Sequential()\n",
    "\n",
    "# Capa de entrada\n",
    "model_auc_neural.add(Dense(10, input_dim=X_train_auc.shape[1], activation='relu'))\n",
    "# Dropout para controlar el overfit\n",
    "model_auc_neural.add(Dropout(0.2))\n",
    "\n",
    "# Capa con 40 neuronas\n",
    "model_auc_neural.add(Dense(20, activation='relu'))\n",
    "# Dropout para controlar el overfit\n",
    "#model_auc_neural.add(Dropout(0.2))\n",
    "\n",
    "# Capa con 60 neuronas\n",
    "model_auc_neural.add(Dense(60, activation='relu'))\n",
    "# Dropout para controlar el overfit\n",
    "#model_auc_neural.add(Dropout(0.2))\n",
    "\n",
    "# Capa con 60 neuronas\n",
    "model_auc_neural.add(Dense(80, activation='relu'))\n",
    "# Dropout para controlar el overfit\n",
    "#model_auc_neural.add(Dropout(0.2))\n",
    "\n",
    "# Salida del modelo\n",
    "model_auc_neural.add(Dense(1))\n",
    "\n",
    "# Compilo el modelo\n",
    "model_auc_neural.compile(optimizer ='adam', loss = 'mean_squared_error', metrics =[metrics.mse])"
   ]
  },
  {
   "cell_type": "code",
   "execution_count": 74,
   "metadata": {},
   "outputs": [
    {
     "name": "stdout",
     "output_type": "stream",
     "text": [
      "_________________________________________________________________\n",
      "Layer (type)                 Output Shape              Param #   \n",
      "=================================================================\n",
      "dense_64 (Dense)             (None, 10)                720       \n",
      "_________________________________________________________________\n",
      "dropout_39 (Dropout)         (None, 10)                0         \n",
      "_________________________________________________________________\n",
      "dense_65 (Dense)             (None, 20)                220       \n",
      "_________________________________________________________________\n",
      "dense_66 (Dense)             (None, 60)                1260      \n",
      "_________________________________________________________________\n",
      "dense_67 (Dense)             (None, 80)                4880      \n",
      "_________________________________________________________________\n",
      "dense_68 (Dense)             (None, 1)                 81        \n",
      "=================================================================\n",
      "Total params: 7,161\n",
      "Trainable params: 7,161\n",
      "Non-trainable params: 0\n",
      "_________________________________________________________________\n"
     ]
    }
   ],
   "source": [
    "# Veo el modelo\n",
    "model_auc_neural.summary()"
   ]
  },
  {
   "cell_type": "code",
   "execution_count": null,
   "metadata": {},
   "outputs": [
    {
     "name": "stdout",
     "output_type": "stream",
     "text": [
      "Train on 704627 samples, validate on 301984 samples\n",
      "Epoch 1/5\n",
      "704627/704627 [==============================] - 47s 66us/step - loss: 6076040771.9540 - mean_squared_error: 6076040771.9540 - val_loss: 5102212982.5733 - val_mean_squared_error: 5102212982.5733\n",
      "Epoch 2/5\n",
      "704627/704627 [==============================] - 47s 67us/step - loss: 4572109462.1376 - mean_squared_error: 4572109462.1376 - val_loss: 4343436420.4082 - val_mean_squared_error: 4343436420.4082\n",
      "Epoch 3/5\n",
      "621056/704627 [=========================>....] - ETA: 5s - loss: 4400947366.7007 - mean_squared_error: 4400947366.7007"
     ]
    }
   ],
   "source": [
    "# Entreno el modelo\n",
    "model_auc_neural.fit(X_train_auc, y_train_auc, validation_data=(X_test_auc,y_test_auc), epochs=5, batch_size=32)"
   ]
  },
  {
   "cell_type": "code",
   "execution_count": 57,
   "metadata": {},
   "outputs": [
    {
     "name": "stdout",
     "output_type": "stream",
     "text": [
      "RMSE: 66034.10985273823\n"
     ]
    }
   ],
   "source": [
    "# Acá pones el valor que da el \"mean_squared_error\" del modelo\n",
    "MSE = 4360503664.0435\n",
    "\n",
    "print(f\"RMSE: {MSE**(1/2)}\")"
   ]
  },
  {
   "cell_type": "markdown",
   "metadata": {},
   "source": [
    "> ### ***Modelo de redes neuronales de predicción de installs***"
   ]
  },
  {
   "cell_type": "code",
   "execution_count": 46,
   "metadata": {},
   "outputs": [],
   "source": [
    "df_full_inst = get_df_to_train(windows, features, label_inst, features_list_class_inst)\n",
    "df_full_inst = df_full_inst.fillna(0)\n",
    "\n",
    "# Saco los tiempos máximos\n",
    "\n",
    "df_full_inst = df_full_inst[df_full_inst[\"label_inst\"] < 259200]\n",
    "#df_full_inst = balance(df_full_inst, \"label_inst\", 1, 259200)\n",
    "\n",
    "\n",
    "# Separo en train y test\n",
    "X_train_inst, X_test_inst, y_train_inst, y_test_inst = get_train_test_split(df_full_inst, \"label_inst\")"
   ]
  },
  {
   "cell_type": "code",
   "execution_count": 47,
   "metadata": {},
   "outputs": [],
   "source": [
    "# Creo el modelo\n",
    "model_inst_neural = Sequential()\n",
    "\n",
    "# Capa de entrada\n",
    "model_inst_neural.add(Dense(10, input_dim=X_train_inst.shape[1], activation='relu'))\n",
    "# Dropout para controlar el overfit\n",
    "model_inst_neural.add(Dropout(0.2))\n",
    "\n",
    "# Capa con 30 neuronas\n",
    "model_inst_neural.add(Dense(40, activation='relu'))\n",
    "# Dropout para controlar el overfit\n",
    "model_inst_neural.add(Dropout(0.2))\n",
    "\n",
    "# Capa con 50 neuronas\n",
    "model_inst_neural.add(Dense(60, activation='relu'))\n",
    "# Dropout para controlar el overfit\n",
    "\n",
    "# Capa con 20 neuronas\n",
    "model_inst_neural.add(Dense(30, activation='relu'))\n",
    "# Dropout para controlar el overfit\n",
    "model_inst_neural.add(Dropout(0.2))\n",
    "\n",
    "# Salida del modelo\n",
    "model_inst_neural.add(Dense(1))\n",
    "\n",
    "# Compilo el modelo\n",
    "model_inst_neural.compile(optimizer ='adam', loss = 'mean_squared_error', metrics =[metrics.mse])"
   ]
  },
  {
   "cell_type": "code",
   "execution_count": 48,
   "metadata": {},
   "outputs": [
    {
     "name": "stdout",
     "output_type": "stream",
     "text": [
      "_________________________________________________________________\n",
      "Layer (type)                 Output Shape              Param #   \n",
      "=================================================================\n",
      "dense_26 (Dense)             (None, 10)                860       \n",
      "_________________________________________________________________\n",
      "dropout_16 (Dropout)         (None, 10)                0         \n",
      "_________________________________________________________________\n",
      "dense_27 (Dense)             (None, 40)                440       \n",
      "_________________________________________________________________\n",
      "dropout_17 (Dropout)         (None, 40)                0         \n",
      "_________________________________________________________________\n",
      "dense_28 (Dense)             (None, 60)                2460      \n",
      "_________________________________________________________________\n",
      "dense_29 (Dense)             (None, 30)                1830      \n",
      "_________________________________________________________________\n",
      "dropout_18 (Dropout)         (None, 30)                0         \n",
      "_________________________________________________________________\n",
      "dense_30 (Dense)             (None, 1)                 31        \n",
      "=================================================================\n",
      "Total params: 5,621\n",
      "Trainable params: 5,621\n",
      "Non-trainable params: 0\n",
      "_________________________________________________________________\n"
     ]
    }
   ],
   "source": [
    "# Veo el modelo\n",
    "model_inst_neural.summary()"
   ]
  },
  {
   "cell_type": "code",
   "execution_count": 49,
   "metadata": {},
   "outputs": [
    {
     "name": "stdout",
     "output_type": "stream",
     "text": [
      "Train on 154919 samples, validate on 66395 samples\n",
      "Epoch 1/50\n",
      "154919/154919 [==============================] - 9s 58us/step - loss: 15391003852.3915 - mean_squared_error: 15391003852.3915 - val_loss: 14894671627.7329 - val_mean_squared_error: 14894671627.7329\n",
      "Epoch 2/50\n",
      "154919/154919 [==============================] - 8s 53us/step - loss: 12517791544.1098 - mean_squared_error: 12517791544.1098 - val_loss: 9809100338.2631 - val_mean_squared_error: 9809100338.2631\n",
      "Epoch 3/50\n",
      "154919/154919 [==============================] - 8s 53us/step - loss: 9741268331.2870 - mean_squared_error: 9741268331.2870 - val_loss: 9355052366.5293 - val_mean_squared_error: 9355052366.5293\n",
      "Epoch 4/50\n",
      "154919/154919 [==============================] - 8s 54us/step - loss: 8376433830.8737 - mean_squared_error: 8376433830.8737 - val_loss: 6619108251.0189 - val_mean_squared_error: 6619108251.0189\n",
      "Epoch 5/50\n",
      "154919/154919 [==============================] - 8s 55us/step - loss: 6572779073.5141 - mean_squared_error: 6572779073.5141 - val_loss: 6008003039.1185 - val_mean_squared_error: 6008003039.1185\n",
      "Epoch 6/50\n",
      "154919/154919 [==============================] - 8s 54us/step - loss: 6590028264.8852 - mean_squared_error: 6590028264.8852 - val_loss: 6011525165.1581 - val_mean_squared_error: 6011525165.1581\n",
      "Epoch 7/50\n",
      "154919/154919 [==============================] - 8s 55us/step - loss: 6445331498.6240 - mean_squared_error: 6445331498.6240 - val_loss: 5993157503.7359 - val_mean_squared_error: 5993157503.7359\n",
      "Epoch 8/50\n",
      "154919/154919 [==============================] - 8s 54us/step - loss: 6414516329.6726 - mean_squared_error: 6414516329.6726 - val_loss: 5985539458.6277 - val_mean_squared_error: 5985539458.6277\n",
      "Epoch 9/50\n",
      "154919/154919 [==============================] - 9s 57us/step - loss: 6408357918.9658 - mean_squared_error: 6408357918.9658 - val_loss: 5973705868.5407 - val_mean_squared_error: 5973705868.5407\n",
      "Epoch 10/50\n",
      "154919/154919 [==============================] - 8s 50us/step - loss: 6390654748.1574 - mean_squared_error: 6390654748.1574 - val_loss: 5961810263.2972 - val_mean_squared_error: 5961810263.2972\n",
      "Epoch 11/50\n",
      "154919/154919 [==============================] - 9s 55us/step - loss: 6376001671.8137 - mean_squared_error: 6376001671.8137 - val_loss: 5965555575.2225 - val_mean_squared_error: 5965555575.2225\n",
      "Epoch 12/50\n",
      "154919/154919 [==============================] - 9s 58us/step - loss: 6409178948.5728 - mean_squared_error: 6409178948.5728 - val_loss: 5971165493.3746 - val_mean_squared_error: 5971165493.3746\n",
      "Epoch 13/50\n",
      "154919/154919 [==============================] - 8s 54us/step - loss: 6390851380.3158 - mean_squared_error: 6390851380.3158 - val_loss: 5993001413.2852 - val_mean_squared_error: 5993001413.2852\n",
      "Epoch 14/50\n",
      "154919/154919 [==============================] - 9s 57us/step - loss: 6349613441.2881 - mean_squared_error: 6349613441.2881 - val_loss: 5967102689.6594 - val_mean_squared_error: 5967102689.6594\n",
      "Epoch 15/50\n",
      "154919/154919 [==============================] - 9s 55us/step - loss: 6333501723.1551 - mean_squared_error: 6333501723.1551 - val_loss: 5974582350.4792 - val_mean_squared_error: 5974582350.4792\n",
      "Epoch 16/50\n",
      "154919/154919 [==============================] - 9s 60us/step - loss: 6380751434.9927 - mean_squared_error: 6380751434.9927 - val_loss: 5978088645.5435 - val_mean_squared_error: 5978088645.5435\n",
      "Epoch 17/50\n",
      "154919/154919 [==============================] - 10s 64us/step - loss: 6362452758.0407 - mean_squared_error: 6362452758.0407 - val_loss: 5960340331.2235 - val_mean_squared_error: 5960340331.2235\n",
      "Epoch 18/50\n",
      "154560/154919 [============================>.] - ETA: 0s - loss: 6360902518.6716 - mean_squared_error: 6360902518.6716"
     ]
    },
    {
     "ename": "KeyboardInterrupt",
     "evalue": "",
     "output_type": "error",
     "traceback": [
      "\u001b[0;31m---------------------------------------------------------------------------\u001b[0m",
      "\u001b[0;31mKeyboardInterrupt\u001b[0m                         Traceback (most recent call last)",
      "\u001b[0;32m<ipython-input-49-4c030915e825>\u001b[0m in \u001b[0;36m<module>\u001b[0;34m\u001b[0m\n\u001b[1;32m      1\u001b[0m \u001b[0;31m# Entreno el modelo\u001b[0m\u001b[0;34m\u001b[0m\u001b[0;34m\u001b[0m\u001b[0;34m\u001b[0m\u001b[0m\n\u001b[0;32m----> 2\u001b[0;31m \u001b[0mmodel_inst_neural\u001b[0m\u001b[0;34m.\u001b[0m\u001b[0mfit\u001b[0m\u001b[0;34m(\u001b[0m\u001b[0mX_train_inst\u001b[0m\u001b[0;34m,\u001b[0m \u001b[0my_train_inst\u001b[0m\u001b[0;34m,\u001b[0m \u001b[0mvalidation_data\u001b[0m\u001b[0;34m=\u001b[0m\u001b[0;34m(\u001b[0m\u001b[0mX_test_inst\u001b[0m\u001b[0;34m,\u001b[0m\u001b[0my_test_inst\u001b[0m\u001b[0;34m)\u001b[0m\u001b[0;34m,\u001b[0m \u001b[0mepochs\u001b[0m\u001b[0;34m=\u001b[0m\u001b[0;36m50\u001b[0m\u001b[0;34m)\u001b[0m\u001b[0;34m\u001b[0m\u001b[0;34m\u001b[0m\u001b[0m\n\u001b[0m",
      "\u001b[0;32m/Library/Frameworks/Python.framework/Versions/3.7/lib/python3.7/site-packages/keras/engine/training.py\u001b[0m in \u001b[0;36mfit\u001b[0;34m(self, x, y, batch_size, epochs, verbose, callbacks, validation_split, validation_data, shuffle, class_weight, sample_weight, initial_epoch, steps_per_epoch, validation_steps, **kwargs)\u001b[0m\n\u001b[1;32m   1037\u001b[0m                                         \u001b[0minitial_epoch\u001b[0m\u001b[0;34m=\u001b[0m\u001b[0minitial_epoch\u001b[0m\u001b[0;34m,\u001b[0m\u001b[0;34m\u001b[0m\u001b[0;34m\u001b[0m\u001b[0m\n\u001b[1;32m   1038\u001b[0m                                         \u001b[0msteps_per_epoch\u001b[0m\u001b[0;34m=\u001b[0m\u001b[0msteps_per_epoch\u001b[0m\u001b[0;34m,\u001b[0m\u001b[0;34m\u001b[0m\u001b[0;34m\u001b[0m\u001b[0m\n\u001b[0;32m-> 1039\u001b[0;31m                                         validation_steps=validation_steps)\n\u001b[0m\u001b[1;32m   1040\u001b[0m \u001b[0;34m\u001b[0m\u001b[0m\n\u001b[1;32m   1041\u001b[0m     def evaluate(self, x=None, y=None,\n",
      "\u001b[0;32m/Library/Frameworks/Python.framework/Versions/3.7/lib/python3.7/site-packages/keras/engine/training_arrays.py\u001b[0m in \u001b[0;36mfit_loop\u001b[0;34m(model, f, ins, out_labels, batch_size, epochs, verbose, callbacks, val_f, val_ins, shuffle, callback_metrics, initial_epoch, steps_per_epoch, validation_steps)\u001b[0m\n\u001b[1;32m    210\u001b[0m                         val_outs = test_loop(model, val_f, val_ins,\n\u001b[1;32m    211\u001b[0m                                              \u001b[0mbatch_size\u001b[0m\u001b[0;34m=\u001b[0m\u001b[0mbatch_size\u001b[0m\u001b[0;34m,\u001b[0m\u001b[0;34m\u001b[0m\u001b[0;34m\u001b[0m\u001b[0m\n\u001b[0;32m--> 212\u001b[0;31m                                              verbose=0)\n\u001b[0m\u001b[1;32m    213\u001b[0m                         \u001b[0mval_outs\u001b[0m \u001b[0;34m=\u001b[0m \u001b[0mto_list\u001b[0m\u001b[0;34m(\u001b[0m\u001b[0mval_outs\u001b[0m\u001b[0;34m)\u001b[0m\u001b[0;34m\u001b[0m\u001b[0;34m\u001b[0m\u001b[0m\n\u001b[1;32m    214\u001b[0m                         \u001b[0;31m# Same labels assumed.\u001b[0m\u001b[0;34m\u001b[0m\u001b[0;34m\u001b[0m\u001b[0;34m\u001b[0m\u001b[0m\n",
      "\u001b[0;32m/Library/Frameworks/Python.framework/Versions/3.7/lib/python3.7/site-packages/keras/engine/training_arrays.py\u001b[0m in \u001b[0;36mtest_loop\u001b[0;34m(model, f, ins, batch_size, verbose, steps)\u001b[0m\n\u001b[1;32m    390\u001b[0m                 \u001b[0mins_batch\u001b[0m\u001b[0;34m[\u001b[0m\u001b[0mi\u001b[0m\u001b[0;34m]\u001b[0m \u001b[0;34m=\u001b[0m \u001b[0mins_batch\u001b[0m\u001b[0;34m[\u001b[0m\u001b[0mi\u001b[0m\u001b[0;34m]\u001b[0m\u001b[0;34m.\u001b[0m\u001b[0mtoarray\u001b[0m\u001b[0;34m(\u001b[0m\u001b[0;34m)\u001b[0m\u001b[0;34m\u001b[0m\u001b[0;34m\u001b[0m\u001b[0m\n\u001b[1;32m    391\u001b[0m \u001b[0;34m\u001b[0m\u001b[0m\n\u001b[0;32m--> 392\u001b[0;31m             \u001b[0mbatch_outs\u001b[0m \u001b[0;34m=\u001b[0m \u001b[0mf\u001b[0m\u001b[0;34m(\u001b[0m\u001b[0mins_batch\u001b[0m\u001b[0;34m)\u001b[0m\u001b[0;34m\u001b[0m\u001b[0;34m\u001b[0m\u001b[0m\n\u001b[0m\u001b[1;32m    393\u001b[0m             \u001b[0;32mif\u001b[0m \u001b[0misinstance\u001b[0m\u001b[0;34m(\u001b[0m\u001b[0mbatch_outs\u001b[0m\u001b[0;34m,\u001b[0m \u001b[0mlist\u001b[0m\u001b[0;34m)\u001b[0m\u001b[0;34m:\u001b[0m\u001b[0;34m\u001b[0m\u001b[0;34m\u001b[0m\u001b[0m\n\u001b[1;32m    394\u001b[0m                 \u001b[0;32mif\u001b[0m \u001b[0mbatch_index\u001b[0m \u001b[0;34m==\u001b[0m \u001b[0;36m0\u001b[0m\u001b[0;34m:\u001b[0m\u001b[0;34m\u001b[0m\u001b[0;34m\u001b[0m\u001b[0m\n",
      "\u001b[0;32m/Library/Frameworks/Python.framework/Versions/3.7/lib/python3.7/site-packages/keras/backend/tensorflow_backend.py\u001b[0m in \u001b[0;36m__call__\u001b[0;34m(self, inputs)\u001b[0m\n\u001b[1;32m   2695\u001b[0m \u001b[0;34m\u001b[0m\u001b[0m\n\u001b[1;32m   2696\u001b[0m     \u001b[0;32mdef\u001b[0m \u001b[0m__call__\u001b[0m\u001b[0;34m(\u001b[0m\u001b[0mself\u001b[0m\u001b[0;34m,\u001b[0m \u001b[0minputs\u001b[0m\u001b[0;34m)\u001b[0m\u001b[0;34m:\u001b[0m\u001b[0;34m\u001b[0m\u001b[0;34m\u001b[0m\u001b[0m\n\u001b[0;32m-> 2697\u001b[0;31m         \u001b[0;32mif\u001b[0m \u001b[0mhasattr\u001b[0m\u001b[0;34m(\u001b[0m\u001b[0mget_session\u001b[0m\u001b[0;34m(\u001b[0m\u001b[0;34m)\u001b[0m\u001b[0;34m,\u001b[0m \u001b[0;34m'_make_callable_from_options'\u001b[0m\u001b[0;34m)\u001b[0m\u001b[0;34m:\u001b[0m\u001b[0;34m\u001b[0m\u001b[0;34m\u001b[0m\u001b[0m\n\u001b[0m\u001b[1;32m   2698\u001b[0m             \u001b[0;32mif\u001b[0m \u001b[0mpy_any\u001b[0m\u001b[0;34m(\u001b[0m\u001b[0mis_sparse\u001b[0m\u001b[0;34m(\u001b[0m\u001b[0mx\u001b[0m\u001b[0;34m)\u001b[0m \u001b[0;32mfor\u001b[0m \u001b[0mx\u001b[0m \u001b[0;32min\u001b[0m \u001b[0mself\u001b[0m\u001b[0;34m.\u001b[0m\u001b[0minputs\u001b[0m\u001b[0;34m)\u001b[0m\u001b[0;34m:\u001b[0m\u001b[0;34m\u001b[0m\u001b[0;34m\u001b[0m\u001b[0m\n\u001b[1;32m   2699\u001b[0m                 \u001b[0;32mif\u001b[0m \u001b[0mpy_any\u001b[0m\u001b[0;34m(\u001b[0m\u001b[0mis_tensor\u001b[0m\u001b[0;34m(\u001b[0m\u001b[0mx\u001b[0m\u001b[0;34m)\u001b[0m \u001b[0;32mfor\u001b[0m \u001b[0mx\u001b[0m \u001b[0;32min\u001b[0m \u001b[0minputs\u001b[0m\u001b[0;34m)\u001b[0m\u001b[0;34m:\u001b[0m\u001b[0;34m\u001b[0m\u001b[0;34m\u001b[0m\u001b[0m\n",
      "\u001b[0;32m/Library/Frameworks/Python.framework/Versions/3.7/lib/python3.7/site-packages/keras/backend/tensorflow_backend.py\u001b[0m in \u001b[0;36mget_session\u001b[0;34m()\u001b[0m\n\u001b[1;32m    191\u001b[0m             \u001b[0mcandidate_vars\u001b[0m \u001b[0;34m=\u001b[0m \u001b[0;34m[\u001b[0m\u001b[0;34m]\u001b[0m\u001b[0;34m\u001b[0m\u001b[0;34m\u001b[0m\u001b[0m\n\u001b[1;32m    192\u001b[0m             \u001b[0;32mfor\u001b[0m \u001b[0mv\u001b[0m \u001b[0;32min\u001b[0m \u001b[0mvariables\u001b[0m\u001b[0;34m:\u001b[0m\u001b[0;34m\u001b[0m\u001b[0;34m\u001b[0m\u001b[0m\n\u001b[0;32m--> 193\u001b[0;31m                 \u001b[0;32mif\u001b[0m \u001b[0;32mnot\u001b[0m \u001b[0mgetattr\u001b[0m\u001b[0;34m(\u001b[0m\u001b[0mv\u001b[0m\u001b[0;34m,\u001b[0m \u001b[0;34m'_keras_initialized'\u001b[0m\u001b[0;34m,\u001b[0m \u001b[0;32mFalse\u001b[0m\u001b[0;34m)\u001b[0m\u001b[0;34m:\u001b[0m\u001b[0;34m\u001b[0m\u001b[0;34m\u001b[0m\u001b[0m\n\u001b[0m\u001b[1;32m    194\u001b[0m                     \u001b[0mcandidate_vars\u001b[0m\u001b[0;34m.\u001b[0m\u001b[0mappend\u001b[0m\u001b[0;34m(\u001b[0m\u001b[0mv\u001b[0m\u001b[0;34m)\u001b[0m\u001b[0;34m\u001b[0m\u001b[0;34m\u001b[0m\u001b[0m\n\u001b[1;32m    195\u001b[0m             \u001b[0;32mif\u001b[0m \u001b[0mcandidate_vars\u001b[0m\u001b[0;34m:\u001b[0m\u001b[0;34m\u001b[0m\u001b[0;34m\u001b[0m\u001b[0m\n",
      "\u001b[0;31mKeyboardInterrupt\u001b[0m: "
     ]
    }
   ],
   "source": [
    "# Entreno el modelo\n",
    "model_inst_neural.fit(X_train_inst, y_train_inst, validation_data=(X_test_inst,y_test_inst), epochs=50)"
   ]
  },
  {
   "cell_type": "code",
   "execution_count": null,
   "metadata": {},
   "outputs": [],
   "source": [
    "# Acá pones el valor que da el \"mean_squared_error\" del modelo\n",
    "MSE = 6272147912.2780\n",
    "\n",
    "print(f\"RMSE: {MSE**(1/2)}\")"
   ]
  },
  {
   "cell_type": "markdown",
   "metadata": {},
   "source": [
    "# **XGBoost**"
   ]
  },
  {
   "cell_type": "markdown",
   "metadata": {},
   "source": [
    "> ### ***Modelo de XGBoost de predicción de auctions***"
   ]
  },
  {
   "cell_type": "code",
   "execution_count": null,
   "metadata": {},
   "outputs": [],
   "source": [
    "df_full = get_df_to_train(windows, features, label_auc, features_list_class_auc)\n",
    "\n",
    "df_full = df_full.sample(int(len(df_full)))\n",
    "\n",
    "#df_full = balance(df_full, \"label_auc\", 0, 259200)\n",
    "\n",
    "df_full = df_full.loc[df_full[\"label_auc\"] != 259200]\n",
    "\n",
    "X_train, X_test, y_train, y_test = get_train_test_split(df_full, \"label_auc\", 0.2)"
   ]
  },
  {
   "cell_type": "code",
   "execution_count": null,
   "metadata": {},
   "outputs": [],
   "source": [
    "model_auc = xgb.XGBRegressor(   \n",
    "    gamma=0.1, \n",
    "    learning_rate=0.1, \n",
    "    max_depth=3,  \n",
    "    n_estimators=500,\n",
    "    n_jobs=2,  \n",
    "    objective='reg:linear',   \n",
    "    silent=True\n",
    ")"
   ]
  },
  {
   "cell_type": "code",
   "execution_count": null,
   "metadata": {},
   "outputs": [],
   "source": [
    "%%time\n",
    "model_auc.fit(X_train, y_train, eval_metric='rmse')\n",
    "#cv = xgb.cv(params, xg_train, 5000, nfold=n_folds, early_stopping_rounds=early_stopping, verbose_eval=1)\n",
    "prediction = model_auc.predict(X_test)\n",
    "rmse = np.sqrt(mean_squared_error(y_test, prediction))\n",
    "print(\"RMSE: %f\" % (rmse))"
   ]
  },
  {
   "cell_type": "code",
   "execution_count": null,
   "metadata": {},
   "outputs": [],
   "source": [
    "model_auc.save_model('xgboost_auc.model')"
   ]
  },
  {
   "cell_type": "markdown",
   "metadata": {},
   "source": [
    "> #### ***Mejor modelo de auctions***"
   ]
  },
  {
   "cell_type": "markdown",
   "metadata": {},
   "source": [
    "RMSE: 63345.641573\n",
    "CPU times: user 25min 48s, sys: 8.65 s, total: 25min 57s\n",
    "Wall time: 26min 8s\n",
    "    \n",
    "model_auc = xgb.XGBRegressor(\n",
    "    base_score=0.5, \n",
    "    booster='gbtree', \n",
    "    colsample_bylevel=1,\n",
    "    colsample_bytree=1, \n",
    "    gamma=0.1, \n",
    "    learning_rate=0.1, \n",
    "    max_delta_step=0,\n",
    "    max_depth=4, \n",
    "    min_child_weight=1, \n",
    "    missing=None, \n",
    "    n_estimators=600,\n",
    "    n_jobs=1, \n",
    "    nthread=None, \n",
    "    objective='reg:linear', \n",
    "    random_state=0,\n",
    "    reg_alpha=0, \n",
    "    reg_lambda=1, \n",
    "    scale_pos_weight=1, \n",
    "    seed=None,\n",
    "    silent=True, \n",
    "    subsample=1\n",
    ")"
   ]
  },
  {
   "cell_type": "code",
   "execution_count": null,
   "metadata": {},
   "outputs": [],
   "source": [
    "_ = plot_importance(model_auc, height=0.5)"
   ]
  },
  {
   "cell_type": "code",
   "execution_count": null,
   "metadata": {},
   "outputs": [],
   "source": [
    "from xgboost import plot_importance, plot_tree\n",
    "_ = plot_importance(model_auc, height=0.5)"
   ]
  },
  {
   "cell_type": "markdown",
   "metadata": {},
   "source": [
    "> ### ***Modelo de XGBoost de predicción de installs***"
   ]
  },
  {
   "cell_type": "code",
   "execution_count": null,
   "metadata": {},
   "outputs": [],
   "source": [
    "df_full_installs = get_df_to_train(windows, features, label_inst, features_list_class_inst)\n",
    "\n",
    "df_full_installs = df_full_installs.sample(int(len(df_full_installs)))\n",
    "\n",
    "#df_full_installs = balance(df_full_installs, \"label_inst\", 1, 259200)\n",
    "df_full_installs = df_full_installs[df_full_installs[\"label_inst\"] != 259200]\n",
    "\n",
    "X_train, X_test, y_train, y_test = get_train_test_split(df_full_installs, \"label_inst\", 0.2)"
   ]
  },
  {
   "cell_type": "code",
   "execution_count": null,
   "metadata": {},
   "outputs": [],
   "source": [
    "model_inst = xgb.XGBRegressor(\n",
    "    learning_rate = 0.1,\n",
    "    n_estimators=700,\n",
    "    max_dept=5,\n",
    "    gamma=0.1,\n",
    "    n_jobs=-1\n",
    ")"
   ]
  },
  {
   "cell_type": "code",
   "execution_count": null,
   "metadata": {},
   "outputs": [],
   "source": [
    "%%time\n",
    "model_inst.fit(X_train, y_train, eval_metric='rmse', verbose=True)\n",
    "\n",
    "prediction = model_inst.predict(X_test)\n",
    "rmse = np.sqrt(mean_squared_error(y_test, prediction))\n",
    "print(\"RMSE: %f\" % (rmse))"
   ]
  },
  {
   "cell_type": "code",
   "execution_count": null,
   "metadata": {},
   "outputs": [],
   "source": [
    "model_inst.save_model('xgboost_inst.model')"
   ]
  },
  {
   "cell_type": "code",
   "execution_count": null,
   "metadata": {},
   "outputs": [],
   "source": [
    "from xgboost import plot_importance, plot_tree\n",
    "_ = plot_importance(model_inst, height=0.9)"
   ]
  },
  {
   "cell_type": "markdown",
   "metadata": {},
   "source": [
    "> #### ***Mejor modelo de installs***"
   ]
  },
  {
   "cell_type": "markdown",
   "metadata": {},
   "source": [
    "WARNING: src/objective/regression_obj.cu:152: reg:linear is now deprecated in favor of reg:squarederror.\n",
    "RMSE: 76768.119164\n",
    "CPU times: user 5min 39s, sys: 2 s, total: 5min 41s\n",
    "Wall time: 5min 44s\n",
    "\n",
    "model_inst = xgb.XGBRegressor(\n",
    "    learning_rate = 0.1,\n",
    "    n_estimators=700,\n",
    "    max_dept=5,\n",
    "    gamma=0.1,\n",
    "    n_jobs=-1\n",
    ")\""
   ]
  },
  {
   "cell_type": "markdown",
   "metadata": {},
   "source": [
    "# **LightGBM**"
   ]
  },
  {
   "cell_type": "markdown",
   "metadata": {},
   "source": [
    "### LightGBM para auctions"
   ]
  },
  {
   "cell_type": "code",
   "execution_count": null,
   "metadata": {},
   "outputs": [],
   "source": [
    "df_full_auctions = get_df_to_train(windows, features, label_auc, features_list_class_auc)\n",
    "df_full_auctions = df_full_auctions[df_full_auctions[\"label_auc\"] != 259200]\n",
    "#df_full_auctions = df_full_auctions.sample()"
   ]
  },
  {
   "cell_type": "code",
   "execution_count": null,
   "metadata": {},
   "outputs": [],
   "source": [
    "X_train_auc, X_test_auc, y_train_auc, y_test_auc = get_train_test_split(df_full_auctions, \"label_auc\")"
   ]
  },
  {
   "cell_type": "code",
   "execution_count": null,
   "metadata": {},
   "outputs": [],
   "source": [
    "# create dataset for lightgbm\n",
    "lgb_train = lgb.Dataset(X_train_auc, y_train_auc)\n",
    "lgb_eval = lgb.Dataset(X_test_auc, y_test_auc, reference=lgb_train)\n",
    "\n",
    "params = {\n",
    "    'n_estimators' : 500,\n",
    "    'boosting_type': 'gbdt',\n",
    "    'objective': 'regression',\n",
    "    'metric': {'l2', 'l1'},\n",
    "    'num_leaves': 28,\n",
    "    'learning_rate': 0.05,\n",
    "    'feature_fraction': 0.9,\n",
    "    'bagging_fraction': 0.8,\n",
    "    'bagging_freq': 5,\n",
    "    'min_child_samples': 326,\n",
    "    'min_child_weight': 10000.0,\n",
    "    'reg_alpha': 50,\n",
    "    'reg_lambda': 0,\n",
    "    'verbose': 0\n",
    "}\n",
    "\n",
    "gbm_auc = lgb.train(params,\n",
    "                lgb_train,\n",
    "                num_boost_round=20,\n",
    "                valid_sets=lgb_eval,\n",
    "                early_stopping_rounds=5)\n",
    "\n",
    "gbm_auc.save_model('model_light_gbm_auc.txt')\n",
    "\n",
    "pred_auc_gbm = gbm_auc.predict(X_test_auc, num_iteration=gbm_auc.best_iteration)\n",
    "print('The rmse of prediction is:', mean_squared_error(y_test_auc, pred_auc_gbm) ** 0.5)"
   ]
  },
  {
   "cell_type": "markdown",
   "metadata": {},
   "source": [
    "### LightGBM para installs"
   ]
  },
  {
   "cell_type": "code",
   "execution_count": null,
   "metadata": {},
   "outputs": [],
   "source": [
    "df_full_installs = get_df_to_train(windows, features, label_inst, features_list_class_inst)\n",
    "df_full_installs = df_full_installs[df_full_installs[\"label_inst\"] != 259200]"
   ]
  },
  {
   "cell_type": "code",
   "execution_count": null,
   "metadata": {},
   "outputs": [],
   "source": [
    "X_train_inst, X_test_inst, y_train_inst, y_test_inst = get_train_test_split(df_full_installs, \"label_inst\")"
   ]
  },
  {
   "cell_type": "code",
   "execution_count": null,
   "metadata": {},
   "outputs": [],
   "source": [
    "# create dataset for lightgbm\n",
    "lgb_train = lgb.Dataset(X_train_inst, y_train_inst)\n",
    "lgb_eval = lgb.Dataset(X_test_inst, y_test_inst, reference=lgb_train)\n",
    "\n",
    "params = {\n",
    "    'n_estimators' : 500,\n",
    "    'boosting_type': 'gbdt',\n",
    "    'objective': 'regression',\n",
    "    'metric': {'l2', 'l1'},\n",
    "    'num_leaves': 6,\n",
    "    'learning_rate': 0.05,\n",
    "    'feature_fraction': 0.9,\n",
    "    'bagging_fraction': 0.8,\n",
    "    'bagging_freq': 5,\n",
    "    'min_child_samples': 185,\n",
    "    'min_child_weight': 100.0,\n",
    "    'reg_alpha': 0,\n",
    "    'reg_lambda': 1,\n",
    "    'verbose': 0\n",
    "}\n",
    "\n",
    "gbm_inst = lgb.train(params,\n",
    "                lgb_train,\n",
    "                num_boost_round=20,\n",
    "                valid_sets=lgb_eval,\n",
    "                early_stopping_rounds=5)\n",
    "\n",
    "gbm_inst.save_model('model_light_gbm_inst.txt')\n",
    "\n",
    "pred_inst_gbm = gbm_inst.predict(X_test_inst, num_iteration=gbm_inst.best_iteration)\n",
    "print('The rmse of prediction is:', mean_squared_error(y_test_inst, pred_inst_gbm) ** 0.5)"
   ]
  },
  {
   "cell_type": "markdown",
   "metadata": {},
   "source": [
    "### Tuneo de hiperparámetros para LightGBM"
   ]
  },
  {
   "cell_type": "code",
   "execution_count": null,
   "metadata": {},
   "outputs": [],
   "source": [
    "param_test ={'num_leaves': sp_randint(6, 50), \n",
    "             'min_child_samples': sp_randint(100, 500), \n",
    "             'min_child_weight': [1e-5, 1e-3, 1e-2, 1e-1, 1, 1e1, 1e2, 1e3, 1e4],\n",
    "             'reg_alpha': [0, 1e-1, 1, 2, 5, 7, 10, 50, 100],\n",
    "             'reg_lambda': [0, 1e-1, 1, 5, 10, 20, 50, 100]}"
   ]
  },
  {
   "cell_type": "markdown",
   "metadata": {},
   "source": [
    "> ### Tuneo para el modelo de installs"
   ]
  },
  {
   "cell_type": "code",
   "execution_count": null,
   "metadata": {},
   "outputs": [],
   "source": [
    "clf = lgb.LGBMRegressor(max_depth=-1, random_state=314, silent=True, metric='l2', n_jobs=4, n_estimators = 500)\n",
    "gs = RandomizedSearchCV(\n",
    "    estimator=clf, param_distributions=param_test, \n",
    "    scoring='neg_mean_squared_error',\n",
    "    cv=3,\n",
    "    refit=True,\n",
    "    random_state=314,\n",
    "    verbose=True)"
   ]
  },
  {
   "cell_type": "code",
   "execution_count": null,
   "metadata": {},
   "outputs": [],
   "source": [
    "%%time\n",
    "gs.fit(X_train_inst, y_train_inst)\n",
    "print('Best score reached: {} with params: {} '.format(gs.best_score_, gs.best_params_))"
   ]
  },
  {
   "cell_type": "code",
   "execution_count": null,
   "metadata": {},
   "outputs": [],
   "source": [
    "np.sqrt(gs.best_score_*-1)"
   ]
  },
  {
   "cell_type": "code",
   "execution_count": null,
   "metadata": {},
   "outputs": [],
   "source": [
    "gs.best_params_"
   ]
  },
  {
   "cell_type": "code",
   "execution_count": null,
   "metadata": {},
   "outputs": [],
   "source": [
    "clf_auc = lgb.LGBMRegressor(max_depth=-1, random_state=314, silent=True, metric='l2', n_jobs=4, n_estimators = 500)\n",
    "gs_auc = RandomizedSearchCV(\n",
    "    estimator=clf_auc, param_distributions=param_test, \n",
    "    scoring='neg_mean_squared_error',\n",
    "    cv=3,\n",
    "    refit=True,\n",
    "    random_state=314,\n",
    "    verbose=True)"
   ]
  },
  {
   "cell_type": "markdown",
   "metadata": {},
   "source": [
    "> ### Tuneo para el modelo de auctions"
   ]
  },
  {
   "cell_type": "code",
   "execution_count": null,
   "metadata": {},
   "outputs": [],
   "source": [
    "df_full_auctions = df_full_auctions.sample(160000)\n",
    "X_train_auc, X_test_auc, y_train_auc, y_test_auc = get_train_test_split(df_full_auctions, \"label_auc\")"
   ]
  },
  {
   "cell_type": "code",
   "execution_count": null,
   "metadata": {},
   "outputs": [],
   "source": [
    "%%time\n",
    "gs_auc.fit(X_train_auc, y_train_auc)\n",
    "print('Best score reached: {} with params: {} '.format(gs_auc.best_score_, gs_auc.best_params_))"
   ]
  },
  {
   "cell_type": "code",
   "execution_count": null,
   "metadata": {},
   "outputs": [],
   "source": [
    "np.sqrt(gs_auc.best_score_*(-1))"
   ]
  },
  {
   "cell_type": "code",
   "execution_count": null,
   "metadata": {},
   "outputs": [],
   "source": [
    "gs_auc.best_params_"
   ]
  },
  {
   "cell_type": "markdown",
   "metadata": {},
   "source": [
    "# **Random Forest**"
   ]
  },
  {
   "cell_type": "markdown",
   "metadata": {},
   "source": [
    "## Random Forest para auctions"
   ]
  },
  {
   "cell_type": "code",
   "execution_count": null,
   "metadata": {},
   "outputs": [],
   "source": [
    "df_full_auctions = get_df_to_train(windows, features, label_auc, features_list_class_auc)\n",
    "df_full_auctions = df_full_auctions[df_full_auctions[\"label_auc\"] != 259200]"
   ]
  },
  {
   "cell_type": "code",
   "execution_count": null,
   "metadata": {},
   "outputs": [],
   "source": [
    "X_train_auc, X_test_auc, y_train_auc, y_test_auc = get_train_test_split(df_full_auctions, \"label_auc\")"
   ]
  },
  {
   "cell_type": "code",
   "execution_count": null,
   "metadata": {},
   "outputs": [],
   "source": [
    "random_forest_auc = RandomForestRegressor(\n",
    "                           n_estimators=100, \n",
    "                           min_samples_split = 10, \n",
    "                           random_state=100\n",
    "                         )\n",
    "\n",
    "#random forest no maneja nulos\n",
    "X_train_auc = X_train_auc.fillna(0)\n",
    "X_test_auc = X_test_auc.fillna(0) \n",
    "\n",
    "random_forest_auc.fit(X_train_auc, y_train_auc.values.ravel())\n",
    "\n",
    "params = {'objective': 'reg:squarederror',\n",
    "          'eta': 0.3,\n",
    "          'max_depth': 5,\n",
    "          'min_child_weight': 3,\n",
    "          'silent': 1,\n",
    "          'subsample': 0.7,\n",
    "          'colsample_bytree': 0.7,\n",
    "          'seed': 1}\n",
    "\n",
    "num_trees=250\n",
    "\n",
    "prediction_auc = random_forest_auc.predict(X_test_auc)\n",
    "\n",
    "rmse = np.sqrt(mean_squared_error(y_test_auc, prediction_auc))\n",
    "print(\"RMSE: %f\" % (rmse))"
   ]
  },
  {
   "cell_type": "markdown",
   "metadata": {},
   "source": [
    "## Random Forest para installs"
   ]
  },
  {
   "cell_type": "code",
   "execution_count": null,
   "metadata": {},
   "outputs": [],
   "source": [
    "df_full_inst = get_df_to_train(windows, features, label_inst, features_list_class_inst)\n",
    "df_full_inst = df_full_inst[df_full_inst[\"label_inst\"] != 259200]"
   ]
  },
  {
   "cell_type": "code",
   "execution_count": null,
   "metadata": {},
   "outputs": [],
   "source": [
    "X_train_inst, X_test_inst, y_train_inst, y_test_inst = get_train_test_split(df_full_inst, \"label_inst\")"
   ]
  },
  {
   "cell_type": "code",
   "execution_count": null,
   "metadata": {},
   "outputs": [],
   "source": [
    "random_forest_inst = RandomForestRegressor(\n",
    "                           n_estimators=100, \n",
    "                           min_samples_split = 10, \n",
    "                           random_state=100\n",
    "                         )\n",
    "\n",
    "#random forest no maneja nulos\n",
    "X_train_inst = X_train_inst.fillna(0)\n",
    "X_test_inst = X_test_inst.fillna(0) \n",
    "\n",
    "random_forest_inst.fit(X_train_inst, y_train_inst.values.ravel())\n",
    "\n",
    "params = {'objective': 'reg:squarederror',\n",
    "          'eta': 0.3,\n",
    "          'max_depth': 5,\n",
    "          'min_child_weight': 3,\n",
    "          'silent': 1,\n",
    "          'subsample': 0.7,\n",
    "          'colsample_bytree': 0.7,\n",
    "          'seed': 1}\n",
    "\n",
    "num_trees=250\n",
    "\n",
    "prediction_inst = random_forest_inst.predict(X_test_inst)\n",
    "\n",
    "rmse = np.sqrt(mean_squared_error(y_test_inst, prediction_inst))\n",
    "print(\"RMSE: %f\" % (rmse))"
   ]
  },
  {
   "cell_type": "markdown",
   "metadata": {},
   "source": [
    "# Predecir"
   ]
  },
  {
   "cell_type": "markdown",
   "metadata": {},
   "source": [
    "### Predicción auctions XGBoost"
   ]
  },
  {
   "cell_type": "code",
   "execution_count": null,
   "metadata": {},
   "outputs": [],
   "source": [
    "pred_auctions = model_auc.predict(select_features(features_to_predict, features_list_class_auc))\n",
    "df_preds_auctions = pd.DataFrame({'ref_hash' : features_to_predict.index, 'obj' : pred_auctions})\n",
    "df_preds_auctions.to_csv(\"auctions_predictions_xgboost.csv\", index=False) #persistimos los resultados"
   ]
  },
  {
   "cell_type": "markdown",
   "metadata": {},
   "source": [
    "### Predicción auctions Redes Neuronales"
   ]
  },
  {
   "cell_type": "code",
   "execution_count": null,
   "metadata": {},
   "outputs": [],
   "source": [
    "pred_auctions_neural = model_auc_neural.predict(select_features(features_to_predict, features_list_class_auc).fillna(0))\n",
    "pred_auctions_neural = np.array(pred_auctions_neural).flatten()\n",
    "df_preds_auctions_neural = pd.DataFrame({'ref_hash' : features_to_predict.index, 'obj' : pred_auctions_neural})\n",
    "df_preds_auctions_neural.to_csv(\"auctions_predictions_neural.csv\", index=False) #persistimos los resultados"
   ]
  },
  {
   "cell_type": "markdown",
   "metadata": {},
   "source": [
    "### Predicción auctions LightGBM"
   ]
  },
  {
   "cell_type": "code",
   "execution_count": null,
   "metadata": {},
   "outputs": [],
   "source": [
    "pred_auc_gbm = gbm_auc.predict(select_features(features_to_predict,features_list_class_auc),\\\n",
    "                               num_iteration=gbm_auc.best_iteration)\n",
    "df_preds_auc_gbm = pd.DataFrame({'ref_hash' : features_to_predict.index, 'obj' : pred_auc_gbm})\n",
    "df_preds_auc_gbm.to_csv(\"auctions_predictions_lightgbm.csv\", index=False) #persistimos los resultados"
   ]
  },
  {
   "cell_type": "markdown",
   "metadata": {},
   "source": [
    "### Predicción auctions Random Forests"
   ]
  },
  {
   "cell_type": "code",
   "execution_count": null,
   "metadata": {},
   "outputs": [],
   "source": [
    "preds_auc_rf = random_forest_auc.predict(select_features(features_to_predict,features_list_class_auc).fillna(0))\n",
    "df_preds_auc_rf = pd.DataFrame({'ref_hash' : features_to_predict.index, 'obj' : preds_auc_rf})\n",
    "df_preds_auc_rf.to_csv(\"auctions_predictions_randomForest.csv\", index=False) #persistimos los resultados"
   ]
  },
  {
   "cell_type": "markdown",
   "metadata": {},
   "source": [
    "### Predicción installs XGBoost"
   ]
  },
  {
   "cell_type": "code",
   "execution_count": null,
   "metadata": {},
   "outputs": [],
   "source": [
    "pred_installs = model_inst.predict(select_features(features_to_predict, features_list_class_inst))\n",
    "df_preds_installs = pd.DataFrame({'ref_hash' : features_to_predict.index, 'obj' : pred_installs})\n",
    "df_preds_installs.to_csv(\"installs_predictions_xgboost.csv\", index=False) #persistimos los resultados"
   ]
  },
  {
   "cell_type": "markdown",
   "metadata": {},
   "source": [
    "### Predicción installs Redes Neuronales"
   ]
  },
  {
   "cell_type": "code",
   "execution_count": null,
   "metadata": {},
   "outputs": [],
   "source": [
    "pred_installs_neural = model_inst_neural.predict(select_features(features_to_predict, features_list_class_inst).fillna(0))\n",
    "pred_installs_neural = np.array(pred_installs_neural).flatten()\n",
    "df_preds_installs_neural = pd.DataFrame({'ref_hash' : features_to_predict.index, 'obj' : pred_installs_neural})\n",
    "df_preds_installs_neural.to_csv(\"installs_predictions_neural.csv\", index=False) #persistimos los resultados"
   ]
  },
  {
   "cell_type": "markdown",
   "metadata": {},
   "source": [
    "### Predicción installs LightGBM"
   ]
  },
  {
   "cell_type": "code",
   "execution_count": null,
   "metadata": {},
   "outputs": [],
   "source": [
    "pred_inst_gbm = gbm_inst.predict(select_features(features_to_predict,features_list_class_inst),\\\n",
    "                               num_iteration=gbm_inst.best_iteration)\n",
    "df_preds_inst_gbm = pd.DataFrame({'ref_hash' : features_to_predict.index, 'obj' : pred_inst_gbm})\n",
    "df_preds_inst_gbm.to_csv(\"installs_predictions_lightgbm.csv\", index=False) #persistimos los resultados"
   ]
  },
  {
   "cell_type": "markdown",
   "metadata": {},
   "source": [
    "### Predicción installs Random Forests"
   ]
  },
  {
   "cell_type": "code",
   "execution_count": null,
   "metadata": {},
   "outputs": [],
   "source": [
    "preds_inst_rf = random_forest_inst.predict(select_features(features_to_predict,features_list_class_inst).fillna(0))\n",
    "df_preds_inst_rf = pd.DataFrame({'ref_hash' : features_to_predict.index, 'obj' : preds_inst_rf})\n",
    "df_preds_inst_rf.to_csv(\"installs_predictions_randomForest.csv\", index=False) #persistimos los resultados"
   ]
  },
  {
   "cell_type": "markdown",
   "metadata": {},
   "source": [
    "# Parameter Tuning para XGBoost"
   ]
  },
  {
   "cell_type": "code",
   "execution_count": null,
   "metadata": {},
   "outputs": [],
   "source": [
    "df_full = get_df_to_train(windows, features, label_auc, features_list_class_auc)\n",
    "df_full = df_full.sample(int(len(df_full)*0.1))\n",
    "df_full = df_full[df_full[\"label_auc\"] != 259200]"
   ]
  },
  {
   "cell_type": "markdown",
   "metadata": {},
   "source": [
    "#### Max_depth and min_child_weight tuning"
   ]
  },
  {
   "cell_type": "code",
   "execution_count": null,
   "metadata": {},
   "outputs": [],
   "source": [
    "param_test1 = {\n",
    " 'max_depth':range(3,10,2),\n",
    " 'min_child_weight':range(1,6,2)\n",
    "}\n",
    "gsearch1 = GridSearchCV(estimator = XGBRegressor(learning_rate =0.1, n_estimators=140, max_depth=5,\n",
    " min_child_weight=1, gamma=0, subsample=0.8, colsample_bytree=0.8,\n",
    " objective= 'reg:squarederror', nthread=4, scale_pos_weight=1, seed=27), \n",
    " param_grid = param_test1, scoring= 'neg_mean_squared_error', n_jobs=4,iid=False, cv=5)\n",
    "gsearch1.fit(df_full[features_list_class_auc],df_full['label_auc'])\n",
    "#gsearch1.cv_results_"
   ]
  },
  {
   "cell_type": "code",
   "execution_count": null,
   "metadata": {},
   "outputs": [],
   "source": [
    "np.sqrt(gsearch1.best_score_ * (-1))"
   ]
  },
  {
   "cell_type": "code",
   "execution_count": null,
   "metadata": {},
   "outputs": [],
   "source": [
    "gsearch1.best_params_"
   ]
  },
  {
   "cell_type": "markdown",
   "metadata": {},
   "source": [
    "> #### Refinamos la búsqueda entre valores acotados"
   ]
  },
  {
   "cell_type": "code",
   "execution_count": null,
   "metadata": {},
   "outputs": [],
   "source": [
    "param_test2 = {\n",
    " 'max_depth': [3,4,5],\n",
    " 'min_child_weight': [3,4,5]\n",
    "}\n",
    "gsearch2 = GridSearchCV(estimator = XGBRegressor(learning_rate =0.01, n_estimators=1000, max_depth=5,\n",
    " min_child_weight=1, gamma=0, subsample=0.8, colsample_bytree=0.8,\n",
    " objective= 'reg:squarederror', nthread=4, scale_pos_weight=1, seed=27), \n",
    " param_grid = param_test2, scoring= 'neg_mean_squared_error', n_jobs=4,iid=False, cv=5)\n",
    "gsearch2.fit(df_full[features_list_class_auc],df_full['label_auc'])\n",
    "#gsearch2.cv_results_"
   ]
  },
  {
   "cell_type": "code",
   "execution_count": null,
   "metadata": {},
   "outputs": [],
   "source": [
    "gsearch2.best_params_  #los mejores parámetros son max_depth 4 y min child_weight 3"
   ]
  },
  {
   "cell_type": "code",
   "execution_count": null,
   "metadata": {},
   "outputs": [],
   "source": [
    "np.sqrt(gsearch2.best_score_ * (-1))"
   ]
  },
  {
   "cell_type": "markdown",
   "metadata": {},
   "source": [
    "#### Learning rate and n_estimators tunning"
   ]
  },
  {
   "cell_type": "code",
   "execution_count": null,
   "metadata": {},
   "outputs": [],
   "source": [
    "param_test3 = {\n",
    "    'n_estimators' : [100,200,500, 1000],\n",
    "    'learning_rate' : [0.1, 0.05, 0.01]\n",
    "}\n",
    "gsearch3 = GridSearchCV(estimator = XGBRegressor(learning_rate =0.1, n_estimators=140, max_depth=3,\n",
    " min_child_weight=3, gamma=0, subsample=0.8, colsample_bytree=0.8,\n",
    " objective= 'reg:squarederror', nthread=4, scale_pos_weight=1, seed=27), \n",
    " param_grid = param_test3, scoring= 'neg_mean_squared_error', n_jobs=4,iid=False, cv=5)\n",
    "gsearch3.fit(df_full[features_list_class_auc],df_full['label_auc'])"
   ]
  },
  {
   "cell_type": "code",
   "execution_count": null,
   "metadata": {},
   "outputs": [],
   "source": [
    "gsearch3.best_params_"
   ]
  },
  {
   "cell_type": "code",
   "execution_count": null,
   "metadata": {},
   "outputs": [],
   "source": [
    "np.sqrt(gsearch3.best_score_ * (-1))"
   ]
  },
  {
   "cell_type": "markdown",
   "metadata": {},
   "source": [
    "#### Gamma tuning"
   ]
  },
  {
   "cell_type": "code",
   "execution_count": null,
   "metadata": {},
   "outputs": [],
   "source": [
    "param_test4 = {\n",
    " 'gamma':[i/10.0 for i in range(0,5)]\n",
    "}\n",
    "gsearch4 = GridSearchCV(estimator = XGBRegressor(learning_rate =0.1, n_estimators=200, max_depth=4,\n",
    " min_child_weight=3, gamma=0, subsample=0.8, colsample_bytree=0.8,\n",
    " objective= 'reg:squarederror', nthread=4, scale_pos_weight=1, seed=27), \n",
    " param_grid = param_test4, scoring= 'neg_mean_squared_error', n_jobs=4,iid=False, cv=5)\n",
    "gsearch4.fit(df_full[features_list_class_auc],df_full['label_auc'])"
   ]
  },
  {
   "cell_type": "code",
   "execution_count": null,
   "metadata": {},
   "outputs": [],
   "source": [
    "gsearch4.best_params_"
   ]
  },
  {
   "cell_type": "code",
   "execution_count": null,
   "metadata": {},
   "outputs": [],
   "source": [
    "np.sqrt(gsearch4.best_score_ * (-1))"
   ]
  },
  {
   "cell_type": "markdown",
   "metadata": {},
   "source": [
    "#### Subsample and colsample_bytree tuning"
   ]
  },
  {
   "cell_type": "code",
   "execution_count": null,
   "metadata": {},
   "outputs": [],
   "source": [
    "param_test5 = {\n",
    " 'subsample':[i/10.0 for i in range(6,10)],\n",
    " 'colsample_bytree':[i/10.0 for i in range(6,10)]\n",
    "}\n",
    "gsearch5 = GridSearchCV(estimator = XGBRegressor( learning_rate = 0.1, n_estimators=200, max_depth=4,\n",
    " min_child_weight=3, gamma=0, subsample=0.8, colsample_bytree=0.8,\n",
    " objective= 'reg:squarederror', nthread=4, scale_pos_weight=1,seed=27), \n",
    " param_grid = param_test5, scoring='neg_mean_squared_error',n_jobs=4,iid=False, cv=5)\n",
    "gsearch5.fit(df_full[features_list_class_auc],df_full['label_auc'])"
   ]
  },
  {
   "cell_type": "code",
   "execution_count": null,
   "metadata": {},
   "outputs": [],
   "source": [
    "gsearch5.best_params_"
   ]
  },
  {
   "cell_type": "code",
   "execution_count": null,
   "metadata": {},
   "outputs": [],
   "source": [
    "np.sqrt(gsearch5.best_score_ * (-1))"
   ]
  },
  {
   "cell_type": "markdown",
   "metadata": {},
   "source": [
    "#### Regularization tuning"
   ]
  },
  {
   "cell_type": "code",
   "execution_count": null,
   "metadata": {},
   "outputs": [],
   "source": [
    "param_test6 = {\n",
    " 'reg_alpha':[0, 0.001, 0.005, 0.01, 0.05]\n",
    "}\n",
    "gsearch6 = GridSearchCV(estimator = XGBRegressor( learning_rate = 0.1, n_estimators=200, max_depth=4,\n",
    " min_child_weight=3, gamma=0, subsample=0.9, colsample_bytree=0.7,\n",
    " objective= 'reg:squarederror', nthread=4, scale_pos_weight=1,seed=27), \n",
    " param_grid = param_test6, scoring='neg_mean_squared_error',n_jobs=4,iid=False, cv=5)\n",
    "gsearch6.fit(df_full[features_list_class_auc],df_full['label_auc'])"
   ]
  },
  {
   "cell_type": "code",
   "execution_count": null,
   "metadata": {},
   "outputs": [],
   "source": [
    "gsearch6.best_params_"
   ]
  },
  {
   "cell_type": "code",
   "execution_count": null,
   "metadata": {},
   "outputs": [],
   "source": [
    "np.sqrt(gsearch6.best_score_ * (-1))"
   ]
  },
  {
   "cell_type": "markdown",
   "metadata": {},
   "source": [
    "# Submit to Kaggle"
   ]
  },
  {
   "cell_type": "code",
   "execution_count": null,
   "metadata": {},
   "outputs": [],
   "source": [
    "def export_df(df, name):\n",
    "    df.to_csv(name, index=False)"
   ]
  },
  {
   "cell_type": "markdown",
   "metadata": {},
   "source": [
    "Las predicciones tendrán seteadas como índice los ref_hash para no perder la referencia\n",
    "No es necesario filtrar los ref_hash y quedarnos solo con los target en las predicciones que obtenemos ya que de eso\n",
    "se encarga la función "
   ]
  },
  {
   "cell_type": "code",
   "execution_count": 39,
   "metadata": {},
   "outputs": [],
   "source": [
    "target = pd.read_csv(\"target_competencia_ids.csv\")"
   ]
  },
  {
   "cell_type": "code",
   "execution_count": null,
   "metadata": {},
   "outputs": [],
   "source": [
    "#df_preds_installs = pd.read_csv(\"installs_predictions.csv\")\n",
    "#df_preds_auctions = pd.read_csv(\"auctions_predictions.csv\")"
   ]
  },
  {
   "cell_type": "code",
   "execution_count": null,
   "metadata": {},
   "outputs": [],
   "source": [
    "def create_submit_df(auctions_predictions, installs_predictions, target):\n",
    "    \n",
    "    target = target.set_index('ref_hash')\n",
    "    \n",
    "    auc = auctions_predictions.reset_index()\n",
    "    auc.columns = ['ref_hash','obj']\n",
    "    auc['ref_hash'] = auc['ref_hash'].astype(str) + \"_st\"\n",
    "    auc = auc.set_index('ref_hash')\n",
    "    \n",
    "    ins = installs_predictions.reset_index()\n",
    "    ins.columns = ['ref_hash','obj']\n",
    "    ins['ref_hash'] = ins['ref_hash'].astype(str) + \"_sc\"\n",
    "    ins = ins.set_index('ref_hash')\n",
    "    \n",
    "    frames = [ins,auc]\n",
    "    submit_result = pd.concat(frames).reset_index()\n",
    "    target_list = target.reset_index('ref_hash')['ref_hash'].tolist()\n",
    "    return submit_result.loc[submit_result['ref_hash'].isin(target_list)].sort_values(by = 'ref_hash')"
   ]
  },
  {
   "cell_type": "markdown",
   "metadata": {},
   "source": [
    "### XGBoost"
   ]
  },
  {
   "cell_type": "code",
   "execution_count": null,
   "metadata": {},
   "outputs": [],
   "source": [
    "kaggle_sub = create_submit_df(df_preds_auctions.set_index('ref_hash'), \\\n",
    "                              df_preds_installs.set_index('ref_hash'), target)"
   ]
  },
  {
   "cell_type": "code",
   "execution_count": null,
   "metadata": {},
   "outputs": [],
   "source": [
    "export_df(kaggle_sub, \"submit.csv\")"
   ]
  },
  {
   "cell_type": "markdown",
   "metadata": {},
   "source": [
    "### Neural network"
   ]
  },
  {
   "cell_type": "code",
   "execution_count": null,
   "metadata": {},
   "outputs": [],
   "source": [
    "kaggle_sub_neural = create_submit_df(df_preds_auctions_neural.set_index('ref_hash'), \\\n",
    "                              df_preds_installs_neural.set_index('ref_hash'), target)"
   ]
  },
  {
   "cell_type": "code",
   "execution_count": null,
   "metadata": {},
   "outputs": [],
   "source": [
    "export_df(kaggle_sub_neural, \"submit_neural.csv\")"
   ]
  },
  {
   "cell_type": "code",
   "execution_count": null,
   "metadata": {},
   "outputs": [],
   "source": [
    "ensamble_df = kaggle_sub.merge(kaggle_sub_neural, on=\"ref_hash\")\n"
   ]
  },
  {
   "cell_type": "code",
   "execution_count": null,
   "metadata": {},
   "outputs": [],
   "source": [
    "ensamble_df[\"obj\"] = (ensamble_df[\"obj_x\"] + ensamble_df[\"obj_y\"])/2"
   ]
  },
  {
   "cell_type": "code",
   "execution_count": null,
   "metadata": {},
   "outputs": [],
   "source": [
    "ensamble_kaggle = ensamble_df[[\"ref_hash\", \"obj\"]]"
   ]
  },
  {
   "cell_type": "code",
   "execution_count": null,
   "metadata": {},
   "outputs": [],
   "source": [
    "export_df(ensamble_kaggle, \"submit_ensamble.csv\")"
   ]
  },
  {
   "cell_type": "markdown",
   "metadata": {},
   "source": [
    "#### Ensemble XGBoost + LightGBM"
   ]
  },
  {
   "cell_type": "code",
   "execution_count": null,
   "metadata": {},
   "outputs": [],
   "source": [
    "kaggle_sub_lgbm = create_submit_df(df_preds_auc_gbm.set_index('ref_hash'), df_preds_inst_gbm.set_index('ref_hash'), target)\n",
    "kaggle_sub_xgboost = create_submit_df(df_preds_auctions.set_index('ref_hash'), df_preds_installs.set_index('ref_hash'), target)"
   ]
  },
  {
   "cell_type": "code",
   "execution_count": null,
   "metadata": {},
   "outputs": [],
   "source": [
    "xgboost_submit = kaggle_sub_lgbm.merge(kaggle_sub_xgboost, on = 'ref_hash')"
   ]
  },
  {
   "cell_type": "code",
   "execution_count": null,
   "metadata": {},
   "outputs": [],
   "source": [
    "xgboost_submit['obj'] = (xgboost_submit['obj_x'] + xgboost_submit['obj_y'])/2"
   ]
  },
  {
   "cell_type": "code",
   "execution_count": null,
   "metadata": {},
   "outputs": [],
   "source": [
    "xgboost_submit = xgboost_submit[['ref_hash', 'obj']]"
   ]
  },
  {
   "cell_type": "code",
   "execution_count": null,
   "metadata": {},
   "outputs": [],
   "source": [
    "export_df(xgboost_submit, \"submit_leo.csv\")"
   ]
  },
  {
   "cell_type": "markdown",
   "metadata": {},
   "source": [
    "## Ensamble lgbm + random_forests + xgboost"
   ]
  },
  {
   "cell_type": "code",
   "execution_count": null,
   "metadata": {},
   "outputs": [],
   "source": [
    "a_inst = pd.read_csv(\"installs_predictions_lightgbm.csv\")\n",
    "b_inst = pd.read_csv(\"installs_predictions_randomForest.csv\")\n",
    "c_inst = pd.read_csv(\"installs_predictions_xgboost.csv\")"
   ]
  },
  {
   "cell_type": "code",
   "execution_count": null,
   "metadata": {},
   "outputs": [],
   "source": [
    "a_auc = pd.read_csv(\"auctions_predictions_lightgbm.csv\")\n",
    "b_auc = pd.read_csv(\"auctions_predictions_randomForest.csv\")\n",
    "c_auc = pd.read_csv(\"auctions_predictions_xgboost.csv\")"
   ]
  },
  {
   "cell_type": "code",
   "execution_count": 36,
   "metadata": {},
   "outputs": [],
   "source": [
    "a_b_inst = a_inst.merge(b_inst, on=\"ref_hash\")\n",
    "all_inst = a_b_inst.merge(c_inst, on = \"ref_hash\")\n",
    "all_inst['obj'] = (all_inst['obj_x'] + all_inst['obj_y'] + all_inst['obj'])/3\n",
    "all_inst = all_inst[['ref_hash', 'obj']]"
   ]
  },
  {
   "cell_type": "code",
   "execution_count": 38,
   "metadata": {},
   "outputs": [],
   "source": [
    "a_b_auc = a_auc.merge(b_auc, on=\"ref_hash\")\n",
    "all_auc = a_b_auc.merge(c_auc, on = \"ref_hash\")\n",
    "all_auc['obj'] = (all_auc['obj_x'] + all_auc['obj_y'] + all_auc['obj'])/3\n",
    "all_auc = all_auc[['ref_hash', 'obj']]"
   ]
  },
  {
   "cell_type": "code",
   "execution_count": 43,
   "metadata": {},
   "outputs": [],
   "source": [
    "submit = create_submit_df(all_auc.set_index('ref_hash'), all_inst.set_index('ref_hash'), target)"
   ]
  },
  {
   "cell_type": "code",
   "execution_count": 44,
   "metadata": {},
   "outputs": [],
   "source": [
    "export_df(submit, \"submit.csv\")"
   ]
  }
 ],
 "metadata": {
  "kernelspec": {
   "display_name": "Python 3",
   "language": "python",
   "name": "python3"
  },
  "language_info": {
   "codemirror_mode": {
    "name": "ipython",
    "version": 3
   },
   "file_extension": ".py",
   "mimetype": "text/x-python",
   "name": "python",
   "nbconvert_exporter": "python",
   "pygments_lexer": "ipython3",
   "version": "3.7.2"
  }
 },
 "nbformat": 4,
 "nbformat_minor": 2
}
