{
 "cells": [
  {
   "cell_type": "code",
   "execution_count": null,
   "metadata": {},
   "outputs": [],
   "source": [
    "import pandas as pd\n",
    "import numpy as np\n",
    "import matplotlib.pyplot as plt\n",
    "import xgboost as xgb\n",
    "from sklearn.model_selection import train_test_split, RandomizedSearchCV\n",
    "from scipy import stats\n",
    "import seaborn as sns\n",
    "from sklearn.metrics import mean_squared_error"
   ]
  },
  {
   "cell_type": "markdown",
   "metadata": {},
   "source": [
    "# Carga de los df de features para entrenar y predecir"
   ]
  },
  {
   "cell_type": "code",
   "execution_count": null,
   "metadata": {},
   "outputs": [],
   "source": [
    "features_18_20 = pd.read_csv(\"windows/18_20/features.csv\") \n",
    "features_19_21 = pd.read_csv(\"windows/19_21/features.csv\")\n",
    "features_20_22 = pd.read_csv(\"windows/20_22/features.csv\")\n",
    "features_21_23 = pd.read_csv(\"windows/21_23/features.csv\")\n",
    "features_24_26 = pd.read_csv(\"windows/24_26/features.csv\") "
   ]
  },
  {
   "cell_type": "code",
   "execution_count": null,
   "metadata": {},
   "outputs": [],
   "source": [
    "label_auc_18_20 = pd.read_csv(\"windows/18_20/labels_auc.csv\")\n",
    "label_auc_19_21 = pd.read_csv(\"windows/19_21/labels_auc.csv\")\n",
    "label_auc_20_22 = pd.read_csv(\"windows/20_22/labels_auc.csv\")\n",
    "label_auc_21_23 = pd.read_csv(\"windows/21_23/labels_auc.csv\")"
   ]
  },
  {
   "cell_type": "code",
   "execution_count": null,
   "metadata": {},
   "outputs": [],
   "source": [
    "label_inst_18_20 = pd.read_csv(\"windows/18_20/labels_inst.csv\")\n",
    "label_inst_19_21 = pd.read_csv(\"windows/19_21/labels_inst.csv\")\n",
    "label_inst_20_22 = pd.read_csv(\"windows/20_22/labels_inst.csv\")\n",
    "label_inst_21_23 = pd.read_csv(\"windows/21_23/labels_inst.csv\")"
   ]
  },
  {
   "cell_type": "markdown",
   "metadata": {},
   "source": [
    "# Funciones de entrenamiento"
   ]
  },
  {
   "cell_type": "code",
   "execution_count": null,
   "metadata": {},
   "outputs": [],
   "source": [
    "def guardar_submit(params, result):\n",
    "    tiempo = \"time\"\n",
    "    with open(\"historial_submits.txt\",\"a+\") as f:\n",
    "        f.write(\"\\n\"+tiempo+\"|\"+params+\"|\")"
   ]
  },
  {
   "cell_type": "code",
   "execution_count": null,
   "metadata": {},
   "outputs": [],
   "source": [
    "def entrenar_modelo(params):\n",
    "    result = None#entrenar(params)\n",
    "    guardar_submit(params, result)"
   ]
  },
  {
   "cell_type": "code",
   "execution_count": null,
   "metadata": {},
   "outputs": [],
   "source": [
    "def modelfit(model, features, labels, cv_folds=5, early_stopping_rounds=50):\n",
    "    parametros = model.get_xgb_params()\n",
    "    dmatrix = xgb.DMatrix(features.values, label=labels.values)\n",
    "    cvresult = xgb.cv(parametros, dmatrix, num_boost_round=model.get_params()['n_estimators'],\n",
    "                      nfold=cv_folds,metrics='rmse', #verbose_eval=True,\n",
    "                      early_stopping_rounds=early_stopping_rounds)\n",
    "    model.set_params(n_estimators=cvresult.shape[0])\n",
    "    model.fit(features, labels,eval_metric='rmse')"
   ]
  },
  {
   "cell_type": "code",
   "execution_count": null,
   "metadata": {},
   "outputs": [],
   "source": [
    "def entrenar(modelo, df_features, labels):\n",
    "    df_features = df_features.merge(labels, how=\"left\", left_on=\"ref_hash\", right_on=\"ref_hash\")\n",
    "    df_features.set_index(\"ref_hash\", inplace=True)\n",
    "    X, y = df_features.iloc[:,:-1], df_features.iloc[:,-1:]\n",
    "    X_train, X_test, y_train, y_test = train_test_split(X, y, test_size=0.2, random_state=13)\n",
    "\n",
    "    modelo.fit(X_train, y_train, eval_metric='rmse')\n",
    "    #modelfit(modelo, X_train, y_train, early_stopping_rounds=30)\n",
    "\n",
    "    prediction = modelo.predict(X_test)\n",
    "    rmse = np.sqrt(mean_squared_error(y_test, prediction))\n",
    "    print(\"RMSE: %f\" % (rmse))\n",
    "    return prediction"
   ]
  },
  {
   "cell_type": "markdown",
   "metadata": {},
   "source": [
    "# Entrenamiento"
   ]
  },
  {
   "cell_type": "code",
   "execution_count": null,
   "metadata": {},
   "outputs": [],
   "source": [
    "model_auc = xgb.XGBRegressor(\n",
    "    #booster='dart',\n",
    "    learning_rate =0.01,\n",
    "    n_estimators=1000,\n",
    "    max_depth=4,\n",
    "    min_child_weight=8,\n",
    "    gamma=0.22,\n",
    "    subsample=1,\n",
    "    colsample_bytree=1,\n",
    "    objective='reg:squarederror',\n",
    "    nthread=-1,\n",
    "    scale_pos_weight=18.8,\n",
    "    #sample_type='weighted',\n",
    "    #rate_drop=0.1,\n",
    "    #skip_dropout=0.5,\n",
    "    random_state=272\n",
    ")"
   ]
  },
  {
   "cell_type": "code",
   "execution_count": null,
   "metadata": {},
   "outputs": [],
   "source": [
    "entrenar(model_auc, features_18_20, label_auc_18_20)\n",
    "entrenar(model_auc, features_19_21, label_auc_19_21)\n",
    "entrenar(model_auc, features_20_22, label_auc_20_22)\n",
    "entrenar(model_auc, features_21_23, label_auc_21_23)"
   ]
  },
  {
   "cell_type": "code",
   "execution_count": null,
   "metadata": {},
   "outputs": [],
   "source": [
    "model_inst = xgb.XGBRegressor(\n",
    "    #booster='dart',\n",
    "    learning_rate =0.01,\n",
    "    n_estimators=1000,\n",
    "    max_depth=4,\n",
    "    min_child_weight=8,\n",
    "    gamma=0.22,\n",
    "    subsample=1,\n",
    "    colsample_bytree=1,\n",
    "    objective='reg:squarederror',\n",
    "    nthread=-1,\n",
    "    scale_pos_weight=18.8,\n",
    "    #sample_type='weighted',\n",
    "    #rate_drop=0.1,\n",
    "    #skip_dropout=0.5,\n",
    "    random_state=272\n",
    ")"
   ]
  },
  {
   "cell_type": "code",
   "execution_count": null,
   "metadata": {},
   "outputs": [],
   "source": [
    "entrenar(model_inst, features_18_20, label_inst_18_20)\n",
    "entrenar(model_inst, features_19_21, label_inst_19_21)\n",
    "entrenar(model_inst, features_20_22, label_inst_20_22)\n",
    "entrenar(model_inst, features_21_23, label_inst_21_23)"
   ]
  },
  {
   "cell_type": "markdown",
   "metadata": {},
   "source": [
    "# Prueba para ver si mejoran las predicciones"
   ]
  },
  {
   "cell_type": "code",
   "execution_count": 45,
   "metadata": {},
   "outputs": [],
   "source": [
    "label_inst_test = label_inst_21_23.loc[label_inst_21_23['label_inst'] != 259200].set_index('ref_hash')"
   ]
  },
  {
   "cell_type": "code",
   "execution_count": 48,
   "metadata": {},
   "outputs": [],
   "source": [
    "features_inst_test = features_21_23.set_index('ref_hash').join(label_inst_test, how = 'inner')\n",
    "features_inst_test.drop(columns = [\"label_inst\"], inplace = True)"
   ]
  },
  {
   "cell_type": "code",
   "execution_count": 51,
   "metadata": {},
   "outputs": [],
   "source": [
    "label_inst_test.reset_index(inplace = True)\n",
    "features_inst_test.reset_index(inplace= True)"
   ]
  },
  {
   "cell_type": "code",
   "execution_count": 52,
   "metadata": {},
   "outputs": [
    {
     "name": "stdout",
     "output_type": "stream",
     "text": [
      "RMSE: 77003.258756\n"
     ]
    },
    {
     "data": {
      "text/plain": [
       "array([122809.25, 128975.59, 135625.6 , ..., 135044.47, 126761.62,\n",
       "       133669.7 ], dtype=float32)"
      ]
     },
     "execution_count": 52,
     "metadata": {},
     "output_type": "execute_result"
    }
   ],
   "source": [
    "entrenar(model_inst, features_inst_test, label_inst_test)"
   ]
  },
  {
   "cell_type": "code",
   "execution_count": 54,
   "metadata": {},
   "outputs": [],
   "source": [
    "label_auc_test = label_auc_21_23.loc[label_auc_21_23['label_auc'] != 259200].set_index('ref_hash')"
   ]
  },
  {
   "cell_type": "code",
   "execution_count": 55,
   "metadata": {},
   "outputs": [],
   "source": [
    "features_auc_test = features_21_23.set_index('ref_hash').join(label_auc_test, how = 'inner')\n",
    "features_auc_test.drop(columns = [\"label_auc\"], inplace = True)"
   ]
  },
  {
   "cell_type": "code",
   "execution_count": 56,
   "metadata": {},
   "outputs": [],
   "source": [
    "label_auc_test.reset_index(inplace = True)\n",
    "features_auc_test.reset_index(inplace= True)"
   ]
  },
  {
   "cell_type": "code",
   "execution_count": 57,
   "metadata": {},
   "outputs": [
    {
     "name": "stdout",
     "output_type": "stream",
     "text": [
      "RMSE: 64935.301571\n"
     ]
    },
    {
     "data": {
      "text/plain": [
       "array([ 37582.746,  11663.997, 115039.23 , ...,  73054.76 ,  86526.43 ,\n",
       "       104295.086], dtype=float32)"
      ]
     },
     "execution_count": 57,
     "metadata": {},
     "output_type": "execute_result"
    }
   ],
   "source": [
    "entrenar(model_auc, features_auc_test, label_auc_test)"
   ]
  },
  {
   "cell_type": "markdown",
   "metadata": {},
   "source": [
    "# Predecir"
   ]
  },
  {
   "cell_type": "code",
   "execution_count": 58,
   "metadata": {},
   "outputs": [],
   "source": [
    "pred_auctions = model_auc.predict(features_24_26.set_index(\"ref_hash\"))\n",
    "df_preds_auctions = pd.DataFrame({'ref_hash' : features_24_26['ref_hash'], 'obj' : pred_auctions})"
   ]
  },
  {
   "cell_type": "code",
   "execution_count": 59,
   "metadata": {},
   "outputs": [],
   "source": [
    "pred_installs = model_inst.predict(features_24_26.set_index(\"ref_hash\"))\n",
    "df_preds_installs = pd.DataFrame({'ref_hash' : features_24_26['ref_hash'], 'obj' : pred_installs})"
   ]
  },
  {
   "cell_type": "markdown",
   "metadata": {},
   "source": [
    "# Submit to Kaggle"
   ]
  },
  {
   "cell_type": "code",
   "execution_count": 60,
   "metadata": {},
   "outputs": [],
   "source": [
    "def export_df(df, name):\n",
    "    df.to_csv(name, index=False)"
   ]
  },
  {
   "cell_type": "markdown",
   "metadata": {},
   "source": [
    "Las predicciones tendrán seteadas como índice los ref_hash para no perder la referencia\n",
    "No es necesario filtrar los ref_hash y quedarnos solo con los target en las predicciones que obtenemos ya que de eso\n",
    "se encarga la función "
   ]
  },
  {
   "cell_type": "code",
   "execution_count": 61,
   "metadata": {},
   "outputs": [],
   "source": [
    "target = pd.read_csv(\"target_competencia_ids.csv\")"
   ]
  },
  {
   "cell_type": "code",
   "execution_count": 62,
   "metadata": {},
   "outputs": [],
   "source": [
    "def create_submit_df(auctions_predictions, installs_predictions, target):\n",
    "    \n",
    "    target = target.set_index('ref_hash')\n",
    "    \n",
    "    auc = auctions_predictions.reset_index()\n",
    "    auc.columns = ['ref_hash','obj']\n",
    "    auc['ref_hash'] = auc['ref_hash'].astype(str) + \"_sc\"\n",
    "    auc = auc.set_index('ref_hash')\n",
    "    \n",
    "    ins = installs_predictions.reset_index()\n",
    "    ins.columns = ['ref_hash','obj']\n",
    "    ins['ref_hash'] = ins['ref_hash'].astype(str) + \"_st\"\n",
    "    ins = ins.set_index('ref_hash')\n",
    "    \n",
    "    frames = [ins,auc]\n",
    "    submit_result = pd.concat(frames).reset_index()\n",
    "    target_list = target.reset_index('ref_hash')['ref_hash'].tolist()\n",
    "    return submit_result.loc[submit_result['ref_hash'].isin(target_list)].sort_values(by = 'ref_hash')"
   ]
  },
  {
   "cell_type": "code",
   "execution_count": 63,
   "metadata": {},
   "outputs": [],
   "source": [
    "kaggle_sub = create_submit_df(df_preds_auctions.set_index('ref_hash'), df_preds_installs.set_index('ref_hash'), target)"
   ]
  },
  {
   "cell_type": "code",
   "execution_count": 64,
   "metadata": {},
   "outputs": [
    {
     "data": {
      "text/html": [
       "<div>\n",
       "<style scoped>\n",
       "    .dataframe tbody tr th:only-of-type {\n",
       "        vertical-align: middle;\n",
       "    }\n",
       "\n",
       "    .dataframe tbody tr th {\n",
       "        vertical-align: top;\n",
       "    }\n",
       "\n",
       "    .dataframe thead th {\n",
       "        text-align: right;\n",
       "    }\n",
       "</style>\n",
       "<table border=\"1\" class=\"dataframe\">\n",
       "  <thead>\n",
       "    <tr style=\"text-align: right;\">\n",
       "      <th></th>\n",
       "      <th>ref_hash</th>\n",
       "      <th>obj</th>\n",
       "    </tr>\n",
       "  </thead>\n",
       "  <tbody>\n",
       "    <tr>\n",
       "      <th>703214</th>\n",
       "      <td>1000169251625791246_sc</td>\n",
       "      <td>54561.507812</td>\n",
       "    </tr>\n",
       "    <tr>\n",
       "      <th>242939</th>\n",
       "      <td>1000169251625791246_st</td>\n",
       "      <td>129908.804688</td>\n",
       "    </tr>\n",
       "    <tr>\n",
       "      <th>463356</th>\n",
       "      <td>1000395625957344683_sc</td>\n",
       "      <td>54885.867188</td>\n",
       "    </tr>\n",
       "    <tr>\n",
       "      <th>3081</th>\n",
       "      <td>1000395625957344683_st</td>\n",
       "      <td>129908.804688</td>\n",
       "    </tr>\n",
       "    <tr>\n",
       "      <th>467117</th>\n",
       "      <td>1003027494996471685_sc</td>\n",
       "      <td>78734.179688</td>\n",
       "    </tr>\n",
       "    <tr>\n",
       "      <th>6842</th>\n",
       "      <td>1003027494996471685_st</td>\n",
       "      <td>133725.859375</td>\n",
       "    </tr>\n",
       "    <tr>\n",
       "      <th>601704</th>\n",
       "      <td>1006670001679961544_sc</td>\n",
       "      <td>79591.859375</td>\n",
       "    </tr>\n",
       "    <tr>\n",
       "      <th>141429</th>\n",
       "      <td>1006670001679961544_st</td>\n",
       "      <td>127395.609375</td>\n",
       "    </tr>\n",
       "    <tr>\n",
       "      <th>494980</th>\n",
       "      <td>1007573308966476713_sc</td>\n",
       "      <td>64137.042969</td>\n",
       "    </tr>\n",
       "    <tr>\n",
       "      <th>34705</th>\n",
       "      <td>1007573308966476713_st</td>\n",
       "      <td>134368.671875</td>\n",
       "    </tr>\n",
       "    <tr>\n",
       "      <th>851447</th>\n",
       "      <td>1010070503877148763_sc</td>\n",
       "      <td>115039.226562</td>\n",
       "    </tr>\n",
       "    <tr>\n",
       "      <th>391172</th>\n",
       "      <td>1010070503877148763_st</td>\n",
       "      <td>133373.468750</td>\n",
       "    </tr>\n",
       "    <tr>\n",
       "      <th>920201</th>\n",
       "      <td>1010265377387765028_sc</td>\n",
       "      <td>115039.226562</td>\n",
       "    </tr>\n",
       "    <tr>\n",
       "      <th>459926</th>\n",
       "      <td>1010265377387765028_st</td>\n",
       "      <td>133373.468750</td>\n",
       "    </tr>\n",
       "    <tr>\n",
       "      <th>748872</th>\n",
       "      <td>1010531372912327058_sc</td>\n",
       "      <td>66046.015625</td>\n",
       "    </tr>\n",
       "    <tr>\n",
       "      <th>288597</th>\n",
       "      <td>1010531372912327058_st</td>\n",
       "      <td>129982.640625</td>\n",
       "    </tr>\n",
       "    <tr>\n",
       "      <th>525228</th>\n",
       "      <td>1011610998357271358_sc</td>\n",
       "      <td>32701.171875</td>\n",
       "    </tr>\n",
       "    <tr>\n",
       "      <th>64953</th>\n",
       "      <td>1011610998357271358_st</td>\n",
       "      <td>133882.562500</td>\n",
       "    </tr>\n",
       "    <tr>\n",
       "      <th>548940</th>\n",
       "      <td>1013543838965040946_sc</td>\n",
       "      <td>47203.511719</td>\n",
       "    </tr>\n",
       "    <tr>\n",
       "      <th>88665</th>\n",
       "      <td>1013543838965040946_st</td>\n",
       "      <td>134523.046875</td>\n",
       "    </tr>\n",
       "    <tr>\n",
       "      <th>772343</th>\n",
       "      <td>1014428234021750342_sc</td>\n",
       "      <td>104295.085938</td>\n",
       "    </tr>\n",
       "    <tr>\n",
       "      <th>312068</th>\n",
       "      <td>1014428234021750342_st</td>\n",
       "      <td>133760.890625</td>\n",
       "    </tr>\n",
       "    <tr>\n",
       "      <th>758456</th>\n",
       "      <td>101763096421653092_sc</td>\n",
       "      <td>90839.632812</td>\n",
       "    </tr>\n",
       "    <tr>\n",
       "      <th>298181</th>\n",
       "      <td>101763096421653092_st</td>\n",
       "      <td>131950.203125</td>\n",
       "    </tr>\n",
       "    <tr>\n",
       "      <th>558056</th>\n",
       "      <td>1017668882534236751_sc</td>\n",
       "      <td>82661.101562</td>\n",
       "    </tr>\n",
       "    <tr>\n",
       "      <th>97781</th>\n",
       "      <td>1017668882534236751_st</td>\n",
       "      <td>132387.718750</td>\n",
       "    </tr>\n",
       "    <tr>\n",
       "      <th>627523</th>\n",
       "      <td>1017958004932387739_sc</td>\n",
       "      <td>100734.507812</td>\n",
       "    </tr>\n",
       "    <tr>\n",
       "      <th>167248</th>\n",
       "      <td>1017958004932387739_st</td>\n",
       "      <td>134907.906250</td>\n",
       "    </tr>\n",
       "    <tr>\n",
       "      <th>838770</th>\n",
       "      <td>1018126962792619181_sc</td>\n",
       "      <td>115039.226562</td>\n",
       "    </tr>\n",
       "    <tr>\n",
       "      <th>378495</th>\n",
       "      <td>1018126962792619181_st</td>\n",
       "      <td>133373.468750</td>\n",
       "    </tr>\n",
       "    <tr>\n",
       "      <th>...</th>\n",
       "      <td>...</td>\n",
       "      <td>...</td>\n",
       "    </tr>\n",
       "    <tr>\n",
       "      <th>509529</th>\n",
       "      <td>950195972417607793_sc</td>\n",
       "      <td>48836.011719</td>\n",
       "    </tr>\n",
       "    <tr>\n",
       "      <th>49254</th>\n",
       "      <td>950195972417607793_st</td>\n",
       "      <td>130347.351562</td>\n",
       "    </tr>\n",
       "    <tr>\n",
       "      <th>490330</th>\n",
       "      <td>954110623376544206_sc</td>\n",
       "      <td>51916.867188</td>\n",
       "    </tr>\n",
       "    <tr>\n",
       "      <th>30055</th>\n",
       "      <td>954110623376544206_st</td>\n",
       "      <td>130184.054688</td>\n",
       "    </tr>\n",
       "    <tr>\n",
       "      <th>593435</th>\n",
       "      <td>954940018576714924_sc</td>\n",
       "      <td>51701.332031</td>\n",
       "    </tr>\n",
       "    <tr>\n",
       "      <th>133160</th>\n",
       "      <td>954940018576714924_st</td>\n",
       "      <td>130347.351562</td>\n",
       "    </tr>\n",
       "    <tr>\n",
       "      <th>696868</th>\n",
       "      <td>956704247780926402_sc</td>\n",
       "      <td>93157.593750</td>\n",
       "    </tr>\n",
       "    <tr>\n",
       "      <th>236593</th>\n",
       "      <td>956704247780926402_st</td>\n",
       "      <td>142321.656250</td>\n",
       "    </tr>\n",
       "    <tr>\n",
       "      <th>733860</th>\n",
       "      <td>960623204161846765_sc</td>\n",
       "      <td>93339.210938</td>\n",
       "    </tr>\n",
       "    <tr>\n",
       "      <th>273585</th>\n",
       "      <td>960623204161846765_st</td>\n",
       "      <td>135774.562500</td>\n",
       "    </tr>\n",
       "    <tr>\n",
       "      <th>729137</th>\n",
       "      <td>961631829441650729_sc</td>\n",
       "      <td>104295.085938</td>\n",
       "    </tr>\n",
       "    <tr>\n",
       "      <th>268862</th>\n",
       "      <td>961631829441650729_st</td>\n",
       "      <td>133760.890625</td>\n",
       "    </tr>\n",
       "    <tr>\n",
       "      <th>511444</th>\n",
       "      <td>962595921037755088_sc</td>\n",
       "      <td>81705.734375</td>\n",
       "    </tr>\n",
       "    <tr>\n",
       "      <th>51169</th>\n",
       "      <td>962595921037755088_st</td>\n",
       "      <td>131039.234375</td>\n",
       "    </tr>\n",
       "    <tr>\n",
       "      <th>665322</th>\n",
       "      <td>964658792449865522_sc</td>\n",
       "      <td>54561.507812</td>\n",
       "    </tr>\n",
       "    <tr>\n",
       "      <th>205047</th>\n",
       "      <td>964658792449865522_st</td>\n",
       "      <td>129908.804688</td>\n",
       "    </tr>\n",
       "    <tr>\n",
       "      <th>505350</th>\n",
       "      <td>974553511695777483_sc</td>\n",
       "      <td>46491.542969</td>\n",
       "    </tr>\n",
       "    <tr>\n",
       "      <th>45075</th>\n",
       "      <td>974553511695777483_st</td>\n",
       "      <td>131805.734375</td>\n",
       "    </tr>\n",
       "    <tr>\n",
       "      <th>920549</th>\n",
       "      <td>97694307709005918_sc</td>\n",
       "      <td>115039.226562</td>\n",
       "    </tr>\n",
       "    <tr>\n",
       "      <th>460274</th>\n",
       "      <td>97694307709005918_st</td>\n",
       "      <td>133373.468750</td>\n",
       "    </tr>\n",
       "    <tr>\n",
       "      <th>695412</th>\n",
       "      <td>977508757724050464_sc</td>\n",
       "      <td>78021.546875</td>\n",
       "    </tr>\n",
       "    <tr>\n",
       "      <th>235137</th>\n",
       "      <td>977508757724050464_st</td>\n",
       "      <td>130502.101562</td>\n",
       "    </tr>\n",
       "    <tr>\n",
       "      <th>896316</th>\n",
       "      <td>979880031097032355_sc</td>\n",
       "      <td>115039.226562</td>\n",
       "    </tr>\n",
       "    <tr>\n",
       "      <th>436041</th>\n",
       "      <td>979880031097032355_st</td>\n",
       "      <td>133373.468750</td>\n",
       "    </tr>\n",
       "    <tr>\n",
       "      <th>862684</th>\n",
       "      <td>987443249627191692_sc</td>\n",
       "      <td>115039.226562</td>\n",
       "    </tr>\n",
       "    <tr>\n",
       "      <th>402409</th>\n",
       "      <td>987443249627191692_st</td>\n",
       "      <td>133373.468750</td>\n",
       "    </tr>\n",
       "    <tr>\n",
       "      <th>841802</th>\n",
       "      <td>997953354533822687_sc</td>\n",
       "      <td>115039.226562</td>\n",
       "    </tr>\n",
       "    <tr>\n",
       "      <th>381527</th>\n",
       "      <td>997953354533822687_st</td>\n",
       "      <td>133373.468750</td>\n",
       "    </tr>\n",
       "    <tr>\n",
       "      <th>591180</th>\n",
       "      <td>998948062397755366_sc</td>\n",
       "      <td>47667.812500</td>\n",
       "    </tr>\n",
       "    <tr>\n",
       "      <th>130905</th>\n",
       "      <td>998948062397755366_st</td>\n",
       "      <td>130606.117188</td>\n",
       "    </tr>\n",
       "  </tbody>\n",
       "</table>\n",
       "<p>8074 rows × 2 columns</p>\n",
       "</div>"
      ],
      "text/plain": [
       "                      ref_hash            obj\n",
       "703214  1000169251625791246_sc   54561.507812\n",
       "242939  1000169251625791246_st  129908.804688\n",
       "463356  1000395625957344683_sc   54885.867188\n",
       "3081    1000395625957344683_st  129908.804688\n",
       "467117  1003027494996471685_sc   78734.179688\n",
       "6842    1003027494996471685_st  133725.859375\n",
       "601704  1006670001679961544_sc   79591.859375\n",
       "141429  1006670001679961544_st  127395.609375\n",
       "494980  1007573308966476713_sc   64137.042969\n",
       "34705   1007573308966476713_st  134368.671875\n",
       "851447  1010070503877148763_sc  115039.226562\n",
       "391172  1010070503877148763_st  133373.468750\n",
       "920201  1010265377387765028_sc  115039.226562\n",
       "459926  1010265377387765028_st  133373.468750\n",
       "748872  1010531372912327058_sc   66046.015625\n",
       "288597  1010531372912327058_st  129982.640625\n",
       "525228  1011610998357271358_sc   32701.171875\n",
       "64953   1011610998357271358_st  133882.562500\n",
       "548940  1013543838965040946_sc   47203.511719\n",
       "88665   1013543838965040946_st  134523.046875\n",
       "772343  1014428234021750342_sc  104295.085938\n",
       "312068  1014428234021750342_st  133760.890625\n",
       "758456   101763096421653092_sc   90839.632812\n",
       "298181   101763096421653092_st  131950.203125\n",
       "558056  1017668882534236751_sc   82661.101562\n",
       "97781   1017668882534236751_st  132387.718750\n",
       "627523  1017958004932387739_sc  100734.507812\n",
       "167248  1017958004932387739_st  134907.906250\n",
       "838770  1018126962792619181_sc  115039.226562\n",
       "378495  1018126962792619181_st  133373.468750\n",
       "...                        ...            ...\n",
       "509529   950195972417607793_sc   48836.011719\n",
       "49254    950195972417607793_st  130347.351562\n",
       "490330   954110623376544206_sc   51916.867188\n",
       "30055    954110623376544206_st  130184.054688\n",
       "593435   954940018576714924_sc   51701.332031\n",
       "133160   954940018576714924_st  130347.351562\n",
       "696868   956704247780926402_sc   93157.593750\n",
       "236593   956704247780926402_st  142321.656250\n",
       "733860   960623204161846765_sc   93339.210938\n",
       "273585   960623204161846765_st  135774.562500\n",
       "729137   961631829441650729_sc  104295.085938\n",
       "268862   961631829441650729_st  133760.890625\n",
       "511444   962595921037755088_sc   81705.734375\n",
       "51169    962595921037755088_st  131039.234375\n",
       "665322   964658792449865522_sc   54561.507812\n",
       "205047   964658792449865522_st  129908.804688\n",
       "505350   974553511695777483_sc   46491.542969\n",
       "45075    974553511695777483_st  131805.734375\n",
       "920549    97694307709005918_sc  115039.226562\n",
       "460274    97694307709005918_st  133373.468750\n",
       "695412   977508757724050464_sc   78021.546875\n",
       "235137   977508757724050464_st  130502.101562\n",
       "896316   979880031097032355_sc  115039.226562\n",
       "436041   979880031097032355_st  133373.468750\n",
       "862684   987443249627191692_sc  115039.226562\n",
       "402409   987443249627191692_st  133373.468750\n",
       "841802   997953354533822687_sc  115039.226562\n",
       "381527   997953354533822687_st  133373.468750\n",
       "591180   998948062397755366_sc   47667.812500\n",
       "130905   998948062397755366_st  130606.117188\n",
       "\n",
       "[8074 rows x 2 columns]"
      ]
     },
     "execution_count": 64,
     "metadata": {},
     "output_type": "execute_result"
    }
   ],
   "source": [
    "kaggle_sub"
   ]
  },
  {
   "cell_type": "code",
   "execution_count": null,
   "metadata": {},
   "outputs": [],
   "source": [
    "len(kaggle_sub)"
   ]
  },
  {
   "cell_type": "code",
   "execution_count": 65,
   "metadata": {},
   "outputs": [],
   "source": [
    "export_df(kaggle_sub, \"submit.csv\")"
   ]
  }
 ],
 "metadata": {
  "kernelspec": {
   "display_name": "Python 3",
   "language": "python",
   "name": "python3"
  },
  "language_info": {
   "codemirror_mode": {
    "name": "ipython",
    "version": 3
   },
   "file_extension": ".py",
   "mimetype": "text/x-python",
   "name": "python",
   "nbconvert_exporter": "python",
   "pygments_lexer": "ipython3",
   "version": "3.7.1"
  }
 },
 "nbformat": 4,
 "nbformat_minor": 2
}
