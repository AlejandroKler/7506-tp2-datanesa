{
 "cells": [
  {
   "cell_type": "code",
   "execution_count": 1,
   "metadata": {},
   "outputs": [],
   "source": [
    "import pandas as pd\n",
    "import numpy as np"
   ]
  },
  {
   "cell_type": "code",
   "execution_count": 2,
   "metadata": {},
   "outputs": [],
   "source": [
    "auctions = pd.read_csv('auctions.csv', low_memory = False)"
   ]
  },
  {
   "cell_type": "code",
   "execution_count": 3,
   "metadata": {},
   "outputs": [],
   "source": [
    "auctions[\"date\"] =  pd.to_datetime(auctions[\"date\"], errors = \"coerce\")"
   ]
  },
  {
   "cell_type": "code",
   "execution_count": 4,
   "metadata": {},
   "outputs": [],
   "source": [
    "auctions_sorted = auctions.loc[:, [\"device_id\",\"date\"]].sort_values([\"device_id\",\"date\"], ascending = True)"
   ]
  },
  {
   "cell_type": "code",
   "execution_count": 5,
   "metadata": {},
   "outputs": [
    {
     "data": {
      "text/html": [
       "<div>\n",
       "<style scoped>\n",
       "    .dataframe tbody tr th:only-of-type {\n",
       "        vertical-align: middle;\n",
       "    }\n",
       "\n",
       "    .dataframe tbody tr th {\n",
       "        vertical-align: top;\n",
       "    }\n",
       "\n",
       "    .dataframe thead th {\n",
       "        text-align: right;\n",
       "    }\n",
       "</style>\n",
       "<table border=\"1\" class=\"dataframe\">\n",
       "  <thead>\n",
       "    <tr style=\"text-align: right;\">\n",
       "      <th></th>\n",
       "      <th>device_id</th>\n",
       "      <th>date</th>\n",
       "    </tr>\n",
       "  </thead>\n",
       "  <tbody>\n",
       "    <tr>\n",
       "      <th>36601349</th>\n",
       "      <td>40621409780134</td>\n",
       "      <td>2019-04-23 15:00:57.222979</td>\n",
       "    </tr>\n",
       "    <tr>\n",
       "      <th>30900602</th>\n",
       "      <td>41863526108385</td>\n",
       "      <td>2019-04-19 19:40:28.465866</td>\n",
       "    </tr>\n",
       "    <tr>\n",
       "      <th>14875535</th>\n",
       "      <td>41863526108385</td>\n",
       "      <td>2019-04-20 02:52:26.892880</td>\n",
       "    </tr>\n",
       "    <tr>\n",
       "      <th>32062481</th>\n",
       "      <td>41863526108385</td>\n",
       "      <td>2019-04-20 02:59:02.509230</td>\n",
       "    </tr>\n",
       "    <tr>\n",
       "      <th>45613542</th>\n",
       "      <td>41863526108385</td>\n",
       "      <td>2019-04-20 03:06:01.675788</td>\n",
       "    </tr>\n",
       "  </tbody>\n",
       "</table>\n",
       "</div>"
      ],
      "text/plain": [
       "               device_id                       date\n",
       "36601349  40621409780134 2019-04-23 15:00:57.222979\n",
       "30900602  41863526108385 2019-04-19 19:40:28.465866\n",
       "14875535  41863526108385 2019-04-20 02:52:26.892880\n",
       "32062481  41863526108385 2019-04-20 02:59:02.509230\n",
       "45613542  41863526108385 2019-04-20 03:06:01.675788"
      ]
     },
     "execution_count": 5,
     "metadata": {},
     "output_type": "execute_result"
    }
   ],
   "source": [
    "auctions_sorted.head()"
   ]
  },
  {
   "cell_type": "code",
   "execution_count": 6,
   "metadata": {},
   "outputs": [],
   "source": [
    "auctions_sorted['timediff'] = np.where(auctions_sorted['device_id'] == auctions_sorted['device_id'].shift(), auctions_sorted['date'] - auctions_sorted['date'].shift(1), np.nan)"
   ]
  },
  {
   "cell_type": "code",
   "execution_count": 7,
   "metadata": {},
   "outputs": [],
   "source": [
    "auctions_sorted['time_to_reappear'] = auctions_sorted['timediff'].dt.total_seconds()"
   ]
  },
  {
   "cell_type": "code",
   "execution_count": 10,
   "metadata": {},
   "outputs": [],
   "source": [
    "def calculate_time_to_reappear(df, feature_date_name, feature_id_name):\n",
    "    df_sorted = df.sort_values([feature_id_name, feature_date_name], ascending = True)\n",
    "    df_sorted['time_to_reappear'] = np.\\\n",
    "    where(df_sorted[feature_id_name] == \\\n",
    "          df_sorted[feature_id_name].shift(), df_sorted[feature_date_name] - df_sorted[feature_date_name].shift(1), np.nan)\n",
    "    df_sorted['time_to_reappear'] = df_sorted['time_to_reappear'].dt.total_seconds()\n",
    "    return df_sorted"
   ]
  },
  {
   "cell_type": "code",
   "execution_count": 9,
   "metadata": {},
   "outputs": [
    {
     "data": {
      "text/html": [
       "<div>\n",
       "<style scoped>\n",
       "    .dataframe tbody tr th:only-of-type {\n",
       "        vertical-align: middle;\n",
       "    }\n",
       "\n",
       "    .dataframe tbody tr th {\n",
       "        vertical-align: top;\n",
       "    }\n",
       "\n",
       "    .dataframe thead th {\n",
       "        text-align: right;\n",
       "    }\n",
       "</style>\n",
       "<table border=\"1\" class=\"dataframe\">\n",
       "  <thead>\n",
       "    <tr style=\"text-align: right;\">\n",
       "      <th></th>\n",
       "      <th>device_id</th>\n",
       "      <th>date</th>\n",
       "      <th>timediff</th>\n",
       "      <th>time_to_reappear</th>\n",
       "    </tr>\n",
       "  </thead>\n",
       "  <tbody>\n",
       "    <tr>\n",
       "      <th>36601349</th>\n",
       "      <td>40621409780134</td>\n",
       "      <td>2019-04-23 15:00:57.222979</td>\n",
       "      <td>NaT</td>\n",
       "      <td>NaN</td>\n",
       "    </tr>\n",
       "    <tr>\n",
       "      <th>30900602</th>\n",
       "      <td>41863526108385</td>\n",
       "      <td>2019-04-19 19:40:28.465866</td>\n",
       "      <td>NaT</td>\n",
       "      <td>NaN</td>\n",
       "    </tr>\n",
       "    <tr>\n",
       "      <th>14875535</th>\n",
       "      <td>41863526108385</td>\n",
       "      <td>2019-04-20 02:52:26.892880</td>\n",
       "      <td>07:11:58.427014</td>\n",
       "      <td>25918.427014</td>\n",
       "    </tr>\n",
       "    <tr>\n",
       "      <th>32062481</th>\n",
       "      <td>41863526108385</td>\n",
       "      <td>2019-04-20 02:59:02.509230</td>\n",
       "      <td>00:06:35.616350</td>\n",
       "      <td>395.616350</td>\n",
       "    </tr>\n",
       "    <tr>\n",
       "      <th>45613542</th>\n",
       "      <td>41863526108385</td>\n",
       "      <td>2019-04-20 03:06:01.675788</td>\n",
       "      <td>00:06:59.166558</td>\n",
       "      <td>419.166558</td>\n",
       "    </tr>\n",
       "  </tbody>\n",
       "</table>\n",
       "</div>"
      ],
      "text/plain": [
       "               device_id                       date        timediff  \\\n",
       "36601349  40621409780134 2019-04-23 15:00:57.222979             NaT   \n",
       "30900602  41863526108385 2019-04-19 19:40:28.465866             NaT   \n",
       "14875535  41863526108385 2019-04-20 02:52:26.892880 07:11:58.427014   \n",
       "32062481  41863526108385 2019-04-20 02:59:02.509230 00:06:35.616350   \n",
       "45613542  41863526108385 2019-04-20 03:06:01.675788 00:06:59.166558   \n",
       "\n",
       "          time_to_reappear  \n",
       "36601349               NaN  \n",
       "30900602               NaN  \n",
       "14875535      25918.427014  \n",
       "32062481        395.616350  \n",
       "45613542        419.166558  "
      ]
     },
     "execution_count": 9,
     "metadata": {},
     "output_type": "execute_result"
    }
   ],
   "source": [
    "auctions_sorted.head()"
   ]
  }
 ],
 "metadata": {
  "kernelspec": {
   "display_name": "Python 3",
   "language": "python",
   "name": "python3"
  },
  "language_info": {
   "codemirror_mode": {
    "name": "ipython",
    "version": 3
   },
   "file_extension": ".py",
   "mimetype": "text/x-python",
   "name": "python",
   "nbconvert_exporter": "python",
   "pygments_lexer": "ipython3",
   "version": "3.7.1"
  }
 },
 "nbformat": 4,
 "nbformat_minor": 2
}
