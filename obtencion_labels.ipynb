{
 "cells": [
  {
   "cell_type": "code",
   "execution_count": 1,
   "metadata": {},
   "outputs": [],
   "source": [
    "import pandas as pd\n",
    "import numpy as np"
   ]
  },
  {
   "cell_type": "code",
   "execution_count": 2,
   "metadata": {},
   "outputs": [],
   "source": [
    "auctions = pd.read_csv(\"auctions.csv\", dtype={\"ref_type_id\": np.uint8, \"source_id\": np.uint8})"
   ]
  },
  {
   "cell_type": "code",
   "execution_count": 3,
   "metadata": {},
   "outputs": [],
   "source": [
    "auctions[\"date\"] =  pd.to_datetime(auctions[\"date\"], errors = \"coerce\")"
   ]
  },
  {
   "cell_type": "code",
   "execution_count": 4,
   "metadata": {},
   "outputs": [],
   "source": [
    "auctions_sorted = auctions.sort_values([\"device_id\",\"date\"], ascending = True)"
   ]
  },
  {
   "cell_type": "code",
   "execution_count": 5,
   "metadata": {},
   "outputs": [
    {
     "data": {
      "text/html": [
       "<div>\n",
       "<style scoped>\n",
       "    .dataframe tbody tr th:only-of-type {\n",
       "        vertical-align: middle;\n",
       "    }\n",
       "\n",
       "    .dataframe tbody tr th {\n",
       "        vertical-align: top;\n",
       "    }\n",
       "\n",
       "    .dataframe thead th {\n",
       "        text-align: right;\n",
       "    }\n",
       "</style>\n",
       "<table border=\"1\" class=\"dataframe\">\n",
       "  <thead>\n",
       "    <tr style=\"text-align: right;\">\n",
       "      <th></th>\n",
       "      <th>date</th>\n",
       "      <th>device_id</th>\n",
       "      <th>ref_type_id</th>\n",
       "      <th>source_id</th>\n",
       "    </tr>\n",
       "  </thead>\n",
       "  <tbody>\n",
       "    <tr>\n",
       "      <th>36601349</th>\n",
       "      <td>2019-04-23 15:00:57.222979</td>\n",
       "      <td>40621409780134</td>\n",
       "      <td>1</td>\n",
       "      <td>0</td>\n",
       "    </tr>\n",
       "    <tr>\n",
       "      <th>30900602</th>\n",
       "      <td>2019-04-19 19:40:28.465866</td>\n",
       "      <td>41863526108385</td>\n",
       "      <td>1</td>\n",
       "      <td>8</td>\n",
       "    </tr>\n",
       "    <tr>\n",
       "      <th>14875535</th>\n",
       "      <td>2019-04-20 02:52:26.892880</td>\n",
       "      <td>41863526108385</td>\n",
       "      <td>1</td>\n",
       "      <td>3</td>\n",
       "    </tr>\n",
       "    <tr>\n",
       "      <th>32062481</th>\n",
       "      <td>2019-04-20 02:59:02.509230</td>\n",
       "      <td>41863526108385</td>\n",
       "      <td>1</td>\n",
       "      <td>3</td>\n",
       "    </tr>\n",
       "    <tr>\n",
       "      <th>45613542</th>\n",
       "      <td>2019-04-20 03:06:01.675788</td>\n",
       "      <td>41863526108385</td>\n",
       "      <td>1</td>\n",
       "      <td>3</td>\n",
       "    </tr>\n",
       "  </tbody>\n",
       "</table>\n",
       "</div>"
      ],
      "text/plain": [
       "                               date       device_id  ref_type_id  source_id\n",
       "36601349 2019-04-23 15:00:57.222979  40621409780134            1          0\n",
       "30900602 2019-04-19 19:40:28.465866  41863526108385            1          8\n",
       "14875535 2019-04-20 02:52:26.892880  41863526108385            1          3\n",
       "32062481 2019-04-20 02:59:02.509230  41863526108385            1          3\n",
       "45613542 2019-04-20 03:06:01.675788  41863526108385            1          3"
      ]
     },
     "execution_count": 5,
     "metadata": {},
     "output_type": "execute_result"
    }
   ],
   "source": [
    "auctions_sorted.head()"
   ]
  },
  {
   "cell_type": "code",
   "execution_count": 9,
   "metadata": {},
   "outputs": [],
   "source": [
    "window_18to20 = auctions.loc[(auctions['date'].dt.day > 17) & (auctions['date'].dt.day < 21)]"
   ]
  },
  {
   "cell_type": "code",
   "execution_count": 20,
   "metadata": {},
   "outputs": [
    {
     "data": {
      "text/html": [
       "<div>\n",
       "<style scoped>\n",
       "    .dataframe tbody tr th:only-of-type {\n",
       "        vertical-align: middle;\n",
       "    }\n",
       "\n",
       "    .dataframe tbody tr th {\n",
       "        vertical-align: top;\n",
       "    }\n",
       "\n",
       "    .dataframe thead th {\n",
       "        text-align: right;\n",
       "    }\n",
       "</style>\n",
       "<table border=\"1\" class=\"dataframe\">\n",
       "  <thead>\n",
       "    <tr style=\"text-align: right;\">\n",
       "      <th></th>\n",
       "      <th>date</th>\n",
       "      <th>device_id</th>\n",
       "      <th>ref_type_id</th>\n",
       "      <th>source_id</th>\n",
       "    </tr>\n",
       "  </thead>\n",
       "  <tbody>\n",
       "    <tr>\n",
       "      <th>4859451</th>\n",
       "      <td>2019-04-18 19:23:42.206032</td>\n",
       "      <td>186034136943920</td>\n",
       "      <td>1</td>\n",
       "      <td>1</td>\n",
       "    </tr>\n",
       "    <tr>\n",
       "      <th>12258812</th>\n",
       "      <td>2019-04-20 03:17:51.945332</td>\n",
       "      <td>186034136943920</td>\n",
       "      <td>1</td>\n",
       "      <td>1</td>\n",
       "    </tr>\n",
       "    <tr>\n",
       "      <th>12710445</th>\n",
       "      <td>2019-04-20 03:20:06.814613</td>\n",
       "      <td>186034136943920</td>\n",
       "      <td>1</td>\n",
       "      <td>1</td>\n",
       "    </tr>\n",
       "    <tr>\n",
       "      <th>16127540</th>\n",
       "      <td>2019-04-18 16:42:46.331894</td>\n",
       "      <td>186034136943920</td>\n",
       "      <td>1</td>\n",
       "      <td>1</td>\n",
       "    </tr>\n",
       "    <tr>\n",
       "      <th>25704121</th>\n",
       "      <td>2019-04-20 23:34:37.264901</td>\n",
       "      <td>186034136943920</td>\n",
       "      <td>1</td>\n",
       "      <td>1</td>\n",
       "    </tr>\n",
       "    <tr>\n",
       "      <th>25757742</th>\n",
       "      <td>2019-04-20 03:18:31.499631</td>\n",
       "      <td>186034136943920</td>\n",
       "      <td>1</td>\n",
       "      <td>1</td>\n",
       "    </tr>\n",
       "    <tr>\n",
       "      <th>43476239</th>\n",
       "      <td>2019-04-20 03:18:13.985766</td>\n",
       "      <td>186034136943920</td>\n",
       "      <td>1</td>\n",
       "      <td>1</td>\n",
       "    </tr>\n",
       "  </tbody>\n",
       "</table>\n",
       "</div>"
      ],
      "text/plain": [
       "                               date        device_id  ref_type_id  source_id\n",
       "4859451  2019-04-18 19:23:42.206032  186034136943920            1          1\n",
       "12258812 2019-04-20 03:17:51.945332  186034136943920            1          1\n",
       "12710445 2019-04-20 03:20:06.814613  186034136943920            1          1\n",
       "16127540 2019-04-18 16:42:46.331894  186034136943920            1          1\n",
       "25704121 2019-04-20 23:34:37.264901  186034136943920            1          1\n",
       "25757742 2019-04-20 03:18:31.499631  186034136943920            1          1\n",
       "43476239 2019-04-20 03:18:13.985766  186034136943920            1          1"
      ]
     },
     "execution_count": 20,
     "metadata": {},
     "output_type": "execute_result"
    }
   ],
   "source": [
    "window_18to20.loc[auctions['device_id'] == 186034136943920]"
   ]
  },
  {
   "cell_type": "code",
   "execution_count": 23,
   "metadata": {},
   "outputs": [],
   "source": [
    "real_label = window_18to20.groupby(['device_id']).agg({'date': 'min'})"
   ]
  },
  {
   "cell_type": "code",
   "execution_count": 24,
   "metadata": {},
   "outputs": [
    {
     "data": {
      "text/html": [
       "<div>\n",
       "<style scoped>\n",
       "    .dataframe tbody tr th:only-of-type {\n",
       "        vertical-align: middle;\n",
       "    }\n",
       "\n",
       "    .dataframe tbody tr th {\n",
       "        vertical-align: top;\n",
       "    }\n",
       "\n",
       "    .dataframe thead th {\n",
       "        text-align: right;\n",
       "    }\n",
       "</style>\n",
       "<table border=\"1\" class=\"dataframe\">\n",
       "  <thead>\n",
       "    <tr style=\"text-align: right;\">\n",
       "      <th></th>\n",
       "      <th>date</th>\n",
       "    </tr>\n",
       "    <tr>\n",
       "      <th>device_id</th>\n",
       "      <th></th>\n",
       "    </tr>\n",
       "  </thead>\n",
       "  <tbody>\n",
       "    <tr>\n",
       "      <th>41863526108385</th>\n",
       "      <td>2019-04-19 19:40:28.465866</td>\n",
       "    </tr>\n",
       "    <tr>\n",
       "      <th>135153013040192</th>\n",
       "      <td>2019-04-20 04:10:54.009137</td>\n",
       "    </tr>\n",
       "    <tr>\n",
       "      <th>161514654074162</th>\n",
       "      <td>2019-04-18 02:52:46.357746</td>\n",
       "    </tr>\n",
       "    <tr>\n",
       "      <th>181891380775191</th>\n",
       "      <td>2019-04-20 23:19:25.420614</td>\n",
       "    </tr>\n",
       "    <tr>\n",
       "      <th>186034136943920</th>\n",
       "      <td>2019-04-18 16:42:46.331894</td>\n",
       "    </tr>\n",
       "    <tr>\n",
       "      <th>283297668933729</th>\n",
       "      <td>2019-04-18 22:24:44.520583</td>\n",
       "    </tr>\n",
       "    <tr>\n",
       "      <th>345999128501141</th>\n",
       "      <td>2019-04-18 15:04:50.380240</td>\n",
       "    </tr>\n",
       "    <tr>\n",
       "      <th>360710529886978</th>\n",
       "      <td>2019-04-18 16:16:12.637969</td>\n",
       "    </tr>\n",
       "    <tr>\n",
       "      <th>365882020742330</th>\n",
       "      <td>2019-04-19 01:51:00.134292</td>\n",
       "    </tr>\n",
       "    <tr>\n",
       "      <th>407152743717620</th>\n",
       "      <td>2019-04-18 17:35:15.963697</td>\n",
       "    </tr>\n",
       "  </tbody>\n",
       "</table>\n",
       "</div>"
      ],
      "text/plain": [
       "                                      date\n",
       "device_id                                 \n",
       "41863526108385  2019-04-19 19:40:28.465866\n",
       "135153013040192 2019-04-20 04:10:54.009137\n",
       "161514654074162 2019-04-18 02:52:46.357746\n",
       "181891380775191 2019-04-20 23:19:25.420614\n",
       "186034136943920 2019-04-18 16:42:46.331894\n",
       "283297668933729 2019-04-18 22:24:44.520583\n",
       "345999128501141 2019-04-18 15:04:50.380240\n",
       "360710529886978 2019-04-18 16:16:12.637969\n",
       "365882020742330 2019-04-19 01:51:00.134292\n",
       "407152743717620 2019-04-18 17:35:15.963697"
      ]
     },
     "execution_count": 24,
     "metadata": {},
     "output_type": "execute_result"
    }
   ],
   "source": [
    "real_label['date'] = real_label['date']"
   ]
  },
  {
   "cell_type": "code",
   "execution_count": 6,
   "metadata": {},
   "outputs": [],
   "source": [
    "auctions_sorted['timediff'] = np.where(auctions_sorted['device_id'] == auctions_sorted['device_id'].shift(), auctions_sorted['date'] - auctions_sorted['date'].shift(1), np.nan)"
   ]
  },
  {
   "cell_type": "code",
   "execution_count": 7,
   "metadata": {},
   "outputs": [],
   "source": [
    "auctions_sorted['time_to_reappear'] = auctions_sorted['timediff'].dt.total_seconds()"
   ]
  },
  {
   "cell_type": "code",
   "execution_count": 10,
   "metadata": {},
   "outputs": [],
   "source": [
    "def calculate_time_to_reappear(df, feature_date_name, feature_id_name):\n",
    "    df_sorted = df.sort_values([feature_id_name, feature_date_name], ascending = True)\n",
    "    df_sorted['time_to_reappear'] = np.\\\n",
    "    where(df_sorted[feature_id_name] == \\\n",
    "          df_sorted[feature_id_name].shift(), df_sorted[feature_date_name] - df_sorted[feature_date_name].shift(1), np.nan)\n",
    "    df_sorted['time_to_reappear'] = df_sorted['time_to_reappear'].dt.total_seconds()\n",
    "    return df_sorted"
   ]
  },
  {
   "cell_type": "code",
   "execution_count": 9,
   "metadata": {},
   "outputs": [
    {
     "data": {
      "text/html": [
       "<div>\n",
       "<style scoped>\n",
       "    .dataframe tbody tr th:only-of-type {\n",
       "        vertical-align: middle;\n",
       "    }\n",
       "\n",
       "    .dataframe tbody tr th {\n",
       "        vertical-align: top;\n",
       "    }\n",
       "\n",
       "    .dataframe thead th {\n",
       "        text-align: right;\n",
       "    }\n",
       "</style>\n",
       "<table border=\"1\" class=\"dataframe\">\n",
       "  <thead>\n",
       "    <tr style=\"text-align: right;\">\n",
       "      <th></th>\n",
       "      <th>device_id</th>\n",
       "      <th>date</th>\n",
       "      <th>timediff</th>\n",
       "      <th>time_to_reappear</th>\n",
       "    </tr>\n",
       "  </thead>\n",
       "  <tbody>\n",
       "    <tr>\n",
       "      <th>36601349</th>\n",
       "      <td>40621409780134</td>\n",
       "      <td>2019-04-23 15:00:57.222979</td>\n",
       "      <td>NaT</td>\n",
       "      <td>NaN</td>\n",
       "    </tr>\n",
       "    <tr>\n",
       "      <th>30900602</th>\n",
       "      <td>41863526108385</td>\n",
       "      <td>2019-04-19 19:40:28.465866</td>\n",
       "      <td>NaT</td>\n",
       "      <td>NaN</td>\n",
       "    </tr>\n",
       "    <tr>\n",
       "      <th>14875535</th>\n",
       "      <td>41863526108385</td>\n",
       "      <td>2019-04-20 02:52:26.892880</td>\n",
       "      <td>07:11:58.427014</td>\n",
       "      <td>25918.427014</td>\n",
       "    </tr>\n",
       "    <tr>\n",
       "      <th>32062481</th>\n",
       "      <td>41863526108385</td>\n",
       "      <td>2019-04-20 02:59:02.509230</td>\n",
       "      <td>00:06:35.616350</td>\n",
       "      <td>395.616350</td>\n",
       "    </tr>\n",
       "    <tr>\n",
       "      <th>45613542</th>\n",
       "      <td>41863526108385</td>\n",
       "      <td>2019-04-20 03:06:01.675788</td>\n",
       "      <td>00:06:59.166558</td>\n",
       "      <td>419.166558</td>\n",
       "    </tr>\n",
       "  </tbody>\n",
       "</table>\n",
       "</div>"
      ],
      "text/plain": [
       "               device_id                       date        timediff  \\\n",
       "36601349  40621409780134 2019-04-23 15:00:57.222979             NaT   \n",
       "30900602  41863526108385 2019-04-19 19:40:28.465866             NaT   \n",
       "14875535  41863526108385 2019-04-20 02:52:26.892880 07:11:58.427014   \n",
       "32062481  41863526108385 2019-04-20 02:59:02.509230 00:06:35.616350   \n",
       "45613542  41863526108385 2019-04-20 03:06:01.675788 00:06:59.166558   \n",
       "\n",
       "          time_to_reappear  \n",
       "36601349               NaN  \n",
       "30900602               NaN  \n",
       "14875535      25918.427014  \n",
       "32062481        395.616350  \n",
       "45613542        419.166558  "
      ]
     },
     "execution_count": 9,
     "metadata": {},
     "output_type": "execute_result"
    }
   ],
   "source": [
    "auctions_sorted.head()"
   ]
  }
 ],
 "metadata": {
  "kernelspec": {
   "display_name": "Python 3",
   "language": "python",
   "name": "python3"
  },
  "language_info": {
   "codemirror_mode": {
    "name": "ipython",
    "version": 3
   },
   "file_extension": ".py",
   "mimetype": "text/x-python",
   "name": "python",
   "nbconvert_exporter": "python",
   "pygments_lexer": "ipython3",
   "version": "3.7.1"
  }
 },
 "nbformat": 4,
 "nbformat_minor": 2
}
