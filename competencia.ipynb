{
 "cells": [
  {
   "cell_type": "code",
   "execution_count": 1,
   "metadata": {},
   "outputs": [],
   "source": [
    "import pandas as pd\n",
    "import numpy as np\n",
    "import matplotlib.pyplot as plt\n",
    "import xgboost as xgb\n",
    "from sklearn.model_selection import train_test_split, RandomizedSearchCV\n",
    "from sklearn.metrics import roc_auc_score\n",
    "from sklearn.preprocessing import OneHotEncoder\n",
    "from scipy import stats\n",
    "import seaborn as sns\n",
    "\n",
    "resultado_anterior = 0\n",
    "maximo = 0"
   ]
  },
  {
   "cell_type": "code",
   "execution_count": null,
   "metadata": {},
   "outputs": [],
   "source": []
  },
  {
   "cell_type": "code",
   "execution_count": null,
   "metadata": {},
   "outputs": [],
   "source": []
  },
  {
   "cell_type": "code",
   "execution_count": null,
   "metadata": {},
   "outputs": [],
   "source": []
  },
  {
   "cell_type": "code",
   "execution_count": 12,
   "metadata": {},
   "outputs": [],
   "source": [
    "entrenar_modelo({})"
   ]
  },
  {
   "cell_type": "code",
   "execution_count": null,
   "metadata": {},
   "outputs": [],
   "source": []
  },
  {
   "cell_type": "code",
   "execution_count": 11,
   "metadata": {},
   "outputs": [],
   "source": [
    "def guardar_submit(params, result):\n",
    "    tiempo = \"time\"\n",
    "    with open(\"historial_submits.txt\",\"a+\") as f:\n",
    "        f.write(\"\\n\"+tiempo+\"|\"+params+\"|\")"
   ]
  },
  {
   "cell_type": "code",
   "execution_count": 3,
   "metadata": {},
   "outputs": [],
   "source": [
    "def entrenar_modelo(params):\n",
    "    result = None#entrenar(params)\n",
    "    guardar_submit(params, result)\n",
    "    "
   ]
  },
  {
   "cell_type": "code",
   "execution_count": null,
   "metadata": {},
   "outputs": [],
   "source": []
  },
  {
   "cell_type": "code",
   "execution_count": null,
   "metadata": {},
   "outputs": [],
   "source": []
  },
  {
   "cell_type": "code",
   "execution_count": null,
   "metadata": {},
   "outputs": [],
   "source": [
    "def modelfit(model, features, labels, usarCrossValidation=True, cv_folds=5, early_stopping_rounds=50):\n",
    "    if usarCrossValidation:\n",
    "        parametros = model.get_xgb_params()\n",
    "        dmatrix = xgb.DMatrix(features.values, label=labels.values)\n",
    "        cvresult = xgb.cv(parametros, dmatrix, num_boost_round=model.get_params()['n_estimators'], nfold=cv_folds,\n",
    "                          metrics='auc', #verbose_eval=True,\n",
    "                          early_stopping_rounds=early_stopping_rounds)\n",
    "        model.set_params(n_estimators=cvresult.shape[0])\n",
    "    \n",
    "    model.fit(features, labels,eval_metric='auc')"
   ]
  },
  {
   "cell_type": "code",
   "execution_count": null,
   "metadata": {},
   "outputs": [],
   "source": []
  },
  {
   "cell_type": "code",
   "execution_count": null,
   "metadata": {},
   "outputs": [],
   "source": [
    "X, y = dfPredictorLocal.iloc[:,:-1], dfPredictorLocal.iloc[:,-1:]\n",
    "X_train, X_test, y_train, y_test = train_test_split(X, y, test_size=0.2, random_state=13)\n",
    "\n",
    "modelo = xgb.XGBRegressor(\n",
    " #booster='dart',\n",
    " learning_rate =0.01,\n",
    " n_estimators=1000,\n",
    " max_depth=4,\n",
    " min_child_weight=8,\n",
    " gamma=0.22,\n",
    " subsample=1,\n",
    " colsample_bytree=1,\n",
    " objective= 'binary:logistic',\n",
    " nthread=-1,\n",
    " scale_pos_weight=18.8,\n",
    "\n",
    " #sample_type='weighted',\n",
    " #rate_drop=0.1,\n",
    " #skip_dropout=0.5,\n",
    " random_state=272)\n",
    "\n",
    "modelfit(modelo, X_train, y_train, early_stopping_rounds=30)\n",
    "\n",
    "predsa = modelo.predict(X_test)\n",
    "resultado = roc_auc_score(y_test, predsa)\n",
    "print(resultado)\n",
    "print(\"Vario: {} con respecto al anterior\".format(resultado-resultado_anterior))\n",
    "if (maximo == resultado):\n",
    "    print(\" Maximo igualado\")\n",
    "else:\n",
    "    print(\"Maximo anterior {}\".format(maximo))\n",
    "if resultado>maximo:\n",
    "    print(\"Nuevo MAXIMO : {}\".format(resultado-maximo))\n",
    "    maximo = resultado\n",
    "resultado_anterior = resultado"
   ]
  }
 ],
 "metadata": {
  "kernelspec": {
   "display_name": "Python 3",
   "language": "python",
   "name": "python3"
  },
  "language_info": {
   "codemirror_mode": {
    "name": "ipython",
    "version": 3
   },
   "file_extension": ".py",
   "mimetype": "text/x-python",
   "name": "python",
   "nbconvert_exporter": "python",
   "pygments_lexer": "ipython3",
   "version": "3.7.1"
  }
 },
 "nbformat": 4,
 "nbformat_minor": 2
}
