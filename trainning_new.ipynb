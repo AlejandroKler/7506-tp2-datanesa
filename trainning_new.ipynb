{
 "cells": [
  {
   "cell_type": "code",
   "execution_count": null,
   "metadata": {},
   "outputs": [],
   "source": [
    "import pandas as pd\n",
    "import numpy as np\n",
    "import matplotlib.pyplot as plt\n",
    "import xgboost as xgb\n",
    "from sklearn.model_selection import train_test_split, RandomizedSearchCV\n",
    "from scipy import stats\n",
    "import seaborn as sns\n",
    "from sklearn.metrics import mean_squared_error\n",
    "from sklearn.ensemble import RandomForestRegressor\n",
    "from sklearn.datasets import make_regression\n",
    "from sklearn.metrics import accuracy_score\n",
    "from sklearn.model_selection import GridSearchCV\n",
    "from sklearn.metrics import roc_auc_score\n",
    "np.random.seed(10)"
   ]
  },
  {
   "cell_type": "markdown",
   "metadata": {},
   "source": [
    "# Carga de los df de features para entrenar y predecir"
   ]
  },
  {
   "cell_type": "code",
   "execution_count": null,
   "metadata": {},
   "outputs": [],
   "source": [
    "windows = [\"18_20\",\"19_21\",\"20_22\",\"21_23\"]\n",
    "features = {}\n",
    "label_auc = {}\n",
    "label_inst = {}\n",
    "label_clas_auc = {}\n",
    "label_clas_inst = {}\n",
    "\n",
    "for window in windows:\n",
    "    features[window] = pd.read_csv(\"windows/{}/features.csv\".format(window), index_col=\"ref_hash\")\n",
    "    label_auc[window] = pd.read_csv(\"windows/{}/labels_auc.csv\".format(window), index_col=\"ref_hash\")\n",
    "    label_inst[window] = pd.read_csv(\"windows/{}/labels_inst.csv\".format(window), index_col=\"ref_hash\")\n",
    "    label_clas_auc[window] = pd.DataFrame({'ref_hash': label_auc[window].index, 'label_auc': (label_auc[window]['label_auc'] == 259200).astype(int)}).set_index(\"ref_hash\")\n",
    "    label_clas_inst[window] = pd.DataFrame({'ref_hash': label_inst[window].index, 'label_inst': (label_inst[window]['label_inst'] == 259200).astype(int)}).set_index(\"ref_hash\")\n",
    "    \n",
    "features_to_predict = pd.read_csv(\"windows/24_26/features.csv\", index_col=\"ref_hash\") "
   ]
  },
  {
   "cell_type": "markdown",
   "metadata": {},
   "source": [
    "# Funciones de entrenamiento"
   ]
  },
  {
   "cell_type": "code",
   "execution_count": null,
   "metadata": {},
   "outputs": [],
   "source": [
    "def guardar_submit(params, result):\n",
    "    tiempo = \"time\"\n",
    "    with open(\"historial_submits.txt\",\"a+\") as f:\n",
    "        f.write(\"\\n\"+tiempo+\"|\"+params+\"|\")"
   ]
  },
  {
   "cell_type": "code",
   "execution_count": null,
   "metadata": {},
   "outputs": [],
   "source": [
    "def entrenar(modelo, df_features, labels):\n",
    "    df_features = df_features.merge(labels, how=\"left\", left_on=\"ref_hash\", right_on=\"ref_hash\")\n",
    "    df_features.set_index(\"ref_hash\", inplace=True)\n",
    "    X, y = df_features.iloc[:,:-1], df_features.iloc[:,-1:]\n",
    "    X_train, X_test, y_train, y_test = train_test_split(X, y, test_size=0.2, random_state=13)\n",
    "\n",
    "    modelo.fit(X_train, y_train, eval_metric='rmse')\n",
    "\n",
    "    prediction = modelo.predict(X_test)\n",
    "    rmse = np.sqrt(mean_squared_error(y_test, prediction))\n",
    "    print(\"RMSE: %f\" % (rmse))\n",
    "    return prediction"
   ]
  },
  {
   "cell_type": "markdown",
   "metadata": {},
   "source": [
    "## Selección de features"
   ]
  },
  {
   "cell_type": "code",
   "execution_count": null,
   "metadata": {},
   "outputs": [],
   "source": [
    "def select_features(df, feature_list):\n",
    "    return df.reindex(columns=feature_list)"
   ]
  },
  {
   "cell_type": "code",
   "execution_count": null,
   "metadata": {},
   "outputs": [],
   "source": [
    "features_list_class_auc = [\n",
    "    'appearances_in_auctions',\n",
    "    'user_appeared_last_day',\n",
    "    'amount_of_clicks',\n",
    "    'has_installed',\n",
    "    'user_clicked_last_day',\n",
    "    'user_installed_last_day',\n",
    "    'amount_of_installs',\n",
    "    'mean_time_to_click',\n",
    "    'amount_auctions_in_last_hour',\n",
    "    'amount_auctions_in_last_2_hours',\n",
    "    'amount_auctions_in_last_5_hours',\n",
    "    'amount_auctions_in_last_12_hours',\n",
    "    'amount_auctions_in_last_24_hours',\n",
    "    'amount_auctions_in_first_hour',\n",
    "    'amount_auctions_in_first_3_hours',\n",
    "    'amount_auctions_in_first_5_hours',\n",
    "    'amount_auctions_in_first_12_hours',\n",
    "    'amount_events_in_first_hour',\n",
    "    'amount_events_in_first_5_hours',\n",
    "    'amount_events_in_first_12_hours',\n",
    "    'amount_clicks_in_last_2_hours',\n",
    "    'amount_clicks_in_last_4_hours',\n",
    "    'device_os',\n",
    "    'time_to_reappear',\n",
    "    'installs_per_clicks',\n",
    "    'events_x_app_210',\n",
    "    'events_x_app_122',\n",
    "    'events_x_app_65',\n",
    "    'events_x_app_121',\n",
    "    'events_x_app_26',\n",
    "    'most_installed_apps_used',\n",
    "    'cant_apps_used',\n",
    "    'std_time_to_click',\n",
    "    'max_time_install',\n",
    "    'min_time_install',\n",
    "    'mean_time_install',\n",
    "    'std_time_install',\n",
    "    'max_time_events',\n",
    "    'mean_time_events',\n",
    "    'std_time_events',\n",
    "    'installs_per_events',\n",
    "    'cant_events_atributed',\n",
    "    'has_events_atributed',\n",
    "    'cant_events_0_4',\n",
    "    'cant_events_4_8',\n",
    "    'cant_events_8_12',\n",
    "    'cant_events_12_16',\n",
    "    'cant_events_16_20',\n",
    "    'cant_events_20_24',\n",
    "    'cant_auctions_0_4',\n",
    "    'cant_auctions_4_8',\n",
    "    'cant_auctions_8_12',\n",
    "    'cant_auctions_12_16',\n",
    "    'cant_auctions_16_20',\n",
    "    'cant_auctions_20_24',\n",
    "    'has_events_ids_with_installs',\n",
    "    'has_events_ids_without_installs']"
   ]
  },
  {
   "cell_type": "code",
   "execution_count": null,
   "metadata": {},
   "outputs": [],
   "source": [
    "features_list_class_inst = [\n",
    "    'appearances_in_auctions',\n",
    "    'user_appeared_last_day',\n",
    "    'amount_of_clicks',\n",
    "    'has_installed',\n",
    "    'user_clicked_last_day',\n",
    "    'user_installed_last_day',\n",
    "    'amount_of_installs',\n",
    "    'mean_time_to_click',\n",
    "    'amount_auctions_in_last_hour',\n",
    "    'amount_auctions_in_last_2_hours',\n",
    "    'amount_auctions_in_last_5_hours',\n",
    "    'amount_auctions_in_last_12_hours',\n",
    "    'amount_auctions_in_last_24_hours',\n",
    "    'amount_auctions_in_first_hour',\n",
    "    'amount_auctions_in_first_3_hours',\n",
    "    'amount_auctions_in_first_5_hours',\n",
    "    'amount_auctions_in_first_12_hours',\n",
    "    'amount_events_in_first_hour',\n",
    "    'amount_events_in_first_5_hours',\n",
    "    'amount_events_in_first_12_hours',\n",
    "    'amount_clicks_in_last_2_hours',\n",
    "    'amount_clicks_in_last_4_hours',\n",
    "    'device_os',\n",
    "    'time_to_reappear',\n",
    "    'installs_per_clicks',\n",
    "    'events_x_app_210',\n",
    "    'events_x_app_122',\n",
    "    'events_x_app_65',\n",
    "    'events_x_app_121',\n",
    "    'events_x_app_26',\n",
    "    'most_installed_apps_used',\n",
    "    'cant_apps_used',\n",
    "    'std_time_to_click',\n",
    "    'max_time_install',\n",
    "    'min_time_install',\n",
    "    'mean_time_install',\n",
    "    'std_time_install',\n",
    "    'max_time_events',\n",
    "    'mean_time_events',\n",
    "    'std_time_events',\n",
    "    'installs_per_events',\n",
    "    'cant_events_atributed',\n",
    "    'has_events_atributed',\n",
    "    'cant_events_0_4',\n",
    "    'cant_events_4_8',\n",
    "    'cant_events_8_12',\n",
    "    'cant_events_12_16',\n",
    "    'cant_events_16_20',\n",
    "    'cant_events_20_24',\n",
    "    'cant_auctions_0_4',\n",
    "    'cant_auctions_4_8',\n",
    "    'cant_auctions_8_12',\n",
    "    'cant_auctions_12_16',\n",
    "    'cant_auctions_16_20',\n",
    "    'cant_auctions_20_24',\n",
    "    'has_events_ids_with_installs',\n",
    "    'has_events_ids_without_installs']"
   ]
  },
  {
   "cell_type": "markdown",
   "metadata": {},
   "source": [
    "# Modelos"
   ]
  },
  {
   "cell_type": "markdown",
   "metadata": {},
   "source": [
    "## Clasificador"
   ]
  },
  {
   "cell_type": "code",
   "execution_count": null,
   "metadata": {},
   "outputs": [],
   "source": [
    "def get_df_to_train(windows, features, labels, feature_list):\n",
    "    df_list = []\n",
    "    for window in windows:\n",
    "        df = select_features(features[window], feature_list).join(labels[window], how=\"inner\")\n",
    "        df_list.append(df)\n",
    "    df_full = pd.concat(df_list)\n",
    "    df_full.reset_index(inplace=True, drop=True)\n",
    "    return df_full"
   ]
  },
  {
   "cell_type": "code",
   "execution_count": null,
   "metadata": {},
   "outputs": [],
   "source": [
    "# factor = 1 100% balanced\n",
    "# factor = 0 not balanced\n",
    "# label_value label que mas aparece y se debe balancear\n",
    "def balance(df_full, label_name, factor, label_value = 1):\n",
    "    cant_values = df_full[label_name].value_counts()[label_value]\n",
    "    cant_no_values = len(df_full[label_name]) - cant_values\n",
    "    a_borrar = int((cant_values-cant_no_values)*factor)\n",
    "    index_to_drop = np.random.choice(df_full.loc[df_full[label_name] == label_value].index,a_borrar, replace=False)\n",
    "    return df_full.drop(index=index_to_drop)"
   ]
  },
  {
   "cell_type": "code",
   "execution_count": null,
   "metadata": {},
   "outputs": [],
   "source": [
    "def get_train_test_split(df_full, label_name, test_size=0.3):\n",
    "    y = df_full[label_name]\n",
    "    X_data = df_full.drop(label_name, axis=1)\n",
    "    return train_test_split(X_data, y, test_size=test_size, random_state=7)"
   ]
  },
  {
   "cell_type": "code",
   "execution_count": null,
   "metadata": {},
   "outputs": [],
   "source": []
  },
  {
   "cell_type": "markdown",
   "metadata": {},
   "source": [
    "### Clasificador installs"
   ]
  },
  {
   "cell_type": "code",
   "execution_count": null,
   "metadata": {},
   "outputs": [],
   "source": [
    "features_list = features_list_class_inst\n",
    "df_full = get_df_to_train(windows, features, label_clas_inst, features_list)\n",
    "\n",
    "df_full = balance(df_full, \"label_inst\", 1, 1)\n",
    "\n",
    "X_train, X_test, y_train, y_test = get_train_test_split(df_full, \"label_inst\")\n",
    "\n",
    "model_class_inst = xgb.XGBClassifier()\n",
    "train_model_class = model_class_inst.fit(X_train, y_train)\n",
    "pred_model_class = train_model_class.predict(X_test)\n",
    "print(\"Accuracy for model installs: %.2f\" % (accuracy_score(y_test, pred_model_class) * 100))\n",
    "print(\"Using features: \"+str(features_list))"
   ]
  },
  {
   "cell_type": "code",
   "execution_count": null,
   "metadata": {},
   "outputs": [],
   "source": [
    "pd.Series(pred_model_class).value_counts()"
   ]
  },
  {
   "cell_type": "code",
   "execution_count": null,
   "metadata": {},
   "outputs": [],
   "source": [
    "y_test.value_counts()"
   ]
  },
  {
   "cell_type": "code",
   "execution_count": null,
   "metadata": {},
   "outputs": [],
   "source": [
    "df_full[\"label_inst\"].value_counts()"
   ]
  },
  {
   "cell_type": "markdown",
   "metadata": {},
   "source": [
    "### Clasificador auctions"
   ]
  },
  {
   "cell_type": "code",
   "execution_count": null,
   "metadata": {},
   "outputs": [],
   "source": [
    "df_full = get_df_to_train(windows, features, label_clas_auc, features_list_class_auc)\n",
    "\n",
    "df_full = balance(df_full, \"label_auc\", 1, 1)\n",
    "\n",
    "X_train, X_test, y_train, y_test = get_train_test_split(df_full, \"label_auc\")\n",
    "\n",
    "model_class_auc = xgb.XGBClassifier()\n",
    "train_model_class = model_class_auc.fit(X_train, y_train)\n",
    "pred_model_class = train_model_class.predict(X_test)\n",
    "print(\"Accuracy for model auctions: %.2f\" % (accuracy_score(y_test, pred_model_class) * 100))\n",
    "print(\"Using features: \"+str(features_list_class_auc))"
   ]
  },
  {
   "cell_type": "markdown",
   "metadata": {},
   "source": [
    "## Modelos de predicción de tiempos"
   ]
  },
  {
   "cell_type": "markdown",
   "metadata": {},
   "source": [
    "### Modelo auction"
   ]
  },
  {
   "cell_type": "code",
   "execution_count": null,
   "metadata": {},
   "outputs": [],
   "source": [
    "df_full = get_df_to_train(windows, features, label_auc, features_list_class_auc)\n",
    "\n",
    "df_full = df_full.sample(int(len(df_full)*0.5))\n",
    "\n",
    "df_full = balance(df_full, \"label_auc\", 0.7, 259200)\n",
    "\n",
    "X_train, X_test, y_train, y_test = get_train_test_split(df_full, \"label_auc\")"
   ]
  },
  {
   "cell_type": "code",
   "execution_count": null,
   "metadata": {},
   "outputs": [],
   "source": [
    "model_auc = xgb.XGBRegressor(\n",
    "    learning_rate = 0.1,\n",
    "    n_estimators=500,\n",
    "#    min_child_weight= 8,\n",
    "    max_depth=3,\n",
    "    gamma=0.1,\n",
    "    nthread=-1\n",
    ")"
   ]
  },
  {
   "cell_type": "code",
   "execution_count": null,
   "metadata": {},
   "outputs": [],
   "source": [
    "%%time\n",
    "model_auc.fit(X_train, y_train, eval_metric='rmse')\n",
    "\n",
    "prediction = model_auc.predict(X_test)\n",
    "rmse = np.sqrt(mean_squared_error(y_test, prediction))\n",
    "print(\"RMSE: %f\" % (rmse))"
   ]
  },
  {
   "cell_type": "code",
   "execution_count": null,
   "metadata": {},
   "outputs": [],
   "source": [
    "RMSE: 78968.633457\n",
    "SAMPLE = 0.5\n",
    "BALANCE = 0.7\n",
    "    \n",
    "    learning_rate = 0.1,\n",
    "    n_estimators=500,\n",
    "#    min_child_weight= 8,\n",
    "    max_depth=3,\n",
    "    gamma=0.1,\n",
    "    nthread=-1"
   ]
  },
  {
   "cell_type": "markdown",
   "metadata": {},
   "source": [
    "### Modelo installs"
   ]
  },
  {
   "cell_type": "code",
   "execution_count": null,
   "metadata": {},
   "outputs": [],
   "source": [
    "df_full = get_df_to_train(windows, features, label_inst, features_list_class_inst)\n",
    "\n",
    "df_full = df_full.sample(int(len(df_full)*0.5))\n",
    "\n",
    "df_full = balance(df_full, \"label_inst\", 0.9, 259200)\n",
    "\n",
    "X_train, X_test, y_train, y_test = get_train_test_split(df_full, \"label_inst\")"
   ]
  },
  {
   "cell_type": "code",
   "execution_count": null,
   "metadata": {},
   "outputs": [],
   "source": [
    "model_inst = xgb.XGBRegressor(\n",
    "    learning_rate = 0.1,\n",
    "    n_estimators=500,\n",
    "    gamma=0.1,\n",
    "    nthread=-1\n",
    ")"
   ]
  },
  {
   "cell_type": "code",
   "execution_count": null,
   "metadata": {},
   "outputs": [],
   "source": [
    "%%time\n",
    "model_inst.fit(X_train, y_train, eval_metric='rmse')\n",
    "\n",
    "prediction = model_inst.predict(X_test)\n",
    "rmse = np.sqrt(mean_squared_error(y_test, prediction))\n",
    "print(\"RMSE: %f\" % (rmse))"
   ]
  },
  {
   "cell_type": "code",
   "execution_count": null,
   "metadata": {},
   "outputs": [],
   "source": [
    "RMSE: 51037.791545\n",
    "SAMPLE 0.5\n",
    "BALANCE 0\n",
    "\n",
    "learning_rate = 0.1,\n",
    "    n_estimators=500,\n",
    "    gamma=0.1,\n",
    "    nthread=-1"
   ]
  },
  {
   "cell_type": "markdown",
   "metadata": {},
   "source": [
    "# Predecir"
   ]
  },
  {
   "cell_type": "markdown",
   "metadata": {},
   "source": [
    "### Predicción auctions"
   ]
  },
  {
   "cell_type": "code",
   "execution_count": null,
   "metadata": {},
   "outputs": [],
   "source": [
    "pred_auctions = model_auc.predict(features_to_predict)\n",
    "df_preds_auctions = pd.DataFrame({'ref_hash' : features_to_predict.index, 'obj' : pred_auctions})\n",
    "df_preds_auctions.to_csv(\"auctions_predictions.csv\", index=False) #persistimos los resultados"
   ]
  },
  {
   "cell_type": "markdown",
   "metadata": {},
   "source": [
    "### Predicción installs"
   ]
  },
  {
   "cell_type": "code",
   "execution_count": null,
   "metadata": {},
   "outputs": [],
   "source": [
    "pred_installs = model_inst.predict(features_to_predict)\n",
    "df_preds_installs = pd.DataFrame({'ref_hash' : features_to_predict.index, 'obj' : pred_installs})\n",
    "df_preds_installs.to_csv(\"installs_predictions.csv\", index=False) #persistimos los resultados"
   ]
  },
  {
   "cell_type": "code",
   "execution_count": null,
   "metadata": {},
   "outputs": [],
   "source": [
    "pred_clas_inst = model_class_inst.predict(features_to_predict)\n",
    "\n",
    "df_preds_installs = pd.DataFrame({\"ref_hash\":features_to_predict.index,\"obj\":pred_clas_inst})\n",
    "ref_not_to_predict = []#df_preds_installs.loc[df_preds_installs[\"obj\"] == 1][\"ref_hash\"].unique()\n",
    "\n",
    "df_to_predict = features_to_predict.drop(index=ref_to_predict)\n",
    "\n",
    "pred_installs = model_inst.predict(df_to_predict.reset_index(drop=True))\n",
    "\n",
    "df_pred_value = pd.DataFrame({\"ref_hash\":df_to_predict.index,\"value\":pred_installs})\n",
    "\n",
    "df_preds_installs = df_preds_installs.merge(df_pred_value,left_on=\"ref_hash\",right_on=\"ref_hash\",how=\"left\")\n",
    "df_preds_installs[\"obj\"] = df_preds_installs[\"value\"]\n",
    "del df_preds_installs[\"value\"]\n",
    "df_preds_installs = df_preds_installs.fillna(259200)\n",
    "\n",
    "df_preds_installs.to_csv(\"installs_predictions.csv\", index=False) #persistimos los resultados"
   ]
  },
  {
   "cell_type": "markdown",
   "metadata": {},
   "source": [
    "# Submit to Kaggle"
   ]
  },
  {
   "cell_type": "code",
   "execution_count": null,
   "metadata": {},
   "outputs": [],
   "source": [
    "def export_df(df, name):\n",
    "    df.to_csv(name, index=False)"
   ]
  },
  {
   "cell_type": "markdown",
   "metadata": {},
   "source": [
    "Las predicciones tendrán seteadas como índice los ref_hash para no perder la referencia\n",
    "No es necesario filtrar los ref_hash y quedarnos solo con los target en las predicciones que obtenemos ya que de eso\n",
    "se encarga la función "
   ]
  },
  {
   "cell_type": "code",
   "execution_count": null,
   "metadata": {},
   "outputs": [],
   "source": [
    "target = pd.read_csv(\"target_competencia_ids.csv\")"
   ]
  },
  {
   "cell_type": "code",
   "execution_count": null,
   "metadata": {},
   "outputs": [],
   "source": [
    "def create_submit_df(auctions_predictions, installs_predictions, target):\n",
    "    \n",
    "    target = target.set_index('ref_hash')\n",
    "    \n",
    "    auc = auctions_predictions.reset_index()\n",
    "    auc.columns = ['ref_hash','obj']\n",
    "    auc['ref_hash'] = auc['ref_hash'].astype(str) + \"_sc\"\n",
    "    auc = auc.set_index('ref_hash')\n",
    "    \n",
    "    ins = installs_predictions.reset_index()\n",
    "    ins.columns = ['ref_hash','obj']\n",
    "    ins['ref_hash'] = ins['ref_hash'].astype(str) + \"_st\"\n",
    "    ins = ins.set_index('ref_hash')\n",
    "    \n",
    "    frames = [ins,auc]\n",
    "    submit_result = pd.concat(frames).reset_index()\n",
    "    target_list = target.reset_index('ref_hash')['ref_hash'].tolist()\n",
    "    return submit_result.loc[submit_result['ref_hash'].isin(target_list)].sort_values(by = 'ref_hash')"
   ]
  },
  {
   "cell_type": "code",
   "execution_count": null,
   "metadata": {},
   "outputs": [],
   "source": [
    "kaggle_sub = create_submit_df(df_preds_auctions.set_index('ref_hash'), \\\n",
    "                              df_preds_installs.set_index('ref_hash'), target)"
   ]
  },
  {
   "cell_type": "code",
   "execution_count": null,
   "metadata": {},
   "outputs": [],
   "source": [
    "export_df(kaggle_sub, \"submit.csv\")"
   ]
  },
  {
   "cell_type": "code",
   "execution_count": null,
   "metadata": {},
   "outputs": [],
   "source": []
  },
  {
   "cell_type": "code",
   "execution_count": null,
   "metadata": {},
   "outputs": [],
   "source": []
  }
 ],
 "metadata": {
  "kernelspec": {
   "display_name": "Python 3",
   "language": "python",
   "name": "python3"
  },
  "language_info": {
   "codemirror_mode": {
    "name": "ipython",
    "version": 3
   },
   "file_extension": ".py",
   "mimetype": "text/x-python",
   "name": "python",
   "nbconvert_exporter": "python",
   "pygments_lexer": "ipython3",
   "version": "3.7.1"
  }
 },
 "nbformat": 4,
 "nbformat_minor": 2
}
