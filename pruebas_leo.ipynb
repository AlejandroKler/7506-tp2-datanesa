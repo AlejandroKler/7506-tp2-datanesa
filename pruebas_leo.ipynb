{
 "cells": [
  {
   "cell_type": "code",
   "execution_count": 14,
   "metadata": {},
   "outputs": [],
   "source": [
    "import pandas as pd\n",
    "import numpy as np\n",
    "import datetime"
   ]
  },
  {
   "cell_type": "code",
   "execution_count": 2,
   "metadata": {},
   "outputs": [],
   "source": [
    "auctions = pd.read_csv(\"auctions.csv\", dtype={\"ref_type_id\": np.uint8, \"source_id\": np.uint8})"
   ]
  },
  {
   "cell_type": "code",
   "execution_count": 3,
   "metadata": {},
   "outputs": [],
   "source": [
    "auctions[\"date\"] =  pd.to_datetime(auctions[\"date\"], errors = \"coerce\")"
   ]
  },
  {
   "cell_type": "code",
   "execution_count": 34,
   "metadata": {},
   "outputs": [],
   "source": [
    "def create_window(df, initial_day, final_day, date_feature_name, id_feature_name, label_name):\n",
    "    window = df.loc[(df[date_feature_name].dt.day >= initial_day) & (df[date_feature_name].dt.day <= final_day)]\n",
    "    window = window.groupby(id_feature_name).agg({date_feature_name : 'min'}).reset_index()\n",
    "    window[label_name] = (window[date_feature_name] - pd.to_datetime(\"2019-04-\" + str(initial_day))).dt.total_seconds()\n",
    "    return window"
   ]
  },
  {
   "cell_type": "code",
   "execution_count": 37,
   "metadata": {},
   "outputs": [],
   "source": [
    "window_18to20 = create_window(auctions, 18, 20, \"date\", \"device_id\", \"seconds_to_appear\")"
   ]
  },
  {
   "cell_type": "code",
   "execution_count": 38,
   "metadata": {},
   "outputs": [
    {
     "data": {
      "text/html": [
       "<div>\n",
       "<style scoped>\n",
       "    .dataframe tbody tr th:only-of-type {\n",
       "        vertical-align: middle;\n",
       "    }\n",
       "\n",
       "    .dataframe tbody tr th {\n",
       "        vertical-align: top;\n",
       "    }\n",
       "\n",
       "    .dataframe thead th {\n",
       "        text-align: right;\n",
       "    }\n",
       "</style>\n",
       "<table border=\"1\" class=\"dataframe\">\n",
       "  <thead>\n",
       "    <tr style=\"text-align: right;\">\n",
       "      <th></th>\n",
       "      <th>device_id</th>\n",
       "      <th>date</th>\n",
       "      <th>seconds_to_appear</th>\n",
       "    </tr>\n",
       "  </thead>\n",
       "  <tbody>\n",
       "    <tr>\n",
       "      <th>0</th>\n",
       "      <td>41863526108385</td>\n",
       "      <td>2019-04-19 19:40:28.465866</td>\n",
       "      <td>157228.465866</td>\n",
       "    </tr>\n",
       "    <tr>\n",
       "      <th>1</th>\n",
       "      <td>135153013040192</td>\n",
       "      <td>2019-04-20 04:10:54.009137</td>\n",
       "      <td>187854.009137</td>\n",
       "    </tr>\n",
       "    <tr>\n",
       "      <th>2</th>\n",
       "      <td>161514654074162</td>\n",
       "      <td>2019-04-18 02:52:46.357746</td>\n",
       "      <td>10366.357746</td>\n",
       "    </tr>\n",
       "    <tr>\n",
       "      <th>3</th>\n",
       "      <td>181891380775191</td>\n",
       "      <td>2019-04-20 23:19:25.420614</td>\n",
       "      <td>256765.420614</td>\n",
       "    </tr>\n",
       "    <tr>\n",
       "      <th>4</th>\n",
       "      <td>186034136943920</td>\n",
       "      <td>2019-04-18 16:42:46.331894</td>\n",
       "      <td>60166.331894</td>\n",
       "    </tr>\n",
       "  </tbody>\n",
       "</table>\n",
       "</div>"
      ],
      "text/plain": [
       "         device_id                       date  seconds_to_appear\n",
       "0   41863526108385 2019-04-19 19:40:28.465866      157228.465866\n",
       "1  135153013040192 2019-04-20 04:10:54.009137      187854.009137\n",
       "2  161514654074162 2019-04-18 02:52:46.357746       10366.357746\n",
       "3  181891380775191 2019-04-20 23:19:25.420614      256765.420614\n",
       "4  186034136943920 2019-04-18 16:42:46.331894       60166.331894"
      ]
     },
     "execution_count": 38,
     "metadata": {},
     "output_type": "execute_result"
    }
   ],
   "source": [
    "window_18to20.head()"
   ]
  },
  {
   "cell_type": "markdown",
   "metadata": {},
   "source": [
    "## Ignorar esto (es un feature)"
   ]
  },
  {
   "cell_type": "code",
   "execution_count": 10,
   "metadata": {},
   "outputs": [],
   "source": [
    "def calculate_time_to_reappear(df, feature_date_name, feature_id_name):\n",
    "    df_sorted = df.sort_values([feature_id_name, feature_date_name], ascending = True)\n",
    "    df_sorted['time_to_reappear'] = np.\\\n",
    "    where(df_sorted[feature_id_name] == \\\n",
    "          df_sorted[feature_id_name].shift(), df_sorted[feature_date_name] - df_sorted[feature_date_name].shift(1), np.nan)\n",
    "    df_sorted['time_to_reappear'] = df_sorted['time_to_reappear'].dt.total_seconds()\n",
    "    df_sorted['time_to_reappear'] = df_sorted['time_to_reappear'].fillna(259200) #to check\n",
    "    df_sorted = df_sorted.groupby('device_id').agg({'time_to_reappear': 'mean'})\n",
    "    return df_sorted"
   ]
  },
  {
   "cell_type": "markdown",
   "metadata": {},
   "source": [
    "# Pruebas"
   ]
  },
  {
   "cell_type": "code",
   "execution_count": null,
   "metadata": {},
   "outputs": [],
   "source": [
    "\"\"\"X, y = window_18to20.iloc[:,:-2], window_18to20[[\"seconds_to_appear\"]] #X sera el dataframe con todos los features\n",
    "#y es el label (en X DEVICE ID NO VAN!!)\n",
    "#window_18to20.iloc[:,:-1] en este caso no me quedo con la serie date porque dmatrix solo acepta valores numericos \"\"\""
   ]
  },
  {
   "cell_type": "code",
   "execution_count": null,
   "metadata": {},
   "outputs": [],
   "source": [
    "df_has_installs = pd.DataFrame(installs['ref_hash'].unique())\n",
    "df_has_installs['has_installs'] = 1\n",
    "df_has_installs.columns = ['ref_hash', 'has_installs']"
   ]
  },
  {
   "cell_type": "code",
   "execution_count": null,
   "metadata": {},
   "outputs": [],
   "source": [
    "auctions_features = add_feature(auctions_features, df_has_installs, 'ref_hash', 'ref_hash', 'has_installs', 0)\n",
    "auctions_features.head()"
   ]
  },
  {
   "cell_type": "code",
   "execution_count": null,
   "metadata": {},
   "outputs": [],
   "source": [
    "X = X[['has_installs']]\n",
    "X.head()"
   ]
  },
  {
   "cell_type": "code",
   "execution_count": null,
   "metadata": {},
   "outputs": [],
   "source": [
    "data_dmatrix = xgb.DMatrix(data=X,label= y) #en realidad aca va el label de la siguiente ventana !!!! "
   ]
  },
  {
   "cell_type": "code",
   "execution_count": null,
   "metadata": {},
   "outputs": [],
   "source": [
    "xg_reg = xgb.XGBRegressor(objective ='reg:squarederror', \n",
    "                colsample_bytree = 0.3, learning_rate = 0.1,\n",
    "                max_depth = 5, alpha = 10, n_estimators = 10)"
   ]
  },
  {
   "cell_type": "code",
   "execution_count": null,
   "metadata": {},
   "outputs": [],
   "source": [
    "xg_reg.fit(X,y) #X es la data de train e y es el label de train"
   ]
  },
  {
   "cell_type": "code",
   "execution_count": null,
   "metadata": {},
   "outputs": [],
   "source": [
    "window_21to23 = create_window(auctions, 21, 23, \"date\", \"device_id\", \"seconds_to_appear\")"
   ]
  },
  {
   "cell_type": "code",
   "execution_count": null,
   "metadata": {},
   "outputs": [],
   "source": [
    "X_test, X_real_label = window_21to23.iloc[:,:-2], window_21to23.iloc[:,-1]\n",
    "X_test = add_feature(X_test, df_has_installs, 'device_id', 'ref_hash', 'has_installs', 0)\n",
    "X_test = X_test[['has_installs']]\n",
    "predictions = xg_reg.predict(X_test)"
   ]
  },
  {
   "cell_type": "code",
   "execution_count": null,
   "metadata": {},
   "outputs": [],
   "source": [
    "rmse = np.sqrt(mean_squared_error(X_real_label, predictions))\n",
    "print(\"RMSE: %f\" % (rmse))"
   ]
  }
 ],
 "metadata": {
  "kernelspec": {
   "display_name": "Python 3",
   "language": "python",
   "name": "python3"
  },
  "language_info": {
   "codemirror_mode": {
    "name": "ipython",
    "version": 3
   },
   "file_extension": ".py",
   "mimetype": "text/x-python",
   "name": "python",
   "nbconvert_exporter": "python",
   "pygments_lexer": "ipython3",
   "version": "3.7.1"
  }
 },
 "nbformat": 4,
 "nbformat_minor": 2
}
