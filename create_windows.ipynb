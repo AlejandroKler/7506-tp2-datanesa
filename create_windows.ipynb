{
 "cells": [
  {
   "cell_type": "code",
   "execution_count": null,
   "metadata": {},
   "outputs": [],
   "source": [
    "import pandas as pd\n",
    "import numpy as np"
   ]
  },
  {
   "cell_type": "code",
   "execution_count": null,
   "metadata": {},
   "outputs": [],
   "source": [
    "def export_df(df, name):\n",
    "    df.to_csv(name, index=False)"
   ]
  },
  {
   "cell_type": "markdown",
   "metadata": {},
   "source": [
    "# Carga de datos"
   ]
  },
  {
   "cell_type": "code",
   "execution_count": null,
   "metadata": {},
   "outputs": [],
   "source": [
    "target = pd.read_csv(\"target_competencia_ids.csv\")"
   ]
  },
  {
   "cell_type": "code",
   "execution_count": null,
   "metadata": {},
   "outputs": [],
   "source": [
    "auctions = pd.read_csv(\"auctions.csv\", dtype={\"ref_type_id\": np.uint8, \"source_id\": np.uint8})\n",
    "auctions[\"date\"] =  pd.to_datetime(auctions[\"date\"], errors = \"coerce\")"
   ]
  },
  {
   "cell_type": "code",
   "execution_count": null,
   "metadata": {},
   "outputs": [],
   "source": [
    "clicks = pd.read_csv('clicks.csv', low_memory=False)\n",
    "clicks[\"created\"] =  pd.to_datetime(clicks[\"created\"], errors = \"coerce\")"
   ]
  },
  {
   "cell_type": "code",
   "execution_count": null,
   "metadata": {},
   "outputs": [],
   "source": [
    "events = pd.read_csv('events.csv', low_memory=False)\n",
    "events[\"date\"] =  pd.to_datetime(events[\"date\"], errors = \"coerce\")"
   ]
  },
  {
   "cell_type": "code",
   "execution_count": null,
   "metadata": {},
   "outputs": [],
   "source": [
    "installs = pd.read_csv('installs.csv', low_memory = False)\n",
    "installs[\"created\"] =  pd.to_datetime(installs[\"created\"], errors = \"coerce\") "
   ]
  },
  {
   "cell_type": "markdown",
   "metadata": {},
   "source": [
    "#### Renombre de device_id a ref_hash"
   ]
  },
  {
   "cell_type": "code",
   "execution_count": null,
   "metadata": {},
   "outputs": [],
   "source": [
    "auctions['ref_hash'] = auctions['device_id']\n",
    "del auctions['device_id']"
   ]
  },
  {
   "cell_type": "markdown",
   "metadata": {},
   "source": [
    "Para hacer mas sencillas las operaciones, utilizaremos siempre ref_hash"
   ]
  },
  {
   "cell_type": "markdown",
   "metadata": {},
   "source": [
    "# Creación de ventanas"
   ]
  },
  {
   "cell_type": "code",
   "execution_count": null,
   "metadata": {},
   "outputs": [],
   "source": [
    "#la fecha final debe ser las 00hs del día siguiente a la fecha final de la ventana\n",
    "def create_window(df, initial_date, final_date, date_feature_name):\n",
    "    initial = pd.to_datetime(initial_date)\n",
    "    final = pd.to_datetime(final_date)\n",
    "    return df.loc[ (df[date_feature_name] >= initial) \\\n",
    "                  & (df[date_feature_name] < final) ]"
   ]
  },
  {
   "cell_type": "code",
   "execution_count": null,
   "metadata": {},
   "outputs": [],
   "source": [
    "auctions_18_20 =  create_window(auctions, \"2019-04-18\", \"2019-04-21\", \"date\")\n",
    "auctions_19_21 =  create_window(auctions, \"2019-04-19\", \"2019-04-22\", \"date\")\n",
    "auctions_20_22 =  create_window(auctions, \"2019-04-20\", \"2019-04-23\", \"date\")\n",
    "auctions_21_23 =  create_window(auctions, \"2019-04-21\", \"2019-04-24\", \"date\")\n",
    "auctions_22_24 =  create_window(auctions, \"2019-04-22\", \"2019-04-25\", \"date\")\n",
    "auctions_23_25 =  create_window(auctions, \"2019-04-23\", \"2019-04-26\", \"date\")\n",
    "auctions_24_26 =  create_window(auctions, \"2019-04-24\", \"2019-04-27\", \"date\")"
   ]
  },
  {
   "cell_type": "code",
   "execution_count": null,
   "metadata": {},
   "outputs": [],
   "source": [
    "events_18_20 =  create_window(events, \"2019-04-18\", \"2019-04-21\", \"date\")\n",
    "events_19_21 =  create_window(events, \"2019-04-19\", \"2019-04-22\", \"date\")\n",
    "events_20_22 =  create_window(events, \"2019-04-20\", \"2019-04-23\", \"date\")\n",
    "events_21_23 =  create_window(events, \"2019-04-21\", \"2019-04-24\", \"date\")\n",
    "events_22_24 =  create_window(events, \"2019-04-22\", \"2019-04-25\", \"date\")\n",
    "events_23_25 =  create_window(events, \"2019-04-23\", \"2019-04-26\", \"date\")\n",
    "events_24_26 =  create_window(events, \"2019-04-24\", \"2019-04-27\", \"date\")"
   ]
  },
  {
   "cell_type": "code",
   "execution_count": null,
   "metadata": {},
   "outputs": [],
   "source": [
    "clicks_18_20 =  create_window(clicks, \"2019-04-18\", \"2019-04-21\", \"created\")\n",
    "clicks_19_21 =  create_window(clicks, \"2019-04-19\", \"2019-04-22\", \"created\")\n",
    "clicks_20_22 =  create_window(clicks, \"2019-04-20\", \"2019-04-23\", \"created\")\n",
    "clicks_21_23 =  create_window(clicks, \"2019-04-21\", \"2019-04-24\", \"created\")\n",
    "clicks_22_24 =  create_window(clicks, \"2019-04-22\", \"2019-04-25\", \"created\")\n",
    "clicks_23_25 =  create_window(clicks, \"2019-04-23\", \"2019-04-26\", \"created\")\n",
    "clicks_24_26 =  create_window(clicks, \"2019-04-24\", \"2019-04-27\", \"created\")"
   ]
  },
  {
   "cell_type": "code",
   "execution_count": null,
   "metadata": {},
   "outputs": [],
   "source": [
    "installs_18_20 =  create_window(installs, \"2019-04-18\", \"2019-04-21\", \"created\")\n",
    "installs_19_21 =  create_window(installs, \"2019-04-19\", \"2019-04-22\", \"created\")\n",
    "installs_20_22 =  create_window(installs, \"2019-04-20\", \"2019-04-23\", \"created\")\n",
    "installs_21_23 =  create_window(installs, \"2019-04-21\", \"2019-04-24\", \"created\")\n",
    "installs_22_24 =  create_window(installs, \"2019-04-22\", \"2019-04-25\", \"created\")\n",
    "installs_23_25 =  create_window(installs, \"2019-04-23\", \"2019-04-26\", \"created\")\n",
    "installs_24_26 =  create_window(installs, \"2019-04-24\", \"2019-04-27\", \"created\")"
   ]
  },
  {
   "cell_type": "markdown",
   "metadata": {},
   "source": [
    "# Creación de df features vacios"
   ]
  },
  {
   "cell_type": "code",
   "execution_count": null,
   "metadata": {},
   "outputs": [],
   "source": [
    "ref_hash_auct = auctions_18_20[[\"ref_hash\"]]\n",
    "ref_hash_inst = installs_18_20[[\"ref_hash\"]]\n",
    "ref_hash_events = events_18_20[[\"ref_hash\"]]\n",
    "ref_hash_clicks = clicks_18_20[[\"ref_hash\"]]\n",
    "frames = [ref_hash_auct, ref_hash_inst, ref_hash_events, ref_hash_clicks]\n",
    "ids_18_20 = pd.concat(frames).drop_duplicates()\n",
    "export_df(ids_18_20, \"windows/18_20/features.csv\")"
   ]
  },
  {
   "cell_type": "code",
   "execution_count": null,
   "metadata": {},
   "outputs": [],
   "source": [
    "ref_hash_auct = auctions_19_21[[\"ref_hash\"]]\n",
    "ref_hash_inst = installs_19_21[[\"ref_hash\"]]\n",
    "ref_hash_events = events_19_21[[\"ref_hash\"]]\n",
    "ref_hash_clicks = clicks_19_21[[\"ref_hash\"]]\n",
    "frames = [ref_hash_auct, ref_hash_inst, ref_hash_events, ref_hash_clicks]\n",
    "ids_19_21 = pd.concat(frames).drop_duplicates()\n",
    "export_df(ids_19_21, \"windows/19_21/features.csv\")"
   ]
  },
  {
   "cell_type": "code",
   "execution_count": null,
   "metadata": {},
   "outputs": [],
   "source": [
    "ref_hash_auct = auctions_20_22[[\"ref_hash\"]]\n",
    "ref_hash_inst = installs_20_22[[\"ref_hash\"]]\n",
    "ref_hash_events = events_20_22[[\"ref_hash\"]]\n",
    "ref_hash_clicks = clicks_20_22[[\"ref_hash\"]]\n",
    "frames = [ref_hash_auct, ref_hash_inst, ref_hash_events, ref_hash_clicks]\n",
    "ids_20_22 = pd.concat(frames).drop_duplicates()\n",
    "export_df(ids_20_22, \"windows/20_22/features.csv\")"
   ]
  },
  {
   "cell_type": "code",
   "execution_count": null,
   "metadata": {},
   "outputs": [],
   "source": [
    "ref_hash_auct = auctions_21_23[[\"ref_hash\"]]\n",
    "ref_hash_inst = installs_21_23[[\"ref_hash\"]]\n",
    "ref_hash_events = events_21_23[[\"ref_hash\"]]\n",
    "ref_hash_clicks = clicks_21_23[[\"ref_hash\"]]\n",
    "frames = [ref_hash_auct, ref_hash_inst, ref_hash_events, ref_hash_clicks]\n",
    "ids_21_23 = pd.concat(frames).drop_duplicates()\n",
    "export_df(ids_21_23, \"windows/21_23/features.csv\")"
   ]
  },
  {
   "cell_type": "code",
   "execution_count": null,
   "metadata": {},
   "outputs": [],
   "source": [
    "ref_hash_auct = auctions_24_26[[\"ref_hash\"]]\n",
    "ref_hash_inst = installs_24_26[[\"ref_hash\"]]\n",
    "ref_hash_events = events_24_26[[\"ref_hash\"]]\n",
    "ref_hash_clicks = clicks_24_26[[\"ref_hash\"]]\n",
    "\n",
    "users = target[['ref_hash']].copy()\n",
    "users['ref_hash'] = users['ref_hash'].str.slice(0,-3).astype('int64')  #consultar\n",
    "\n",
    "frames = [ref_hash_auct, ref_hash_inst, ref_hash_events, ref_hash_clicks, users]\n",
    "ids_24_26 = pd.concat(frames).drop_duplicates()\n",
    "export_df(ids_24_26, \"windows/24_26/features.csv\")"
   ]
  },
  {
   "cell_type": "markdown",
   "metadata": {},
   "source": [
    "# Obtención de labels"
   ]
  },
  {
   "cell_type": "code",
   "execution_count": null,
   "metadata": {},
   "outputs": [],
   "source": [
    "def calculate_label(reference_df, df_labels, reference_date, label_name, date_feature_name):\n",
    "    max_time_window = 259200 #es el tiempo maximo que se da en 3 dias\n",
    "    date = pd.to_datetime(reference_date)\n",
    "    df_result = df_labels.groupby(\"ref_hash\").agg({date_feature_name : 'min'}).reset_index()\n",
    "    df_result[label_name] = (df_result[date_feature_name] - date).dt.total_seconds()\n",
    "    del df_result[date_feature_name]\n",
    "    merge_df = reference_df.merge(df_result, how = 'left', on = \"ref_hash\").fillna(max_time_window)\n",
    "    return merge_df"
   ]
  },
  {
   "cell_type": "markdown",
   "metadata": {},
   "source": [
    "Labels de subastas. Segundos hasta que el usuario vuelva a aparecer en una subasta"
   ]
  },
  {
   "cell_type": "code",
   "execution_count": null,
   "metadata": {},
   "outputs": [],
   "source": [
    "labels_auc_18_20 = calculate_label(ids_18_20, auctions_21_23, \"2019-04-21\", \"label_auc\", \"date\")\n",
    "labels_auc_19_21 = calculate_label(ids_19_21, auctions_22_24, \"2019-04-22\", \"label_auc\", \"date\")\n",
    "labels_auc_20_22 = calculate_label(ids_20_22, auctions_23_25, \"2019-04-23\", \"label_auc\", \"date\")\n",
    "labels_auc_21_23 = calculate_label(ids_21_23, auctions_24_26, \"2019-04-24\", \"label_auc\", \"date\")\n",
    "#labels_auc_22_24 = calculate_label(auctions_22_24, auctions_25_27,\"ref_hash\", \"2019-04-22\", \"label_auc\", \"date\")\n",
    "#como hacemos en la ventana del 22-24? no tenemos los datos del 27\n"
   ]
  },
  {
   "cell_type": "markdown",
   "metadata": {},
   "source": [
    "Labels de installs. Segundos hasta que el usuario vuelva a convertir"
   ]
  },
  {
   "cell_type": "code",
   "execution_count": null,
   "metadata": {},
   "outputs": [],
   "source": [
    "# Los labels de installs también son relativos a auctions por que es donde se encuentran todos los ref_hash\n",
    "labels_inst_18_20 = calculate_label(ids_18_20, installs_21_23, \"2019-04-21\", \"label_inst\", \"created\")\n",
    "labels_inst_19_21 = calculate_label(ids_19_21, installs_22_24, \"2019-04-22\", \"label_inst\", \"created\")\n",
    "labels_inst_20_22 = calculate_label(ids_20_22, installs_23_25, \"2019-04-23\", \"label_inst\", \"created\")\n",
    "labels_inst_21_23 = calculate_label(ids_21_23, installs_24_26, \"2019-04-24\", \"label_inst\", \"created\")\n",
    "#labels_inst_22_24 = calculate_label(auctions_22_24, \"ref_hash\",  \"2019-04-22\", \"label_inst\", \"created\")\n"
   ]
  },
  {
   "cell_type": "markdown",
   "metadata": {},
   "source": [
    "# Exportar ventanas"
   ]
  },
  {
   "cell_type": "code",
   "execution_count": null,
   "metadata": {},
   "outputs": [],
   "source": [
    "export_df(auctions_18_20, \"windows/18_20/auctions.csv\")\n",
    "export_df(events_18_20, \"windows/18_20/events.csv\")\n",
    "export_df(installs_18_20, \"windows/18_20/installs.csv\")\n",
    "export_df(clicks_18_20, \"windows/18_20/clicks.csv\")\n",
    "export_df(labels_auc_18_20, \"windows/18_20/labels_auc.csv\")\n",
    "export_df(labels_inst_18_20, \"windows/18_20/labels_inst.csv\")"
   ]
  },
  {
   "cell_type": "code",
   "execution_count": null,
   "metadata": {},
   "outputs": [],
   "source": [
    "export_df(auctions_19_21, \"windows/19_21/auctions.csv\")\n",
    "export_df(events_19_21, \"windows/19_21/events.csv\")\n",
    "export_df(installs_19_21, \"windows/19_21/installs.csv\")\n",
    "export_df(clicks_19_21, \"windows/19_21/clicks.csv\")\n",
    "export_df(labels_auc_19_21, \"windows/19_21/labels_auc.csv\")\n",
    "export_df(labels_inst_19_21, \"windows/19_21/labels_inst.csv\")"
   ]
  },
  {
   "cell_type": "code",
   "execution_count": null,
   "metadata": {},
   "outputs": [],
   "source": [
    "export_df(auctions_20_22, \"windows/20_22/auctions.csv\")\n",
    "export_df(events_20_22, \"windows/20_22/events.csv\")\n",
    "export_df(installs_20_22, \"windows/20_22/installs.csv\")\n",
    "export_df(clicks_20_22, \"windows/20_22/clicks.csv\")\n",
    "export_df(labels_auc_20_22, \"windows/20_22/labels_auc.csv\")\n",
    "export_df(labels_inst_20_22, \"windows/20_22/labels_inst.csv\")"
   ]
  },
  {
   "cell_type": "code",
   "execution_count": null,
   "metadata": {},
   "outputs": [],
   "source": [
    "export_df(auctions_21_23, \"windows/21_23/auctions.csv\")\n",
    "export_df(events_21_23, \"windows/21_23/events.csv\")\n",
    "export_df(installs_21_23, \"windows/21_23/installs.csv\")\n",
    "export_df(clicks_21_23, \"windows/21_23/clicks.csv\")\n",
    "export_df(labels_auc_21_23, \"windows/21_23/labels_auc.csv\")\n",
    "export_df(labels_inst_21_23, \"windows/21_23/labels_inst.csv\")"
   ]
  },
  {
   "cell_type": "markdown",
   "metadata": {},
   "source": [
    "### Ventana para predecir:"
   ]
  },
  {
   "cell_type": "code",
   "execution_count": null,
   "metadata": {},
   "outputs": [],
   "source": [
    "export_df(auctions_24_26, \"windows/24_26/auctions.csv\")\n",
    "export_df(events_24_26, \"windows/24_26/events.csv\")\n",
    "export_df(installs_24_26, \"windows/24_26/installs.csv\")\n",
    "export_df(clicks_24_26, \"windows/24_26/clicks.csv\")"
   ]
  }
 ],
 "metadata": {
  "kernelspec": {
   "display_name": "Python 3",
   "language": "python",
   "name": "python3"
  },
  "language_info": {
   "codemirror_mode": {
    "name": "ipython",
    "version": 3
   },
   "file_extension": ".py",
   "mimetype": "text/x-python",
   "name": "python",
   "nbconvert_exporter": "python",
   "pygments_lexer": "ipython3",
   "version": "3.7.1"
  }
 },
 "nbformat": 4,
 "nbformat_minor": 2
}
